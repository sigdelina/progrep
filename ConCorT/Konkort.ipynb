{
 "cells": [
  {
   "cell_type": "code",
   "execution_count": 347,
   "metadata": {},
   "outputs": [],
   "source": [
    "import re\n",
    "import sys\n",
    "\n",
    "def read():\n",
    "    with open('откуда.txt', encoding='utf-8') as file:\n",
    "        f = file.read()\n",
    "    return f"
   ]
  },
  {
   "cell_type": "code",
   "execution_count": 348,
   "metadata": {},
   "outputs": [],
   "source": [
    "def li(f):\n",
    "    sntc = re.compile(r'\\n')\n",
    "    result = [line.strip() for line in sntc.split(f)]\n",
    "    return result"
   ]
  },
  {
   "cell_type": "code",
   "execution_count": 349,
   "metadata": {},
   "outputs": [],
   "source": [
    "def find_True(result):\n",
    "    tr = []  # точно идиома\n",
    "    for line in result:\n",
    "        sent = re.search(r'.*[Оо][Тт][Кк][Уу][Дд][Аа] [Уу][Гг][Оо][Дд][Нн][Оо].*', line)\n",
    "        if sent is not None:\n",
    "            tr.append(line)\n",
    "        else:\n",
    "            tr\n",
    "    print('-------------------loading-------------------\\n')\n",
    "    print('Предложения, где искомое выражение идиома, отобраны.\\n')\n",
    "    return tr"
   ]
  },
  {
   "cell_type": "code",
   "execution_count": 350,
   "metadata": {},
   "outputs": [],
   "source": [
    "def find_False(result):\n",
    "    fa = []  # решается вопрос идиома или нет\n",
    "    for line in result:\n",
    "        sent = re.search(r'.*[Оо][Тт][Кк][Уу][Дд][Аа] [Уу][Гг][Оо][Дд][Нн][Оо].*', line)\n",
    "        if sent is None:\n",
    "            fa.append(line)\n",
    "        else:\n",
    "            fa\n",
    "    print('-------------------loading-------------------\\n')\n",
    "    print('\\nИдет обработка проблемных случаев.\\n')\n",
    "    return fa"
   ]
  },
  {
   "cell_type": "code",
   "execution_count": 351,
   "metadata": {},
   "outputs": [],
   "source": [
    "def fal(tr, fa):\n",
    "    f = []\n",
    "    t = []\n",
    "    table = []\n",
    "    n_table = []\n",
    "    print('-------------------loading-------------------\\n')\n",
    "    if len(fa) > 0:\n",
    "        print('Вам нужно решить, содержит ли предложение искомую идиому.',\n",
    "              '\\nЕсли да - введите \"да\"/\"Да\", если нет - \"нет\"/\"Нет\".')\n",
    "        for el in fa:\n",
    "            print('\\n\\n', el, '-----')\n",
    "            a = input('Является ли нужное Вам выражение в предложении идиомой?:')\n",
    "            while a != 'да' and a != 'Да' and a != 'нет' and a != 'Нет':\n",
    "                a = input('Введите повторно \"да\" или \"нет\" ')\n",
    "                if a == 'да' or a == 'Да' or a == 'нет' or a == 'Нет':\n",
    "                    break\n",
    "            if a == 'да' or a == 'Да':\n",
    "                t.append(el)\n",
    "            elif a != 'нет' or a != 'Нет':\n",
    "                f.append(el)\n",
    "    print('\\n-------------------loading-------------------\\n')\n",
    "    for se in t:\n",
    "        tr.append(se)\n",
    "    with open('idioms.csv', 'w', encoding='utf-8') as file:\n",
    "        for el in tr:\n",
    "            table.append(el)\n",
    "        table = '\\n'.join(table)\n",
    "        file.write(table)\n",
    "    print('\\nПредложения с идимой записаны в файл csv idioms.csv.')\n",
    "    print('\\n-------------------loading-------------------\\n')\n",
    "    with open('non_idioms.csv', 'w', encoding='utf-8') as n_file:\n",
    "        for wro in f:\n",
    "            n_table.append(wro)\n",
    "        n_table = '\\n'.join(n_table)\n",
    "        n_file.write(n_table)\n",
    "    print('\\nПредложения без идимы записаны в файл csv non_idioms.csv.')\n",
    "    return"
   ]
  },
  {
   "cell_type": "code",
   "execution_count": 352,
   "metadata": {},
   "outputs": [
    {
     "name": "stdout",
     "output_type": "stream",
     "text": [
      "-------------------loading-------------------\n",
      "\n",
      "Предложения, где искомое выражение идиома, отобраны.\n",
      "\n",
      "-------------------loading-------------------\n",
      "\n",
      "\n",
      "Идет обработка проблемных случаев.\n",
      "\n",
      "-------------------loading-------------------\n",
      "\n",
      "Вам нужно решить, содержит ли предложение искомую идиому. \n",
      "Если да - введите \"да\"/\"Да\", если нет - \"нет\"/\"Нет\".\n",
      "\n",
      "\n",
      " Откуда тебе будет угодно -----\n",
      "Является ли нужное Вам выражение в предложении идиомой?:нет\n",
      "\n",
      "\n",
      " тебе откуда будет угодно? -----\n",
      "Является ли нужное Вам выражение в предложении идиомой?:нет\n",
      "\n",
      "-------------------loading-------------------\n",
      "\n",
      "\n",
      "Предложения с идимой записаны в файл csv idioms.csv.\n",
      "\n",
      "-------------------loading-------------------\n",
      "\n",
      "\n",
      "Предложения без идимы записаны в файл csv non_idioms.csv.\n"
     ]
    }
   ],
   "source": [
    "def main():\n",
    "    r = read()\n",
    "    l = li(r)\n",
    "    true = find_True(l)\n",
    "    false = find_False(l)\n",
    "    fin_f = fal(true, false)\n",
    "\n",
    "main()"
   ]
  },
  {
   "cell_type": "code",
   "execution_count": null,
   "metadata": {},
   "outputs": [],
   "source": []
  },
  {
   "cell_type": "code",
   "execution_count": 267,
   "metadata": {},
   "outputs": [],
   "source": []
  },
  {
   "cell_type": "code",
   "execution_count": null,
   "metadata": {},
   "outputs": [],
   "source": []
  },
  {
   "cell_type": "code",
   "execution_count": null,
   "metadata": {},
   "outputs": [],
   "source": []
  }
 ],
 "metadata": {
  "kernelspec": {
   "display_name": "Python 3",
   "language": "python",
   "name": "python3"
  },
  "language_info": {
   "codemirror_mode": {
    "name": "ipython",
    "version": 3
   },
   "file_extension": ".py",
   "mimetype": "text/x-python",
   "name": "python",
   "nbconvert_exporter": "python",
   "pygments_lexer": "ipython3",
   "version": "3.6.5"
  }
 },
 "nbformat": 4,
 "nbformat_minor": 2
}
