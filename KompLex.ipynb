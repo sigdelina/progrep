{
  "nbformat": 4,
  "nbformat_minor": 0,
  "metadata": {
    "colab": {
      "name": "KompLex.ipynb",
      "provenance": [],
      "collapsed_sections": [],
      "toc_visible": true
    },
    "kernelspec": {
      "name": "python3",
      "display_name": "Python 3"
    }
  },
  "cells": [
    {
      "cell_type": "markdown",
      "metadata": {
        "id": "Tlz5qsH8Lw7a",
        "colab_type": "text"
      },
      "source": [
        "# Домашнее задание 1. Кластеризация векторного пространства"
      ]
    },
    {
      "cell_type": "code",
      "metadata": {
        "id": "3BrN_mvzGDKx",
        "colab_type": "code",
        "colab": {}
      },
      "source": [
        "import urllib.request\n",
        "import gensim\n",
        "import re\n",
        "import numpy as np\n",
        "from gensim.models import word2vec"
      ],
      "execution_count": 0,
      "outputs": []
    },
    {
      "cell_type": "code",
      "metadata": {
        "id": "W1s8OxZyNs8Y",
        "colab_type": "code",
        "outputId": "4614c6ea-76f9-4075-d89b-b5a486c79e5e",
        "colab": {
          "base_uri": "https://localhost:8080/",
          "height": 51
        }
      },
      "source": [
        "urllib.request.urlretrieve(\"https://rusvectores.org/static/models/rusvectores4/taiga/taiga_upos_skipgram_300_2_2018.vec.gz\", \"taiga_upos_skipgram_300_2_2018.vec.gz\")"
      ],
      "execution_count": 2,
      "outputs": [
        {
          "output_type": "execute_result",
          "data": {
            "text/plain": [
              "('taiga_upos_skipgram_300_2_2018.vec.gz',\n",
              " <http.client.HTTPMessage at 0x7fcb285dc518>)"
            ]
          },
          "metadata": {
            "tags": []
          },
          "execution_count": 2
        }
      ]
    },
    {
      "cell_type": "code",
      "metadata": {
        "id": "MQJ4FN17OEoI",
        "colab_type": "code",
        "outputId": "8c983779-d87e-4226-f185-44985993eb66",
        "colab": {
          "base_uri": "https://localhost:8080/",
          "height": 71
        }
      },
      "source": [
        "m = 'taiga_upos_skipgram_300_2_2018.vec.gz'\n",
        "\n",
        "if m.endswith('.vec.gz'):\n",
        "    model = gensim.models.KeyedVectors.load_word2vec_format(m, binary=False)\n",
        "elif m.endswith('.bin.gz'):\n",
        "    model = gensim.models.KeyedVectors.load_word2vec_format(m, binary=True)\n",
        "else:\n",
        "    model = gensim.models.KeyedVectors.load(m)"
      ],
      "execution_count": 3,
      "outputs": [
        {
          "output_type": "stream",
          "text": [
            "/usr/local/lib/python3.6/dist-packages/smart_open/smart_open_lib.py:410: UserWarning: This function is deprecated, use smart_open.open instead. See the migration notes for details: https://github.com/RaRe-Technologies/smart_open/blob/master/README.rst#migrating-to-the-new-open-function\n",
            "  'See the migration notes for details: %s' % _MIGRATION_NOTES_URL\n"
          ],
          "name": "stderr"
        }
      ]
    },
    {
      "cell_type": "markdown",
      "metadata": {
        "id": "BRUXd6ogL4U-",
        "colab_type": "text"
      },
      "source": [
        "### Задача 1: извлечение из модели вектора для глагола и существительного из списка"
      ]
    },
    {
      "cell_type": "code",
      "metadata": {
        "id": "jyoAUIzMPUQE",
        "colab_type": "code",
        "colab": {}
      },
      "source": [
        "with open('Sigdel.txt', 'r', encoding='utf-8') as f:\n",
        "    lines = f.readlines()"
      ],
      "execution_count": 0,
      "outputs": []
    },
    {
      "cell_type": "code",
      "metadata": {
        "id": "pTZ2CyjyTr8w",
        "colab_type": "code",
        "outputId": "9a4b03ba-6255-42f3-c141-94c0e2fcfa38",
        "colab": {
          "base_uri": "https://localhost:8080/",
          "height": 71
        }
      },
      "source": [
        "nns = []\n",
        "verb = ''\n",
        "for phrase in lines:\n",
        "    n = re.findall(r'[а-я]+', phrase)\n",
        "    non = str(n[1]) + '_NOUN'\n",
        "    v = str(n[0]) + '_VERB'\n",
        "    nns.append(non)\n",
        "    if verb == '':\n",
        "        verb = v\n",
        "\n",
        "print(nns)\n",
        "print(verb)"
      ],
      "execution_count": 5,
      "outputs": [
        {
          "output_type": "stream",
          "text": [
            "['письмо_NOUN', 'возможность_NOUN', 'ответ_NOUN', 'название_NOUN', 'деньги_NOUN', 'известие_NOUN', 'результат_NOUN', 'разрешение_NOUN', 'телеграмма_NOUN', 'приглашение_NOUN', 'место_NOUN', 'сведение_NOUN', 'информация_NOUN', 'приказ_NOUN', 'данные_NOUN', 'образование_NOUN', 'человек_NOUN', 'отказ_NOUN', 'звание_NOUN', 'диплом_NOUN', 'право_NOUN', 'назначение_NOUN', 'приказание_NOUN', 'распространение_NOUN', 'удовольствие_NOUN', 'награда_NOUN', 'премия_NOUN', 'время_NOUN', 'год_NOUN', 'развитие_NOUN', 'согласие_NOUN', 'работа_NOUN', 'задание_NOUN', 'свобода_NOUN', 'ранение_NOUN', 'доступ_NOUN', 'сообщение_NOUN', 'приз_NOUN', 'имя_NOUN', 'квартира_NOUN', 'орден_NOUN', 'россия_NOUN', 'наследство_NOUN', 'значение_NOUN', 'поддержка_NOUN', 'задача_NOUN', 'статус_NOUN', 'признание_NOUN', 'одобрение_NOUN', 'власть_NOUN', 'записка_NOUN', 'чин_NOUN', 'заказ_NOUN', 'удар_NOUN', 'жизнь_NOUN', 'лицензия_NOUN', 'предложение_NOUN', 'день_NOUN', 'билет_NOUN', 'воспитание_NOUN', 'бумага_NOUN', 'подтверждение_NOUN', 'повеление_NOUN', 'травма_NOUN', 'указание_NOUN', 'кредит_NOUN', 'отпуск_NOUN', 'подарок_NOUN', 'паспорт_NOUN', 'лет_NOUN', 'должность_NOUN', 'сумма_NOUN', 'извещение_NOUN', 'помощь_NOUN', 'прибыль_NOUN', 'повестка_NOUN', 'рана_NOUN', 'материал_NOUN', 'шанс_NOUN', 'лицо_NOUN', 'благословение_NOUN', 'уведомление_NOUN', 'надежда_NOUN', 'книга_NOUN', 'знание_NOUN', 'известность_NOUN', 'часть_NOUN', 'отец_NOUN', 'число_NOUN', 'анализ_NOUN', 'предписание_NOUN', 'пуля_NOUN', 'желание_NOUN', 'наименование_NOUN', 'пропуск_NOUN', 'донесение_NOUN', 'оценка_NOUN', 'титул_NOUN', 'масса_NOUN', 'земля_NOUN', 'выговор_NOUN', 'гонорар_NOUN', 'ребенок_NOUN', 'расчет_NOUN', 'патент_NOUN', 'слово_NOUN', 'прощение_NOUN', 'медаль_NOUN', 'компания_NOUN', 'дело_NOUN', 'документ_NOUN', 'степень_NOUN', 'отставка_NOUN', 'представление_NOUN', 'продукт_NOUN', 'доход_NOUN', 'армия_NOUN', 'машина_NOUN', 'распоряжение_NOUN', 'свидетельство_NOUN', 'москва_NOUN', 'виза_NOUN', 'аттестат_NOUN', 'формула_NOUN', 'сертификат_NOUN', 'компенсация_NOUN', 'указ_NOUN', 'вопрос_NOUN', 'зарплата_NOUN', 'срок_NOUN', 'благодарность_NOUN', 'жалование_NOUN', 'удовлетворение_NOUN', 'средство_NOUN', 'справка_NOUN', 'честь_NOUN', 'ряд_NOUN', 'страна_NOUN', 'дар_NOUN', 'средства_NOUN', 'повышение_NOUN', 'позволение_NOUN', 'характер_NOUN', 'пятерка_NOUN', 'большинство_NOUN', 'система_NOUN', 'направление_NOUN', 'пенсия_NOUN', 'множество_NOUN', 'совет_NOUN']\n",
            "получить_VERB\n"
          ],
          "name": "stdout"
        }
      ]
    },
    {
      "cell_type": "code",
      "metadata": {
        "id": "JqoqCigrT3nZ",
        "colab_type": "code",
        "colab": {}
      },
      "source": [
        "nouns = {}\n",
        "for noun in nns:\n",
        "    if noun in model:\n",
        "        nouns[noun] = model[noun]\n",
        "    else:\n",
        "        print('Увы, слова \"%s\" нет в модели!' % noun)"
      ],
      "execution_count": 0,
      "outputs": []
    },
    {
      "cell_type": "code",
      "metadata": {
        "id": "RG0bM4fQddxq",
        "colab_type": "code",
        "colab": {}
      },
      "source": [
        "verbs = {}\n",
        "\n",
        "verb_val = model[verb]\n",
        "verbs[verb] = verb_val"
      ],
      "execution_count": 0,
      "outputs": []
    },
    {
      "cell_type": "markdown",
      "metadata": {
        "id": "auAY730xmCOs",
        "colab_type": "text"
      },
      "source": [
        "### Задача 2: построение репрезентации пары \"глагол+существительное\" с помощью простой аддитивной модели композиции"
      ]
    },
    {
      "cell_type": "code",
      "metadata": {
        "id": "TQRjIFCfmg8-",
        "colab_type": "code",
        "colab": {}
      },
      "source": [
        "import numpy as np"
      ],
      "execution_count": 0,
      "outputs": []
    },
    {
      "cell_type": "code",
      "metadata": {
        "id": "4OIQD2efmB3g",
        "colab_type": "code",
        "outputId": "634dcc0f-8957-4d91-929d-e97fbc5f0ccd",
        "colab": {
          "base_uri": "https://localhost:8080/",
          "height": 1000
        }
      },
      "source": [
        "phrase_dict = {}\n",
        "nms_ph = []\n",
        "for k, v in nouns.items():\n",
        "    dt = v+verb_val\n",
        "    phrs = verb + \"_\" + k\n",
        "    print(phrs)\n",
        "    nms_ph.append(phrs)\n",
        "    phrase_dict[phrs] = dt"
      ],
      "execution_count": 9,
      "outputs": [
        {
          "output_type": "stream",
          "text": [
            "получить_VERB_письмо_NOUN\n",
            "получить_VERB_возможность_NOUN\n",
            "получить_VERB_ответ_NOUN\n",
            "получить_VERB_название_NOUN\n",
            "получить_VERB_деньги_NOUN\n",
            "получить_VERB_известие_NOUN\n",
            "получить_VERB_результат_NOUN\n",
            "получить_VERB_разрешение_NOUN\n",
            "получить_VERB_телеграмма_NOUN\n",
            "получить_VERB_приглашение_NOUN\n",
            "получить_VERB_место_NOUN\n",
            "получить_VERB_сведение_NOUN\n",
            "получить_VERB_информация_NOUN\n",
            "получить_VERB_приказ_NOUN\n",
            "получить_VERB_данные_NOUN\n",
            "получить_VERB_образование_NOUN\n",
            "получить_VERB_человек_NOUN\n",
            "получить_VERB_отказ_NOUN\n",
            "получить_VERB_звание_NOUN\n",
            "получить_VERB_диплом_NOUN\n",
            "получить_VERB_право_NOUN\n",
            "получить_VERB_назначение_NOUN\n",
            "получить_VERB_приказание_NOUN\n",
            "получить_VERB_распространение_NOUN\n",
            "получить_VERB_удовольствие_NOUN\n",
            "получить_VERB_награда_NOUN\n",
            "получить_VERB_премия_NOUN\n",
            "получить_VERB_время_NOUN\n",
            "получить_VERB_год_NOUN\n",
            "получить_VERB_развитие_NOUN\n",
            "получить_VERB_согласие_NOUN\n",
            "получить_VERB_работа_NOUN\n",
            "получить_VERB_задание_NOUN\n",
            "получить_VERB_свобода_NOUN\n",
            "получить_VERB_ранение_NOUN\n",
            "получить_VERB_доступ_NOUN\n",
            "получить_VERB_сообщение_NOUN\n",
            "получить_VERB_приз_NOUN\n",
            "получить_VERB_имя_NOUN\n",
            "получить_VERB_квартира_NOUN\n",
            "получить_VERB_орден_NOUN\n",
            "получить_VERB_россия_NOUN\n",
            "получить_VERB_наследство_NOUN\n",
            "получить_VERB_значение_NOUN\n",
            "получить_VERB_поддержка_NOUN\n",
            "получить_VERB_задача_NOUN\n",
            "получить_VERB_статус_NOUN\n",
            "получить_VERB_признание_NOUN\n",
            "получить_VERB_одобрение_NOUN\n",
            "получить_VERB_власть_NOUN\n",
            "получить_VERB_записка_NOUN\n",
            "получить_VERB_чин_NOUN\n",
            "получить_VERB_заказ_NOUN\n",
            "получить_VERB_удар_NOUN\n",
            "получить_VERB_жизнь_NOUN\n",
            "получить_VERB_лицензия_NOUN\n",
            "получить_VERB_предложение_NOUN\n",
            "получить_VERB_день_NOUN\n",
            "получить_VERB_билет_NOUN\n",
            "получить_VERB_воспитание_NOUN\n",
            "получить_VERB_бумага_NOUN\n",
            "получить_VERB_подтверждение_NOUN\n",
            "получить_VERB_повеление_NOUN\n",
            "получить_VERB_травма_NOUN\n",
            "получить_VERB_указание_NOUN\n",
            "получить_VERB_кредит_NOUN\n",
            "получить_VERB_отпуск_NOUN\n",
            "получить_VERB_подарок_NOUN\n",
            "получить_VERB_паспорт_NOUN\n",
            "получить_VERB_лет_NOUN\n",
            "получить_VERB_должность_NOUN\n",
            "получить_VERB_сумма_NOUN\n",
            "получить_VERB_извещение_NOUN\n",
            "получить_VERB_помощь_NOUN\n",
            "получить_VERB_прибыль_NOUN\n",
            "получить_VERB_повестка_NOUN\n",
            "получить_VERB_рана_NOUN\n",
            "получить_VERB_материал_NOUN\n",
            "получить_VERB_шанс_NOUN\n",
            "получить_VERB_лицо_NOUN\n",
            "получить_VERB_благословение_NOUN\n",
            "получить_VERB_уведомление_NOUN\n",
            "получить_VERB_надежда_NOUN\n",
            "получить_VERB_книга_NOUN\n",
            "получить_VERB_знание_NOUN\n",
            "получить_VERB_известность_NOUN\n",
            "получить_VERB_часть_NOUN\n",
            "получить_VERB_отец_NOUN\n",
            "получить_VERB_число_NOUN\n",
            "получить_VERB_анализ_NOUN\n",
            "получить_VERB_предписание_NOUN\n",
            "получить_VERB_пуля_NOUN\n",
            "получить_VERB_желание_NOUN\n",
            "получить_VERB_наименование_NOUN\n",
            "получить_VERB_пропуск_NOUN\n",
            "получить_VERB_донесение_NOUN\n",
            "получить_VERB_оценка_NOUN\n",
            "получить_VERB_титул_NOUN\n",
            "получить_VERB_масса_NOUN\n",
            "получить_VERB_земля_NOUN\n",
            "получить_VERB_выговор_NOUN\n",
            "получить_VERB_гонорар_NOUN\n",
            "получить_VERB_ребенок_NOUN\n",
            "получить_VERB_расчет_NOUN\n",
            "получить_VERB_патент_NOUN\n",
            "получить_VERB_слово_NOUN\n",
            "получить_VERB_прощение_NOUN\n",
            "получить_VERB_медаль_NOUN\n",
            "получить_VERB_компания_NOUN\n",
            "получить_VERB_дело_NOUN\n",
            "получить_VERB_документ_NOUN\n",
            "получить_VERB_степень_NOUN\n",
            "получить_VERB_отставка_NOUN\n",
            "получить_VERB_представление_NOUN\n",
            "получить_VERB_продукт_NOUN\n",
            "получить_VERB_доход_NOUN\n",
            "получить_VERB_армия_NOUN\n",
            "получить_VERB_машина_NOUN\n",
            "получить_VERB_распоряжение_NOUN\n",
            "получить_VERB_свидетельство_NOUN\n",
            "получить_VERB_москва_NOUN\n",
            "получить_VERB_виза_NOUN\n",
            "получить_VERB_аттестат_NOUN\n",
            "получить_VERB_формула_NOUN\n",
            "получить_VERB_сертификат_NOUN\n",
            "получить_VERB_компенсация_NOUN\n",
            "получить_VERB_указ_NOUN\n",
            "получить_VERB_вопрос_NOUN\n",
            "получить_VERB_зарплата_NOUN\n",
            "получить_VERB_срок_NOUN\n",
            "получить_VERB_благодарность_NOUN\n",
            "получить_VERB_жалование_NOUN\n",
            "получить_VERB_удовлетворение_NOUN\n",
            "получить_VERB_средство_NOUN\n",
            "получить_VERB_справка_NOUN\n",
            "получить_VERB_честь_NOUN\n",
            "получить_VERB_ряд_NOUN\n",
            "получить_VERB_страна_NOUN\n",
            "получить_VERB_дар_NOUN\n",
            "получить_VERB_средства_NOUN\n",
            "получить_VERB_повышение_NOUN\n",
            "получить_VERB_позволение_NOUN\n",
            "получить_VERB_характер_NOUN\n",
            "получить_VERB_пятерка_NOUN\n",
            "получить_VERB_большинство_NOUN\n",
            "получить_VERB_система_NOUN\n",
            "получить_VERB_направление_NOUN\n",
            "получить_VERB_пенсия_NOUN\n",
            "получить_VERB_множество_NOUN\n",
            "получить_VERB_совет_NOUN\n"
          ],
          "name": "stdout"
        }
      ]
    },
    {
      "cell_type": "markdown",
      "metadata": {
        "id": "kOX4wWjxSh8M",
        "colab_type": "text"
      },
      "source": [
        "### Задача 3: сбор векторных представлений пар в матрицу и кластеризация 2 способами"
      ]
    },
    {
      "cell_type": "code",
      "metadata": {
        "id": "fAhLZ4xEabJh",
        "colab_type": "code",
        "colab": {}
      },
      "source": [
        "import pandas as pd"
      ],
      "execution_count": 0,
      "outputs": []
    },
    {
      "cell_type": "code",
      "metadata": {
        "id": "x9UeSsLmSyZg",
        "colab_type": "code",
        "colab": {}
      },
      "source": [
        "phrase_data = np.array([v for k, v in phrase_dict.items()])"
      ],
      "execution_count": 0,
      "outputs": []
    },
    {
      "cell_type": "code",
      "metadata": {
        "id": "TWmYNbdqY4V5",
        "colab_type": "code",
        "outputId": "fbfe1fc2-369d-4ff6-b08b-9545ad72fb4d",
        "colab": {
          "base_uri": "https://localhost:8080/",
          "height": 238
        }
      },
      "source": [
        "phrase_data"
      ],
      "execution_count": 12,
      "outputs": [
        {
          "output_type": "execute_result",
          "data": {
            "text/plain": [
              "array([[ 0.05109471,  0.1576732 , -0.07163855, ..., -0.02446205,\n",
              "         0.06681655, -0.10603048],\n",
              "       [ 0.00916389,  0.08817736,  0.15624541, ..., -0.01546127,\n",
              "         0.0058404 ,  0.1321214 ],\n",
              "       [ 0.03304953,  0.18144673,  0.00548003, ..., -0.02272832,\n",
              "         0.014006  , -0.04490275],\n",
              "       ...,\n",
              "       [ 0.11389516,  0.11784659,  0.14028835, ..., -0.14302573,\n",
              "         0.00882937, -0.02261988],\n",
              "       [-0.01242107,  0.19492951,  0.0587735 , ..., -0.01816176,\n",
              "         0.09511568,  0.01219948],\n",
              "       [-0.04056606,  0.11598365, -0.06982552, ..., -0.10982108,\n",
              "         0.01526136, -0.00613313]], dtype=float32)"
            ]
          },
          "metadata": {
            "tags": []
          },
          "execution_count": 12
        }
      ]
    },
    {
      "cell_type": "code",
      "metadata": {
        "id": "Zr3JJuf4ZZCT",
        "colab_type": "code",
        "outputId": "d9e821d2-8135-4ef1-ee50-e90f4fa8479f",
        "colab": {
          "base_uri": "https://localhost:8080/",
          "height": 439
        }
      },
      "source": [
        "count_df = pd.DataFrame(\n",
        "    np.array(phrase_data, dtype='float64'),\n",
        "    index=[k for k, v in phrase_dict.items()])\n",
        "count_df"
      ],
      "execution_count": 13,
      "outputs": [
        {
          "output_type": "execute_result",
          "data": {
            "text/html": [
              "<div>\n",
              "<style scoped>\n",
              "    .dataframe tbody tr th:only-of-type {\n",
              "        vertical-align: middle;\n",
              "    }\n",
              "\n",
              "    .dataframe tbody tr th {\n",
              "        vertical-align: top;\n",
              "    }\n",
              "\n",
              "    .dataframe thead th {\n",
              "        text-align: right;\n",
              "    }\n",
              "</style>\n",
              "<table border=\"1\" class=\"dataframe\">\n",
              "  <thead>\n",
              "    <tr style=\"text-align: right;\">\n",
              "      <th></th>\n",
              "      <th>0</th>\n",
              "      <th>1</th>\n",
              "      <th>2</th>\n",
              "      <th>3</th>\n",
              "      <th>4</th>\n",
              "      <th>5</th>\n",
              "      <th>6</th>\n",
              "      <th>7</th>\n",
              "      <th>8</th>\n",
              "      <th>9</th>\n",
              "      <th>10</th>\n",
              "      <th>11</th>\n",
              "      <th>12</th>\n",
              "      <th>13</th>\n",
              "      <th>14</th>\n",
              "      <th>15</th>\n",
              "      <th>16</th>\n",
              "      <th>17</th>\n",
              "      <th>18</th>\n",
              "      <th>19</th>\n",
              "      <th>20</th>\n",
              "      <th>21</th>\n",
              "      <th>22</th>\n",
              "      <th>23</th>\n",
              "      <th>24</th>\n",
              "      <th>25</th>\n",
              "      <th>26</th>\n",
              "      <th>27</th>\n",
              "      <th>28</th>\n",
              "      <th>29</th>\n",
              "      <th>30</th>\n",
              "      <th>31</th>\n",
              "      <th>32</th>\n",
              "      <th>33</th>\n",
              "      <th>34</th>\n",
              "      <th>35</th>\n",
              "      <th>36</th>\n",
              "      <th>37</th>\n",
              "      <th>38</th>\n",
              "      <th>39</th>\n",
              "      <th>...</th>\n",
              "      <th>260</th>\n",
              "      <th>261</th>\n",
              "      <th>262</th>\n",
              "      <th>263</th>\n",
              "      <th>264</th>\n",
              "      <th>265</th>\n",
              "      <th>266</th>\n",
              "      <th>267</th>\n",
              "      <th>268</th>\n",
              "      <th>269</th>\n",
              "      <th>270</th>\n",
              "      <th>271</th>\n",
              "      <th>272</th>\n",
              "      <th>273</th>\n",
              "      <th>274</th>\n",
              "      <th>275</th>\n",
              "      <th>276</th>\n",
              "      <th>277</th>\n",
              "      <th>278</th>\n",
              "      <th>279</th>\n",
              "      <th>280</th>\n",
              "      <th>281</th>\n",
              "      <th>282</th>\n",
              "      <th>283</th>\n",
              "      <th>284</th>\n",
              "      <th>285</th>\n",
              "      <th>286</th>\n",
              "      <th>287</th>\n",
              "      <th>288</th>\n",
              "      <th>289</th>\n",
              "      <th>290</th>\n",
              "      <th>291</th>\n",
              "      <th>292</th>\n",
              "      <th>293</th>\n",
              "      <th>294</th>\n",
              "      <th>295</th>\n",
              "      <th>296</th>\n",
              "      <th>297</th>\n",
              "      <th>298</th>\n",
              "      <th>299</th>\n",
              "    </tr>\n",
              "  </thead>\n",
              "  <tbody>\n",
              "    <tr>\n",
              "      <th>получить_VERB_письмо_NOUN</th>\n",
              "      <td>0.051095</td>\n",
              "      <td>0.157673</td>\n",
              "      <td>-0.071639</td>\n",
              "      <td>0.048771</td>\n",
              "      <td>-0.045191</td>\n",
              "      <td>0.038395</td>\n",
              "      <td>0.063348</td>\n",
              "      <td>-0.036304</td>\n",
              "      <td>0.055301</td>\n",
              "      <td>-0.091746</td>\n",
              "      <td>-0.053083</td>\n",
              "      <td>0.013778</td>\n",
              "      <td>-0.095105</td>\n",
              "      <td>0.003720</td>\n",
              "      <td>-0.024384</td>\n",
              "      <td>0.020935</td>\n",
              "      <td>-0.015492</td>\n",
              "      <td>0.149289</td>\n",
              "      <td>0.057332</td>\n",
              "      <td>-0.054397</td>\n",
              "      <td>0.059132</td>\n",
              "      <td>0.011889</td>\n",
              "      <td>0.111972</td>\n",
              "      <td>-0.081220</td>\n",
              "      <td>0.036182</td>\n",
              "      <td>-0.009561</td>\n",
              "      <td>0.093482</td>\n",
              "      <td>0.055313</td>\n",
              "      <td>0.042608</td>\n",
              "      <td>-0.133337</td>\n",
              "      <td>0.056936</td>\n",
              "      <td>0.004092</td>\n",
              "      <td>0.127959</td>\n",
              "      <td>0.089858</td>\n",
              "      <td>-0.023930</td>\n",
              "      <td>0.009581</td>\n",
              "      <td>0.160268</td>\n",
              "      <td>0.057857</td>\n",
              "      <td>0.193840</td>\n",
              "      <td>0.027888</td>\n",
              "      <td>...</td>\n",
              "      <td>-0.117849</td>\n",
              "      <td>0.017122</td>\n",
              "      <td>0.017782</td>\n",
              "      <td>-0.035238</td>\n",
              "      <td>0.000738</td>\n",
              "      <td>0.105020</td>\n",
              "      <td>-0.157067</td>\n",
              "      <td>0.050514</td>\n",
              "      <td>-0.041549</td>\n",
              "      <td>0.104802</td>\n",
              "      <td>-0.122470</td>\n",
              "      <td>-0.052482</td>\n",
              "      <td>0.055948</td>\n",
              "      <td>0.074042</td>\n",
              "      <td>0.070357</td>\n",
              "      <td>0.011338</td>\n",
              "      <td>-0.125690</td>\n",
              "      <td>-0.094714</td>\n",
              "      <td>-0.016578</td>\n",
              "      <td>-0.058636</td>\n",
              "      <td>-0.008481</td>\n",
              "      <td>-0.024289</td>\n",
              "      <td>0.024763</td>\n",
              "      <td>0.088798</td>\n",
              "      <td>0.037742</td>\n",
              "      <td>0.060717</td>\n",
              "      <td>0.023731</td>\n",
              "      <td>-0.055936</td>\n",
              "      <td>0.048510</td>\n",
              "      <td>0.031883</td>\n",
              "      <td>0.041132</td>\n",
              "      <td>-0.019613</td>\n",
              "      <td>0.024523</td>\n",
              "      <td>0.122099</td>\n",
              "      <td>0.065081</td>\n",
              "      <td>0.016653</td>\n",
              "      <td>-0.116494</td>\n",
              "      <td>-0.024462</td>\n",
              "      <td>0.066817</td>\n",
              "      <td>-0.106030</td>\n",
              "    </tr>\n",
              "    <tr>\n",
              "      <th>получить_VERB_возможность_NOUN</th>\n",
              "      <td>0.009164</td>\n",
              "      <td>0.088177</td>\n",
              "      <td>0.156245</td>\n",
              "      <td>0.028028</td>\n",
              "      <td>-0.107609</td>\n",
              "      <td>0.075140</td>\n",
              "      <td>0.055444</td>\n",
              "      <td>0.032029</td>\n",
              "      <td>-0.020473</td>\n",
              "      <td>-0.098450</td>\n",
              "      <td>0.050436</td>\n",
              "      <td>-0.058839</td>\n",
              "      <td>-0.082188</td>\n",
              "      <td>-0.066244</td>\n",
              "      <td>-0.003470</td>\n",
              "      <td>-0.046924</td>\n",
              "      <td>-0.021924</td>\n",
              "      <td>0.127817</td>\n",
              "      <td>0.018045</td>\n",
              "      <td>0.012438</td>\n",
              "      <td>0.135275</td>\n",
              "      <td>-0.088958</td>\n",
              "      <td>0.087743</td>\n",
              "      <td>0.064625</td>\n",
              "      <td>0.069412</td>\n",
              "      <td>-0.033655</td>\n",
              "      <td>0.103924</td>\n",
              "      <td>0.075726</td>\n",
              "      <td>0.036315</td>\n",
              "      <td>-0.125154</td>\n",
              "      <td>0.053285</td>\n",
              "      <td>0.107057</td>\n",
              "      <td>0.045279</td>\n",
              "      <td>0.032980</td>\n",
              "      <td>0.019710</td>\n",
              "      <td>-0.054158</td>\n",
              "      <td>0.200866</td>\n",
              "      <td>0.068113</td>\n",
              "      <td>0.168491</td>\n",
              "      <td>-0.020356</td>\n",
              "      <td>...</td>\n",
              "      <td>-0.150962</td>\n",
              "      <td>0.096413</td>\n",
              "      <td>0.062784</td>\n",
              "      <td>0.032131</td>\n",
              "      <td>0.046535</td>\n",
              "      <td>0.038403</td>\n",
              "      <td>-0.118819</td>\n",
              "      <td>-0.122351</td>\n",
              "      <td>-0.050653</td>\n",
              "      <td>0.110380</td>\n",
              "      <td>-0.094683</td>\n",
              "      <td>-0.088113</td>\n",
              "      <td>-0.011501</td>\n",
              "      <td>0.049115</td>\n",
              "      <td>0.003924</td>\n",
              "      <td>0.014044</td>\n",
              "      <td>-0.048350</td>\n",
              "      <td>-0.083852</td>\n",
              "      <td>-0.146079</td>\n",
              "      <td>-0.036445</td>\n",
              "      <td>0.032607</td>\n",
              "      <td>-0.089564</td>\n",
              "      <td>0.176194</td>\n",
              "      <td>0.043406</td>\n",
              "      <td>0.057917</td>\n",
              "      <td>0.134754</td>\n",
              "      <td>0.086042</td>\n",
              "      <td>0.033571</td>\n",
              "      <td>0.007593</td>\n",
              "      <td>-0.045467</td>\n",
              "      <td>0.008757</td>\n",
              "      <td>0.013107</td>\n",
              "      <td>-0.027707</td>\n",
              "      <td>0.147118</td>\n",
              "      <td>0.065237</td>\n",
              "      <td>-0.042836</td>\n",
              "      <td>-0.050574</td>\n",
              "      <td>-0.015461</td>\n",
              "      <td>0.005840</td>\n",
              "      <td>0.132121</td>\n",
              "    </tr>\n",
              "    <tr>\n",
              "      <th>получить_VERB_ответ_NOUN</th>\n",
              "      <td>0.033050</td>\n",
              "      <td>0.181447</td>\n",
              "      <td>0.005480</td>\n",
              "      <td>0.027571</td>\n",
              "      <td>-0.152069</td>\n",
              "      <td>0.050960</td>\n",
              "      <td>0.024705</td>\n",
              "      <td>0.098617</td>\n",
              "      <td>0.022942</td>\n",
              "      <td>-0.093964</td>\n",
              "      <td>-0.005328</td>\n",
              "      <td>-0.007176</td>\n",
              "      <td>-0.081235</td>\n",
              "      <td>-0.077060</td>\n",
              "      <td>0.010926</td>\n",
              "      <td>-0.008586</td>\n",
              "      <td>0.022796</td>\n",
              "      <td>0.153009</td>\n",
              "      <td>-0.045217</td>\n",
              "      <td>0.031334</td>\n",
              "      <td>0.197231</td>\n",
              "      <td>-0.022808</td>\n",
              "      <td>0.103277</td>\n",
              "      <td>-0.002995</td>\n",
              "      <td>-0.019457</td>\n",
              "      <td>0.049360</td>\n",
              "      <td>0.163656</td>\n",
              "      <td>-0.033967</td>\n",
              "      <td>0.083608</td>\n",
              "      <td>-0.083127</td>\n",
              "      <td>0.093300</td>\n",
              "      <td>0.004495</td>\n",
              "      <td>0.045340</td>\n",
              "      <td>0.132147</td>\n",
              "      <td>-0.060180</td>\n",
              "      <td>-0.025974</td>\n",
              "      <td>0.114902</td>\n",
              "      <td>0.017596</td>\n",
              "      <td>0.138874</td>\n",
              "      <td>0.052476</td>\n",
              "      <td>...</td>\n",
              "      <td>-0.141466</td>\n",
              "      <td>0.022412</td>\n",
              "      <td>0.064387</td>\n",
              "      <td>0.027714</td>\n",
              "      <td>-0.057217</td>\n",
              "      <td>0.011926</td>\n",
              "      <td>-0.053469</td>\n",
              "      <td>-0.107355</td>\n",
              "      <td>-0.040716</td>\n",
              "      <td>0.154192</td>\n",
              "      <td>-0.019941</td>\n",
              "      <td>0.017603</td>\n",
              "      <td>0.042859</td>\n",
              "      <td>0.034265</td>\n",
              "      <td>-0.027635</td>\n",
              "      <td>0.039384</td>\n",
              "      <td>-0.145768</td>\n",
              "      <td>-0.067354</td>\n",
              "      <td>-0.009723</td>\n",
              "      <td>-0.002710</td>\n",
              "      <td>0.003933</td>\n",
              "      <td>0.026294</td>\n",
              "      <td>0.164339</td>\n",
              "      <td>-0.038333</td>\n",
              "      <td>0.064834</td>\n",
              "      <td>0.077046</td>\n",
              "      <td>0.131422</td>\n",
              "      <td>-0.030537</td>\n",
              "      <td>0.051967</td>\n",
              "      <td>-0.014632</td>\n",
              "      <td>0.106353</td>\n",
              "      <td>-0.047529</td>\n",
              "      <td>0.019724</td>\n",
              "      <td>0.109420</td>\n",
              "      <td>0.082595</td>\n",
              "      <td>-0.024247</td>\n",
              "      <td>-0.122164</td>\n",
              "      <td>-0.022728</td>\n",
              "      <td>0.014006</td>\n",
              "      <td>-0.044903</td>\n",
              "    </tr>\n",
              "    <tr>\n",
              "      <th>получить_VERB_название_NOUN</th>\n",
              "      <td>0.054521</td>\n",
              "      <td>0.146618</td>\n",
              "      <td>0.071679</td>\n",
              "      <td>0.013398</td>\n",
              "      <td>-0.136450</td>\n",
              "      <td>0.004031</td>\n",
              "      <td>0.180873</td>\n",
              "      <td>0.041028</td>\n",
              "      <td>0.015866</td>\n",
              "      <td>-0.099398</td>\n",
              "      <td>-0.042676</td>\n",
              "      <td>0.030185</td>\n",
              "      <td>-0.083086</td>\n",
              "      <td>0.036024</td>\n",
              "      <td>0.044585</td>\n",
              "      <td>-0.056173</td>\n",
              "      <td>-0.084317</td>\n",
              "      <td>0.178195</td>\n",
              "      <td>0.050139</td>\n",
              "      <td>-0.012156</td>\n",
              "      <td>0.055484</td>\n",
              "      <td>-0.027774</td>\n",
              "      <td>0.155215</td>\n",
              "      <td>0.034966</td>\n",
              "      <td>0.090181</td>\n",
              "      <td>-0.067119</td>\n",
              "      <td>0.114114</td>\n",
              "      <td>-0.046944</td>\n",
              "      <td>0.015931</td>\n",
              "      <td>-0.108359</td>\n",
              "      <td>0.102822</td>\n",
              "      <td>0.025575</td>\n",
              "      <td>0.005207</td>\n",
              "      <td>0.023422</td>\n",
              "      <td>-0.071073</td>\n",
              "      <td>0.019824</td>\n",
              "      <td>0.086008</td>\n",
              "      <td>0.077978</td>\n",
              "      <td>0.218156</td>\n",
              "      <td>0.008455</td>\n",
              "      <td>...</td>\n",
              "      <td>-0.155864</td>\n",
              "      <td>0.026109</td>\n",
              "      <td>0.028080</td>\n",
              "      <td>-0.047617</td>\n",
              "      <td>-0.016466</td>\n",
              "      <td>-0.030985</td>\n",
              "      <td>-0.104178</td>\n",
              "      <td>-0.049421</td>\n",
              "      <td>0.014328</td>\n",
              "      <td>0.144525</td>\n",
              "      <td>0.010103</td>\n",
              "      <td>-0.059338</td>\n",
              "      <td>0.027786</td>\n",
              "      <td>-0.028768</td>\n",
              "      <td>-0.010292</td>\n",
              "      <td>0.031199</td>\n",
              "      <td>-0.102880</td>\n",
              "      <td>-0.025090</td>\n",
              "      <td>-0.050517</td>\n",
              "      <td>-0.101862</td>\n",
              "      <td>0.004964</td>\n",
              "      <td>0.137925</td>\n",
              "      <td>0.177927</td>\n",
              "      <td>-0.001098</td>\n",
              "      <td>0.038563</td>\n",
              "      <td>0.024093</td>\n",
              "      <td>0.105341</td>\n",
              "      <td>-0.009476</td>\n",
              "      <td>0.027379</td>\n",
              "      <td>-0.112049</td>\n",
              "      <td>-0.019659</td>\n",
              "      <td>0.021693</td>\n",
              "      <td>0.015070</td>\n",
              "      <td>0.093330</td>\n",
              "      <td>0.083563</td>\n",
              "      <td>-0.027200</td>\n",
              "      <td>-0.086549</td>\n",
              "      <td>-0.136849</td>\n",
              "      <td>0.023600</td>\n",
              "      <td>-0.011199</td>\n",
              "    </tr>\n",
              "    <tr>\n",
              "      <th>получить_VERB_деньги_NOUN</th>\n",
              "      <td>0.032321</td>\n",
              "      <td>0.043752</td>\n",
              "      <td>0.055684</td>\n",
              "      <td>0.052862</td>\n",
              "      <td>-0.072184</td>\n",
              "      <td>0.082391</td>\n",
              "      <td>0.079420</td>\n",
              "      <td>0.038304</td>\n",
              "      <td>-0.006256</td>\n",
              "      <td>-0.020788</td>\n",
              "      <td>-0.014499</td>\n",
              "      <td>0.057213</td>\n",
              "      <td>-0.149981</td>\n",
              "      <td>-0.050917</td>\n",
              "      <td>0.061985</td>\n",
              "      <td>0.053306</td>\n",
              "      <td>-0.073248</td>\n",
              "      <td>0.136346</td>\n",
              "      <td>0.069476</td>\n",
              "      <td>0.004373</td>\n",
              "      <td>0.075197</td>\n",
              "      <td>0.000025</td>\n",
              "      <td>0.072806</td>\n",
              "      <td>-0.011832</td>\n",
              "      <td>0.047179</td>\n",
              "      <td>-0.030231</td>\n",
              "      <td>-0.000799</td>\n",
              "      <td>0.100623</td>\n",
              "      <td>0.006465</td>\n",
              "      <td>-0.077001</td>\n",
              "      <td>0.035296</td>\n",
              "      <td>0.033697</td>\n",
              "      <td>0.017549</td>\n",
              "      <td>0.096659</td>\n",
              "      <td>0.013182</td>\n",
              "      <td>-0.047961</td>\n",
              "      <td>0.191366</td>\n",
              "      <td>0.075967</td>\n",
              "      <td>0.222437</td>\n",
              "      <td>0.011090</td>\n",
              "      <td>...</td>\n",
              "      <td>-0.092666</td>\n",
              "      <td>0.107778</td>\n",
              "      <td>0.027525</td>\n",
              "      <td>-0.056469</td>\n",
              "      <td>0.041812</td>\n",
              "      <td>0.101363</td>\n",
              "      <td>-0.087261</td>\n",
              "      <td>-0.074768</td>\n",
              "      <td>-0.009131</td>\n",
              "      <td>0.176996</td>\n",
              "      <td>-0.095388</td>\n",
              "      <td>-0.064000</td>\n",
              "      <td>0.005609</td>\n",
              "      <td>0.125557</td>\n",
              "      <td>0.046304</td>\n",
              "      <td>0.082346</td>\n",
              "      <td>0.008568</td>\n",
              "      <td>-0.117683</td>\n",
              "      <td>-0.115323</td>\n",
              "      <td>-0.037506</td>\n",
              "      <td>0.013085</td>\n",
              "      <td>-0.028238</td>\n",
              "      <td>0.126922</td>\n",
              "      <td>-0.003753</td>\n",
              "      <td>-0.068228</td>\n",
              "      <td>0.050681</td>\n",
              "      <td>0.126934</td>\n",
              "      <td>-0.035232</td>\n",
              "      <td>0.015372</td>\n",
              "      <td>-0.086543</td>\n",
              "      <td>-0.039242</td>\n",
              "      <td>0.020071</td>\n",
              "      <td>-0.034788</td>\n",
              "      <td>0.160616</td>\n",
              "      <td>-0.007332</td>\n",
              "      <td>-0.016741</td>\n",
              "      <td>-0.105077</td>\n",
              "      <td>-0.077327</td>\n",
              "      <td>0.032549</td>\n",
              "      <td>0.044177</td>\n",
              "    </tr>\n",
              "    <tr>\n",
              "      <th>...</th>\n",
              "      <td>...</td>\n",
              "      <td>...</td>\n",
              "      <td>...</td>\n",
              "      <td>...</td>\n",
              "      <td>...</td>\n",
              "      <td>...</td>\n",
              "      <td>...</td>\n",
              "      <td>...</td>\n",
              "      <td>...</td>\n",
              "      <td>...</td>\n",
              "      <td>...</td>\n",
              "      <td>...</td>\n",
              "      <td>...</td>\n",
              "      <td>...</td>\n",
              "      <td>...</td>\n",
              "      <td>...</td>\n",
              "      <td>...</td>\n",
              "      <td>...</td>\n",
              "      <td>...</td>\n",
              "      <td>...</td>\n",
              "      <td>...</td>\n",
              "      <td>...</td>\n",
              "      <td>...</td>\n",
              "      <td>...</td>\n",
              "      <td>...</td>\n",
              "      <td>...</td>\n",
              "      <td>...</td>\n",
              "      <td>...</td>\n",
              "      <td>...</td>\n",
              "      <td>...</td>\n",
              "      <td>...</td>\n",
              "      <td>...</td>\n",
              "      <td>...</td>\n",
              "      <td>...</td>\n",
              "      <td>...</td>\n",
              "      <td>...</td>\n",
              "      <td>...</td>\n",
              "      <td>...</td>\n",
              "      <td>...</td>\n",
              "      <td>...</td>\n",
              "      <td>...</td>\n",
              "      <td>...</td>\n",
              "      <td>...</td>\n",
              "      <td>...</td>\n",
              "      <td>...</td>\n",
              "      <td>...</td>\n",
              "      <td>...</td>\n",
              "      <td>...</td>\n",
              "      <td>...</td>\n",
              "      <td>...</td>\n",
              "      <td>...</td>\n",
              "      <td>...</td>\n",
              "      <td>...</td>\n",
              "      <td>...</td>\n",
              "      <td>...</td>\n",
              "      <td>...</td>\n",
              "      <td>...</td>\n",
              "      <td>...</td>\n",
              "      <td>...</td>\n",
              "      <td>...</td>\n",
              "      <td>...</td>\n",
              "      <td>...</td>\n",
              "      <td>...</td>\n",
              "      <td>...</td>\n",
              "      <td>...</td>\n",
              "      <td>...</td>\n",
              "      <td>...</td>\n",
              "      <td>...</td>\n",
              "      <td>...</td>\n",
              "      <td>...</td>\n",
              "      <td>...</td>\n",
              "      <td>...</td>\n",
              "      <td>...</td>\n",
              "      <td>...</td>\n",
              "      <td>...</td>\n",
              "      <td>...</td>\n",
              "      <td>...</td>\n",
              "      <td>...</td>\n",
              "      <td>...</td>\n",
              "      <td>...</td>\n",
              "      <td>...</td>\n",
              "    </tr>\n",
              "    <tr>\n",
              "      <th>получить_VERB_система_NOUN</th>\n",
              "      <td>0.061156</td>\n",
              "      <td>0.111066</td>\n",
              "      <td>0.077698</td>\n",
              "      <td>-0.000406</td>\n",
              "      <td>-0.111521</td>\n",
              "      <td>0.056960</td>\n",
              "      <td>0.135212</td>\n",
              "      <td>0.037087</td>\n",
              "      <td>0.072935</td>\n",
              "      <td>-0.059119</td>\n",
              "      <td>0.032838</td>\n",
              "      <td>-0.044342</td>\n",
              "      <td>-0.080452</td>\n",
              "      <td>-0.007441</td>\n",
              "      <td>0.102219</td>\n",
              "      <td>0.129021</td>\n",
              "      <td>-0.049113</td>\n",
              "      <td>0.234876</td>\n",
              "      <td>0.050485</td>\n",
              "      <td>-0.034594</td>\n",
              "      <td>0.151033</td>\n",
              "      <td>-0.129446</td>\n",
              "      <td>0.102983</td>\n",
              "      <td>-0.041590</td>\n",
              "      <td>0.069450</td>\n",
              "      <td>0.007755</td>\n",
              "      <td>-0.013793</td>\n",
              "      <td>0.175499</td>\n",
              "      <td>0.044375</td>\n",
              "      <td>-0.037842</td>\n",
              "      <td>0.114461</td>\n",
              "      <td>0.173884</td>\n",
              "      <td>-0.009636</td>\n",
              "      <td>0.027107</td>\n",
              "      <td>-0.008717</td>\n",
              "      <td>0.002883</td>\n",
              "      <td>0.097455</td>\n",
              "      <td>0.024079</td>\n",
              "      <td>0.175176</td>\n",
              "      <td>0.031872</td>\n",
              "      <td>...</td>\n",
              "      <td>-0.147776</td>\n",
              "      <td>0.093673</td>\n",
              "      <td>0.134278</td>\n",
              "      <td>0.003275</td>\n",
              "      <td>-0.034352</td>\n",
              "      <td>0.076288</td>\n",
              "      <td>-0.169588</td>\n",
              "      <td>-0.117096</td>\n",
              "      <td>-0.045772</td>\n",
              "      <td>0.052302</td>\n",
              "      <td>-0.029866</td>\n",
              "      <td>-0.053499</td>\n",
              "      <td>-0.024640</td>\n",
              "      <td>0.031004</td>\n",
              "      <td>-0.073495</td>\n",
              "      <td>0.024374</td>\n",
              "      <td>-0.134715</td>\n",
              "      <td>-0.114247</td>\n",
              "      <td>-0.092525</td>\n",
              "      <td>-0.034960</td>\n",
              "      <td>0.059407</td>\n",
              "      <td>0.022330</td>\n",
              "      <td>0.128211</td>\n",
              "      <td>-0.043873</td>\n",
              "      <td>0.022040</td>\n",
              "      <td>0.072048</td>\n",
              "      <td>0.102405</td>\n",
              "      <td>0.008010</td>\n",
              "      <td>0.008329</td>\n",
              "      <td>0.026112</td>\n",
              "      <td>0.056229</td>\n",
              "      <td>-0.018023</td>\n",
              "      <td>-0.053748</td>\n",
              "      <td>0.125347</td>\n",
              "      <td>-0.034376</td>\n",
              "      <td>-0.069400</td>\n",
              "      <td>-0.086912</td>\n",
              "      <td>-0.074582</td>\n",
              "      <td>0.025494</td>\n",
              "      <td>0.029077</td>\n",
              "    </tr>\n",
              "    <tr>\n",
              "      <th>получить_VERB_направление_NOUN</th>\n",
              "      <td>0.053621</td>\n",
              "      <td>0.124500</td>\n",
              "      <td>0.039103</td>\n",
              "      <td>0.004038</td>\n",
              "      <td>-0.083224</td>\n",
              "      <td>0.049366</td>\n",
              "      <td>0.048620</td>\n",
              "      <td>0.076091</td>\n",
              "      <td>-0.030349</td>\n",
              "      <td>-0.061661</td>\n",
              "      <td>0.002102</td>\n",
              "      <td>-0.005406</td>\n",
              "      <td>-0.118118</td>\n",
              "      <td>0.021324</td>\n",
              "      <td>0.023817</td>\n",
              "      <td>-0.005746</td>\n",
              "      <td>-0.152313</td>\n",
              "      <td>0.141614</td>\n",
              "      <td>0.028005</td>\n",
              "      <td>-0.024314</td>\n",
              "      <td>0.025750</td>\n",
              "      <td>-0.039519</td>\n",
              "      <td>0.094345</td>\n",
              "      <td>0.016803</td>\n",
              "      <td>0.053560</td>\n",
              "      <td>-0.073966</td>\n",
              "      <td>0.030607</td>\n",
              "      <td>0.048799</td>\n",
              "      <td>0.036759</td>\n",
              "      <td>-0.074025</td>\n",
              "      <td>0.053792</td>\n",
              "      <td>0.075279</td>\n",
              "      <td>0.119509</td>\n",
              "      <td>0.040366</td>\n",
              "      <td>-0.063612</td>\n",
              "      <td>-0.050227</td>\n",
              "      <td>0.151831</td>\n",
              "      <td>0.062211</td>\n",
              "      <td>0.154216</td>\n",
              "      <td>-0.109660</td>\n",
              "      <td>...</td>\n",
              "      <td>-0.201141</td>\n",
              "      <td>0.114011</td>\n",
              "      <td>0.069982</td>\n",
              "      <td>0.027114</td>\n",
              "      <td>-0.059214</td>\n",
              "      <td>0.109664</td>\n",
              "      <td>-0.144826</td>\n",
              "      <td>-0.176481</td>\n",
              "      <td>-0.003295</td>\n",
              "      <td>0.073114</td>\n",
              "      <td>-0.014121</td>\n",
              "      <td>-0.006432</td>\n",
              "      <td>0.059764</td>\n",
              "      <td>0.126557</td>\n",
              "      <td>-0.065472</td>\n",
              "      <td>-0.018288</td>\n",
              "      <td>-0.143654</td>\n",
              "      <td>-0.085235</td>\n",
              "      <td>0.038816</td>\n",
              "      <td>0.003203</td>\n",
              "      <td>-0.006999</td>\n",
              "      <td>0.053892</td>\n",
              "      <td>0.117865</td>\n",
              "      <td>-0.114062</td>\n",
              "      <td>0.020552</td>\n",
              "      <td>0.114375</td>\n",
              "      <td>0.078978</td>\n",
              "      <td>0.096784</td>\n",
              "      <td>0.013949</td>\n",
              "      <td>-0.014271</td>\n",
              "      <td>0.060160</td>\n",
              "      <td>0.009735</td>\n",
              "      <td>0.009243</td>\n",
              "      <td>0.191237</td>\n",
              "      <td>0.078253</td>\n",
              "      <td>-0.009571</td>\n",
              "      <td>-0.124913</td>\n",
              "      <td>-0.120325</td>\n",
              "      <td>0.036493</td>\n",
              "      <td>0.022257</td>\n",
              "    </tr>\n",
              "    <tr>\n",
              "      <th>получить_VERB_пенсия_NOUN</th>\n",
              "      <td>0.113895</td>\n",
              "      <td>0.117847</td>\n",
              "      <td>0.140288</td>\n",
              "      <td>-0.048585</td>\n",
              "      <td>-0.045566</td>\n",
              "      <td>-0.045118</td>\n",
              "      <td>0.119729</td>\n",
              "      <td>0.080517</td>\n",
              "      <td>-0.039891</td>\n",
              "      <td>-0.091948</td>\n",
              "      <td>0.030516</td>\n",
              "      <td>0.039190</td>\n",
              "      <td>-0.142688</td>\n",
              "      <td>0.007998</td>\n",
              "      <td>-0.023630</td>\n",
              "      <td>-0.015804</td>\n",
              "      <td>-0.113947</td>\n",
              "      <td>0.149566</td>\n",
              "      <td>0.060995</td>\n",
              "      <td>-0.043008</td>\n",
              "      <td>0.154763</td>\n",
              "      <td>-0.033227</td>\n",
              "      <td>0.008772</td>\n",
              "      <td>-0.015310</td>\n",
              "      <td>0.110215</td>\n",
              "      <td>-0.027679</td>\n",
              "      <td>0.106293</td>\n",
              "      <td>0.025732</td>\n",
              "      <td>-0.016913</td>\n",
              "      <td>-0.046639</td>\n",
              "      <td>0.059473</td>\n",
              "      <td>0.046080</td>\n",
              "      <td>-0.037599</td>\n",
              "      <td>0.092665</td>\n",
              "      <td>-0.007885</td>\n",
              "      <td>-0.033760</td>\n",
              "      <td>0.126899</td>\n",
              "      <td>0.032328</td>\n",
              "      <td>0.194326</td>\n",
              "      <td>-0.035832</td>\n",
              "      <td>...</td>\n",
              "      <td>-0.072385</td>\n",
              "      <td>0.092900</td>\n",
              "      <td>0.015972</td>\n",
              "      <td>-0.001338</td>\n",
              "      <td>-0.062135</td>\n",
              "      <td>0.056661</td>\n",
              "      <td>-0.086807</td>\n",
              "      <td>-0.178557</td>\n",
              "      <td>-0.078023</td>\n",
              "      <td>0.171384</td>\n",
              "      <td>-0.137885</td>\n",
              "      <td>-0.094174</td>\n",
              "      <td>-0.029102</td>\n",
              "      <td>0.053707</td>\n",
              "      <td>-0.033031</td>\n",
              "      <td>0.084729</td>\n",
              "      <td>-0.037747</td>\n",
              "      <td>-0.209264</td>\n",
              "      <td>-0.037768</td>\n",
              "      <td>-0.133677</td>\n",
              "      <td>0.111355</td>\n",
              "      <td>0.026987</td>\n",
              "      <td>0.123135</td>\n",
              "      <td>-0.055014</td>\n",
              "      <td>0.002967</td>\n",
              "      <td>0.128179</td>\n",
              "      <td>0.079013</td>\n",
              "      <td>0.043671</td>\n",
              "      <td>-0.028517</td>\n",
              "      <td>0.014975</td>\n",
              "      <td>0.001173</td>\n",
              "      <td>0.003516</td>\n",
              "      <td>0.102623</td>\n",
              "      <td>0.150684</td>\n",
              "      <td>-0.020355</td>\n",
              "      <td>-0.073053</td>\n",
              "      <td>-0.044639</td>\n",
              "      <td>-0.143026</td>\n",
              "      <td>0.008829</td>\n",
              "      <td>-0.022620</td>\n",
              "    </tr>\n",
              "    <tr>\n",
              "      <th>получить_VERB_множество_NOUN</th>\n",
              "      <td>-0.012421</td>\n",
              "      <td>0.194930</td>\n",
              "      <td>0.058773</td>\n",
              "      <td>0.080979</td>\n",
              "      <td>-0.148766</td>\n",
              "      <td>0.044285</td>\n",
              "      <td>0.119435</td>\n",
              "      <td>-0.013829</td>\n",
              "      <td>0.096585</td>\n",
              "      <td>-0.048407</td>\n",
              "      <td>-0.033186</td>\n",
              "      <td>0.075813</td>\n",
              "      <td>0.094766</td>\n",
              "      <td>-0.010940</td>\n",
              "      <td>0.096350</td>\n",
              "      <td>0.022045</td>\n",
              "      <td>-0.125867</td>\n",
              "      <td>0.163558</td>\n",
              "      <td>0.078456</td>\n",
              "      <td>-0.006594</td>\n",
              "      <td>0.119999</td>\n",
              "      <td>-0.100089</td>\n",
              "      <td>0.136489</td>\n",
              "      <td>0.069509</td>\n",
              "      <td>0.028227</td>\n",
              "      <td>-0.140847</td>\n",
              "      <td>0.031306</td>\n",
              "      <td>-0.025857</td>\n",
              "      <td>0.051447</td>\n",
              "      <td>-0.108926</td>\n",
              "      <td>0.064612</td>\n",
              "      <td>0.146587</td>\n",
              "      <td>0.112542</td>\n",
              "      <td>0.038376</td>\n",
              "      <td>0.005458</td>\n",
              "      <td>-0.081165</td>\n",
              "      <td>0.085375</td>\n",
              "      <td>-0.040380</td>\n",
              "      <td>0.206568</td>\n",
              "      <td>-0.035053</td>\n",
              "      <td>...</td>\n",
              "      <td>-0.132133</td>\n",
              "      <td>0.069082</td>\n",
              "      <td>-0.009893</td>\n",
              "      <td>-0.052733</td>\n",
              "      <td>-0.076182</td>\n",
              "      <td>0.011068</td>\n",
              "      <td>0.003677</td>\n",
              "      <td>-0.022357</td>\n",
              "      <td>-0.079573</td>\n",
              "      <td>-0.024121</td>\n",
              "      <td>-0.089503</td>\n",
              "      <td>-0.092334</td>\n",
              "      <td>0.006257</td>\n",
              "      <td>0.031782</td>\n",
              "      <td>-0.000318</td>\n",
              "      <td>0.010987</td>\n",
              "      <td>-0.144867</td>\n",
              "      <td>-0.022267</td>\n",
              "      <td>-0.121917</td>\n",
              "      <td>-0.036156</td>\n",
              "      <td>0.087575</td>\n",
              "      <td>0.082627</td>\n",
              "      <td>0.092061</td>\n",
              "      <td>-0.036829</td>\n",
              "      <td>0.114525</td>\n",
              "      <td>0.073509</td>\n",
              "      <td>0.005689</td>\n",
              "      <td>0.098706</td>\n",
              "      <td>0.026518</td>\n",
              "      <td>-0.009624</td>\n",
              "      <td>0.016339</td>\n",
              "      <td>0.077816</td>\n",
              "      <td>-0.033594</td>\n",
              "      <td>0.120947</td>\n",
              "      <td>0.055733</td>\n",
              "      <td>-0.040134</td>\n",
              "      <td>-0.025922</td>\n",
              "      <td>-0.018162</td>\n",
              "      <td>0.095116</td>\n",
              "      <td>0.012199</td>\n",
              "    </tr>\n",
              "    <tr>\n",
              "      <th>получить_VERB_совет_NOUN</th>\n",
              "      <td>-0.040566</td>\n",
              "      <td>0.115984</td>\n",
              "      <td>-0.069826</td>\n",
              "      <td>0.072426</td>\n",
              "      <td>-0.056403</td>\n",
              "      <td>0.076418</td>\n",
              "      <td>0.090656</td>\n",
              "      <td>0.029381</td>\n",
              "      <td>0.024101</td>\n",
              "      <td>-0.104061</td>\n",
              "      <td>-0.014267</td>\n",
              "      <td>0.103589</td>\n",
              "      <td>-0.104873</td>\n",
              "      <td>0.049297</td>\n",
              "      <td>0.016491</td>\n",
              "      <td>0.045307</td>\n",
              "      <td>-0.013029</td>\n",
              "      <td>0.201450</td>\n",
              "      <td>-0.045819</td>\n",
              "      <td>0.005115</td>\n",
              "      <td>0.063887</td>\n",
              "      <td>0.049755</td>\n",
              "      <td>0.125877</td>\n",
              "      <td>0.021173</td>\n",
              "      <td>0.004018</td>\n",
              "      <td>-0.081478</td>\n",
              "      <td>0.102888</td>\n",
              "      <td>0.013452</td>\n",
              "      <td>-0.035114</td>\n",
              "      <td>-0.112266</td>\n",
              "      <td>0.111634</td>\n",
              "      <td>-0.008718</td>\n",
              "      <td>0.068343</td>\n",
              "      <td>0.104227</td>\n",
              "      <td>-0.095623</td>\n",
              "      <td>-0.067590</td>\n",
              "      <td>0.062173</td>\n",
              "      <td>0.022978</td>\n",
              "      <td>0.169037</td>\n",
              "      <td>0.050190</td>\n",
              "      <td>...</td>\n",
              "      <td>-0.141367</td>\n",
              "      <td>-0.001741</td>\n",
              "      <td>0.063403</td>\n",
              "      <td>0.039238</td>\n",
              "      <td>0.050299</td>\n",
              "      <td>0.087202</td>\n",
              "      <td>-0.057049</td>\n",
              "      <td>-0.022359</td>\n",
              "      <td>-0.090371</td>\n",
              "      <td>0.121326</td>\n",
              "      <td>-0.072190</td>\n",
              "      <td>-0.080615</td>\n",
              "      <td>0.095967</td>\n",
              "      <td>0.020494</td>\n",
              "      <td>-0.096034</td>\n",
              "      <td>0.060209</td>\n",
              "      <td>-0.045643</td>\n",
              "      <td>-0.040281</td>\n",
              "      <td>-0.143127</td>\n",
              "      <td>-0.093701</td>\n",
              "      <td>0.085471</td>\n",
              "      <td>0.008280</td>\n",
              "      <td>0.213062</td>\n",
              "      <td>0.038903</td>\n",
              "      <td>0.086217</td>\n",
              "      <td>0.092829</td>\n",
              "      <td>0.052909</td>\n",
              "      <td>0.065249</td>\n",
              "      <td>0.101336</td>\n",
              "      <td>-0.083657</td>\n",
              "      <td>0.069201</td>\n",
              "      <td>0.105769</td>\n",
              "      <td>0.029245</td>\n",
              "      <td>0.091399</td>\n",
              "      <td>0.001448</td>\n",
              "      <td>0.029303</td>\n",
              "      <td>-0.170169</td>\n",
              "      <td>-0.109821</td>\n",
              "      <td>0.015261</td>\n",
              "      <td>-0.006133</td>\n",
              "    </tr>\n",
              "  </tbody>\n",
              "</table>\n",
              "<p>150 rows × 300 columns</p>\n",
              "</div>"
            ],
            "text/plain": [
              "                                     0         1    ...       298       299\n",
              "получить_VERB_письмо_NOUN       0.051095  0.157673  ...  0.066817 -0.106030\n",
              "получить_VERB_возможность_NOUN  0.009164  0.088177  ...  0.005840  0.132121\n",
              "получить_VERB_ответ_NOUN        0.033050  0.181447  ...  0.014006 -0.044903\n",
              "получить_VERB_название_NOUN     0.054521  0.146618  ...  0.023600 -0.011199\n",
              "получить_VERB_деньги_NOUN       0.032321  0.043752  ...  0.032549  0.044177\n",
              "...                                  ...       ...  ...       ...       ...\n",
              "получить_VERB_система_NOUN      0.061156  0.111066  ...  0.025494  0.029077\n",
              "получить_VERB_направление_NOUN  0.053621  0.124500  ...  0.036493  0.022257\n",
              "получить_VERB_пенсия_NOUN       0.113895  0.117847  ...  0.008829 -0.022620\n",
              "получить_VERB_множество_NOUN   -0.012421  0.194930  ...  0.095116  0.012199\n",
              "получить_VERB_совет_NOUN       -0.040566  0.115984  ...  0.015261 -0.006133\n",
              "\n",
              "[150 rows x 300 columns]"
            ]
          },
          "metadata": {
            "tags": []
          },
          "execution_count": 13
        }
      ]
    },
    {
      "cell_type": "markdown",
      "metadata": {
        "id": "SoeR2ro0Yb4B",
        "colab_type": "text"
      },
      "source": [
        "#### 1. Метод иерархической кластеризации"
      ]
    },
    {
      "cell_type": "code",
      "metadata": {
        "id": "2FRdmugLYgXA",
        "colab_type": "code",
        "colab": {}
      },
      "source": [
        "import matplotlib.pyplot as plt\n",
        "import scipy\n",
        "import scipy.cluster.hierarchy as hcluster"
      ],
      "execution_count": 0,
      "outputs": []
    },
    {
      "cell_type": "code",
      "metadata": {
        "id": "3bqxAXC6Zdiu",
        "colab_type": "code",
        "outputId": "76325ae1-612d-4720-adf8-a3eccb975298",
        "colab": {
          "base_uri": "https://localhost:8080/",
          "height": 265
        }
      },
      "source": [
        "Z = hcluster.linkage(phrase_data)\n",
        "plt.figure()\n",
        "dn = hcluster.dendrogram(Z)\n",
        "# plt.show()\n",
        "plt.savefig('plot.png', dpi=1000)"
      ],
      "execution_count": 15,
      "outputs": [
        {
          "output_type": "display_data",
          "data": {
            "image/png": "[encoded data removed]",
            "text/plain": [
              "<Figure size 432x288 with 1 Axes>"
            ]
          },
          "metadata": {
            "tags": []
          }
        }
      ]
    },
    {
      "cell_type": "code",
      "metadata": {
        "id": "zXKSSu1jaJsx",
        "colab_type": "code",
        "outputId": "f4044944-dffd-4d88-f306-01930e15b891",
        "colab": {
          "base_uri": "https://localhost:8080/",
          "height": 34
        }
      },
      "source": [
        "clusters = hcluster.fcluster(Z, 1)\n",
        "print('Estimated number of clusters: %d' % len(set(clusters)))"
      ],
      "execution_count": 16,
      "outputs": [
        {
          "output_type": "stream",
          "text": [
            "Estimated number of clusters: 75\n"
          ],
          "name": "stdout"
        }
      ]
    },
    {
      "cell_type": "code",
      "metadata": {
        "id": "Amlh1n4maM_0",
        "colab_type": "code",
        "outputId": "dee419a5-e1b5-4367-86d5-3aad306c3c70",
        "colab": {
          "base_uri": "https://localhost:8080/",
          "height": 34
        }
      },
      "source": [
        "clusters = hcluster.fcluster(Z, 1.2)\n",
        "print('Estimated number of clusters: %d' % len(set(clusters)))"
      ],
      "execution_count": 17,
      "outputs": [
        {
          "output_type": "stream",
          "text": [
            "Estimated number of clusters: 1\n"
          ],
          "name": "stdout"
        }
      ]
    },
    {
      "cell_type": "code",
      "metadata": {
        "id": "OExlwlSvaRVB",
        "colab_type": "code",
        "outputId": "dacd0609-d0d8-4162-cf90-eded6a021ffe",
        "colab": {
          "base_uri": "https://localhost:8080/",
          "height": 34
        }
      },
      "source": [
        "clusters = hcluster.fcluster(Z, 1.1)\n",
        "print('Estimated number of clusters: %d' % len(set(clusters)))"
      ],
      "execution_count": 18,
      "outputs": [
        {
          "output_type": "stream",
          "text": [
            "Estimated number of clusters: 68\n"
          ],
          "name": "stdout"
        }
      ]
    },
    {
      "cell_type": "code",
      "metadata": {
        "id": "u2nAiiUFwlcL",
        "colab_type": "code",
        "outputId": "b353f4e2-de97-4c53-fd5e-7b0ec79a44f2",
        "colab": {
          "base_uri": "https://localhost:8080/",
          "height": 34
        }
      },
      "source": [
        "clusters = hcluster.fcluster(Z, 0.6)\n",
        "print('Estimated number of clusters: %d' % len(set(clusters)))"
      ],
      "execution_count": 19,
      "outputs": [
        {
          "output_type": "stream",
          "text": [
            "Estimated number of clusters: 119\n"
          ],
          "name": "stdout"
        }
      ]
    },
    {
      "cell_type": "code",
      "metadata": {
        "id": "HVZ5m-GhaTQ9",
        "colab_type": "code",
        "outputId": "2955525c-1413-4889-d85d-c6ab7034dcdc",
        "colab": {
          "base_uri": "https://localhost:8080/",
          "height": 34
        }
      },
      "source": [
        "clusters = hcluster.fclusterdata(phrase_data, 1.1)\n",
        "print('Estimated number of clusters: %d' % len(set(clusters)))"
      ],
      "execution_count": 20,
      "outputs": [
        {
          "output_type": "stream",
          "text": [
            "Estimated number of clusters: 68\n"
          ],
          "name": "stdout"
        }
      ]
    },
    {
      "cell_type": "code",
      "metadata": {
        "id": "_qRonHnXakKF",
        "colab_type": "code",
        "outputId": "60adf217-e33f-4ec9-8f9f-cb8ce42b9af4",
        "colab": {
          "base_uri": "https://localhost:8080/",
          "height": 187
        }
      },
      "source": [
        "clusters"
      ],
      "execution_count": 21,
      "outputs": [
        {
          "output_type": "execute_result",
          "data": {
            "text/plain": [
              "array([26,  5, 36,  8, 15, 26,  4, 12, 26, 20, 52, 26, 26, 23, 26,  6,  7,\n",
              "       44, 15, 27, 35, 40, 23,  6, 10, 15, 15,  7,  7,  6, 11,  7, 19, 43,\n",
              "        1, 49, 26, 15,  8, 61, 15,  2, 38, 51, 11, 19, 15, 18, 11,  2, 26,\n",
              "       15, 39,  1, 48, 27, 20,  7, 29,  6, 27, 21, 22,  1, 23, 15, 16, 15,\n",
              "       27,  7, 15, 15, 26, 13, 15, 28,  1, 31,  5, 68, 25, 26,  5, 41, 32,\n",
              "       45, 55, 46,  9,  4, 24,  1,  5,  8, 27, 26,  4, 15,  3, 67, 47, 15,\n",
              "        7,  4, 27, 42, 34, 15, 62,  7, 27, 50, 15, 57, 58, 15, 63, 54, 23,\n",
              "       21,  2, 27, 27, 59, 27, 15, 22, 33, 15, 56, 14, 15, 10, 15, 27, 65,\n",
              "        3,  2, 17, 15, 53, 12, 64, 30,  9, 60, 66, 15,  3, 37],\n",
              "      dtype=int32)"
            ]
          },
          "metadata": {
            "tags": []
          },
          "execution_count": 21
        }
      ]
    },
    {
      "cell_type": "code",
      "metadata": {
        "id": "oVtZOPYvAC6y",
        "colab_type": "code",
        "outputId": "bcc2d6be-2c3a-46de-995f-6ba8ca6b3f48",
        "colab": {
          "base_uri": "https://localhost:8080/",
          "height": 238
        }
      },
      "source": [
        "cl = {}\n",
        "for el in clusters:\n",
        "    if el not in cl:\n",
        "        cl[el] = 1\n",
        "    else:\n",
        "        cl[el] += 1\n",
        "\n",
        "# сколько кластеров имеют больше 3 элементов\n",
        "nes = []\n",
        "for k, v in cl.items():\n",
        "    if v >= 3:\n",
        "        print(k, v)\n",
        "        nes.append(k)"
      ],
      "execution_count": 22,
      "outputs": [
        {
          "output_type": "stream",
          "text": [
            "26 11\n",
            "5 4\n",
            "8 3\n",
            "15 24\n",
            "4 4\n",
            "23 4\n",
            "6 4\n",
            "7 8\n",
            "27 11\n",
            "11 3\n",
            "1 5\n",
            "2 4\n",
            "3 3\n"
          ],
          "name": "stdout"
        }
      ]
    },
    {
      "cell_type": "markdown",
      "metadata": {
        "id": "AgtUQR9yHdtk",
        "colab_type": "text"
      },
      "source": [
        "***Возможное объяснение***: \n",
        "В данном случае достаточно сложно определить, какой именно порог t лучше использовать: количество кластеров определяется автоматически и, чем меньший порог мы задаем, тем больше кластеров получается. Так как в словарях выделяется намного меньше кластеров (в словаре Ожегова, на который я опиралась в выборе количества классов, их всего 6), чем 119 (при пороге в 0.6 и ниже) - максимальное количество - лучше всего - стараться сминимизировать количество кластеров. Поэтому, самым оптимальным вариантом кажется вариант с порогом в 1.1 - 68 кластеров (это минимальный вариант при десятичном пороге), 13 с количеством слов больше 2 (что уже выглядит намного более близким к реальности). (75 кластеров при пороге 1, уже немного больше, чем нужно)"
      ]
    },
    {
      "cell_type": "code",
      "metadata": {
        "id": "az4tBS0BzbeH",
        "colab_type": "code",
        "colab": {}
      },
      "source": [
        "# Готовим данные для 4 задания: собираем слова для каждого кластера\n",
        "w1 = [i for i, ltr in enumerate(list(clusters)) if ltr == nes[0]]\n",
        "w2 = [i for i, ltr in enumerate(list(clusters)) if ltr == nes[1]]\n",
        "w3 = [i for i, ltr in enumerate(list(clusters)) if ltr == nes[2]]\n",
        "w4 = [i for i, ltr in enumerate(list(clusters)) if ltr == nes[3]]\n",
        "w5 = [i for i, ltr in enumerate(list(clusters)) if ltr == nes[4]]\n",
        "w6 = [i for i, ltr in enumerate(list(clusters)) if ltr == nes[5]]\n",
        "w7 = [i for i, ltr in enumerate(list(clusters)) if ltr == nes[6]]\n",
        "w8 = [i for i, ltr in enumerate(list(clusters)) if ltr == nes[7]]\n",
        "w9 = [i for i, ltr in enumerate(list(clusters)) if ltr == nes[8]]\n",
        "w10 = [i for i, ltr in enumerate(list(clusters)) if ltr == nes[9]]\n",
        "w11 = [i for i, ltr in enumerate(list(clusters)) if ltr == nes[10]]\n",
        "w12 = [i for i, ltr in enumerate(list(clusters)) if ltr == nes[11]]\n",
        "w13 = [i for i, ltr in enumerate(list(clusters)) if ltr == nes[12]]"
      ],
      "execution_count": 0,
      "outputs": []
    },
    {
      "cell_type": "code",
      "metadata": {
        "id": "ICeEi9LCwH7K",
        "colab_type": "code",
        "colab": {}
      },
      "source": [
        "pr1 = [nms_ph[n] for n in w1]\n",
        "pr2 = [nms_ph[n] for n in w2]\n",
        "pr3 = [nms_ph[n] for n in w3]\n",
        "pr4 = [nms_ph[n] for n in w4]\n",
        "pr5 = [nms_ph[n] for n in w5]\n",
        "pr6 = [nms_ph[n] for n in w6]\n",
        "pr7 = [nms_ph[n] for n in w7]\n",
        "pr8 = [nms_ph[n] for n in w8]\n",
        "pr9 = [nms_ph[n] for n in w9]\n",
        "pr10 = [nms_ph[n] for n in w10]\n",
        "pr11 = [nms_ph[n] for n in w11]\n",
        "pr12 = [nms_ph[n] for n in w12]\n",
        "pr13 = [nms_ph[n] for n in w13]"
      ],
      "execution_count": 0,
      "outputs": []
    },
    {
      "cell_type": "code",
      "metadata": {
        "id": "jCVcO6M4son8",
        "colab_type": "code",
        "colab": {}
      },
      "source": [
        "# словари для слов каждого кластера\n",
        "ind_cl1 = {}\n",
        "ind_cl2 = {}\n",
        "ind_cl3 = {}\n",
        "ind_cl4 = {}\n",
        "ind_cl5 = {}\n",
        "ind_cl6 = {}\n",
        "ind_cl7 = {}\n",
        "ind_cl8 = {}\n",
        "ind_cl9 = {}\n",
        "ind_cl10 = {}\n",
        "ind_cl11 = {}\n",
        "ind_cl12 = {}\n",
        "ind_cl13 = {}\n",
        "\n",
        "for k, v in phrase_dict.items():\n",
        "    for e in pr1:\n",
        "        if k == e:\n",
        "            ind_cl1[k] = v\n",
        "\n",
        "for k, v in phrase_dict.items():\n",
        "    for e in pr2:\n",
        "        if k == e:\n",
        "            ind_cl2[k] = v\n",
        "\n",
        "for k, v in phrase_dict.items():\n",
        "    for e in pr3:\n",
        "        if k == e:\n",
        "            ind_cl3[k] = v\n",
        "\n",
        "for k, v in phrase_dict.items():\n",
        "    for e in pr4:\n",
        "        if k == e:\n",
        "            ind_cl4[k] = v\n",
        "\n",
        "for k, v in phrase_dict.items():\n",
        "    for e in pr5:\n",
        "        if k == e:\n",
        "            ind_cl5[k] = v\n",
        "\n",
        "for k, v in phrase_dict.items():\n",
        "    for e in pr6:\n",
        "        if k == e:\n",
        "            ind_cl6[k] = v\n",
        "\n",
        "for k, v in phrase_dict.items():\n",
        "    for e in pr7:\n",
        "        if k == e:\n",
        "            ind_cl7[k] = v\n",
        "\n",
        "for k, v in phrase_dict.items():\n",
        "    for e in pr8:\n",
        "        if k == e:\n",
        "            ind_cl8[k] = v\n",
        "\n",
        "for k, v in phrase_dict.items():\n",
        "    for e in pr9:\n",
        "        if k == e:\n",
        "            ind_cl9[k] = v\n",
        "\n",
        "for k, v in phrase_dict.items():\n",
        "    for e in pr10:\n",
        "        if k == e:\n",
        "            ind_cl10[k] = v\n",
        "\n",
        "for k, v in phrase_dict.items():\n",
        "    for e in pr11:\n",
        "        if k == e:\n",
        "            ind_cl11[k] = v\n",
        "\n",
        "for k, v in phrase_dict.items():\n",
        "    for e in pr12:\n",
        "        if k == e:\n",
        "            ind_cl12[k] = v\n",
        "\n",
        "for k, v in phrase_dict.items():\n",
        "    for e in pr13:\n",
        "        if k == e:\n",
        "            ind_cl13[k] = v"
      ],
      "execution_count": 0,
      "outputs": []
    },
    {
      "cell_type": "markdown",
      "metadata": {
        "id": "QoUjhG9piT69",
        "colab_type": "text"
      },
      "source": [
        "#### Алгоритм К-средних"
      ]
    },
    {
      "cell_type": "code",
      "metadata": {
        "id": "ww4DfuUEiWlq",
        "colab_type": "code",
        "colab": {}
      },
      "source": [
        "from sklearn.cluster import KMeans"
      ],
      "execution_count": 0,
      "outputs": []
    },
    {
      "cell_type": "code",
      "metadata": {
        "id": "hz-ICDAxi7dN",
        "colab_type": "code",
        "colab": {}
      },
      "source": [
        "kmeans = KMeans(n_clusters=6).fit(phrase_data)\n",
        "clasters2 = kmeans.labels_"
      ],
      "execution_count": 0,
      "outputs": []
    },
    {
      "cell_type": "code",
      "metadata": {
        "id": "y0JVszjxHHG5",
        "colab_type": "code",
        "outputId": "eaeb444c-6603-4533-f808-c587184ed9ba",
        "colab": {
          "base_uri": "https://localhost:8080/",
          "height": 136
        }
      },
      "source": [
        "clasters2"
      ],
      "execution_count": 28,
      "outputs": [
        {
          "output_type": "execute_result",
          "data": {
            "text/plain": [
              "array([3, 0, 1, 2, 4, 3, 0, 1, 3, 1, 0, 3, 3, 1, 3, 2, 0, 1, 5, 5, 5, 1,\n",
              "       1, 2, 1, 5, 4, 0, 0, 2, 1, 0, 3, 1, 5, 2, 3, 5, 0, 0, 5, 2, 4, 2,\n",
              "       1, 2, 5, 1, 1, 2, 3, 5, 1, 3, 0, 5, 1, 0, 5, 2, 3, 1, 1, 5, 1, 4,\n",
              "       4, 1, 5, 0, 5, 4, 3, 1, 4, 3, 3, 2, 0, 0, 1, 3, 1, 0, 2, 1, 0, 0,\n",
              "       2, 2, 1, 3, 1, 2, 5, 3, 2, 5, 2, 0, 5, 4, 0, 2, 5, 0, 1, 5, 0, 0,\n",
              "       3, 2, 1, 2, 0, 4, 2, 0, 1, 5, 0, 5, 5, 2, 5, 4, 1, 0, 4, 4, 1, 4,\n",
              "       1, 4, 3, 1, 2, 2, 5, 4, 2, 1, 2, 5, 2, 2, 2, 4, 2, 1], dtype=int32)"
            ]
          },
          "metadata": {
            "tags": []
          },
          "execution_count": 28
        }
      ]
    },
    {
      "cell_type": "code",
      "metadata": {
        "id": "Y6oR4lp_HIsi",
        "colab_type": "code",
        "outputId": "a07d183b-fde1-4df4-8146-428220e04351",
        "colab": {
          "base_uri": "https://localhost:8080/",
          "height": 119
        }
      },
      "source": [
        "cl2 = {}\n",
        "for el in clasters2:\n",
        "    if el not in cl2:\n",
        "        cl2[el] = 1\n",
        "    else:\n",
        "        cl2[el] += 1\n",
        "\n",
        "# сколько кластеров имеют больше 3 элементов\n",
        "for k, v in cl2.items():\n",
        "    if v >= 2:\n",
        "        print(k, v)"
      ],
      "execution_count": 29,
      "outputs": [
        {
          "output_type": "stream",
          "text": [
            "3 19\n",
            "0 26\n",
            "1 34\n",
            "2 30\n",
            "4 16\n",
            "5 25\n"
          ],
          "name": "stdout"
        }
      ]
    },
    {
      "cell_type": "markdown",
      "metadata": {
        "id": "Y16wdXBkIGLe",
        "colab_type": "text"
      },
      "source": [
        "***Возможное объяснение***: \n",
        "для того, чтобы выбрать количество кластеров для алгоритма k-средних, кажется правильным составление кластеров на основе существующих словарей: [словарь Ожегова](https://glosum.ru/%D0%97%D0%BD%D0%B0%D1%87%D0%B5%D0%BD%D0%B8%D0%B5-%D1%81%D0%BB%D0%BE%D0%B2%D0%B0-%D0%9F%D0%BE%D0%BB%D1%83%D1%87%D0%B8%D1%82%D1%8C) предлагает 6 возможных интрпретаций глагола \"получить\". \n",
        "\n",
        "1.   Взять, приобрести вручаемое, предлагаемое, искомое: письмо,  зарплату, звание профессора, помощника. То есть, в этот кластер можно отнести как физические предметы, так и те, что человек давно ожидает/ищет и в итоге получает (включая разного рода людей).\n",
        "2.   Принять для исполнения: приказ. То есть, сюда можно отнести все, что можно осуществить (исполнить) в жизни - всякие нефизичкие элементы\n",
        "3.   Добыть, произвести из че-го-н: продукт из нефти, интересные выводы. То есть, сюда относится все, что получается из чего-нибудь - как физические, так и нефизические элементы\n",
        "4.   Испытать что-н., подвергнуться чему-н: удовольствие, пощечину. Сюда можно определить все, что можно связать с эмоциональной сферой\n",
        "5.   Прийти в какое-н. состояние (в соответствии со значением следующего существительного): всеобщее признание (стать признанным), распространение (стать распространенным, применяющимся), известность (стать известным). Все, что может свидетельствовать об изменении состояния\n",
        "6.   Подвергнуться выговору, наказанию (разг.): Что, получил от отца? Ты у меня получишь! Таким образом, это достаточно спорный кластер, однако, из-за того, что его выделяют в словарях, будет не лишним использовать его в работе.\n",
        "\n",
        "\n",
        "В случае, когда у нас есть выбор количества кластеров, лучшим варинтом из определения этого количества представляется использование различных словарей. Я пересмотрела несколько штук и словарь Ожегова оказался одновременно самым емким и захватывающим разные значения слова, поэтому решила выбрать именно его."
      ]
    },
    {
      "cell_type": "markdown",
      "metadata": {
        "id": "RpGmSIf7IHD8",
        "colab_type": "text"
      },
      "source": [
        "### Задача 4: определение центра кластера и выбор трех элементов, наиболее к нему близких"
      ]
    },
    {
      "cell_type": "markdown",
      "metadata": {
        "id": "aYyh35t6CS4x",
        "colab_type": "text"
      },
      "source": [
        "Заранее прошу прощения за огромное количество повторяющихся элементов в коде для обоих алгоритмов здесь (я пыталась схлопнуть, но тогда мне было не совсем удобно следить за процессом формирования матриц и словарей, а хотелось, чтобы к любому из указанных словарей был доступ, чтобы его всегда можно было посмотреть, поэтому пришлось пожертвовать емкостью здесь (к моему огромному сожалению) ). \n",
        "\n",
        "Понятно, что такой \"перебор\" несложно делать на том количестве данных (= кластеров), который есть в задании, но будет сложно сделать с бОльшим количесвом данных (в таком случае можно использовать вложенные в список словари/списки, по аналогии с тем, как было сделано для отбора 3 слов для каждого кластера)."
      ]
    },
    {
      "cell_type": "markdown",
      "metadata": {
        "id": "SX8lr684IjFs",
        "colab_type": "text"
      },
      "source": [
        "#### Для метода К-средних"
      ]
    },
    {
      "cell_type": "code",
      "metadata": {
        "id": "sXdHO2zMXUJU",
        "colab_type": "code",
        "colab": {}
      },
      "source": [
        "from scipy.spatial import distance"
      ],
      "execution_count": 0,
      "outputs": []
    },
    {
      "cell_type": "code",
      "metadata": {
        "id": "MpUiExJ9jY-W",
        "colab_type": "code",
        "colab": {}
      },
      "source": [
        "centres = kmeans.cluster_centers_"
      ],
      "execution_count": 0,
      "outputs": []
    },
    {
      "cell_type": "code",
      "metadata": {
        "id": "Soel6SFtHmyS",
        "colab_type": "code",
        "outputId": "bf624ede-ab8e-4c44-9b7a-a7119a02e194",
        "colab": {
          "base_uri": "https://localhost:8080/",
          "height": 221
        }
      },
      "source": [
        "centres"
      ],
      "execution_count": 32,
      "outputs": [
        {
          "output_type": "execute_result",
          "data": {
            "text/plain": [
              "array([[ 0.05338495,  0.11356284,  0.07000897, ..., -0.03932901,\n",
              "         0.03128886, -0.00912031],\n",
              "       [ 0.04475465,  0.10836919,  0.05374227, ..., -0.04342394,\n",
              "         0.00772057, -0.04605397],\n",
              "       [ 0.02855935,  0.12918152,  0.07970599, ..., -0.04341106,\n",
              "         0.02382142, -0.02787413],\n",
              "       [ 0.01327526,  0.13196808,  0.00091738, ..., -0.04955794,\n",
              "         0.0511617 , -0.06141733],\n",
              "       [ 0.06309494,  0.08163024,  0.07402532, ..., -0.05485231,\n",
              "         0.01295337, -0.00281055],\n",
              "       [ 0.0269997 ,  0.12813115,  0.06653947, ..., -0.05776326,\n",
              "         0.0494879 , -0.04391524]], dtype=float32)"
            ]
          },
          "metadata": {
            "tags": []
          },
          "execution_count": 32
        }
      ]
    },
    {
      "cell_type": "code",
      "metadata": {
        "id": "K0uOCxkyYjLt",
        "colab_type": "code",
        "colab": {}
      },
      "source": [
        "# расчет косинусной дистанции\n",
        "cnt1 = {}\n",
        "cnt2 = {}\n",
        "cnt3 = {}\n",
        "cnt4 = {}\n",
        "cnt5 = {}\n",
        "cnt6 = {}\n",
        "\n",
        "co1 = 0\n",
        "for ph in phrase_data:\n",
        "    cnt1[nms_ph[co1]] = distance.cosine(centres[0], ph)\n",
        "    co1 += 1\n",
        "\n",
        "co2 = 0\n",
        "for ph in phrase_data:\n",
        "    cnt2[nms_ph[co2]] = distance.cosine(centres[1], ph)\n",
        "    co2 += 1\n",
        "\n",
        "co3 = 0\n",
        "for ph in phrase_data:\n",
        "    cnt3[nms_ph[co3]] = distance.cosine(centres[2], ph)\n",
        "    co3 += 1\n",
        "\n",
        "co4 = 0\n",
        "for ph in phrase_data:\n",
        "    cnt4[nms_ph[co4]] = distance.cosine(centres[3], ph)\n",
        "    co4 += 1\n",
        "\n",
        "co5 = 0\n",
        "for ph in phrase_data:\n",
        "    cnt5[nms_ph[co5]] = distance.cosine(centres[4], ph)\n",
        "    co5 += 1\n",
        "\n",
        "co6 = 0\n",
        "for ph in phrase_data:\n",
        "    cnt6[nms_ph[co6]] = distance.cosine(centres[5], ph)\n",
        "    co6 += 1"
      ],
      "execution_count": 0,
      "outputs": []
    },
    {
      "cell_type": "code",
      "metadata": {
        "id": "38BH7lN9XWs_",
        "colab_type": "code",
        "outputId": "f4f636d3-504b-4f86-cbae-e477b10693a8",
        "colab": {
          "base_uri": "https://localhost:8080/",
          "height": 139
        }
      },
      "source": [
        "# cписок словарей\n",
        "for_km1 = []\n",
        "for_km1.append(cnt1)\n",
        "for_km1.append(cnt2)\n",
        "for_km1.append(cnt3)\n",
        "for_km1.append(cnt4)\n",
        "for_km1.append(cnt5)\n",
        "for_km1.append(cnt6)\n",
        "\n",
        "for e in for_km1:\n",
        "    print(e)"
      ],
      "execution_count": 34,
      "outputs": [
        {
          "output_type": "stream",
          "text": [
            "{'получить_VERB_письмо_NOUN': 0.2148382067680359, 'получить_VERB_возможность_NOUN': 0.17618203163146973, 'получить_VERB_ответ_NOUN': 0.19207054376602173, 'получить_VERB_название_NOUN': 0.23490184545516968, 'получить_VERB_деньги_NOUN': 0.16239094734191895, 'получить_VERB_известие_NOUN': 0.2378292679786682, 'получить_VERB_результат_NOUN': 0.16420507431030273, 'получить_VERB_разрешение_NOUN': 0.23972195386886597, 'получить_VERB_телеграмма_NOUN': 0.2346949577331543, 'получить_VERB_приглашение_NOUN': 0.22913652658462524, 'получить_VERB_место_NOUN': 0.15800434350967407, 'получить_VERB_сведение_NOUN': 0.22181707620620728, 'получить_VERB_информация_NOUN': 0.19430339336395264, 'получить_VERB_приказ_NOUN': 0.2187318205833435, 'получить_VERB_данные_NOUN': 0.190679132938385, 'получить_VERB_образование_NOUN': 0.2052823305130005, 'получить_VERB_человек_NOUN': 0.140627920627594, 'получить_VERB_отказ_NOUN': 0.231975257396698, 'получить_VERB_звание_NOUN': 0.21643859148025513, 'получить_VERB_диплом_NOUN': 0.20340365171432495, 'получить_VERB_право_NOUN': 0.18642264604568481, 'получить_VERB_назначение_NOUN': 0.23294419050216675, 'получить_VERB_приказание_NOUN': 0.24817603826522827, 'получить_VERB_распространение_NOUN': 0.24640429019927979, 'получить_VERB_удовольствие_NOUN': 0.22801148891448975, 'получить_VERB_награда_NOUN': 0.1994023323059082, 'получить_VERB_премия_NOUN': 0.21219152212142944, 'получить_VERB_время_NOUN': 0.1591203808784485, 'получить_VERB_год_NOUN': 0.13394737243652344, 'получить_VERB_развитие_NOUN': 0.21999883651733398, 'получить_VERB_согласие_NOUN': 0.2454511523246765, 'получить_VERB_работа_NOUN': 0.1446278691291809, 'получить_VERB_задание_NOUN': 0.2061392068862915, 'получить_VERB_свобода_NOUN': 0.24721086025238037, 'получить_VERB_ранение_NOUN': 0.22673523426055908, 'получить_VERB_доступ_NOUN': 0.22106754779815674, 'получить_VERB_сообщение_NOUN': 0.2141268253326416, 'получить_VERB_приз_NOUN': 0.21083945035934448, 'получить_VERB_имя_NOUN': 0.18650120496749878, 'получить_VERB_квартира_NOUN': 0.17697936296463013, 'получить_VERB_орден_NOUN': 0.23528635501861572, 'получить_VERB_россия_NOUN': 0.21162110567092896, 'получить_VERB_наследство_NOUN': 0.20777183771133423, 'получить_VERB_значение_NOUN': 0.22230952978134155, 'получить_VERB_поддержка_NOUN': 0.22358757257461548, 'получить_VERB_задача_NOUN': 0.2229921817779541, 'получить_VERB_статус_NOUN': 0.20620954036712646, 'получить_VERB_признание_NOUN': 0.2206248641014099, 'получить_VERB_одобрение_NOUN': 0.24764186143875122, 'получить_VERB_власть_NOUN': 0.2054259181022644, 'получить_VERB_записка_NOUN': 0.2486858367919922, 'получить_VERB_чин_NOUN': 0.23126894235610962, 'получить_VERB_заказ_NOUN': 0.22140777111053467, 'получить_VERB_удар_NOUN': 0.22873693704605103, 'получить_VERB_жизнь_NOUN': 0.1578250527381897, 'получить_VERB_лицензия_NOUN': 0.20208525657653809, 'получить_VERB_предложение_NOUN': 0.20537304878234863, 'получить_VERB_день_NOUN': 0.14217650890350342, 'получить_VERB_билет_NOUN': 0.2270756959915161, 'получить_VERB_воспитание_NOUN': 0.24222207069396973, 'получить_VERB_бумага_NOUN': 0.24276471138000488, 'получить_VERB_подтверждение_NOUN': 0.23436188697814941, 'получить_VERB_повеление_NOUN': 0.2386276125907898, 'получить_VERB_травма_NOUN': 0.22662687301635742, 'получить_VERB_указание_NOUN': 0.2229340672492981, 'получить_VERB_кредит_NOUN': 0.21383267641067505, 'получить_VERB_отпуск_NOUN': 0.2184849977493286, 'получить_VERB_подарок_NOUN': 0.1997077465057373, 'получить_VERB_паспорт_NOUN': 0.22381621599197388, 'получить_VERB_лет_NOUN': 0.24188047647476196, 'получить_VERB_должность_NOUN': 0.19430267810821533, 'получить_VERB_сумма_NOUN': 0.19945716857910156, 'получить_VERB_извещение_NOUN': 0.23430109024047852, 'получить_VERB_помощь_NOUN': 0.20541232824325562, 'получить_VERB_прибыль_NOUN': 0.20261144638061523, 'получить_VERB_повестка_NOUN': 0.25707656145095825, 'получить_VERB_рана_NOUN': 0.2577124834060669, 'получить_VERB_материал_NOUN': 0.21718060970306396, 'получить_VERB_шанс_NOUN': 0.1836090087890625, 'получить_VERB_лицо_NOUN': 0.20485150814056396, 'получить_VERB_благословение_NOUN': 0.22860682010650635, 'получить_VERB_уведомление_NOUN': 0.2133423089981079, 'получить_VERB_надежда_NOUN': 0.2436387538909912, 'получить_VERB_книга_NOUN': 0.18273723125457764, 'получить_VERB_знание_NOUN': 0.22595179080963135, 'получить_VERB_известность_NOUN': 0.23004454374313354, 'получить_VERB_часть_NOUN': 0.18967962265014648, 'получить_VERB_отец_NOUN': 0.15938270092010498, 'получить_VERB_число_NOUN': 0.18570250272750854, 'получить_VERB_анализ_NOUN': 0.22501271963119507, 'получить_VERB_предписание_NOUN': 0.23077988624572754, 'получить_VERB_пуля_NOUN': 0.2505013942718506, 'получить_VERB_желание_NOUN': 0.22233158349990845, 'получить_VERB_наименование_NOUN': 0.23476922512054443, 'получить_VERB_пропуск_NOUN': 0.26014965772628784, 'получить_VERB_донесение_NOUN': 0.26098424196243286, 'получить_VERB_оценка_NOUN': 0.20021122694015503, 'получить_VERB_титул_NOUN': 0.2108001708984375, 'получить_VERB_масса_NOUN': 0.26758599281311035, 'получить_VERB_земля_NOUN': 0.20582646131515503, 'получить_VERB_выговор_NOUN': 0.23635053634643555, 'получить_VERB_гонорар_NOUN': 0.2122420072555542, 'получить_VERB_ребенок_NOUN': 0.15327852964401245, 'получить_VERB_расчет_NOUN': 0.24931317567825317, 'получить_VERB_патент_NOUN': 0.1940242052078247, 'получить_VERB_слово_NOUN': 0.17527657747268677, 'получить_VERB_прощение_NOUN': 0.2301793098449707, 'получить_VERB_медаль_NOUN': 0.2389061450958252, 'получить_VERB_компания_NOUN': 0.19241130352020264, 'получить_VERB_дело_NOUN': 0.15699362754821777, 'получить_VERB_документ_NOUN': 0.20047283172607422, 'получить_VERB_степень_NOUN': 0.22550225257873535, 'получить_VERB_отставка_NOUN': 0.23662179708480835, 'получить_VERB_представление_NOUN': 0.22652268409729004, 'получить_VERB_продукт_NOUN': 0.21540504693984985, 'получить_VERB_доход_NOUN': 0.21159392595291138, 'получить_VERB_армия_NOUN': 0.22449707984924316, 'получить_VERB_машина_NOUN': 0.16708534955978394, 'получить_VERB_распоряжение_NOUN': 0.21307164430618286, 'получить_VERB_свидетельство_NOUN': 0.2222922444343567, 'получить_VERB_москва_NOUN': 0.2288913130760193, 'получить_VERB_виза_NOUN': 0.22192269563674927, 'получить_VERB_аттестат_NOUN': 0.20679420232772827, 'получить_VERB_формула_NOUN': 0.23125267028808594, 'получить_VERB_сертификат_NOUN': 0.20299994945526123, 'получить_VERB_компенсация_NOUN': 0.2171154022216797, 'получить_VERB_указ_NOUN': 0.21807801723480225, 'получить_VERB_вопрос_NOUN': 0.1696772575378418, 'получить_VERB_зарплата_NOUN': 0.18937522172927856, 'получить_VERB_срок_NOUN': 0.21119552850723267, 'получить_VERB_благодарность_NOUN': 0.2426600456237793, 'получить_VERB_жалование_NOUN': 0.2188640832901001, 'получить_VERB_удовлетворение_NOUN': 0.26019710302352905, 'получить_VERB_средство_NOUN': 0.22268372774124146, 'получить_VERB_справка_NOUN': 0.23354887962341309, 'получить_VERB_честь_NOUN': 0.2256791591644287, 'получить_VERB_ряд_NOUN': 0.2738346457481384, 'получить_VERB_страна_NOUN': 0.18858343362808228, 'получить_VERB_дар_NOUN': 0.23783326148986816, 'получить_VERB_средства_NOUN': 0.21943014860153198, 'получить_VERB_повышение_NOUN': 0.24709028005599976, 'получить_VERB_позволение_NOUN': 0.2433900237083435, 'получить_VERB_характер_NOUN': 0.2542639970779419, 'получить_VERB_пятерка_NOUN': 0.2301691770553589, 'получить_VERB_большинство_NOUN': 0.20328354835510254, 'получить_VERB_система_NOUN': 0.20230633020401, 'получить_VERB_направление_NOUN': 0.2601088881492615, 'получить_VERB_пенсия_NOUN': 0.1930181384086609, 'получить_VERB_множество_NOUN': 0.2779070734977722, 'получить_VERB_совет_NOUN': 0.21734386682510376}\n",
            "{'получить_VERB_письмо_NOUN': 0.18341922760009766, 'получить_VERB_возможность_NOUN': 0.21474742889404297, 'получить_VERB_ответ_NOUN': 0.14251506328582764, 'получить_VERB_название_NOUN': 0.2417345643043518, 'получить_VERB_деньги_NOUN': 0.21442365646362305, 'получить_VERB_известие_NOUN': 0.19437718391418457, 'получить_VERB_результат_NOUN': 0.19561463594436646, 'получить_VERB_разрешение_NOUN': 0.14048868417739868, 'получить_VERB_телеграмма_NOUN': 0.17804014682769775, 'получить_VERB_приглашение_NOUN': 0.1349252462387085, 'получить_VERB_место_NOUN': 0.2533729672431946, 'получить_VERB_сведение_NOUN': 0.1928502321243286, 'получить_VERB_информация_NOUN': 0.20281070470809937, 'получить_VERB_приказ_NOUN': 0.12497490644454956, 'получить_VERB_данные_NOUN': 0.2046920657157898, 'получить_VERB_образование_NOUN': 0.21170800924301147, 'получить_VERB_человек_NOUN': 0.2615435719490051, 'получить_VERB_отказ_NOUN': 0.17627853155136108, 'получить_VERB_звание_NOUN': 0.18461567163467407, 'получить_VERB_диплом_NOUN': 0.19192546606063843, 'получить_VERB_право_NOUN': 0.19483494758605957, 'получить_VERB_назначение_NOUN': 0.1730501651763916, 'получить_VERB_приказание_NOUN': 0.13061946630477905, 'получить_VERB_распространение_NOUN': 0.23894131183624268, 'получить_VERB_удовольствие_NOUN': 0.1945818066596985, 'получить_VERB_награда_NOUN': 0.14917433261871338, 'получить_VERB_премия_NOUN': 0.1911424994468689, 'получить_VERB_время_NOUN': 0.26465874910354614, 'получить_VERB_год_NOUN': 0.23871707916259766, 'получить_VERB_развитие_NOUN': 0.24425411224365234, 'получить_VERB_согласие_NOUN': 0.13422685861587524, 'получить_VERB_работа_NOUN': 0.22213250398635864, 'получить_VERB_задание_NOUN': 0.18728560209274292, 'получить_VERB_свобода_NOUN': 0.2278512716293335, 'получить_VERB_ранение_NOUN': 0.2314692735671997, 'получить_VERB_доступ_NOUN': 0.22284609079360962, 'получить_VERB_сообщение_NOUN': 0.19537663459777832, 'получить_VERB_приз_NOUN': 0.19374161958694458, 'получить_VERB_имя_NOUN': 0.21639037132263184, 'получить_VERB_квартира_NOUN': 0.23448210954666138, 'получить_VERB_орден_NOUN': 0.20806485414505005, 'получить_VERB_россия_NOUN': 0.2427772879600525, 'получить_VERB_наследство_NOUN': 0.19149315357208252, 'получить_VERB_значение_NOUN': 0.23667681217193604, 'получить_VERB_поддержка_NOUN': 0.16120803356170654, 'получить_VERB_задача_NOUN': 0.239423930644989, 'получить_VERB_статус_NOUN': 0.19978266954421997, 'получить_VERB_признание_NOUN': 0.14853274822235107, 'получить_VERB_одобрение_NOUN': 0.13063204288482666, 'получить_VERB_власть_NOUN': 0.22071188688278198, 'получить_VERB_записка_NOUN': 0.22486954927444458, 'получить_VERB_чин_NOUN': 0.20164531469345093, 'получить_VERB_заказ_NOUN': 0.17524242401123047, 'получить_VERB_удар_NOUN': 0.2400161623954773, 'получить_VERB_жизнь_NOUN': 0.24769288301467896, 'получить_VERB_лицензия_NOUN': 0.1935046911239624, 'получить_VERB_предложение_NOUN': 0.16062498092651367, 'получить_VERB_день_NOUN': 0.2463207244873047, 'получить_VERB_билет_NOUN': 0.24443554878234863, 'получить_VERB_воспитание_NOUN': 0.2322758436203003, 'получить_VERB_бумага_NOUN': 0.2369706630706787, 'получить_VERB_подтверждение_NOUN': 0.17460894584655762, 'получить_VERB_повеление_NOUN': 0.13091659545898438, 'получить_VERB_травма_NOUN': 0.2463775873184204, 'получить_VERB_указание_NOUN': 0.11921632289886475, 'получить_VERB_кредит_NOUN': 0.22243279218673706, 'получить_VERB_отпуск_NOUN': 0.2296770215034485, 'получить_VERB_подарок_NOUN': 0.16385680437088013, 'получить_VERB_паспорт_NOUN': 0.2324550747871399, 'получить_VERB_лет_NOUN': 0.2882035970687866, 'получить_VERB_должность_NOUN': 0.19036787748336792, 'получить_VERB_сумма_NOUN': 0.21416127681732178, 'получить_VERB_извещение_NOUN': 0.1860189437866211, 'получить_VERB_помощь_NOUN': 0.1913089156150818, 'получить_VERB_прибыль_NOUN': 0.1943356990814209, 'получить_VERB_повестка_NOUN': 0.21448391675949097, 'получить_VERB_рана_NOUN': 0.2795065641403198, 'получить_VERB_материал_NOUN': 0.2367086410522461, 'получить_VERB_шанс_NOUN': 0.24245303869247437, 'получить_VERB_лицо_NOUN': 0.2504900097846985, 'получить_VERB_благословение_NOUN': 0.13292843103408813, 'получить_VERB_уведомление_NOUN': 0.15947628021240234, 'получить_VERB_надежда_NOUN': 0.22250401973724365, 'получить_VERB_книга_NOUN': 0.23532968759536743, 'получить_VERB_знание_NOUN': 0.22740048170089722, 'получить_VERB_известность_NOUN': 0.18619966506958008, 'получить_VERB_часть_NOUN': 0.24788898229599, 'получить_VERB_отец_NOUN': 0.21310442686080933, 'получить_VERB_число_NOUN': 0.2096724510192871, 'получить_VERB_анализ_NOUN': 0.24433571100234985, 'получить_VERB_предписание_NOUN': 0.14260464906692505, 'получить_VERB_пуля_NOUN': 0.26539039611816406, 'получить_VERB_желание_NOUN': 0.19867628812789917, 'получить_VERB_наименование_NOUN': 0.2114902138710022, 'получить_VERB_пропуск_NOUN': 0.23381447792053223, 'получить_VERB_донесение_NOUN': 0.2023279070854187, 'получить_VERB_оценка_NOUN': 0.19183403253555298, 'получить_VERB_титул_NOUN': 0.17722874879837036, 'получить_VERB_масса_NOUN': 0.2812848687171936, 'получить_VERB_земля_NOUN': 0.2508732080459595, 'получить_VERB_выговор_NOUN': 0.1848992109298706, 'получить_VERB_гонорар_NOUN': 0.1918548345565796, 'получить_VERB_ребенок_NOUN': 0.23997539281845093, 'получить_VERB_расчет_NOUN': 0.23056340217590332, 'получить_VERB_патент_NOUN': 0.18930816650390625, 'получить_VERB_слово_NOUN': 0.20996874570846558, 'получить_VERB_прощение_NOUN': 0.17314976453781128, 'получить_VERB_медаль_NOUN': 0.22381699085235596, 'получить_VERB_компания_NOUN': 0.23577362298965454, 'получить_VERB_дело_NOUN': 0.24818092584609985, 'получить_VERB_документ_NOUN': 0.2007293701171875, 'получить_VERB_степень_NOUN': 0.24642795324325562, 'получить_VERB_отставка_NOUN': 0.19159066677093506, 'получить_VERB_представление_NOUN': 0.20902013778686523, 'получить_VERB_продукт_NOUN': 0.2584075927734375, 'получить_VERB_доход_NOUN': 0.2206098437309265, 'получить_VERB_армия_NOUN': 0.2338917851448059, 'получить_VERB_машина_NOUN': 0.2660391330718994, 'получить_VERB_распоряжение_NOUN': 0.12433332204818726, 'получить_VERB_свидетельство_NOUN': 0.1893784999847412, 'получить_VERB_москва_NOUN': 0.2802565097808838, 'получить_VERB_виза_NOUN': 0.21340131759643555, 'получить_VERB_аттестат_NOUN': 0.19410192966461182, 'получить_VERB_формула_NOUN': 0.24030733108520508, 'получить_VERB_сертификат_NOUN': 0.19083833694458008, 'получить_VERB_компенсация_NOUN': 0.19387871026992798, 'получить_VERB_указ_NOUN': 0.1395052671432495, 'получить_VERB_вопрос_NOUN': 0.21001195907592773, 'получить_VERB_зарплата_NOUN': 0.20809924602508545, 'получить_VERB_срок_NOUN': 0.22360914945602417, 'получить_VERB_благодарность_NOUN': 0.15589720010757446, 'получить_VERB_жалование_NOUN': 0.19000154733657837, 'получить_VERB_удовлетворение_NOUN': 0.18115586042404175, 'получить_VERB_средство_NOUN': 0.2473362684249878, 'получить_VERB_справка_NOUN': 0.22102689743041992, 'получить_VERB_честь_NOUN': 0.19844424724578857, 'получить_VERB_ряд_NOUN': 0.2723850607872009, 'получить_VERB_страна_NOUN': 0.2434512972831726, 'получить_VERB_дар_NOUN': 0.21698713302612305, 'получить_VERB_средства_NOUN': 0.23241370916366577, 'получить_VERB_повышение_NOUN': 0.22278040647506714, 'получить_VERB_позволение_NOUN': 0.16618549823760986, 'получить_VERB_характер_NOUN': 0.26429498195648193, 'получить_VERB_пятерка_NOUN': 0.23241925239562988, 'получить_VERB_большинство_NOUN': 0.233273446559906, 'получить_VERB_система_NOUN': 0.2690756916999817, 'получить_VERB_направление_NOUN': 0.2574051022529602, 'получить_VERB_пенсия_NOUN': 0.19765609502792358, 'получить_VERB_множество_NOUN': 0.283317506313324, 'получить_VERB_совет_NOUN': 0.16757196187973022}\n",
            "{'получить_VERB_письмо_NOUN': 0.22571003437042236, 'получить_VERB_возможность_NOUN': 0.20904994010925293, 'получить_VERB_ответ_NOUN': 0.18227720260620117, 'получить_VERB_название_NOUN': 0.18622875213623047, 'получить_VERB_деньги_NOUN': 0.21422100067138672, 'получить_VERB_известие_NOUN': 0.2374817132949829, 'получить_VERB_результат_NOUN': 0.16940724849700928, 'получить_VERB_разрешение_NOUN': 0.22416293621063232, 'получить_VERB_телеграмма_NOUN': 0.23168718814849854, 'получить_VERB_приглашение_NOUN': 0.2320157289505005, 'получить_VERB_место_NOUN': 0.22098851203918457, 'получить_VERB_сведение_NOUN': 0.17531895637512207, 'получить_VERB_информация_NOUN': 0.1837117075920105, 'получить_VERB_приказ_NOUN': 0.2154155969619751, 'получить_VERB_данные_NOUN': 0.17103034257888794, 'получить_VERB_образование_NOUN': 0.13784074783325195, 'получить_VERB_человек_NOUN': 0.21901196241378784, 'получить_VERB_отказ_NOUN': 0.21313923597335815, 'получить_VERB_звание_NOUN': 0.185918390750885, 'получить_VERB_диплом_NOUN': 0.18649953603744507, 'получить_VERB_право_NOUN': 0.20400840044021606, 'получить_VERB_назначение_NOUN': 0.19067519903182983, 'получить_VERB_приказание_NOUN': 0.23574340343475342, 'получить_VERB_распространение_NOUN': 0.16525715589523315, 'получить_VERB_удовольствие_NOUN': 0.24237579107284546, 'получить_VERB_награда_NOUN': 0.18713074922561646, 'получить_VERB_премия_NOUN': 0.20293289422988892, 'получить_VERB_время_NOUN': 0.23639506101608276, 'получить_VERB_год_NOUN': 0.20964276790618896, 'получить_VERB_развитие_NOUN': 0.15912353992462158, 'получить_VERB_согласие_NOUN': 0.22560709714889526, 'получить_VERB_работа_NOUN': 0.20103830099105835, 'получить_VERB_задание_NOUN': 0.21159440279006958, 'получить_VERB_свобода_NOUN': 0.24387556314468384, 'получить_VERB_ранение_NOUN': 0.2268892526626587, 'получить_VERB_доступ_NOUN': 0.19032853841781616, 'получить_VERB_сообщение_NOUN': 0.2243301272392273, 'получить_VERB_приз_NOUN': 0.2097952961921692, 'получить_VERB_имя_NOUN': 0.21480298042297363, 'получить_VERB_квартира_NOUN': 0.24106109142303467, 'получить_VERB_орден_NOUN': 0.21452069282531738, 'получить_VERB_россия_NOUN': 0.19653207063674927, 'получить_VERB_наследство_NOUN': 0.20357584953308105, 'получить_VERB_значение_NOUN': 0.17556601762771606, 'получить_VERB_поддержка_NOUN': 0.19932347536087036, 'получить_VERB_задача_NOUN': 0.19512879848480225, 'получить_VERB_статус_NOUN': 0.17226356267929077, 'получить_VERB_признание_NOUN': 0.19173234701156616, 'получить_VERB_одобрение_NOUN': 0.2197769284248352, 'получить_VERB_власть_NOUN': 0.18540406227111816, 'получить_VERB_записка_NOUN': 0.2615181803703308, 'получить_VERB_чин_NOUN': 0.21368277072906494, 'получить_VERB_заказ_NOUN': 0.2319636344909668, 'получить_VERB_удар_NOUN': 0.22163307666778564, 'получить_VERB_жизнь_NOUN': 0.21809834241867065, 'получить_VERB_лицензия_NOUN': 0.2090662121772766, 'получить_VERB_предложение_NOUN': 0.21520477533340454, 'получить_VERB_день_NOUN': 0.22632408142089844, 'получить_VERB_билет_NOUN': 0.2441655397415161, 'получить_VERB_воспитание_NOUN': 0.18817085027694702, 'получить_VERB_бумага_NOUN': 0.25808608531951904, 'получить_VERB_подтверждение_NOUN': 0.2132258415222168, 'получить_VERB_повеление_NOUN': 0.21797549724578857, 'получить_VERB_травма_NOUN': 0.23032420873641968, 'получить_VERB_указание_NOUN': 0.19413012266159058, 'получить_VERB_кредит_NOUN': 0.22588282823562622, 'получить_VERB_отпуск_NOUN': 0.252339243888855, 'получить_VERB_подарок_NOUN': 0.220650315284729, 'получить_VERB_паспорт_NOUN': 0.2395818829536438, 'получить_VERB_лет_NOUN': 0.27839672565460205, 'получить_VERB_должность_NOUN': 0.19252538681030273, 'получить_VERB_сумма_NOUN': 0.19142985343933105, 'получить_VERB_извещение_NOUN': 0.2334975004196167, 'получить_VERB_помощь_NOUN': 0.21441364288330078, 'получить_VERB_прибыль_NOUN': 0.19251185655593872, 'получить_VERB_повестка_NOUN': 0.2388855218887329, 'получить_VERB_рана_NOUN': 0.27398544549942017, 'получить_VERB_материал_NOUN': 0.1856914758682251, 'получить_VERB_шанс_NOUN': 0.23541611433029175, 'получить_VERB_лицо_NOUN': 0.2352982759475708, 'получить_VERB_благословение_NOUN': 0.21772092580795288, 'получить_VERB_уведомление_NOUN': 0.20611613988876343, 'получить_VERB_надежда_NOUN': 0.2616962194442749, 'получить_VERB_книга_NOUN': 0.21951186656951904, 'получить_VERB_знание_NOUN': 0.17113620042800903, 'получить_VERB_известность_NOUN': 0.19618552923202515, 'получить_VERB_часть_NOUN': 0.19447070360183716, 'получить_VERB_отец_NOUN': 0.22650283575057983, 'получить_VERB_число_NOUN': 0.13933289051055908, 'получить_VERB_анализ_NOUN': 0.1751997470855713, 'получить_VERB_предписание_NOUN': 0.19911718368530273, 'получить_VERB_пуля_NOUN': 0.268898606300354, 'получить_VERB_желание_NOUN': 0.24019283056259155, 'получить_VERB_наименование_NOUN': 0.1595936417579651, 'получить_VERB_пропуск_NOUN': 0.2451501488685608, 'получить_VERB_донесение_NOUN': 0.23279547691345215, 'получить_VERB_оценка_NOUN': 0.14745259284973145, 'получить_VERB_титул_NOUN': 0.19023281335830688, 'получить_VERB_масса_NOUN': 0.19208019971847534, 'получить_VERB_земля_NOUN': 0.2344784140586853, 'получить_VERB_выговор_NOUN': 0.22566205263137817, 'получить_VERB_гонорар_NOUN': 0.21340858936309814, 'получить_VERB_ребенок_NOUN': 0.22789734601974487, 'получить_VERB_расчет_NOUN': 0.19584298133850098, 'получить_VERB_патент_NOUN': 0.1889359951019287, 'получить_VERB_слово_NOUN': 0.21152746677398682, 'получить_VERB_прощение_NOUN': 0.24438214302062988, 'получить_VERB_медаль_NOUN': 0.2242758870124817, 'получить_VERB_компания_NOUN': 0.22445547580718994, 'получить_VERB_дело_NOUN': 0.21976333856582642, 'получить_VERB_документ_NOUN': 0.2114875316619873, 'получить_VERB_степень_NOUN': 0.18887633085250854, 'получить_VERB_отставка_NOUN': 0.2363961935043335, 'получить_VERB_представление_NOUN': 0.1696295142173767, 'получить_VERB_продукт_NOUN': 0.22015583515167236, 'получить_VERB_доход_NOUN': 0.19731420278549194, 'получить_VERB_армия_NOUN': 0.19402843713760376, 'получить_VERB_машина_NOUN': 0.24868178367614746, 'получить_VERB_распоряжение_NOUN': 0.19649606943130493, 'получить_VERB_свидетельство_NOUN': 0.19715118408203125, 'получить_VERB_москва_NOUN': 0.24851608276367188, 'получить_VERB_виза_NOUN': 0.238203763961792, 'получить_VERB_аттестат_NOUN': 0.19000905752182007, 'получить_VERB_формула_NOUN': 0.18714606761932373, 'получить_VERB_сертификат_NOUN': 0.19308429956436157, 'получить_VERB_компенсация_NOUN': 0.20516127347946167, 'получить_VERB_указ_NOUN': 0.20282727479934692, 'получить_VERB_вопрос_NOUN': 0.20317214727401733, 'получить_VERB_зарплата_NOUN': 0.19608819484710693, 'получить_VERB_срок_NOUN': 0.21626508235931396, 'получить_VERB_благодарность_NOUN': 0.23384475708007812, 'получить_VERB_жалование_NOUN': 0.20808416604995728, 'получить_VERB_удовлетворение_NOUN': 0.2365296483039856, 'получить_VERB_средство_NOUN': 0.21110385656356812, 'получить_VERB_справка_NOUN': 0.21678954362869263, 'получить_VERB_честь_NOUN': 0.22474026679992676, 'получить_VERB_ряд_NOUN': 0.21451044082641602, 'получить_VERB_страна_NOUN': 0.18741267919540405, 'получить_VERB_дар_NOUN': 0.23948335647583008, 'получить_VERB_средства_NOUN': 0.20395469665527344, 'получить_VERB_повышение_NOUN': 0.19332599639892578, 'получить_VERB_позволение_NOUN': 0.24853909015655518, 'получить_VERB_характер_NOUN': 0.1991358995437622, 'получить_VERB_пятерка_NOUN': 0.2158796787261963, 'получить_VERB_большинство_NOUN': 0.17067909240722656, 'получить_VERB_система_NOUN': 0.17107105255126953, 'получить_VERB_направление_NOUN': 0.208879292011261, 'получить_VERB_пенсия_NOUN': 0.2075110673904419, 'получить_VERB_множество_NOUN': 0.21555501222610474, 'получить_VERB_совет_NOUN': 0.21305608749389648}\n",
            "{'получить_VERB_письмо_NOUN': 0.09888988733291626, 'получить_VERB_возможность_NOUN': 0.2626909017562866, 'получить_VERB_ответ_NOUN': 0.1803969144821167, 'получить_VERB_название_NOUN': 0.2672908902168274, 'получить_VERB_деньги_NOUN': 0.22692614793777466, 'получить_VERB_известие_NOUN': 0.13720935583114624, 'получить_VERB_результат_NOUN': 0.2041689157485962, 'получить_VERB_разрешение_NOUN': 0.22139525413513184, 'получить_VERB_телеграмма_NOUN': 0.09307640790939331, 'получить_VERB_приглашение_NOUN': 0.17543011903762817, 'получить_VERB_место_NOUN': 0.263557493686676, 'получить_VERB_сведение_NOUN': 0.12360459566116333, 'получить_VERB_информация_NOUN': 0.130204975605011, 'получить_VERB_приказ_NOUN': 0.17233014106750488, 'получить_VERB_данные_NOUN': 0.13235199451446533, 'получить_VERB_образование_NOUN': 0.23754477500915527, 'получить_VERB_человек_NOUN': 0.26657700538635254, 'получить_VERB_отказ_NOUN': 0.24065876007080078, 'получить_VERB_звание_NOUN': 0.22282540798187256, 'получить_VERB_диплом_NOUN': 0.1905452013015747, 'получить_VERB_право_NOUN': 0.24803006649017334, 'получить_VERB_назначение_NOUN': 0.2226136326789856, 'получить_VERB_приказание_NOUN': 0.2020455002784729, 'получить_VERB_распространение_NOUN': 0.2509068250656128, 'получить_VERB_удовольствие_NOUN': 0.27049267292022705, 'получить_VERB_награда_NOUN': 0.20511627197265625, 'получить_VERB_премия_NOUN': 0.23608160018920898, 'получить_VERB_время_NOUN': 0.26163172721862793, 'получить_VERB_год_NOUN': 0.24597138166427612, 'получить_VERB_развитие_NOUN': 0.2719005346298218, 'получить_VERB_согласие_NOUN': 0.22702038288116455, 'получить_VERB_работа_NOUN': 0.22607547044754028, 'получить_VERB_задание_NOUN': 0.18145322799682617, 'получить_VERB_свобода_NOUN': 0.3005143404006958, 'получить_VERB_ранение_NOUN': 0.19652986526489258, 'получить_VERB_доступ_NOUN': 0.24512630701065063, 'получить_VERB_сообщение_NOUN': 0.10331875085830688, 'получить_VERB_приз_NOUN': 0.2329128384590149, 'получить_VERB_имя_NOUN': 0.2446422576904297, 'получить_VERB_квартира_NOUN': 0.248437762260437, 'получить_VERB_орден_NOUN': 0.2458282709121704, 'получить_VERB_россия_NOUN': 0.28691565990448, 'получить_VERB_наследство_NOUN': 0.21150362491607666, 'получить_VERB_значение_NOUN': 0.272067666053772, 'получить_VERB_поддержка_NOUN': 0.24661463499069214, 'получить_VERB_задача_NOUN': 0.25093966722488403, 'получить_VERB_статус_NOUN': 0.2369861602783203, 'получить_VERB_признание_NOUN': 0.20540934801101685, 'получить_VERB_одобрение_NOUN': 0.23833459615707397, 'получить_VERB_власть_NOUN': 0.26635807752609253, 'получить_VERB_записка_NOUN': 0.1413668394088745, 'получить_VERB_чин_NOUN': 0.24566185474395752, 'получить_VERB_заказ_NOUN': 0.2098466157913208, 'получить_VERB_удар_NOUN': 0.21157926321029663, 'получить_VERB_жизнь_NOUN': 0.27869415283203125, 'получить_VERB_лицензия_NOUN': 0.21490275859832764, 'получить_VERB_предложение_NOUN': 0.2002519965171814, 'получить_VERB_день_NOUN': 0.24932575225830078, 'получить_VERB_билет_NOUN': 0.22233664989471436, 'получить_VERB_воспитание_NOUN': 0.26399385929107666, 'получить_VERB_бумага_NOUN': 0.18000465631484985, 'получить_VERB_подтверждение_NOUN': 0.21090948581695557, 'получить_VERB_повеление_NOUN': 0.2137855887413025, 'получить_VERB_травма_NOUN': 0.22510391473770142, 'получить_VERB_указание_NOUN': 0.1749374270439148, 'получить_VERB_кредит_NOUN': 0.24908632040023804, 'получить_VERB_отпуск_NOUN': 0.24659103155136108, 'получить_VERB_подарок_NOUN': 0.1973169445991516, 'получить_VERB_паспорт_NOUN': 0.1846245527267456, 'получить_VERB_лет_NOUN': 0.3035721182823181, 'получить_VERB_должность_NOUN': 0.22726917266845703, 'получить_VERB_сумма_NOUN': 0.21737760305404663, 'получить_VERB_извещение_NOUN': 0.09857374429702759, 'получить_VERB_помощь_NOUN': 0.23596596717834473, 'получить_VERB_прибыль_NOUN': 0.223638117313385, 'получить_VERB_повестка_NOUN': 0.17371803522109985, 'получить_VERB_рана_NOUN': 0.2401527762413025, 'получить_VERB_материал_NOUN': 0.20207524299621582, 'получить_VERB_шанс_NOUN': 0.28046298027038574, 'получить_VERB_лицо_NOUN': 0.25481992959976196, 'получить_VERB_благословение_NOUN': 0.2211899757385254, 'получить_VERB_уведомление_NOUN': 0.09965360164642334, 'получить_VERB_надежда_NOUN': 0.2904338836669922, 'получить_VERB_книга_NOUN': 0.213886559009552, 'получить_VERB_знание_NOUN': 0.23193806409835815, 'получить_VERB_известность_NOUN': 0.22213518619537354, 'получить_VERB_часть_NOUN': 0.26617640256881714, 'получить_VERB_отец_NOUN': 0.24053972959518433, 'получить_VERB_число_NOUN': 0.2276114821434021, 'получить_VERB_анализ_NOUN': 0.22080397605895996, 'получить_VERB_предписание_NOUN': 0.17643272876739502, 'получить_VERB_пуля_NOUN': 0.23788237571716309, 'получить_VERB_желание_NOUN': 0.2908480167388916, 'получить_VERB_наименование_NOUN': 0.22886216640472412, 'получить_VERB_пропуск_NOUN': 0.23496049642562866, 'получить_VERB_донесение_NOUN': 0.10816240310668945, 'получить_VERB_оценка_NOUN': 0.21819078922271729, 'получить_VERB_титул_NOUN': 0.2199774980545044, 'получить_VERB_масса_NOUN': 0.30203497409820557, 'получить_VERB_земля_NOUN': 0.2663151025772095, 'получить_VERB_выговор_NOUN': 0.21776801347732544, 'получить_VERB_гонорар_NOUN': 0.22652482986450195, 'получить_VERB_ребенок_NOUN': 0.2626245617866516, 'получить_VERB_расчет_NOUN': 0.24408411979675293, 'получить_VERB_патент_NOUN': 0.19976520538330078, 'получить_VERB_слово_NOUN': 0.24566876888275146, 'получить_VERB_прощение_NOUN': 0.24473446607589722, 'получить_VERB_медаль_NOUN': 0.2387150526046753, 'получить_VERB_компания_NOUN': 0.2706669569015503, 'получить_VERB_дело_NOUN': 0.24988770484924316, 'получить_VERB_документ_NOUN': 0.11926668882369995, 'получить_VERB_степень_NOUN': 0.2679252028465271, 'получить_VERB_отставка_NOUN': 0.22550815343856812, 'получить_VERB_представление_NOUN': 0.24553054571151733, 'получить_VERB_продукт_NOUN': 0.2645094394683838, 'получить_VERB_доход_NOUN': 0.24334383010864258, 'получить_VERB_армия_NOUN': 0.24787753820419312, 'получить_VERB_машина_NOUN': 0.27347493171691895, 'получить_VERB_распоряжение_NOUN': 0.17581439018249512, 'получить_VERB_свидетельство_NOUN': 0.17759597301483154, 'получить_VERB_москва_NOUN': 0.2982579469680786, 'получить_VERB_виза_NOUN': 0.2036948800086975, 'получить_VERB_аттестат_NOUN': 0.1785813570022583, 'получить_VERB_формула_NOUN': 0.2632964849472046, 'получить_VERB_сертификат_NOUN': 0.18690478801727295, 'получить_VERB_компенсация_NOUN': 0.22828805446624756, 'получить_VERB_указ_NOUN': 0.18634068965911865, 'получить_VERB_вопрос_NOUN': 0.22612130641937256, 'получить_VERB_зарплата_NOUN': 0.2360740303993225, 'получить_VERB_срок_NOUN': 0.24027031660079956, 'получить_VERB_благодарность_NOUN': 0.24791330099105835, 'получить_VERB_жалование_NOUN': 0.2255144715309143, 'получить_VERB_удовлетворение_NOUN': 0.26635390520095825, 'получить_VERB_средство_NOUN': 0.2681877017021179, 'получить_VERB_справка_NOUN': 0.13569337129592896, 'получить_VERB_честь_NOUN': 0.2680057883262634, 'получить_VERB_ряд_NOUN': 0.29783666133880615, 'получить_VERB_страна_NOUN': 0.2857667803764343, 'получить_VERB_дар_NOUN': 0.26032376289367676, 'получить_VERB_средства_NOUN': 0.25457191467285156, 'получить_VERB_повышение_NOUN': 0.26783502101898193, 'получить_VERB_позволение_NOUN': 0.26407021284103394, 'получить_VERB_характер_NOUN': 0.27365344762802124, 'получить_VERB_пятерка_NOUN': 0.24737459421157837, 'получить_VERB_большинство_NOUN': 0.27124500274658203, 'получить_VERB_система_NOUN': 0.2784891128540039, 'получить_VERB_направление_NOUN': 0.27064549922943115, 'получить_VERB_пенсия_NOUN': 0.22232729196548462, 'получить_VERB_множество_NOUN': 0.3065309524536133, 'получить_VERB_совет_NOUN': 0.23523300886154175}\n",
            "{'получить_VERB_письмо_NOUN': 0.24307948350906372, 'получить_VERB_возможность_NOUN': 0.2300921082496643, 'получить_VERB_ответ_NOUN': 0.23171228170394897, 'получить_VERB_название_NOUN': 0.2788996696472168, 'получить_VERB_деньги_NOUN': 0.11738079786300659, 'получить_VERB_известие_NOUN': 0.26008498668670654, 'получить_VERB_результат_NOUN': 0.2093738317489624, 'получить_VERB_разрешение_NOUN': 0.22759932279586792, 'получить_VERB_телеграмма_NOUN': 0.24541723728179932, 'получить_VERB_приглашение_NOUN': 0.24202221632003784, 'получить_VERB_место_NOUN': 0.2616651654243469, 'получить_VERB_сведение_NOUN': 0.23752117156982422, 'получить_VERB_информация_NOUN': 0.22995930910110474, 'получить_VERB_приказ_NOUN': 0.23899275064468384, 'получить_VERB_данные_NOUN': 0.22793400287628174, 'получить_VERB_образование_NOUN': 0.21455872058868408, 'получить_VERB_человек_NOUN': 0.26966047286987305, 'получить_VERB_отказ_NOUN': 0.2509611248970032, 'получить_VERB_звание_NOUN': 0.2056754231452942, 'получить_VERB_диплом_NOUN': 0.19684982299804688, 'получить_VERB_право_NOUN': 0.21993333101272583, 'получить_VERB_назначение_NOUN': 0.24079203605651855, 'получить_VERB_приказание_NOUN': 0.25420331954956055, 'получить_VERB_распространение_NOUN': 0.2757406234741211, 'получить_VERB_удовольствие_NOUN': 0.2602670192718506, 'получить_VERB_награда_NOUN': 0.16220182180404663, 'получить_VERB_премия_NOUN': 0.14006078243255615, 'получить_VERB_время_NOUN': 0.26150596141815186, 'получить_VERB_год_NOUN': 0.22194355726242065, 'получить_VERB_развитие_NOUN': 0.2537515163421631, 'получить_VERB_согласие_NOUN': 0.2484341859817505, 'получить_VERB_работа_NOUN': 0.21613377332687378, 'получить_VERB_задание_NOUN': 0.24083703756332397, 'получить_VERB_свобода_NOUN': 0.2611645460128784, 'получить_VERB_ранение_NOUN': 0.2525867223739624, 'получить_VERB_доступ_NOUN': 0.2474154829978943, 'получить_VERB_сообщение_NOUN': 0.2745491862297058, 'получить_VERB_приз_NOUN': 0.17528873682022095, 'получить_VERB_имя_NOUN': 0.2716304659843445, 'получить_VERB_квартира_NOUN': 0.22131890058517456, 'получить_VERB_орден_NOUN': 0.23780953884124756, 'получить_VERB_россия_NOUN': 0.2602205276489258, 'получить_VERB_наследство_NOUN': 0.16338616609573364, 'получить_VERB_значение_NOUN': 0.2677409052848816, 'получить_VERB_поддержка_NOUN': 0.22476422786712646, 'получить_VERB_задача_NOUN': 0.267569363117218, 'получить_VERB_статус_NOUN': 0.20891106128692627, 'получить_VERB_признание_NOUN': 0.23071140050888062, 'получить_VERB_одобрение_NOUN': 0.2639169692993164, 'получить_VERB_власть_NOUN': 0.2498091459274292, 'получить_VERB_записка_NOUN': 0.2650865912437439, 'получить_VERB_чин_NOUN': 0.21854537725448608, 'получить_VERB_заказ_NOUN': 0.20702672004699707, 'получить_VERB_удар_NOUN': 0.26954448223114014, 'получить_VERB_жизнь_NOUN': 0.25016283988952637, 'получить_VERB_лицензия_NOUN': 0.18294531106948853, 'получить_VERB_предложение_NOUN': 0.23762625455856323, 'получить_VERB_день_NOUN': 0.2552264332771301, 'получить_VERB_билет_NOUN': 0.22349023818969727, 'получить_VERB_воспитание_NOUN': 0.2508070468902588, 'получить_VERB_бумага_NOUN': 0.26238036155700684, 'получить_VERB_подтверждение_NOUN': 0.2588962912559509, 'получить_VERB_повеление_NOUN': 0.2564314603805542, 'получить_VERB_травма_NOUN': 0.24907845258712769, 'получить_VERB_указание_NOUN': 0.2433534860610962, 'получить_VERB_кредит_NOUN': 0.12549680471420288, 'получить_VERB_отпуск_NOUN': 0.18157941102981567, 'получить_VERB_подарок_NOUN': 0.20219844579696655, 'получить_VERB_паспорт_NOUN': 0.2310882806777954, 'получить_VERB_лет_NOUN': 0.27922654151916504, 'получить_VERB_должность_NOUN': 0.1773807406425476, 'получить_VERB_сумма_NOUN': 0.10424232482910156, 'получить_VERB_извещение_NOUN': 0.21811050176620483, 'получить_VERB_помощь_NOUN': 0.24841594696044922, 'получить_VERB_прибыль_NOUN': 0.11241757869720459, 'получить_VERB_повестка_NOUN': 0.24612301588058472, 'получить_VERB_рана_NOUN': 0.2952967882156372, 'получить_VERB_материал_NOUN': 0.2525087594985962, 'получить_VERB_шанс_NOUN': 0.24129259586334229, 'получить_VERB_лицо_NOUN': 0.2872575521469116, 'получить_VERB_благословение_NOUN': 0.22780519723892212, 'получить_VERB_уведомление_NOUN': 0.21538472175598145, 'получить_VERB_надежда_NOUN': 0.28565919399261475, 'получить_VERB_книга_NOUN': 0.2556072473526001, 'получить_VERB_знание_NOUN': 0.2506863474845886, 'получить_VERB_известность_NOUN': 0.223008930683136, 'получить_VERB_часть_NOUN': 0.24698269367218018, 'получить_VERB_отец_NOUN': 0.25075751543045044, 'получить_VERB_число_NOUN': 0.20476692914962769, 'получить_VERB_анализ_NOUN': 0.2614280581474304, 'получить_VERB_предписание_NOUN': 0.22790288925170898, 'получить_VERB_пуля_NOUN': 0.29377102851867676, 'получить_VERB_желание_NOUN': 0.2750035524368286, 'получить_VERB_наименование_NOUN': 0.2571983337402344, 'получить_VERB_пропуск_NOUN': 0.2530554533004761, 'получить_VERB_донесение_NOUN': 0.2707180380821228, 'получить_VERB_оценка_NOUN': 0.21989285945892334, 'получить_VERB_титул_NOUN': 0.20780164003372192, 'получить_VERB_масса_NOUN': 0.2749828100204468, 'получить_VERB_земля_NOUN': 0.25799208879470825, 'получить_VERB_выговор_NOUN': 0.21860063076019287, 'получить_VERB_гонорар_NOUN': 0.08355379104614258, 'получить_VERB_ребенок_NOUN': 0.23808395862579346, 'получить_VERB_расчет_NOUN': 0.24885857105255127, 'получить_VERB_патент_NOUN': 0.18043464422225952, 'получить_VERB_слово_NOUN': 0.2708269953727722, 'получить_VERB_прощение_NOUN': 0.24908965826034546, 'получить_VERB_медаль_NOUN': 0.23404604196548462, 'получить_VERB_компания_NOUN': 0.22910332679748535, 'получить_VERB_дело_NOUN': 0.26432204246520996, 'получить_VERB_документ_NOUN': 0.229448139667511, 'получить_VERB_степень_NOUN': 0.24400222301483154, 'получить_VERB_отставка_NOUN': 0.22171682119369507, 'получить_VERB_представление_NOUN': 0.25437331199645996, 'получить_VERB_продукт_NOUN': 0.21634280681610107, 'получить_VERB_доход_NOUN': 0.10778307914733887, 'получить_VERB_армия_NOUN': 0.24885988235473633, 'получить_VERB_машина_NOUN': 0.27179938554763794, 'получить_VERB_распоряжение_NOUN': 0.20868337154388428, 'получить_VERB_свидетельство_NOUN': 0.254041850566864, 'получить_VERB_москва_NOUN': 0.2895321846008301, 'получить_VERB_виза_NOUN': 0.2074161171913147, 'получить_VERB_аттестат_NOUN': 0.1878764033317566, 'получить_VERB_формула_NOUN': 0.26820212602615356, 'получить_VERB_сертификат_NOUN': 0.18208247423171997, 'получить_VERB_компенсация_NOUN': 0.11483544111251831, 'получить_VERB_указ_NOUN': 0.22464042901992798, 'получить_VERB_вопрос_NOUN': 0.2577178478240967, 'получить_VERB_зарплата_NOUN': 0.07714730501174927, 'получить_VERB_срок_NOUN': 0.18598812818527222, 'получить_VERB_благодарность_NOUN': 0.23523461818695068, 'получить_VERB_жалование_NOUN': 0.08979219198226929, 'получить_VERB_удовлетворение_NOUN': 0.24258315563201904, 'получить_VERB_средство_NOUN': 0.19209665060043335, 'получить_VERB_справка_NOUN': 0.22318828105926514, 'получить_VERB_честь_NOUN': 0.25578898191452026, 'получить_VERB_ряд_NOUN': 0.30867570638656616, 'получить_VERB_страна_NOUN': 0.242229163646698, 'получить_VERB_дар_NOUN': 0.2544362545013428, 'получить_VERB_средства_NOUN': 0.14065200090408325, 'получить_VERB_повышение_NOUN': 0.21507591009140015, 'получить_VERB_позволение_NOUN': 0.25911635160446167, 'получить_VERB_характер_NOUN': 0.2906036972999573, 'получить_VERB_пятерка_NOUN': 0.2383231520652771, 'получить_VERB_большинство_NOUN': 0.2542177438735962, 'получить_VERB_система_NOUN': 0.26237332820892334, 'получить_VERB_направление_NOUN': 0.29699158668518066, 'получить_VERB_пенсия_NOUN': 0.1024324893951416, 'получить_VERB_множество_NOUN': 0.32250887155532837, 'получить_VERB_совет_NOUN': 0.24540185928344727}\n",
            "{'получить_VERB_письмо_NOUN': 0.21067297458648682, 'получить_VERB_возможность_NOUN': 0.22611254453659058, 'получить_VERB_ответ_NOUN': 0.2125796675682068, 'получить_VERB_название_NOUN': 0.2413773536682129, 'получить_VERB_деньги_NOUN': 0.2072327733039856, 'получить_VERB_известие_NOUN': 0.2267930507659912, 'получить_VERB_результат_NOUN': 0.20340031385421753, 'получить_VERB_разрешение_NOUN': 0.19447654485702515, 'получить_VERB_телеграмма_NOUN': 0.20605683326721191, 'получить_VERB_приглашение_NOUN': 0.191444993019104, 'получить_VERB_место_NOUN': 0.23011267185211182, 'получить_VERB_сведение_NOUN': 0.2092914581298828, 'получить_VERB_информация_NOUN': 0.2193922996520996, 'получить_VERB_приказ_NOUN': 0.19739025831222534, 'получить_VERB_данные_NOUN': 0.20155024528503418, 'получить_VERB_образование_NOUN': 0.19029730558395386, 'получить_VERB_человек_NOUN': 0.25413310527801514, 'получить_VERB_отказ_NOUN': 0.23157566785812378, 'получить_VERB_звание_NOUN': 0.11817973852157593, 'получить_VERB_диплом_NOUN': 0.10315215587615967, 'получить_VERB_право_NOUN': 0.16529321670532227, 'получить_VERB_назначение_NOUN': 0.2067698836326599, 'получить_VERB_приказание_NOUN': 0.22149121761322021, 'получить_VERB_распространение_NOUN': 0.26234322786331177, 'получить_VERB_удовольствие_NOUN': 0.2447095513343811, 'получить_VERB_награда_NOUN': 0.10812932252883911, 'получить_VERB_премия_NOUN': 0.14471417665481567, 'получить_VERB_время_NOUN': 0.2667059898376465, 'получить_VERB_год_NOUN': 0.22315049171447754, 'получить_VERB_развитие_NOUN': 0.2516603469848633, 'получить_VERB_согласие_NOUN': 0.21772009134292603, 'получить_VERB_работа_NOUN': 0.22731459140777588, 'получить_VERB_задание_NOUN': 0.1974537968635559, 'получить_VERB_свобода_NOUN': 0.23132789134979248, 'получить_VERB_ранение_NOUN': 0.18147379159927368, 'получить_VERB_доступ_NOUN': 0.20655441284179688, 'получить_VERB_сообщение_NOUN': 0.23430979251861572, 'получить_VERB_приз_NOUN': 0.14069581031799316, 'получить_VERB_имя_NOUN': 0.22063720226287842, 'получить_VERB_квартира_NOUN': 0.23134827613830566, 'получить_VERB_орден_NOUN': 0.15389090776443481, 'получить_VERB_россия_NOUN': 0.24960589408874512, 'получить_VERB_наследство_NOUN': 0.1722468137741089, 'получить_VERB_значение_NOUN': 0.24439150094985962, 'получить_VERB_поддержка_NOUN': 0.2275475263595581, 'получить_VERB_задача_NOUN': 0.2446466088294983, 'получить_VERB_статус_NOUN': 0.14946407079696655, 'получить_VERB_признание_NOUN': 0.1973840594291687, 'получить_VERB_одобрение_NOUN': 0.21789288520812988, 'получить_VERB_власть_NOUN': 0.23467564582824707, 'получить_VERB_записка_NOUN': 0.2325308918952942, 'получить_VERB_чин_NOUN': 0.15729761123657227, 'получить_VERB_заказ_NOUN': 0.21671181917190552, 'получить_VERB_удар_NOUN': 0.23701047897338867, 'получить_VERB_жизнь_NOUN': 0.24766987562179565, 'получить_VERB_лицензия_NOUN': 0.1326161026954651, 'получить_VERB_предложение_NOUN': 0.23352253437042236, 'получить_VERB_день_NOUN': 0.24212318658828735, 'получить_VERB_билет_NOUN': 0.1721872091293335, 'получить_VERB_воспитание_NOUN': 0.23541569709777832, 'получить_VERB_бумага_NOUN': 0.23021888732910156, 'получить_VERB_подтверждение_NOUN': 0.2143269181251526, 'получить_VERB_повеление_NOUN': 0.21495676040649414, 'получить_VERB_травма_NOUN': 0.19764870405197144, 'получить_VERB_указание_NOUN': 0.19916164875030518, 'получить_VERB_кредит_NOUN': 0.2035478949546814, 'получить_VERB_отпуск_NOUN': 0.20994532108306885, 'получить_VERB_подарок_NOUN': 0.17911869287490845, 'получить_VERB_паспорт_NOUN': 0.14928042888641357, 'получить_VERB_лет_NOUN': 0.29001569747924805, 'получить_VERB_должность_NOUN': 0.1502774953842163, 'получить_VERB_сумма_NOUN': 0.1975039839744568, 'получить_VERB_извещение_NOUN': 0.19338905811309814, 'получить_VERB_помощь_NOUN': 0.24755316972732544, 'получить_VERB_прибыль_NOUN': 0.19240939617156982, 'получить_VERB_повестка_NOUN': 0.21737903356552124, 'получить_VERB_рана_NOUN': 0.24737977981567383, 'получить_VERB_материал_NOUN': 0.2408677339553833, 'получить_VERB_шанс_NOUN': 0.23094552755355835, 'получить_VERB_лицо_NOUN': 0.2493003010749817, 'получить_VERB_благословение_NOUN': 0.18855518102645874, 'получить_VERB_уведомление_NOUN': 0.17906099557876587, 'получить_VERB_надежда_NOUN': 0.2644042372703552, 'получить_VERB_книга_NOUN': 0.22449445724487305, 'получить_VERB_знание_NOUN': 0.21728527545928955, 'получить_VERB_известность_NOUN': 0.20193302631378174, 'получить_VERB_часть_NOUN': 0.25157999992370605, 'получить_VERB_отец_NOUN': 0.22733354568481445, 'получить_VERB_число_NOUN': 0.21033775806427002, 'получить_VERB_анализ_NOUN': 0.24142956733703613, 'получить_VERB_предписание_NOUN': 0.17978233098983765, 'получить_VERB_пуля_NOUN': 0.24914705753326416, 'получить_VERB_желание_NOUN': 0.2599613070487976, 'получить_VERB_наименование_NOUN': 0.20046263933181763, 'получить_VERB_пропуск_NOUN': 0.16786658763885498, 'получить_VERB_донесение_NOUN': 0.2291458249092102, 'получить_VERB_оценка_NOUN': 0.19838827848434448, 'получить_VERB_титул_NOUN': 0.125760018825531, 'получить_VERB_масса_NOUN': 0.29095083475112915, 'получить_VERB_земля_NOUN': 0.25226300954818726, 'получить_VERB_выговор_NOUN': 0.17549288272857666, 'получить_VERB_гонорар_NOUN': 0.17064130306243896, 'получить_VERB_ребенок_NOUN': 0.22737181186676025, 'получить_VERB_расчет_NOUN': 0.24965018033981323, 'получить_VERB_патент_NOUN': 0.12955981492996216, 'получить_VERB_слово_NOUN': 0.2487490177154541, 'получить_VERB_прощение_NOUN': 0.21834802627563477, 'получить_VERB_медаль_NOUN': 0.1442263126373291, 'получить_VERB_компания_NOUN': 0.2448195219039917, 'получить_VERB_дело_NOUN': 0.24745339155197144, 'получить_VERB_документ_NOUN': 0.15817993879318237, 'получить_VERB_степень_NOUN': 0.21996033191680908, 'получить_VERB_отставка_NOUN': 0.20621180534362793, 'получить_VERB_представление_NOUN': 0.22116035223007202, 'получить_VERB_продукт_NOUN': 0.24006885290145874, 'получить_VERB_доход_NOUN': 0.19431638717651367, 'получить_VERB_армия_NOUN': 0.23548191785812378, 'получить_VERB_машина_NOUN': 0.2570194602012634, 'получить_VERB_распоряжение_NOUN': 0.19460874795913696, 'получить_VERB_свидетельство_NOUN': 0.17172640562057495, 'получить_VERB_москва_NOUN': 0.27583903074264526, 'получить_VERB_виза_NOUN': 0.1549915075302124, 'получить_VERB_аттестат_NOUN': 0.11014378070831299, 'получить_VERB_формула_NOUN': 0.247144877910614, 'получить_VERB_сертификат_NOUN': 0.10768228769302368, 'получить_VERB_компенсация_NOUN': 0.18783843517303467, 'получить_VERB_указ_NOUN': 0.18046391010284424, 'получить_VERB_вопрос_NOUN': 0.23906731605529785, 'получить_VERB_зарплата_NOUN': 0.17353343963623047, 'получить_VERB_срок_NOUN': 0.22353976964950562, 'получить_VERB_благодарность_NOUN': 0.21288985013961792, 'получить_VERB_жалование_NOUN': 0.16434943675994873, 'получить_VERB_удовлетворение_NOUN': 0.248416006565094, 'получить_VERB_средство_NOUN': 0.2500573396682739, 'получить_VERB_справка_NOUN': 0.179171621799469, 'получить_VERB_честь_NOUN': 0.2141251564025879, 'получить_VERB_ряд_NOUN': 0.26549065113067627, 'получить_VERB_страна_NOUN': 0.2528751492500305, 'получить_VERB_дар_NOUN': 0.2001197338104248, 'получить_VERB_средства_NOUN': 0.23377418518066406, 'получить_VERB_повышение_NOUN': 0.23820346593856812, 'получить_VERB_позволение_NOUN': 0.24074828624725342, 'получить_VERB_характер_NOUN': 0.2494524121284485, 'получить_VERB_пятерка_NOUN': 0.18971306085586548, 'получить_VERB_большинство_NOUN': 0.25264793634414673, 'получить_VERB_система_NOUN': 0.2502148151397705, 'получить_VERB_направление_NOUN': 0.26058197021484375, 'получить_VERB_пенсия_NOUN': 0.1687367558479309, 'получить_VERB_множество_NOUN': 0.2889835238456726, 'получить_VERB_совет_NOUN': 0.21866768598556519}\n"
          ],
          "name": "stdout"
        }
      ]
    },
    {
      "cell_type": "code",
      "metadata": {
        "id": "xcq6dqSVYA6c",
        "colab_type": "code",
        "outputId": "c4f97584-b498-4fcf-f76f-e7aaa99c5bff",
        "colab": {
          "base_uri": "https://localhost:8080/",
          "height": 139
        }
      },
      "source": [
        "# получение 3 слов\n",
        "for_km2 = []\n",
        "for slv in for_km1:\n",
        "    fin_clas1 = {}\n",
        "    for i in range(3):\n",
        "        min_val1 = min(slv.values())\n",
        "        for k, v in slv.items():\n",
        "            if v == min_val1:\n",
        "                k1 = k\n",
        "        del slv[k1]\n",
        "        fin_clas1[k1] = min_val1\n",
        "    for_km2.append(fin_clas1)\n",
        "\n",
        "for r in for_km2:\n",
        "    print(r)"
      ],
      "execution_count": 35,
      "outputs": [
        {
          "output_type": "stream",
          "text": [
            "{'получить_VERB_год_NOUN': 0.13394737243652344, 'получить_VERB_человек_NOUN': 0.140627920627594, 'получить_VERB_день_NOUN': 0.14217650890350342}\n",
            "{'получить_VERB_указание_NOUN': 0.11921632289886475, 'получить_VERB_распоряжение_NOUN': 0.12433332204818726, 'получить_VERB_приказ_NOUN': 0.12497490644454956}\n",
            "{'получить_VERB_образование_NOUN': 0.13784074783325195, 'получить_VERB_число_NOUN': 0.13933289051055908, 'получить_VERB_оценка_NOUN': 0.14745259284973145}\n",
            "{'получить_VERB_телеграмма_NOUN': 0.09307640790939331, 'получить_VERB_извещение_NOUN': 0.09857374429702759, 'получить_VERB_письмо_NOUN': 0.09888988733291626}\n",
            "{'получить_VERB_зарплата_NOUN': 0.07714730501174927, 'получить_VERB_гонорар_NOUN': 0.08355379104614258, 'получить_VERB_жалование_NOUN': 0.08979219198226929}\n",
            "{'получить_VERB_диплом_NOUN': 0.10315215587615967, 'получить_VERB_сертификат_NOUN': 0.10768228769302368, 'получить_VERB_награда_NOUN': 0.10812932252883911}\n"
          ],
          "name": "stdout"
        }
      ]
    },
    {
      "cell_type": "markdown",
      "metadata": {
        "id": "_zdFfZWcHpTT",
        "colab_type": "text"
      },
      "source": [
        "#### Для иерархической кластеризации"
      ]
    },
    {
      "cell_type": "code",
      "metadata": {
        "id": "Z3voAbTq517O",
        "colab_type": "code",
        "colab": {}
      },
      "source": [
        "# матрицы каждого кластера\n",
        "fi_ir1 = np.array([v for k, v in ind_cl1.items()])\n",
        "fi_ir2 = np.array([v for k, v in ind_cl2.items()])\n",
        "fi_ir3 = np.array([v for k, v in ind_cl3.items()])\n",
        "fi_ir4 = np.array([v for k, v in ind_cl4.items()])\n",
        "fi_ir5 = np.array([v for k, v in ind_cl5.items()])\n",
        "fi_ir6 = np.array([v for k, v in ind_cl6.items()])\n",
        "fi_ir7 = np.array([v for k, v in ind_cl7.items()])\n",
        "fi_ir8 = np.array([v for k, v in ind_cl8.items()])\n",
        "fi_ir9 = np.array([v for k, v in ind_cl9.items()])\n",
        "fi_ir10 = np.array([v for k, v in ind_cl10.items()])\n",
        "fi_ir11 = np.array([v for k, v in ind_cl11.items()])\n",
        "fi_ir12 = np.array([v for k, v in ind_cl12.items()])\n",
        "fi_ir13 = np.array([v for k, v in ind_cl13.items()])"
      ],
      "execution_count": 0,
      "outputs": []
    },
    {
      "cell_type": "code",
      "metadata": {
        "id": "KPtloHLx6cHM",
        "colab_type": "code",
        "colab": {}
      },
      "source": [
        "# центр матрицы каждого кластера\n",
        "ir_m1 = np.mean(fi_ir1, axis=0)\n",
        "ir_m2 = np.mean(fi_ir2, axis=0)\n",
        "ir_m3 = np.mean(fi_ir3, axis=0)\n",
        "ir_m4 = np.mean(fi_ir4, axis=0)\n",
        "ir_m5 = np.mean(fi_ir5, axis=0)\n",
        "ir_m6 = np.mean(fi_ir6, axis=0)\n",
        "ir_m7 = np.mean(fi_ir7, axis=0)\n",
        "ir_m8 = np.mean(fi_ir8, axis=0)\n",
        "ir_m9 = np.mean(fi_ir9, axis=0)\n",
        "ir_m10 = np.mean(fi_ir10, axis=0)\n",
        "ir_m11 = np.mean(fi_ir11, axis=0)\n",
        "ir_m12 = np.mean(fi_ir12, axis=0)\n",
        "ir_m13 = np.mean(fi_ir13, axis=0)"
      ],
      "execution_count": 0,
      "outputs": []
    },
    {
      "cell_type": "code",
      "metadata": {
        "id": "SXSt4uzA6ynI",
        "colab_type": "code",
        "colab": {}
      },
      "source": [
        "# расчет косинусной дистанции\n",
        "c_ied1 = {}\n",
        "c_ied2 = {}\n",
        "c_ied3 = {}\n",
        "c_ied4 = {}\n",
        "c_ied5 = {}\n",
        "c_ied6 = {}\n",
        "c_ied7 = {}\n",
        "c_ied8 = {}\n",
        "c_ied9 = {}\n",
        "c_ied10 = {}\n",
        "c_ied11 = {}\n",
        "c_ied12 = {}\n",
        "c_ied13 = {}\n",
        "\n",
        "cier1 = 0\n",
        "for ph in phrase_data:\n",
        "    c_ied1[nms_ph[cier1]] = distance.cosine(ir_m1, ph)\n",
        "    cier1 += 1\n",
        "\n",
        "cier2 = 0\n",
        "for ph in phrase_data:\n",
        "    c_ied2[nms_ph[cier2]] = distance.cosine(ir_m2, ph)\n",
        "    cier2 += 1\n",
        "\n",
        "cier3 = 0\n",
        "for ph in phrase_data:\n",
        "    c_ied3[nms_ph[cier3]] = distance.cosine(ir_m3, ph)\n",
        "    cier3 += 1\n",
        "\n",
        "cier4 = 0\n",
        "for ph in phrase_data:\n",
        "    c_ied4[nms_ph[cier4]] = distance.cosine(ir_m4, ph)\n",
        "    cier4 += 1\n",
        "\n",
        "cier5 = 0\n",
        "for ph in phrase_data:\n",
        "    c_ied5[nms_ph[cier5]] = distance.cosine(ir_m5, ph)\n",
        "    cier5 += 1\n",
        "\n",
        "cier6 = 0\n",
        "for ph in phrase_data:\n",
        "    c_ied6[nms_ph[cier6]] = distance.cosine(ir_m6, ph)\n",
        "    cier6 += 1\n",
        "\n",
        "cier7 = 0\n",
        "for ph in phrase_data:\n",
        "    c_ied7[nms_ph[cier7]] = distance.cosine(ir_m7, ph)\n",
        "    cier7 += 1\n",
        "\n",
        "cier8 = 0\n",
        "for ph in phrase_data:\n",
        "    c_ied8[nms_ph[cier8]] = distance.cosine(ir_m8, ph)\n",
        "    cier8 += 1\n",
        "\n",
        "cier9 = 0\n",
        "for ph in phrase_data:\n",
        "    c_ied9[nms_ph[cier9]] = distance.cosine(ir_m9, ph)\n",
        "    cier9 += 1\n",
        "\n",
        "cier10 = 0\n",
        "for ph in phrase_data:\n",
        "    c_ied10[nms_ph[cier10]] = distance.cosine(ir_m10, ph)\n",
        "    cier10 += 1\n",
        "\n",
        "cier11 = 0\n",
        "for ph in phrase_data:\n",
        "    c_ied11[nms_ph[cier11]] = distance.cosine(ir_m11, ph)\n",
        "    cier11 += 1\n",
        "\n",
        "cier12 = 0\n",
        "for ph in phrase_data:\n",
        "    c_ied12[nms_ph[cier12]] = distance.cosine(ir_m12, ph)\n",
        "    cier12 += 1\n",
        "\n",
        "cier13 = 0\n",
        "for ph in phrase_data:\n",
        "    c_ied13[nms_ph[cier13]] = distance.cosine(ir_m13, ph)\n",
        "    cier13 += 1"
      ],
      "execution_count": 0,
      "outputs": []
    },
    {
      "cell_type": "code",
      "metadata": {
        "id": "9crFaJ2edEmO",
        "colab_type": "code",
        "outputId": "59218761-ee87-4fd1-d089-1112fa9d2f2a",
        "colab": {
          "base_uri": "https://localhost:8080/",
          "height": 258
        }
      },
      "source": [
        "# список словарей\n",
        "nxt_ier1 = []\n",
        "nxt_ier1.append(c_ied1)\n",
        "nxt_ier1.append(c_ied2)\n",
        "nxt_ier1.append(c_ied3)\n",
        "nxt_ier1.append(c_ied4)\n",
        "nxt_ier1.append(c_ied5)\n",
        "nxt_ier1.append(c_ied6)\n",
        "nxt_ier1.append(c_ied7)\n",
        "nxt_ier1.append(c_ied8)\n",
        "nxt_ier1.append(c_ied9)\n",
        "nxt_ier1.append(c_ied10)\n",
        "nxt_ier1.append(c_ied11)\n",
        "nxt_ier1.append(c_ied12)\n",
        "nxt_ier1.append(c_ied13)\n",
        "\n",
        "for e in nxt_ier1:\n",
        "    print(e)"
      ],
      "execution_count": 39,
      "outputs": [
        {
          "output_type": "stream",
          "text": [
            "{'получить_VERB_письмо_NOUN': 0.08784306049346924, 'получить_VERB_возможность_NOUN': 0.2871359586715698, 'получить_VERB_ответ_NOUN': 0.2020406723022461, 'получить_VERB_название_NOUN': 0.2854573726654053, 'получить_VERB_деньги_NOUN': 0.2578994631767273, 'получить_VERB_известие_NOUN': 0.11807560920715332, 'получить_VERB_результат_NOUN': 0.2286747694015503, 'получить_VERB_разрешение_NOUN': 0.24460101127624512, 'получить_VERB_телеграмма_NOUN': 0.0802619457244873, 'получить_VERB_приглашение_NOUN': 0.1820940375328064, 'получить_VERB_место_NOUN': 0.29911452531814575, 'получить_VERB_сведение_NOUN': 0.11136865615844727, 'получить_VERB_информация_NOUN': 0.12229061126708984, 'получить_VERB_приказ_NOUN': 0.1905626654624939, 'получить_VERB_данные_NOUN': 0.13156342506408691, 'получить_VERB_образование_NOUN': 0.2683224081993103, 'получить_VERB_человек_NOUN': 0.2988961935043335, 'получить_VERB_отказ_NOUN': 0.2584664821624756, 'получить_VERB_звание_NOUN': 0.2521059513092041, 'получить_VERB_диплом_NOUN': 0.22885340452194214, 'получить_VERB_право_NOUN': 0.28082001209259033, 'получить_VERB_назначение_NOUN': 0.24540835618972778, 'получить_VERB_приказание_NOUN': 0.21986865997314453, 'получить_VERB_распространение_NOUN': 0.2649228572845459, 'получить_VERB_удовольствие_NOUN': 0.3024212718009949, 'получить_VERB_награда_NOUN': 0.2421259880065918, 'получить_VERB_премия_NOUN': 0.2742518186569214, 'получить_VERB_время_NOUN': 0.29167020320892334, 'получить_VERB_год_NOUN': 0.2799649238586426, 'получить_VERB_развитие_NOUN': 0.29360032081604004, 'получить_VERB_согласие_NOUN': 0.24147939682006836, 'получить_VERB_работа_NOUN': 0.2603852152824402, 'получить_VERB_задание_NOUN': 0.21771156787872314, 'получить_VERB_свобода_NOUN': 0.3350990414619446, 'получить_VERB_ранение_NOUN': 0.24574977159500122, 'получить_VERB_доступ_NOUN': 0.2682100534439087, 'получить_VERB_сообщение_NOUN': 0.07372575998306274, 'получить_VERB_приз_NOUN': 0.2711682915687561, 'получить_VERB_имя_NOUN': 0.26353275775909424, 'получить_VERB_квартира_NOUN': 0.27709347009658813, 'получить_VERB_орден_NOUN': 0.28128939867019653, 'получить_VERB_россия_NOUN': 0.3247987627983093, 'получить_VERB_наследство_NOUN': 0.23550206422805786, 'получить_VERB_значение_NOUN': 0.29307228326797485, 'получить_VERB_поддержка_NOUN': 0.265750527381897, 'получить_VERB_задача_NOUN': 0.29281556606292725, 'получить_VERB_статус_NOUN': 0.2639193534851074, 'получить_VERB_признание_NOUN': 0.21920329332351685, 'получить_VERB_одобрение_NOUN': 0.25719958543777466, 'получить_VERB_власть_NOUN': 0.2920494079589844, 'получить_VERB_записка_NOUN': 0.14135855436325073, 'получить_VERB_чин_NOUN': 0.27512168884277344, 'получить_VERB_заказ_NOUN': 0.24144303798675537, 'получить_VERB_удар_NOUN': 0.2663975954055786, 'получить_VERB_жизнь_NOUN': 0.31228989362716675, 'получить_VERB_лицензия_NOUN': 0.25775521993637085, 'получить_VERB_предложение_NOUN': 0.21374326944351196, 'получить_VERB_день_NOUN': 0.27837294340133667, 'получить_VERB_билет_NOUN': 0.25283926725387573, 'получить_VERB_воспитание_NOUN': 0.2940806746482849, 'получить_VERB_бумага_NOUN': 0.22051668167114258, 'получить_VERB_подтверждение_NOUN': 0.22659099102020264, 'получить_VERB_повеление_NOUN': 0.23160535097122192, 'получить_VERB_травма_NOUN': 0.2813899517059326, 'получить_VERB_указание_NOUN': 0.1880728006362915, 'получить_VERB_кредит_NOUN': 0.28708314895629883, 'получить_VERB_отпуск_NOUN': 0.2769167423248291, 'получить_VERB_подарок_NOUN': 0.2208983302116394, 'получить_VERB_паспорт_NOUN': 0.2229231595993042, 'получить_VERB_лет_NOUN': 0.3373200297355652, 'получить_VERB_должность_NOUN': 0.2537011504173279, 'получить_VERB_сумма_NOUN': 0.24403983354568481, 'получить_VERB_извещение_NOUN': 0.08627545833587646, 'получить_VERB_помощь_NOUN': 0.25972020626068115, 'получить_VERB_прибыль_NOUN': 0.2497895359992981, 'получить_VERB_повестка_NOUN': 0.20432931184768677, 'получить_VERB_рана_NOUN': 0.30316591262817383, 'получить_VERB_материал_NOUN': 0.2264922857284546, 'получить_VERB_шанс_NOUN': 0.3165241479873657, 'получить_VERB_лицо_NOUN': 0.2842903733253479, 'получить_VERB_благословение_NOUN': 0.2396014928817749, 'получить_VERB_уведомление_NOUN': 0.09161555767059326, 'получить_VERB_надежда_NOUN': 0.3141908049583435, 'получить_VERB_книга_NOUN': 0.23917138576507568, 'получить_VERB_знание_NOUN': 0.25011658668518066, 'получить_VERB_известность_NOUN': 0.23468166589736938, 'получить_VERB_часть_NOUN': 0.29996180534362793, 'получить_VERB_отец_NOUN': 0.26968979835510254, 'получить_VERB_число_NOUN': 0.24285262823104858, 'получить_VERB_анализ_NOUN': 0.25271928310394287, 'получить_VERB_предписание_NOUN': 0.2022010087966919, 'получить_VERB_пуля_NOUN': 0.30126339197158813, 'получить_VERB_желание_NOUN': 0.3203510046005249, 'получить_VERB_наименование_NOUN': 0.246690571308136, 'получить_VERB_пропуск_NOUN': 0.27782970666885376, 'получить_VERB_донесение_NOUN': 0.09147757291793823, 'получить_VERB_оценка_NOUN': 0.24082446098327637, 'получить_VERB_титул_NOUN': 0.24378329515457153, 'получить_VERB_масса_NOUN': 0.3304688334465027, 'получить_VERB_земля_NOUN': 0.29886966943740845, 'получить_VERB_выговор_NOUN': 0.24761593341827393, 'получить_VERB_гонорар_NOUN': 0.2604619860649109, 'получить_VERB_ребенок_NOUN': 0.2996668219566345, 'получить_VERB_расчет_NOUN': 0.2716752886772156, 'получить_VERB_патент_NOUN': 0.2341133952140808, 'получить_VERB_слово_NOUN': 0.2650660276412964, 'получить_VERB_прощение_NOUN': 0.2732541561126709, 'получить_VERB_медаль_NOUN': 0.2747243046760559, 'получить_VERB_компания_NOUN': 0.2904126048088074, 'получить_VERB_дело_NOUN': 0.28105056285858154, 'получить_VERB_документ_NOUN': 0.1446244716644287, 'получить_VERB_степень_NOUN': 0.297677218914032, 'получить_VERB_отставка_NOUN': 0.24381792545318604, 'получить_VERB_представление_NOUN': 0.26043975353240967, 'получить_VERB_продукт_NOUN': 0.29467248916625977, 'получить_VERB_доход_NOUN': 0.2685509920120239, 'получить_VERB_армия_NOUN': 0.2747025489807129, 'получить_VERB_машина_NOUN': 0.3125288486480713, 'получить_VERB_распоряжение_NOUN': 0.1887211799621582, 'получить_VERB_свидетельство_NOUN': 0.18916606903076172, 'получить_VERB_москва_NOUN': 0.32371044158935547, 'получить_VERB_виза_NOUN': 0.24301570653915405, 'получить_VERB_аттестат_NOUN': 0.21710342168807983, 'получить_VERB_формула_NOUN': 0.29884618520736694, 'получить_VERB_сертификат_NOUN': 0.22768008708953857, 'получить_VERB_компенсация_NOUN': 0.2638235092163086, 'получить_VERB_указ_NOUN': 0.2032756209373474, 'получить_VERB_вопрос_NOUN': 0.2620401978492737, 'получить_VERB_зарплата_NOUN': 0.2668784260749817, 'получить_VERB_срок_NOUN': 0.27058863639831543, 'получить_VERB_благодарность_NOUN': 0.271221399307251, 'получить_VERB_жалование_NOUN': 0.25141990184783936, 'получить_VERB_удовлетворение_NOUN': 0.2948988676071167, 'получить_VERB_средство_NOUN': 0.2914270758628845, 'получить_VERB_справка_NOUN': 0.16629868745803833, 'получить_VERB_честь_NOUN': 0.2952998876571655, 'получить_VERB_ряд_NOUN': 0.32487624883651733, 'получить_VERB_страна_NOUN': 0.31984490156173706, 'получить_VERB_дар_NOUN': 0.2871941328048706, 'получить_VERB_средства_NOUN': 0.2790523171424866, 'получить_VERB_повышение_NOUN': 0.2933049201965332, 'получить_VERB_позволение_NOUN': 0.2901325821876526, 'получить_VERB_характер_NOUN': 0.3022557497024536, 'получить_VERB_пятерка_NOUN': 0.29146093130111694, 'получить_VERB_большинство_NOUN': 0.2924419045448303, 'получить_VERB_система_NOUN': 0.31007635593414307, 'получить_VERB_направление_NOUN': 0.30322158336639404, 'получить_VERB_пенсия_NOUN': 0.252748966217041, 'получить_VERB_множество_NOUN': 0.32988882064819336, 'получить_VERB_совет_NOUN': 0.2533629536628723}\n",
            "{'получить_VERB_письмо_NOUN': 0.3183547258377075, 'получить_VERB_возможность_NOUN': 0.0835646390914917, 'получить_VERB_ответ_NOUN': 0.26531535387039185, 'получить_VERB_название_NOUN': 0.3229108452796936, 'получить_VERB_деньги_NOUN': 0.25588172674179077, 'получить_VERB_известие_NOUN': 0.3046937584877014, 'получить_VERB_результат_NOUN': 0.23596054315567017, 'получить_VERB_разрешение_NOUN': 0.26603537797927856, 'получить_VERB_телеграмма_NOUN': 0.3332824110984802, 'получить_VERB_приглашение_NOUN': 0.2877703309059143, 'получить_VERB_место_NOUN': 0.27374643087387085, 'получить_VERB_сведение_NOUN': 0.3012104034423828, 'получить_VERB_информация_NOUN': 0.2878892421722412, 'получить_VERB_приказ_NOUN': 0.27622830867767334, 'получить_VERB_данные_NOUN': 0.28045499324798584, 'получить_VERB_образование_NOUN': 0.2884519696235657, 'получить_VERB_человек_NOUN': 0.2771097421646118, 'получить_VERB_отказ_NOUN': 0.29994308948516846, 'получить_VERB_звание_NOUN': 0.2746551036834717, 'получить_VERB_диплом_NOUN': 0.2805200219154358, 'получить_VERB_право_NOUN': 0.23527437448501587, 'получить_VERB_назначение_NOUN': 0.29582011699676514, 'получить_VERB_приказание_NOUN': 0.28973132371902466, 'получить_VERB_распространение_NOUN': 0.31496673822402954, 'получить_VERB_удовольствие_NOUN': 0.2578548192977905, 'получить_VERB_награда_NOUN': 0.248754620552063, 'получить_VERB_премия_NOUN': 0.27966398000717163, 'получить_VERB_время_NOUN': 0.26429301500320435, 'получить_VERB_год_NOUN': 0.27284520864486694, 'получить_VERB_развитие_NOUN': 0.2865365147590637, 'получить_VERB_согласие_NOUN': 0.282102108001709, 'получить_VERB_работа_NOUN': 0.2685796618461609, 'получить_VERB_задание_NOUN': 0.2599717378616333, 'получить_VERB_свобода_NOUN': 0.28463804721832275, 'получить_VERB_ранение_NOUN': 0.2953128218650818, 'получить_VERB_доступ_NOUN': 0.26187223196029663, 'получить_VERB_сообщение_NOUN': 0.312173068523407, 'получить_VERB_приз_NOUN': 0.2658575773239136, 'получить_VERB_имя_NOUN': 0.28940409421920776, 'получить_VERB_квартира_NOUN': 0.2891753911972046, 'получить_VERB_орден_NOUN': 0.312436044216156, 'получить_VERB_россия_NOUN': 0.2799243927001953, 'получить_VERB_наследство_NOUN': 0.28431951999664307, 'получить_VERB_значение_NOUN': 0.2732963562011719, 'получить_VERB_поддержка_NOUN': 0.26305878162384033, 'получить_VERB_задача_NOUN': 0.2700783610343933, 'получить_VERB_статус_NOUN': 0.2654460072517395, 'получить_VERB_признание_NOUN': 0.29004156589508057, 'получить_VERB_одобрение_NOUN': 0.29440146684646606, 'получить_VERB_власть_NOUN': 0.28398799896240234, 'получить_VERB_записка_NOUN': 0.3342174291610718, 'получить_VERB_чин_NOUN': 0.29916518926620483, 'получить_VERB_заказ_NOUN': 0.310874342918396, 'получить_VERB_удар_NOUN': 0.33316999673843384, 'получить_VERB_жизнь_NOUN': 0.2518270015716553, 'получить_VERB_лицензия_NOUN': 0.277601957321167, 'получить_VERB_предложение_NOUN': 0.2601836919784546, 'получить_VERB_день_NOUN': 0.2808305025100708, 'получить_VERB_билет_NOUN': 0.31542909145355225, 'получить_VERB_воспитание_NOUN': 0.3342946767807007, 'получить_VERB_бумага_NOUN': 0.3348257541656494, 'получить_VERB_подтверждение_NOUN': 0.29791736602783203, 'получить_VERB_повеление_NOUN': 0.28266215324401855, 'получить_VERB_травма_NOUN': 0.3052857518196106, 'получить_VERB_указание_NOUN': 0.2712293863296509, 'получить_VERB_кредит_NOUN': 0.29053229093551636, 'получить_VERB_отпуск_NOUN': 0.3033386468887329, 'получить_VERB_подарок_NOUN': 0.2785656452178955, 'получить_VERB_паспорт_NOUN': 0.3144533038139343, 'получить_VERB_лет_NOUN': 0.3359513282775879, 'получить_VERB_должность_NOUN': 0.27947479486465454, 'получить_VERB_сумма_NOUN': 0.2947949171066284, 'получить_VERB_извещение_NOUN': 0.32387059926986694, 'получить_VERB_помощь_NOUN': 0.292061448097229, 'получить_VERB_прибыль_NOUN': 0.25754034519195557, 'получить_VERB_повестка_NOUN': 0.34731829166412354, 'получить_VERB_рана_NOUN': 0.32779133319854736, 'получить_VERB_материал_NOUN': 0.32424867153167725, 'получить_VERB_шанс_NOUN': 0.08200448751449585, 'получить_VERB_лицо_NOUN': 0.3108699917793274, 'получить_VERB_благословение_NOUN': 0.2651931643486023, 'получить_VERB_уведомление_NOUN': 0.2936309576034546, 'получить_VERB_надежда_NOUN': 0.11150532960891724, 'получить_VERB_книга_NOUN': 0.3029137849807739, 'получить_VERB_знание_NOUN': 0.28283417224884033, 'получить_VERB_известность_NOUN': 0.288823664188385, 'получить_VERB_часть_NOUN': 0.2923130989074707, 'получить_VERB_отец_NOUN': 0.2807908058166504, 'получить_VERB_число_NOUN': 0.2612953186035156, 'получить_VERB_анализ_NOUN': 0.34420228004455566, 'получить_VERB_предписание_NOUN': 0.3012760877609253, 'получить_VERB_пуля_NOUN': 0.3426237106323242, 'получить_VERB_желание_NOUN': 0.12378126382827759, 'получить_VERB_наименование_NOUN': 0.33405137062072754, 'получить_VERB_пропуск_NOUN': 0.31424927711486816, 'получить_VERB_донесение_NOUN': 0.3436391353607178, 'получить_VERB_оценка_NOUN': 0.28023195266723633, 'получить_VERB_титул_NOUN': 0.28051578998565674, 'получить_VERB_масса_NOUN': 0.34500569105148315, 'получить_VERB_земля_NOUN': 0.31355351209640503, 'получить_VERB_выговор_NOUN': 0.3137853145599365, 'получить_VERB_гонорар_NOUN': 0.27566415071487427, 'получить_VERB_ребенок_NOUN': 0.2712465524673462, 'получить_VERB_расчет_NOUN': 0.3016533851623535, 'получить_VERB_патент_NOUN': 0.2819725275039673, 'получить_VERB_слово_NOUN': 0.28142088651657104, 'получить_VERB_прощение_NOUN': 0.2769269347190857, 'получить_VERB_медаль_NOUN': 0.30487746000289917, 'получить_VERB_компания_NOUN': 0.31062620878219604, 'получить_VERB_дело_NOUN': 0.2885371446609497, 'получить_VERB_документ_NOUN': 0.3060501217842102, 'получить_VERB_степень_NOUN': 0.3101704716682434, 'получить_VERB_отставка_NOUN': 0.29991281032562256, 'получить_VERB_представление_NOUN': 0.26217418909072876, 'получить_VERB_продукт_NOUN': 0.327888548374176, 'получить_VERB_доход_NOUN': 0.27886223793029785, 'получить_VERB_армия_NOUN': 0.3053947687149048, 'получить_VERB_машина_NOUN': 0.292289674282074, 'получить_VERB_распоряжение_NOUN': 0.26738476753234863, 'получить_VERB_свидетельство_NOUN': 0.2908117175102234, 'получить_VERB_москва_NOUN': 0.3394545912742615, 'получить_VERB_виза_NOUN': 0.29791826009750366, 'получить_VERB_аттестат_NOUN': 0.2892574667930603, 'получить_VERB_формула_NOUN': 0.31302255392074585, 'получить_VERB_сертификат_NOUN': 0.2830936312675476, 'получить_VERB_компенсация_NOUN': 0.2946348786354065, 'получить_VERB_указ_NOUN': 0.28535783290863037, 'получить_VERB_вопрос_NOUN': 0.2692683935165405, 'получить_VERB_зарплата_NOUN': 0.2709246873855591, 'получить_VERB_срок_NOUN': 0.2755202054977417, 'получить_VERB_благодарность_NOUN': 0.2729775309562683, 'получить_VERB_жалование_NOUN': 0.29860836267471313, 'получить_VERB_удовлетворение_NOUN': 0.2723451256752014, 'получить_VERB_средство_NOUN': 0.28384000062942505, 'получить_VERB_справка_NOUN': 0.33105671405792236, 'получить_VERB_честь_NOUN': 0.2851638197898865, 'получить_VERB_ряд_NOUN': 0.36477130651474, 'получить_VERB_страна_NOUN': 0.2846870422363281, 'получить_VERB_дар_NOUN': 0.273990273475647, 'получить_VERB_средства_NOUN': 0.27207261323928833, 'получить_VERB_повышение_NOUN': 0.31801122426986694, 'получить_VERB_позволение_NOUN': 0.28835034370422363, 'получить_VERB_характер_NOUN': 0.34467315673828125, 'получить_VERB_пятерка_NOUN': 0.2804272770881653, 'получить_VERB_большинство_NOUN': 0.2883033752441406, 'получить_VERB_система_NOUN': 0.3049600124359131, 'получить_VERB_направление_NOUN': 0.33819180727005005, 'получить_VERB_пенсия_NOUN': 0.2663988471031189, 'получить_VERB_множество_NOUN': 0.34298175573349, 'получить_VERB_совет_NOUN': 0.2859845757484436}\n",
            "{'получить_VERB_письмо_NOUN': 0.3105388283729553, 'получить_VERB_возможность_NOUN': 0.3388996720314026, 'получить_VERB_ответ_NOUN': 0.2524406909942627, 'получить_VERB_название_NOUN': 0.04552870988845825, 'получить_VERB_деньги_NOUN': 0.32485997676849365, 'получить_VERB_известие_NOUN': 0.3205021619796753, 'получить_VERB_результат_NOUN': 0.2969203591346741, 'получить_VERB_разрешение_NOUN': 0.32193171977996826, 'получить_VERB_телеграмма_NOUN': 0.3126559257507324, 'получить_VERB_приглашение_NOUN': 0.28646761178970337, 'получить_VERB_место_NOUN': 0.30493199825286865, 'получить_VERB_сведение_NOUN': 0.2652634382247925, 'получить_VERB_информация_NOUN': 0.28660351037979126, 'получить_VERB_приказ_NOUN': 0.2965734601020813, 'получить_VERB_данные_NOUN': 0.25416213274002075, 'получить_VERB_образование_NOUN': 0.2856922745704651, 'получить_VERB_человек_NOUN': 0.317857563495636, 'получить_VERB_отказ_NOUN': 0.3011566996574402, 'получить_VERB_звание_NOUN': 0.2351839542388916, 'получить_VERB_диплом_NOUN': 0.30674445629119873, 'получить_VERB_право_NOUN': 0.3022536039352417, 'получить_VERB_назначение_NOUN': 0.2394905686378479, 'получить_VERB_приказание_NOUN': 0.31402212381362915, 'получить_VERB_распространение_NOUN': 0.2922341227531433, 'получить_VERB_удовольствие_NOUN': 0.3508845567703247, 'получить_VERB_награда_NOUN': 0.28308480978012085, 'получить_VERB_премия_NOUN': 0.2860066294670105, 'получить_VERB_время_NOUN': 0.345089852809906, 'получить_VERB_год_NOUN': 0.30500853061676025, 'получить_VERB_развитие_NOUN': 0.32314062118530273, 'получить_VERB_согласие_NOUN': 0.3119485378265381, 'получить_VERB_работа_NOUN': 0.3372992277145386, 'получить_VERB_задание_NOUN': 0.2955193519592285, 'получить_VERB_свобода_NOUN': 0.3663633465766907, 'получить_VERB_ранение_NOUN': 0.31633561849594116, 'получить_VERB_доступ_NOUN': 0.30194592475891113, 'получить_VERB_сообщение_NOUN': 0.28464770317077637, 'получить_VERB_приз_NOUN': 0.2896175980567932, 'получить_VERB_имя_NOUN': 0.08784222602844238, 'получить_VERB_квартира_NOUN': 0.321652352809906, 'получить_VERB_орден_NOUN': 0.28732186555862427, 'получить_VERB_россия_NOUN': 0.3480219841003418, 'получить_VERB_наследство_NOUN': 0.3075389266014099, 'получить_VERB_значение_NOUN': 0.26159727573394775, 'получить_VERB_поддержка_NOUN': 0.3209800124168396, 'получить_VERB_задача_NOUN': 0.3366982936859131, 'получить_VERB_статус_NOUN': 0.24392414093017578, 'получить_VERB_признание_NOUN': 0.28394150733947754, 'получить_VERB_одобрение_NOUN': 0.31503331661224365, 'получить_VERB_власть_NOUN': 0.3285529613494873, 'получить_VERB_записка_NOUN': 0.340596079826355, 'получить_VERB_чин_NOUN': 0.31249749660491943, 'получить_VERB_заказ_NOUN': 0.309256374835968, 'получить_VERB_удар_NOUN': 0.33380258083343506, 'получить_VERB_жизнь_NOUN': 0.3362303376197815, 'получить_VERB_лицензия_NOUN': 0.29308807849884033, 'получить_VERB_предложение_NOUN': 0.2912643551826477, 'получить_VERB_день_NOUN': 0.31556588411331177, 'получить_VERB_билет_NOUN': 0.33512991666793823, 'получить_VERB_воспитание_NOUN': 0.3392775058746338, 'получить_VERB_бумага_NOUN': 0.3695935606956482, 'получить_VERB_подтверждение_NOUN': 0.3063444495201111, 'получить_VERB_повеление_NOUN': 0.2944986820220947, 'получить_VERB_травма_NOUN': 0.3417702913284302, 'получить_VERB_указание_NOUN': 0.25713324546813965, 'получить_VERB_кредит_NOUN': 0.34213119745254517, 'получить_VERB_отпуск_NOUN': 0.3518304228782654, 'получить_VERB_подарок_NOUN': 0.2997010350227356, 'получить_VERB_паспорт_NOUN': 0.3053712248802185, 'получить_VERB_лет_NOUN': 0.3702566623687744, 'получить_VERB_должность_NOUN': 0.2677503824234009, 'получить_VERB_сумма_NOUN': 0.2788112163543701, 'получить_VERB_извещение_NOUN': 0.30600064992904663, 'получить_VERB_помощь_NOUN': 0.3229520320892334, 'получить_VERB_прибыль_NOUN': 0.32188063859939575, 'получить_VERB_повестка_NOUN': 0.33123236894607544, 'получить_VERB_рана_NOUN': 0.3729988932609558, 'получить_VERB_материал_NOUN': 0.31883031129837036, 'получить_VERB_шанс_NOUN': 0.3369901180267334, 'получить_VERB_лицо_NOUN': 0.3040936589241028, 'получить_VERB_благословение_NOUN': 0.3016859292984009, 'получить_VERB_уведомление_NOUN': 0.2851678133010864, 'получить_VERB_надежда_NOUN': 0.34606969356536865, 'получить_VERB_книга_NOUN': 0.3029276728630066, 'получить_VERB_знание_NOUN': 0.310638427734375, 'получить_VERB_известность_NOUN': 0.301771879196167, 'получить_VERB_часть_NOUN': 0.3240583539009094, 'получить_VERB_отец_NOUN': 0.31698697805404663, 'получить_VERB_число_NOUN': 0.2466731071472168, 'получить_VERB_анализ_NOUN': 0.3383522629737854, 'получить_VERB_предписание_NOUN': 0.2891578674316406, 'получить_VERB_пуля_NOUN': 0.36584341526031494, 'получить_VERB_желание_NOUN': 0.3580790162086487, 'получить_VERB_наименование_NOUN': 0.04574871063232422, 'получить_VERB_пропуск_NOUN': 0.31304067373275757, 'получить_VERB_донесение_NOUN': 0.32542550563812256, 'получить_VERB_оценка_NOUN': 0.2622140645980835, 'получить_VERB_титул_NOUN': 0.19833439588546753, 'получить_VERB_масса_NOUN': 0.3535059690475464, 'получить_VERB_земля_NOUN': 0.35045576095581055, 'получить_VERB_выговор_NOUN': 0.31006360054016113, 'получить_VERB_гонорар_NOUN': 0.33271557092666626, 'получить_VERB_ребенок_NOUN': 0.34100931882858276, 'получить_VERB_расчет_NOUN': 0.3332388997077942, 'получить_VERB_патент_NOUN': 0.2735525965690613, 'получить_VERB_слово_NOUN': 0.23180967569351196, 'получить_VERB_прощение_NOUN': 0.3324592709541321, 'получить_VERB_медаль_NOUN': 0.31599968671798706, 'получить_VERB_компания_NOUN': 0.3186829686164856, 'получить_VERB_дело_NOUN': 0.3310316801071167, 'получить_VERB_документ_NOUN': 0.3084706664085388, 'получить_VERB_степень_NOUN': 0.3219625949859619, 'получить_VERB_отставка_NOUN': 0.3388645648956299, 'получить_VERB_представление_NOUN': 0.25611913204193115, 'получить_VERB_продукт_NOUN': 0.3343108296394348, 'получить_VERB_доход_NOUN': 0.33015894889831543, 'получить_VERB_армия_NOUN': 0.34923481941223145, 'получить_VERB_машина_NOUN': 0.34869837760925293, 'получить_VERB_распоряжение_NOUN': 0.2851223349571228, 'получить_VERB_свидетельство_NOUN': 0.28402721881866455, 'получить_VERB_москва_NOUN': 0.36471229791641235, 'получить_VERB_виза_NOUN': 0.3374738097190857, 'получить_VERB_аттестат_NOUN': 0.30754488706588745, 'получить_VERB_формула_NOUN': 0.2620684504508972, 'получить_VERB_сертификат_NOUN': 0.2640487551689148, 'получить_VERB_компенсация_NOUN': 0.3238023519515991, 'получить_VERB_указ_NOUN': 0.29136431217193604, 'получить_VERB_вопрос_NOUN': 0.3077530264854431, 'получить_VERB_зарплата_NOUN': 0.31230300664901733, 'получить_VERB_срок_NOUN': 0.32179856300354004, 'получить_VERB_благодарность_NOUN': 0.31707972288131714, 'получить_VERB_жалование_NOUN': 0.31699174642562866, 'получить_VERB_удовлетворение_NOUN': 0.34570175409317017, 'получить_VERB_средство_NOUN': 0.3278534412384033, 'получить_VERB_справка_NOUN': 0.31269872188568115, 'получить_VERB_честь_NOUN': 0.27586591243743896, 'получить_VERB_ряд_NOUN': 0.3263251781463623, 'получить_VERB_страна_NOUN': 0.3373063802719116, 'получить_VERB_дар_NOUN': 0.34339475631713867, 'получить_VERB_средства_NOUN': 0.3320714235305786, 'получить_VERB_повышение_NOUN': 0.32310986518859863, 'получить_VERB_позволение_NOUN': 0.3473358750343323, 'получить_VERB_характер_NOUN': 0.3069092631340027, 'получить_VERB_пятерка_NOUN': 0.3234102129936218, 'получить_VERB_большинство_NOUN': 0.29546982049942017, 'получить_VERB_система_NOUN': 0.30867958068847656, 'получить_VERB_направление_NOUN': 0.2932049632072449, 'получить_VERB_пенсия_NOUN': 0.3369230031967163, 'получить_VERB_множество_NOUN': 0.30841606855392456, 'получить_VERB_совет_NOUN': 0.291908860206604}\n",
            "{'получить_VERB_письмо_NOUN': 0.23110580444335938, 'получить_VERB_возможность_NOUN': 0.22685927152633667, 'получить_VERB_ответ_NOUN': 0.21857452392578125, 'получить_VERB_название_NOUN': 0.24946469068527222, 'получить_VERB_деньги_NOUN': 0.14615720510482788, 'получить_VERB_известие_NOUN': 0.23808002471923828, 'получить_VERB_результат_NOUN': 0.20200997591018677, 'получить_VERB_разрешение_NOUN': 0.2138749361038208, 'получить_VERB_телеграмма_NOUN': 0.22766852378845215, 'получить_VERB_приглашение_NOUN': 0.21501779556274414, 'получить_VERB_место_NOUN': 0.24340933561325073, 'получить_VERB_сведение_NOUN': 0.223471999168396, 'получить_VERB_информация_NOUN': 0.2224941849708557, 'получить_VERB_приказ_NOUN': 0.20889967679977417, 'получить_VERB_данные_NOUN': 0.21899080276489258, 'получить_VERB_образование_NOUN': 0.1961822509765625, 'получить_VERB_человек_NOUN': 0.255241334438324, 'получить_VERB_отказ_NOUN': 0.23979204893112183, 'получить_VERB_звание_NOUN': 0.1312970519065857, 'получить_VERB_диплом_NOUN': 0.16118252277374268, 'получить_VERB_право_NOUN': 0.2031746506690979, 'получить_VERB_назначение_NOUN': 0.20971882343292236, 'получить_VERB_приказание_NOUN': 0.22406655550003052, 'получить_VERB_распространение_NOUN': 0.2698203921318054, 'получить_VERB_удовольствие_NOUN': 0.2511146664619446, 'получить_VERB_награда_NOUN': 0.10314768552780151, 'получить_VERB_премия_NOUN': 0.1182590126991272, 'получить_VERB_время_NOUN': 0.26431214809417725, 'получить_VERB_год_NOUN': 0.21741586923599243, 'получить_VERB_развитие_NOUN': 0.24318987131118774, 'получить_VERB_согласие_NOUN': 0.23119693994522095, 'получить_VERB_работа_NOUN': 0.21707642078399658, 'получить_VERB_задание_NOUN': 0.21629548072814941, 'получить_VERB_свобода_NOUN': 0.24386316537857056, 'получить_VERB_ранение_NOUN': 0.22134017944335938, 'получить_VERB_доступ_NOUN': 0.2331157922744751, 'получить_VERB_сообщение_NOUN': 0.2564130425453186, 'получить_VERB_приз_NOUN': 0.1340850591659546, 'получить_VERB_имя_NOUN': 0.2404753565788269, 'получить_VERB_квартира_NOUN': 0.22154206037521362, 'получить_VERB_орден_NOUN': 0.1701873540878296, 'получить_VERB_россия_NOUN': 0.24680614471435547, 'получить_VERB_наследство_NOUN': 0.16379940509796143, 'получить_VERB_значение_NOUN': 0.24396920204162598, 'получить_VERB_поддержка_NOUN': 0.20964205265045166, 'получить_VERB_задача_NOUN': 0.24382156133651733, 'получить_VERB_статус_NOUN': 0.159534752368927, 'получить_VERB_признание_NOUN': 0.20100003480911255, 'получить_VERB_одобрение_NOUN': 0.2317063808441162, 'получить_VERB_власть_NOUN': 0.22859454154968262, 'получить_VERB_записка_NOUN': 0.2496599555015564, 'получить_VERB_чин_NOUN': 0.15480297803878784, 'получить_VERB_заказ_NOUN': 0.2022952437400818, 'получить_VERB_удар_NOUN': 0.25466376543045044, 'получить_VERB_жизнь_NOUN': 0.24347609281539917, 'получить_VERB_лицензия_NOUN': 0.1776052713394165, 'получить_VERB_предложение_NOUN': 0.22397619485855103, 'получить_VERB_день_NOUN': 0.24965006113052368, 'получить_VERB_билет_NOUN': 0.2152317762374878, 'получить_VERB_воспитание_NOUN': 0.24204003810882568, 'получить_VERB_бумага_NOUN': 0.2541336417198181, 'получить_VERB_подтверждение_NOUN': 0.23839330673217773, 'получить_VERB_повеление_NOUN': 0.22369718551635742, 'получить_VERB_травма_NOUN': 0.23514074087142944, 'получить_VERB_указание_NOUN': 0.21706855297088623, 'получить_VERB_кредит_NOUN': 0.1556936502456665, 'получить_VERB_отпуск_NOUN': 0.20287030935287476, 'получить_VERB_подарок_NOUN': 0.17287522554397583, 'получить_VERB_паспорт_NOUN': 0.21858656406402588, 'получить_VERB_лет_NOUN': 0.2852252721786499, 'получить_VERB_должность_NOUN': 0.1311267614364624, 'получить_VERB_сумма_NOUN': 0.13167697191238403, 'получить_VERB_извещение_NOUN': 0.20822817087173462, 'получить_VERB_помощь_NOUN': 0.24050134420394897, 'получить_VERB_прибыль_NOUN': 0.13021081686019897, 'получить_VERB_повестка_NOUN': 0.23307865858078003, 'получить_VERB_рана_NOUN': 0.27813011407852173, 'получить_VERB_материал_NOUN': 0.25345730781555176, 'получить_VERB_шанс_NOUN': 0.2266976237297058, 'получить_VERB_лицо_NOUN': 0.26822030544281006, 'получить_VERB_благословение_NOUN': 0.2000124454498291, 'получить_VERB_уведомление_NOUN': 0.2041056752204895, 'получить_VERB_надежда_NOUN': 0.2681468725204468, 'получить_VERB_книга_NOUN': 0.2400968074798584, 'получить_VERB_знание_NOUN': 0.2353731393814087, 'получить_VERB_известность_NOUN': 0.2000766396522522, 'получить_VERB_часть_NOUN': 0.23784828186035156, 'получить_VERB_отец_NOUN': 0.23659837245941162, 'получить_VERB_число_NOUN': 0.1966724395751953, 'получить_VERB_анализ_NOUN': 0.25876712799072266, 'получить_VERB_предписание_NOUN': 0.2076088786125183, 'получить_VERB_пуля_NOUN': 0.27339911460876465, 'получить_VERB_желание_NOUN': 0.2646198272705078, 'получить_VERB_наименование_NOUN': 0.21729987859725952, 'получить_VERB_пропуск_NOUN': 0.2345348596572876, 'получить_VERB_донесение_NOUN': 0.24253171682357788, 'получить_VERB_оценка_NOUN': 0.19879519939422607, 'получить_VERB_титул_NOUN': 0.1412830948829651, 'получить_VERB_масса_NOUN': 0.2767599821090698, 'получить_VERB_земля_NOUN': 0.2512674927711487, 'получить_VERB_выговор_NOUN': 0.19716626405715942, 'получить_VERB_гонорар_NOUN': 0.10464739799499512, 'получить_VERB_ребенок_NOUN': 0.2376255989074707, 'получить_VERB_расчет_NOUN': 0.24458295106887817, 'получить_VERB_патент_NOUN': 0.16101717948913574, 'получить_VERB_слово_NOUN': 0.25205498933792114, 'получить_VERB_прощение_NOUN': 0.22585195302963257, 'получить_VERB_медаль_NOUN': 0.16969901323318481, 'получить_VERB_компания_NOUN': 0.22893071174621582, 'получить_VERB_дело_NOUN': 0.2557193636894226, 'получить_VERB_документ_NOUN': 0.2128380537033081, 'получить_VERB_степень_NOUN': 0.21333009004592896, 'получить_VERB_отставка_NOUN': 0.18713486194610596, 'получить_VERB_представление_NOUN': 0.23155725002288818, 'получить_VERB_продукт_NOUN': 0.22156459093093872, 'получить_VERB_доход_NOUN': 0.12591969966888428, 'получить_VERB_армия_NOUN': 0.23250097036361694, 'получить_VERB_машина_NOUN': 0.26504671573638916, 'получить_VERB_распоряжение_NOUN': 0.19395411014556885, 'получить_VERB_свидетельство_NOUN': 0.2270369529724121, 'получить_VERB_москва_NOUN': 0.27498310804367065, 'получить_VERB_виза_NOUN': 0.2108539342880249, 'получить_VERB_аттестат_NOUN': 0.16083121299743652, 'получить_VERB_формула_NOUN': 0.2520101070404053, 'получить_VERB_сертификат_NOUN': 0.1607062816619873, 'получить_VERB_компенсация_NOUN': 0.1350727677345276, 'получить_VERB_указ_NOUN': 0.19042611122131348, 'получить_VERB_вопрос_NOUN': 0.2482587695121765, 'получить_VERB_зарплата_NOUN': 0.09741103649139404, 'получить_VERB_срок_NOUN': 0.21135860681533813, 'получить_VERB_благодарность_NOUN': 0.20563727617263794, 'получить_VERB_жалование_NOUN': 0.09609133005142212, 'получить_VERB_удовлетворение_NOUN': 0.2372138500213623, 'получить_VERB_средство_NOUN': 0.2044440507888794, 'получить_VERB_справка_NOUN': 0.22016650438308716, 'получить_VERB_честь_NOUN': 0.22154074907302856, 'получить_VERB_ряд_NOUN': 0.283748984336853, 'получить_VERB_страна_NOUN': 0.2365272045135498, 'получить_VERB_дар_NOUN': 0.22673672437667847, 'получить_VERB_средства_NOUN': 0.16811174154281616, 'получить_VERB_повышение_NOUN': 0.20492565631866455, 'получить_VERB_позволение_NOUN': 0.24015569686889648, 'получить_VERB_характер_NOUN': 0.26759541034698486, 'получить_VERB_пятерка_NOUN': 0.21524327993392944, 'получить_VERB_большинство_NOUN': 0.24913722276687622, 'получить_VERB_система_NOUN': 0.25180673599243164, 'получить_VERB_направление_NOUN': 0.2801653742790222, 'получить_VERB_пенсия_NOUN': 0.11144876480102539, 'получить_VERB_множество_NOUN': 0.30356013774871826, 'получить_VERB_совет_NOUN': 0.21745479106903076}\n",
            "{'получить_VERB_письмо_NOUN': 0.28035008907318115, 'получить_VERB_возможность_NOUN': 0.2675001621246338, 'получить_VERB_ответ_NOUN': 0.20583665370941162, 'получить_VERB_название_NOUN': 0.28209131956100464, 'получить_VERB_деньги_NOUN': 0.26861298084259033, 'получить_VERB_известие_NOUN': 0.27145934104919434, 'получить_VERB_результат_NOUN': 0.11349648237228394, 'получить_VERB_разрешение_NOUN': 0.2354791760444641, 'получить_VERB_телеграмма_NOUN': 0.27297234535217285, 'получить_VERB_приглашение_NOUN': 0.2895124554634094, 'получить_VERB_место_NOUN': 0.28307026624679565, 'получить_VERB_сведение_NOUN': 0.20742261409759521, 'получить_VERB_информация_NOUN': 0.23445725440979004, 'получить_VERB_приказ_NOUN': 0.264681339263916, 'получить_VERB_данные_NOUN': 0.17195487022399902, 'получить_VERB_образование_NOUN': 0.22547882795333862, 'получить_VERB_человек_NOUN': 0.27310478687286377, 'получить_VERB_отказ_NOUN': 0.26629942655563354, 'получить_VERB_звание_NOUN': 0.26633507013320923, 'получить_VERB_диплом_NOUN': 0.23724913597106934, 'получить_VERB_право_NOUN': 0.28084129095077515, 'получить_VERB_назначение_NOUN': 0.25319236516952515, 'получить_VERB_приказание_NOUN': 0.27813875675201416, 'получить_VERB_распространение_NOUN': 0.2669774293899536, 'получить_VERB_удовольствие_NOUN': 0.2976996898651123, 'получить_VERB_награда_NOUN': 0.24030762910842896, 'получить_VERB_премия_NOUN': 0.2520964741706848, 'получить_VERB_время_NOUN': 0.274086594581604, 'получить_VERB_год_NOUN': 0.26518476009368896, 'получить_VERB_развитие_NOUN': 0.24664688110351562, 'получить_VERB_согласие_NOUN': 0.25514155626296997, 'получить_VERB_работа_NOUN': 0.2366904616355896, 'получить_VERB_задание_NOUN': 0.24864214658737183, 'получить_VERB_свобода_NOUN': 0.32433223724365234, 'получить_VERB_ранение_NOUN': 0.2912248969078064, 'получить_VERB_доступ_NOUN': 0.2799268364906311, 'получить_VERB_сообщение_NOUN': 0.27525681257247925, 'получить_VERB_приз_NOUN': 0.2500179409980774, 'получить_VERB_имя_NOUN': 0.2994663715362549, 'получить_VERB_квартира_NOUN': 0.2858734130859375, 'получить_VERB_орден_NOUN': 0.2900633215904236, 'получить_VERB_россия_NOUN': 0.29329121112823486, 'получить_VERB_наследство_NOUN': 0.2840079665184021, 'получить_VERB_значение_NOUN': 0.26448363065719604, 'получить_VERB_поддержка_NOUN': 0.2683815360069275, 'получить_VERB_задача_NOUN': 0.25671476125717163, 'получить_VERB_статус_NOUN': 0.26254063844680786, 'получить_VERB_признание_NOUN': 0.23948025703430176, 'получить_VERB_одобрение_NOUN': 0.2592122554779053, 'получить_VERB_власть_NOUN': 0.28127521276474, 'получить_VERB_записка_NOUN': 0.3038244843482971, 'получить_VERB_чин_NOUN': 0.2825508117675781, 'получить_VERB_заказ_NOUN': 0.2617550492286682, 'получить_VERB_удар_NOUN': 0.2671887278556824, 'получить_VERB_жизнь_NOUN': 0.28159981966018677, 'получить_VERB_лицензия_NOUN': 0.25972628593444824, 'получить_VERB_предложение_NOUN': 0.25553929805755615, 'получить_VERB_день_NOUN': 0.2765995264053345, 'получить_VERB_билет_NOUN': 0.29489272832870483, 'получить_VERB_воспитание_NOUN': 0.2557375431060791, 'получить_VERB_бумага_NOUN': 0.2761538028717041, 'получить_VERB_подтверждение_NOUN': 0.23240047693252563, 'получить_VERB_повеление_NOUN': 0.27364152669906616, 'получить_VERB_травма_NOUN': 0.28605949878692627, 'получить_VERB_указание_NOUN': 0.23516744375228882, 'получить_VERB_кредит_NOUN': 0.27113455533981323, 'получить_VERB_отпуск_NOUN': 0.2977256774902344, 'получить_VERB_подарок_NOUN': 0.28229182958602905, 'получить_VERB_паспорт_NOUN': 0.27654117345809937, 'получить_VERB_лет_NOUN': 0.33167487382888794, 'получить_VERB_должность_NOUN': 0.2619331479072571, 'получить_VERB_сумма_NOUN': 0.22905296087265015, 'получить_VERB_извещение_NOUN': 0.2602332830429077, 'получить_VERB_помощь_NOUN': 0.2711409330368042, 'получить_VERB_прибыль_NOUN': 0.22045224905014038, 'получить_VERB_повестка_NOUN': 0.2925562262535095, 'получить_VERB_рана_NOUN': 0.31775081157684326, 'получить_VERB_материал_NOUN': 0.23139160871505737, 'получить_VERB_шанс_NOUN': 0.2743260860443115, 'получить_VERB_лицо_NOUN': 0.30806005001068115, 'получить_VERB_благословение_NOUN': 0.27622300386428833, 'получить_VERB_уведомление_NOUN': 0.23778700828552246, 'получить_VERB_надежда_NOUN': 0.313032865524292, 'получить_VERB_книга_NOUN': 0.2863280177116394, 'получить_VERB_знание_NOUN': 0.24187546968460083, 'получить_VERB_известность_NOUN': 0.25430482625961304, 'получить_VERB_часть_NOUN': 0.27549123764038086, 'получить_VERB_отец_NOUN': 0.2852737307548523, 'получить_VERB_число_NOUN': 0.22366875410079956, 'получить_VERB_анализ_NOUN': 0.09044277667999268, 'получить_VERB_предписание_NOUN': 0.24793291091918945, 'получить_VERB_пуля_NOUN': 0.32045137882232666, 'получить_VERB_желание_NOUN': 0.3060719966888428, 'получить_VERB_наименование_NOUN': 0.24776935577392578, 'получить_VERB_пропуск_NOUN': 0.28436094522476196, 'получить_VERB_донесение_NOUN': 0.24749094247817993, 'получить_VERB_оценка_NOUN': 0.08142662048339844, 'получить_VERB_титул_NOUN': 0.27982890605926514, 'получить_VERB_масса_NOUN': 0.29923611879348755, 'получить_VERB_земля_NOUN': 0.3067658543586731, 'получить_VERB_выговор_NOUN': 0.2592882513999939, 'получить_VERB_гонорар_NOUN': 0.24131637811660767, 'получить_VERB_ребенок_NOUN': 0.29384881258010864, 'получить_VERB_расчет_NOUN': 0.11549127101898193, 'получить_VERB_патент_NOUN': 0.24741780757904053, 'получить_VERB_слово_NOUN': 0.26941996812820435, 'получить_VERB_прощение_NOUN': 0.2982214689254761, 'получить_VERB_медаль_NOUN': 0.2769851088523865, 'получить_VERB_компания_NOUN': 0.29051291942596436, 'получить_VERB_дело_NOUN': 0.2752687931060791, 'получить_VERB_документ_NOUN': 0.23327559232711792, 'получить_VERB_степень_NOUN': 0.25594568252563477, 'получить_VERB_отставка_NOUN': 0.2863713502883911, 'получить_VERB_представление_NOUN': 0.23390257358551025, 'получить_VERB_продукт_NOUN': 0.2540960907936096, 'получить_VERB_доход_NOUN': 0.23389053344726562, 'получить_VERB_армия_NOUN': 0.2978067994117737, 'получить_VERB_машина_NOUN': 0.2863425612449646, 'получить_VERB_распоряжение_NOUN': 0.24473410844802856, 'получить_VERB_свидетельство_NOUN': 0.23232340812683105, 'получить_VERB_москва_NOUN': 0.31379377841949463, 'получить_VERB_виза_NOUN': 0.28300803899765015, 'получить_VERB_аттестат_NOUN': 0.22853624820709229, 'получить_VERB_формула_NOUN': 0.22265827655792236, 'получить_VERB_сертификат_NOUN': 0.22663533687591553, 'получить_VERB_компенсация_NOUN': 0.23535692691802979, 'получить_VERB_указ_NOUN': 0.27215564250946045, 'получить_VERB_вопрос_NOUN': 0.26046377420425415, 'получить_VERB_зарплата_NOUN': 0.23410534858703613, 'получить_VERB_срок_NOUN': 0.2675909996032715, 'получить_VERB_благодарность_NOUN': 0.288307249546051, 'получить_VERB_жалование_NOUN': 0.25925153493881226, 'получить_VERB_удовлетворение_NOUN': 0.2773274779319763, 'получить_VERB_средство_NOUN': 0.28801828622817993, 'получить_VERB_справка_NOUN': 0.22555387020111084, 'получить_VERB_честь_NOUN': 0.2985876202583313, 'получить_VERB_ряд_NOUN': 0.3081324100494385, 'получить_VERB_страна_NOUN': 0.27253061532974243, 'получить_VERB_дар_NOUN': 0.3078228235244751, 'получить_VERB_средства_NOUN': 0.2774144411087036, 'получить_VERB_повышение_NOUN': 0.25183606147766113, 'получить_VERB_позволение_NOUN': 0.28569716215133667, 'получить_VERB_характер_NOUN': 0.26269006729125977, 'получить_VERB_пятерка_NOUN': 0.2463545799255371, 'получить_VERB_большинство_NOUN': 0.2678101658821106, 'получить_VERB_система_NOUN': 0.25081324577331543, 'получить_VERB_направление_NOUN': 0.27099698781967163, 'получить_VERB_пенсия_NOUN': 0.26475852727890015, 'получить_VERB_множество_NOUN': 0.32997971773147583, 'получить_VERB_совет_NOUN': 0.2614096999168396}\n",
            "{'получить_VERB_письмо_NOUN': 0.25932079553604126, 'получить_VERB_возможность_NOUN': 0.3072103261947632, 'получить_VERB_ответ_NOUN': 0.2263174057006836, 'получить_VERB_название_NOUN': 0.32761919498443604, 'получить_VERB_деньги_NOUN': 0.31580227613449097, 'получить_VERB_известие_NOUN': 0.26353347301483154, 'получить_VERB_результат_NOUN': 0.3006020784378052, 'получить_VERB_разрешение_NOUN': 0.21617746353149414, 'получить_VERB_телеграмма_NOUN': 0.22023051977157593, 'получить_VERB_приглашение_NOUN': 0.2258927822113037, 'получить_VERB_место_NOUN': 0.3322388529777527, 'получить_VERB_сведение_NOUN': 0.24880236387252808, 'получить_VERB_информация_NOUN': 0.27454251050949097, 'получить_VERB_приказ_NOUN': 0.03881478309631348, 'получить_VERB_данные_NOUN': 0.2610418200492859, 'получить_VERB_образование_NOUN': 0.3260342478752136, 'получить_VERB_человек_NOUN': 0.36326777935028076, 'получить_VERB_отказ_NOUN': 0.2709711194038391, 'получить_VERB_звание_NOUN': 0.253431499004364, 'получить_VERB_диплом_NOUN': 0.2951762080192566, 'получить_VERB_право_NOUN': 0.28935813903808594, 'получить_VERB_назначение_NOUN': 0.20727890729904175, 'получить_VERB_приказание_NOUN': 0.03685528039932251, 'получить_VERB_распространение_NOUN': 0.3303510546684265, 'получить_VERB_удовольствие_NOUN': 0.31501519680023193, 'получить_VERB_награда_NOUN': 0.26476913690567017, 'получить_VERB_премия_NOUN': 0.29672861099243164, 'получить_VERB_время_NOUN': 0.3518720865249634, 'получить_VERB_год_NOUN': 0.3388282060623169, 'получить_VERB_развитие_NOUN': 0.334544837474823, 'получить_VERB_согласие_NOUN': 0.24160480499267578, 'получить_VERB_работа_NOUN': 0.30340027809143066, 'получить_VERB_задание_NOUN': 0.19584262371063232, 'получить_VERB_свобода_NOUN': 0.34623247385025024, 'получить_VERB_ранение_NOUN': 0.3050898313522339, 'получить_VERB_доступ_NOUN': 0.2935078740119934, 'получить_VERB_сообщение_NOUN': 0.2439640760421753, 'получить_VERB_приз_NOUN': 0.29883426427841187, 'получить_VERB_имя_NOUN': 0.30222368240356445, 'получить_VERB_квартира_NOUN': 0.31154483556747437, 'получить_VERB_орден_NOUN': 0.28147417306900024, 'получить_VERB_россия_NOUN': 0.3407076597213745, 'получить_VERB_наследство_NOUN': 0.2756451368331909, 'получить_VERB_значение_NOUN': 0.3375851511955261, 'получить_VERB_поддержка_NOUN': 0.2932627201080322, 'получить_VERB_задача_NOUN': 0.2929081320762634, 'получить_VERB_статус_NOUN': 0.29507261514663696, 'получить_VERB_признание_NOUN': 0.2963830828666687, 'получить_VERB_одобрение_NOUN': 0.25861406326293945, 'получить_VERB_власть_NOUN': 0.2998027205467224, 'получить_VERB_записка_NOUN': 0.27548855543136597, 'получить_VERB_чин_NOUN': 0.27212488651275635, 'получить_VERB_заказ_NOUN': 0.217884361743927, 'получить_VERB_удар_NOUN': 0.3027747869491577, 'получить_VERB_жизнь_NOUN': 0.35051560401916504, 'получить_VERB_лицензия_NOUN': 0.27616482973098755, 'получить_VERB_предложение_NOUN': 0.2493584156036377, 'получить_VERB_день_NOUN': 0.3448704481124878, 'получить_VERB_билет_NOUN': 0.33455604314804077, 'получить_VERB_воспитание_NOUN': 0.32787221670150757, 'получить_VERB_бумага_NOUN': 0.30716443061828613, 'получить_VERB_подтверждение_NOUN': 0.28306758403778076, 'получить_VERB_повеление_NOUN': 0.11784040927886963, 'получить_VERB_травма_NOUN': 0.33937788009643555, 'получить_VERB_указание_NOUN': 0.050685763359069824, 'получить_VERB_кредит_NOUN': 0.31195682287216187, 'получить_VERB_отпуск_NOUN': 0.32472705841064453, 'получить_VERB_подарок_NOUN': 0.2703343629837036, 'получить_VERB_паспорт_NOUN': 0.3223954439163208, 'получить_VERB_лет_NOUN': 0.372633695602417, 'получить_VERB_должность_NOUN': 0.24337267875671387, 'получить_VERB_сумма_NOUN': 0.3079913258552551, 'получить_VERB_извещение_NOUN': 0.2467658519744873, 'получить_VERB_помощь_NOUN': 0.2964593768119812, 'получить_VERB_прибыль_NOUN': 0.2742244005203247, 'получить_VERB_повестка_NOUN': 0.28619104623794556, 'получить_VERB_рана_NOUN': 0.3764417767524719, 'получить_VERB_материал_NOUN': 0.3043675422668457, 'получить_VERB_шанс_NOUN': 0.3455005884170532, 'получить_VERB_лицо_NOUN': 0.3462129235267639, 'получить_VERB_благословение_NOUN': 0.2463463544845581, 'получить_VERB_уведомление_NOUN': 0.22149306535720825, 'получить_VERB_надежда_NOUN': 0.3388442397117615, 'получить_VERB_книга_NOUN': 0.3323501944541931, 'получить_VERB_знание_NOUN': 0.3291674256324768, 'получить_VERB_известность_NOUN': 0.30880457162857056, 'получить_VERB_часть_NOUN': 0.3357473611831665, 'получить_VERB_отец_NOUN': 0.3082743287086487, 'получить_VERB_число_NOUN': 0.3022865056991577, 'получить_VERB_анализ_NOUN': 0.32509785890579224, 'получить_VERB_предписание_NOUN': 0.13669121265411377, 'получить_VERB_пуля_NOUN': 0.3526015281677246, 'получить_VERB_желание_NOUN': 0.2851707339286804, 'получить_VERB_наименование_NOUN': 0.272439181804657, 'получить_VERB_пропуск_NOUN': 0.3178214430809021, 'получить_VERB_донесение_NOUN': 0.20308905839920044, 'получить_VERB_оценка_NOUN': 0.2815757989883423, 'получить_VERB_титул_NOUN': 0.26455986499786377, 'получить_VERB_масса_NOUN': 0.3662412762641907, 'получить_VERB_земля_NOUN': 0.33451980352401733, 'получить_VERB_выговор_NOUN': 0.2236347794532776, 'получить_VERB_гонорар_NOUN': 0.3008904457092285, 'получить_VERB_ребенок_NOUN': 0.33543020486831665, 'получить_VERB_расчет_NOUN': 0.2922305464744568, 'получить_VERB_патент_NOUN': 0.28307586908340454, 'получить_VERB_слово_NOUN': 0.2974318861961365, 'получить_VERB_прощение_NOUN': 0.3128395080566406, 'получить_VERB_медаль_NOUN': 0.3204295039176941, 'получить_VERB_компания_NOUN': 0.34052079916000366, 'получить_VERB_дело_NOUN': 0.3366631269454956, 'получить_VERB_документ_NOUN': 0.2601078748703003, 'получить_VERB_степень_NOUN': 0.35599982738494873, 'получить_VERB_отставка_NOUN': 0.27152353525161743, 'получить_VERB_представление_NOUN': 0.2958643436431885, 'получить_VERB_продукт_NOUN': 0.3513794541358948, 'получить_VERB_доход_NOUN': 0.3126693367958069, 'получить_VERB_армия_NOUN': 0.29624468088150024, 'получить_VERB_машина_NOUN': 0.3489883542060852, 'получить_VERB_распоряжение_NOUN': 0.04719436168670654, 'получить_VERB_свидетельство_NOUN': 0.28414076566696167, 'получить_VERB_москва_NOUN': 0.3586985468864441, 'получить_VERB_виза_NOUN': 0.3058890700340271, 'получить_VERB_аттестат_NOUN': 0.2919999957084656, 'получить_VERB_формула_NOUN': 0.3465966582298279, 'получить_VERB_сертификат_NOUN': 0.2983230948448181, 'получить_VERB_компенсация_NOUN': 0.31603407859802246, 'получить_VERB_указ_NOUN': 0.14524990320205688, 'получить_VERB_вопрос_NOUN': 0.29992765188217163, 'получить_VERB_зарплата_NOUN': 0.29742753505706787, 'получить_VERB_срок_NOUN': 0.29832881689071655, 'получить_VERB_благодарность_NOUN': 0.28711336851119995, 'получить_VERB_жалование_NOUN': 0.25967907905578613, 'получить_VERB_удовлетворение_NOUN': 0.30690997838974, 'получить_VERB_средство_NOUN': 0.3398972749710083, 'получить_VERB_справка_NOUN': 0.2911182641983032, 'получить_VERB_честь_NOUN': 0.2936779260635376, 'получить_VERB_ряд_NOUN': 0.3367202877998352, 'получить_VERB_страна_NOUN': 0.3405653238296509, 'получить_VERB_дар_NOUN': 0.324648380279541, 'получить_VERB_средства_NOUN': 0.3154982924461365, 'получить_VERB_повышение_NOUN': 0.31834107637405396, 'получить_VERB_позволение_NOUN': 0.27304553985595703, 'получить_VERB_характер_NOUN': 0.36254602670669556, 'получить_VERB_пятерка_NOUN': 0.3183349370956421, 'получить_VERB_большинство_NOUN': 0.3359155058860779, 'получить_VERB_система_NOUN': 0.35260307788848877, 'получить_VERB_направление_NOUN': 0.3279055953025818, 'получить_VERB_пенсия_NOUN': 0.306613564491272, 'получить_VERB_множество_NOUN': 0.38037431240081787, 'получить_VERB_совет_NOUN': 0.2423524260520935}\n",
            "{'получить_VERB_письмо_NOUN': 0.2757783532142639, 'получить_VERB_возможность_NOUN': 0.26824337244033813, 'получить_VERB_ответ_NOUN': 0.2654818296432495, 'получить_VERB_название_NOUN': 0.27211469411849976, 'получить_VERB_деньги_NOUN': 0.2896775007247925, 'получить_VERB_известие_NOUN': 0.28849244117736816, 'получить_VERB_результат_NOUN': 0.24588972330093384, 'получить_VERB_разрешение_NOUN': 0.27104461193084717, 'получить_VERB_телеграмма_NOUN': 0.30128008127212524, 'получить_VERB_приглашение_NOUN': 0.2925678491592407, 'получить_VERB_место_NOUN': 0.3071131110191345, 'получить_VERB_сведение_NOUN': 0.24940121173858643, 'получить_VERB_информация_NOUN': 0.25865232944488525, 'получить_VERB_приказ_NOUN': 0.2979193329811096, 'получить_VERB_данные_NOUN': 0.2595860958099365, 'получить_VERB_образование_NOUN': 0.0838843584060669, 'получить_VERB_человек_NOUN': 0.3009457588195801, 'получить_VERB_отказ_NOUN': 0.26130127906799316, 'получить_VERB_звание_NOUN': 0.2569074034690857, 'получить_VERB_диплом_NOUN': 0.2414759397506714, 'получить_VERB_право_NOUN': 0.28370845317840576, 'получить_VERB_назначение_NOUN': 0.26020514965057373, 'получить_VERB_приказание_NOUN': 0.31383848190307617, 'получить_VERB_распространение_NOUN': 0.12235039472579956, 'получить_VERB_удовольствие_NOUN': 0.2953876256942749, 'получить_VERB_награда_NOUN': 0.25921958684921265, 'получить_VERB_премия_NOUN': 0.26534098386764526, 'получить_VERB_время_NOUN': 0.3024533987045288, 'получить_VERB_год_NOUN': 0.27107346057891846, 'получить_VERB_развитие_NOUN': 0.09050107002258301, 'получить_VERB_согласие_NOUN': 0.28294289112091064, 'получить_VERB_работа_NOUN': 0.25484269857406616, 'получить_VERB_задание_NOUN': 0.29131901264190674, 'получить_VERB_свобода_NOUN': 0.29150038957595825, 'получить_VERB_ранение_NOUN': 0.285645067691803, 'получить_VERB_доступ_NOUN': 0.24242174625396729, 'получить_VERB_сообщение_NOUN': 0.2795069217681885, 'получить_VERB_приз_NOUN': 0.2862822413444519, 'получить_VERB_имя_NOUN': 0.31028056144714355, 'получить_VERB_квартира_NOUN': 0.3177073001861572, 'получить_VERB_орден_NOUN': 0.28751009702682495, 'получить_VERB_россия_NOUN': 0.2780131697654724, 'получить_VERB_наследство_NOUN': 0.23263013362884521, 'получить_VERB_значение_NOUN': 0.25216877460479736, 'получить_VERB_поддержка_NOUN': 0.25047940015792847, 'получить_VERB_задача_NOUN': 0.2706611156463623, 'получить_VERB_статус_NOUN': 0.24327462911605835, 'получить_VERB_признание_NOUN': 0.24075406789779663, 'получить_VERB_одобрение_NOUN': 0.2823019027709961, 'получить_VERB_власть_NOUN': 0.2590545415878296, 'получить_VERB_записка_NOUN': 0.32268357276916504, 'получить_VERB_чин_NOUN': 0.29524946212768555, 'получить_VERB_заказ_NOUN': 0.3235294818878174, 'получить_VERB_удар_NOUN': 0.2789119482040405, 'получить_VERB_жизнь_NOUN': 0.2628825306892395, 'получить_VERB_лицензия_NOUN': 0.28248488903045654, 'получить_VERB_предложение_NOUN': 0.2997620105743408, 'получить_VERB_день_NOUN': 0.3028995990753174, 'получить_VERB_билет_NOUN': 0.3152473568916321, 'получить_VERB_воспитание_NOUN': 0.1094660758972168, 'получить_VERB_бумага_NOUN': 0.3340749144554138, 'получить_VERB_подтверждение_NOUN': 0.2777601480484009, 'получить_VERB_повеление_NOUN': 0.2865599989891052, 'получить_VERB_травма_NOUN': 0.271310031414032, 'получить_VERB_указание_NOUN': 0.2687768340110779, 'получить_VERB_кредит_NOUN': 0.28633785247802734, 'получить_VERB_отпуск_NOUN': 0.31733638048171997, 'получить_VERB_подарок_NOUN': 0.28193527460098267, 'получить_VERB_паспорт_NOUN': 0.30343878269195557, 'получить_VERB_лет_NOUN': 0.33113110065460205, 'получить_VERB_должность_NOUN': 0.25768935680389404, 'получить_VERB_сумма_NOUN': 0.2873924970626831, 'получить_VERB_извещение_NOUN': 0.2961658835411072, 'получить_VERB_помощь_NOUN': 0.28249579668045044, 'получить_VERB_прибыль_NOUN': 0.2546730041503906, 'получить_VERB_повестка_NOUN': 0.3049613833427429, 'получить_VERB_рана_NOUN': 0.32491618394851685, 'получить_VERB_материал_NOUN': 0.25909626483917236, 'получить_VERB_шанс_NOUN': 0.30775249004364014, 'получить_VERB_лицо_NOUN': 0.3149592876434326, 'получить_VERB_благословение_NOUN': 0.2608984708786011, 'получить_VERB_уведомление_NOUN': 0.2650282382965088, 'получить_VERB_надежда_NOUN': 0.33215153217315674, 'получить_VERB_книга_NOUN': 0.283649206161499, 'получить_VERB_знание_NOUN': 0.21034932136535645, 'получить_VERB_известность_NOUN': 0.24668002128601074, 'получить_VERB_часть_NOUN': 0.27253925800323486, 'получить_VERB_отец_NOUN': 0.26890867948532104, 'получить_VERB_число_NOUN': 0.2400970458984375, 'получить_VERB_анализ_NOUN': 0.24011653661727905, 'получить_VERB_предписание_NOUN': 0.2727746367454529, 'получить_VERB_пуля_NOUN': 0.3285362720489502, 'получить_VERB_желание_NOUN': 0.3121519684791565, 'получить_VERB_наименование_NOUN': 0.25202757120132446, 'получить_VERB_пропуск_NOUN': 0.3062472343444824, 'получить_VERB_донесение_NOUN': 0.30443400144577026, 'получить_VERB_оценка_NOUN': 0.21510684490203857, 'получить_VERB_титул_NOUN': 0.26355475187301636, 'получить_VERB_масса_NOUN': 0.2680240869522095, 'получить_VERB_земля_NOUN': 0.3071087598800659, 'получить_VERB_выговор_NOUN': 0.2765541076660156, 'получить_VERB_гонорар_NOUN': 0.2882916331291199, 'получить_VERB_ребенок_NOUN': 0.26949208974838257, 'получить_VERB_расчет_NOUN': 0.2901275157928467, 'получить_VERB_патент_NOUN': 0.26338011026382446, 'получить_VERB_слово_NOUN': 0.3031500577926636, 'получить_VERB_прощение_NOUN': 0.29498040676116943, 'получить_VERB_медаль_NOUN': 0.2869572639465332, 'получить_VERB_компания_NOUN': 0.3143147826194763, 'получить_VERB_дело_NOUN': 0.27236729860305786, 'получить_VERB_документ_NOUN': 0.2978631854057312, 'получить_VERB_степень_NOUN': 0.2583550214767456, 'получить_VERB_отставка_NOUN': 0.29514390230178833, 'получить_VERB_представление_NOUN': 0.22655576467514038, 'получить_VERB_продукт_NOUN': 0.28497034311294556, 'получить_VERB_доход_NOUN': 0.2530668377876282, 'получить_VERB_армия_NOUN': 0.2630998492240906, 'получить_VERB_машина_NOUN': 0.3184821605682373, 'получить_VERB_распоряжение_NOUN': 0.26524245738983154, 'получить_VERB_свидетельство_NOUN': 0.24876642227172852, 'получить_VERB_москва_NOUN': 0.3311101794242859, 'получить_VERB_виза_NOUN': 0.3050968647003174, 'получить_VERB_аттестат_NOUN': 0.23175877332687378, 'получить_VERB_формула_NOUN': 0.2950713038444519, 'получить_VERB_сертификат_NOUN': 0.25438839197158813, 'получить_VERB_компенсация_NOUN': 0.25616902112960815, 'получить_VERB_указ_NOUN': 0.2725508213043213, 'получить_VERB_вопрос_NOUN': 0.2707774043083191, 'получить_VERB_зарплата_NOUN': 0.25282615423202515, 'получить_VERB_срок_NOUN': 0.28861045837402344, 'получить_VERB_благодарность_NOUN': 0.3005116581916809, 'получить_VERB_жалование_NOUN': 0.26076602935791016, 'получить_VERB_удовлетворение_NOUN': 0.2850078344345093, 'получить_VERB_средство_NOUN': 0.26740169525146484, 'получить_VERB_справка_NOUN': 0.2856733798980713, 'получить_VERB_честь_NOUN': 0.3014906644821167, 'получить_VERB_ряд_NOUN': 0.30822527408599854, 'получить_VERB_страна_NOUN': 0.27574169635772705, 'получить_VERB_дар_NOUN': 0.29214441776275635, 'получить_VERB_средства_NOUN': 0.26040250062942505, 'получить_VERB_повышение_NOUN': 0.20714586973190308, 'получить_VERB_позволение_NOUN': 0.3009549379348755, 'получить_VERB_характер_NOUN': 0.2500789165496826, 'получить_VERB_пятерка_NOUN': 0.30884885787963867, 'получить_VERB_большинство_NOUN': 0.26683151721954346, 'получить_VERB_система_NOUN': 0.25151270627975464, 'получить_VERB_направление_NOUN': 0.2632908225059509, 'получить_VERB_пенсия_NOUN': 0.2630317807197571, 'получить_VERB_множество_NOUN': 0.3024057149887085, 'получить_VERB_совет_NOUN': 0.27499091625213623}\n",
            "{'получить_VERB_письмо_NOUN': 0.2567233443260193, 'получить_VERB_возможность_NOUN': 0.2312754988670349, 'получить_VERB_ответ_NOUN': 0.2445269227027893, 'получить_VERB_название_NOUN': 0.2943266034126282, 'получить_VERB_деньги_NOUN': 0.19023269414901733, 'получить_VERB_известие_NOUN': 0.282639741897583, 'получить_VERB_результат_NOUN': 0.21747678518295288, 'получить_VERB_разрешение_NOUN': 0.2985660433769226, 'получить_VERB_телеграмма_NOUN': 0.2768375277519226, 'получить_VERB_приглашение_NOUN': 0.28363025188446045, 'получить_VERB_место_NOUN': 0.19573402404785156, 'получить_VERB_сведение_NOUN': 0.26780831813812256, 'получить_VERB_информация_NOUN': 0.24379515647888184, 'получить_VERB_приказ_NOUN': 0.2622643709182739, 'получить_VERB_данные_NOUN': 0.23716306686401367, 'получить_VERB_образование_NOUN': 0.2406415343284607, 'получить_VERB_человек_NOUN': 0.11236536502838135, 'получить_VERB_отказ_NOUN': 0.2828545570373535, 'получить_VERB_звание_NOUN': 0.26725590229034424, 'получить_VERB_диплом_NOUN': 0.24211668968200684, 'получить_VERB_право_NOUN': 0.22910428047180176, 'получить_VERB_назначение_NOUN': 0.2862921953201294, 'получить_VERB_приказание_NOUN': 0.2987845540046692, 'получить_VERB_распространение_NOUN': 0.29153913259506226, 'получить_VERB_удовольствие_NOUN': 0.26010555028915405, 'получить_VERB_награда_NOUN': 0.24994820356369019, 'получить_VERB_премия_NOUN': 0.26233696937561035, 'получить_VERB_время_NOUN': 0.12242335081100464, 'получить_VERB_год_NOUN': 0.0953029990196228, 'получить_VERB_развитие_NOUN': 0.2574120759963989, 'получить_VERB_согласие_NOUN': 0.30157899856567383, 'получить_VERB_работа_NOUN': 0.13444238901138306, 'получить_VERB_задание_NOUN': 0.23626834154129028, 'получить_VERB_свобода_NOUN': 0.29194116592407227, 'получить_VERB_ранение_NOUN': 0.24593836069107056, 'получить_VERB_доступ_NOUN': 0.2674597501754761, 'получить_VERB_сообщение_NOUN': 0.25141584873199463, 'получить_VERB_приз_NOUN': 0.2567967176437378, 'получить_VERB_имя_NOUN': 0.23977631330490112, 'получить_VERB_квартира_NOUN': 0.24004346132278442, 'получить_VERB_орден_NOUN': 0.2837916612625122, 'получить_VERB_россия_NOUN': 0.2601863145828247, 'получить_VERB_наследство_NOUN': 0.252058207988739, 'получить_VERB_значение_NOUN': 0.26537448167800903, 'получить_VERB_поддержка_NOUN': 0.275953471660614, 'получить_VERB_задача_NOUN': 0.26909637451171875, 'получить_VERB_статус_NOUN': 0.26301711797714233, 'получить_VERB_признание_NOUN': 0.2792127728462219, 'получить_VERB_одобрение_NOUN': 0.29997485876083374, 'получить_VERB_власть_NOUN': 0.2436065673828125, 'получить_VERB_записка_NOUN': 0.29416322708129883, 'получить_VERB_чин_NOUN': 0.281310498714447, 'получить_VERB_заказ_NOUN': 0.25955653190612793, 'получить_VERB_удар_NOUN': 0.25737470388412476, 'получить_VERB_жизнь_NOUN': 0.17302358150482178, 'получить_VERB_лицензия_NOUN': 0.24699300527572632, 'получить_VERB_предложение_NOUN': 0.2595164179801941, 'получить_VERB_день_NOUN': 0.1061631441116333, 'получить_VERB_билет_NOUN': 0.26741594076156616, 'получить_VERB_воспитание_NOUN': 0.2629644274711609, 'получить_VERB_бумага_NOUN': 0.28662675619125366, 'получить_VERB_подтверждение_NOUN': 0.2876448631286621, 'получить_VERB_повеление_NOUN': 0.287470281124115, 'получить_VERB_травма_NOUN': 0.25372231006622314, 'получить_VERB_указание_NOUN': 0.2784498333930969, 'получить_VERB_кредит_NOUN': 0.25303179025650024, 'получить_VERB_отпуск_NOUN': 0.2309691309928894, 'получить_VERB_подарок_NOUN': 0.24485540390014648, 'получить_VERB_паспорт_NOUN': 0.2772035002708435, 'получить_VERB_лет_NOUN': 0.22330933809280396, 'получить_VERB_должность_NOUN': 0.23398995399475098, 'получить_VERB_сумма_NOUN': 0.2537006735801697, 'получить_VERB_извещение_NOUN': 0.27820146083831787, 'получить_VERB_помощь_NOUN': 0.242730975151062, 'получить_VERB_прибыль_NOUN': 0.2602335810661316, 'получить_VERB_повестка_NOUN': 0.2994990944862366, 'получить_VERB_рана_NOUN': 0.2850005626678467, 'получить_VERB_материал_NOUN': 0.2604748606681824, 'получить_VERB_шанс_NOUN': 0.23044246435165405, 'получить_VERB_лицо_NOUN': 0.26536130905151367, 'получить_VERB_благословение_NOUN': 0.27601271867752075, 'получить_VERB_уведомление_NOUN': 0.2530739903450012, 'получить_VERB_надежда_NOUN': 0.29613858461380005, 'получить_VERB_книга_NOUN': 0.23352760076522827, 'получить_VERB_знание_NOUN': 0.2673698663711548, 'получить_VERB_известность_NOUN': 0.2813339829444885, 'получить_VERB_часть_NOUN': 0.252156138420105, 'получить_VERB_отец_NOUN': 0.17746853828430176, 'получить_VERB_число_NOUN': 0.2426133155822754, 'получить_VERB_анализ_NOUN': 0.24777716398239136, 'получить_VERB_предписание_NOUN': 0.2717425227165222, 'получить_VERB_пуля_NOUN': 0.2827215790748596, 'получить_VERB_желание_NOUN': 0.267122745513916, 'получить_VERB_наименование_NOUN': 0.2976492643356323, 'получить_VERB_пропуск_NOUN': 0.31214994192123413, 'получить_VERB_донесение_NOUN': 0.3010314106941223, 'получить_VERB_оценка_NOUN': 0.2501877546310425, 'получить_VERB_титул_NOUN': 0.26604747772216797, 'получить_VERB_масса_NOUN': 0.30987757444381714, 'получить_VERB_земля_NOUN': 0.26987576484680176, 'получить_VERB_выговор_NOUN': 0.2752731442451477, 'получить_VERB_гонорар_NOUN': 0.2567973732948303, 'получить_VERB_ребенок_NOUN': 0.13557934761047363, 'получить_VERB_расчет_NOUN': 0.2927402853965759, 'получить_VERB_патент_NOUN': 0.2477605938911438, 'получить_VERB_слово_NOUN': 0.23050540685653687, 'получить_VERB_прощение_NOUN': 0.2691779136657715, 'получить_VERB_медаль_NOUN': 0.27822375297546387, 'получить_VERB_компания_NOUN': 0.24808794260025024, 'получить_VERB_дело_NOUN': 0.12807267904281616, 'получить_VERB_документ_NOUN': 0.25021857023239136, 'получить_VERB_степень_NOUN': 0.26312124729156494, 'получить_VERB_отставка_NOUN': 0.2673799991607666, 'получить_VERB_представление_NOUN': 0.27078020572662354, 'получить_VERB_продукт_NOUN': 0.2793427109718323, 'получить_VERB_доход_NOUN': 0.25606656074523926, 'получить_VERB_армия_NOUN': 0.25013840198516846, 'получить_VERB_машина_NOUN': 0.2023099660873413, 'получить_VERB_распоряжение_NOUN': 0.2656461000442505, 'получить_VERB_свидетельство_NOUN': 0.27441126108169556, 'получить_VERB_москва_NOUN': 0.2805238962173462, 'получить_VERB_виза_NOUN': 0.26364266872406006, 'получить_VERB_аттестат_NOUN': 0.24760186672210693, 'получить_VERB_формула_NOUN': 0.2909308671951294, 'получить_VERB_сертификат_NOUN': 0.25341546535491943, 'получить_VERB_компенсация_NOUN': 0.2577524781227112, 'получить_VERB_указ_NOUN': 0.26424962282180786, 'получить_VERB_вопрос_NOUN': 0.20840239524841309, 'получить_VERB_зарплата_NOUN': 0.22775864601135254, 'получить_VERB_срок_NOUN': 0.23101985454559326, 'получить_VERB_благодарность_NOUN': 0.28779858350753784, 'получить_VERB_жалование_NOUN': 0.253312885761261, 'получить_VERB_удовлетворение_NOUN': 0.3033267855644226, 'получить_VERB_средство_NOUN': 0.2750859260559082, 'получить_VERB_справка_NOUN': 0.27068060636520386, 'получить_VERB_честь_NOUN': 0.2784925699234009, 'получить_VERB_ряд_NOUN': 0.31715428829193115, 'получить_VERB_страна_NOUN': 0.2213025689125061, 'получить_VERB_дар_NOUN': 0.27384841442108154, 'получить_VERB_средства_NOUN': 0.26371240615844727, 'получить_VERB_повышение_NOUN': 0.2849700450897217, 'получить_VERB_позволение_NOUN': 0.3020341396331787, 'получить_VERB_характер_NOUN': 0.29556912183761597, 'получить_VERB_пятерка_NOUN': 0.2823537588119507, 'получить_VERB_большинство_NOUN': 0.24754738807678223, 'получить_VERB_система_NOUN': 0.24495434761047363, 'получить_VERB_направление_NOUN': 0.31192582845687866, 'получить_VERB_пенсия_NOUN': 0.21852320432662964, 'получить_VERB_множество_NOUN': 0.32159507274627686, 'получить_VERB_совет_NOUN': 0.2606910467147827}\n",
            "{'получить_VERB_письмо_NOUN': 0.20062458515167236, 'получить_VERB_возможность_NOUN': 0.2640131115913391, 'получить_VERB_ответ_NOUN': 0.23955708742141724, 'получить_VERB_название_NOUN': 0.2876208424568176, 'получить_VERB_деньги_NOUN': 0.2239808440208435, 'получить_VERB_известие_NOUN': 0.26913005113601685, 'получить_VERB_результат_NOUN': 0.23572403192520142, 'получить_VERB_разрешение_NOUN': 0.20109546184539795, 'получить_VERB_телеграмма_NOUN': 0.20322901010513306, 'получить_VERB_приглашение_NOUN': 0.2261560559272766, 'получить_VERB_место_NOUN': 0.26973068714141846, 'получить_VERB_сведение_NOUN': 0.22240972518920898, 'получить_VERB_информация_NOUN': 0.22620975971221924, 'получить_VERB_приказ_NOUN': 0.237823486328125, 'получить_VERB_данные_NOUN': 0.19792097806930542, 'получить_VERB_образование_NOUN': 0.229999840259552, 'получить_VERB_человек_NOUN': 0.29827409982681274, 'получить_VERB_отказ_NOUN': 0.26200538873672485, 'получить_VERB_звание_NOUN': 0.20858889818191528, 'получить_VERB_диплом_NOUN': 0.10284936428070068, 'получить_VERB_право_NOUN': 0.1978570818901062, 'получить_VERB_назначение_NOUN': 0.26027750968933105, 'получить_VERB_приказание_NOUN': 0.2757779359817505, 'получить_VERB_распространение_NOUN': 0.2909330725669861, 'получить_VERB_удовольствие_NOUN': 0.2807828187942505, 'получить_VERB_награда_NOUN': 0.19627171754837036, 'получить_VERB_премия_NOUN': 0.2002820372581482, 'получить_VERB_время_NOUN': 0.2999531626701355, 'получить_VERB_год_NOUN': 0.2659428119659424, 'получить_VERB_развитие_NOUN': 0.29590219259262085, 'получить_VERB_согласие_NOUN': 0.245783269405365, 'получить_VERB_работа_NOUN': 0.24994522333145142, 'получить_VERB_задание_NOUN': 0.2394809126853943, 'получить_VERB_свобода_NOUN': 0.27203208208084106, 'получить_VERB_ранение_NOUN': 0.25816643238067627, 'получить_VERB_доступ_NOUN': 0.226365327835083, 'получить_VERB_сообщение_NOUN': 0.24679696559906006, 'получить_VERB_приз_NOUN': 0.20852130651474, 'получить_VERB_имя_NOUN': 0.2673380970954895, 'получить_VERB_квартира_NOUN': 0.2519254684448242, 'получить_VERB_орден_NOUN': 0.24119991064071655, 'получить_VERB_россия_NOUN': 0.2973887324333191, 'получить_VERB_наследство_NOUN': 0.22129642963409424, 'получить_VERB_значение_NOUN': 0.312447726726532, 'получить_VERB_поддержка_NOUN': 0.27847909927368164, 'получить_VERB_задача_NOUN': 0.29996103048324585, 'получить_VERB_статус_NOUN': 0.21177130937576294, 'получить_VERB_признание_NOUN': 0.24301230907440186, 'получить_VERB_одобрение_NOUN': 0.26275354623794556, 'получить_VERB_власть_NOUN': 0.28251564502716064, 'получить_VERB_записка_NOUN': 0.2196943163871765, 'получить_VERB_чин_NOUN': 0.24419242143630981, 'получить_VERB_заказ_NOUN': 0.2348802089691162, 'получить_VERB_удар_NOUN': 0.29505401849746704, 'получить_VERB_жизнь_NOUN': 0.2936056852340698, 'получить_VERB_лицензия_NOUN': 0.1103510856628418, 'получить_VERB_предложение_NOUN': 0.26201575994491577, 'получить_VERB_день_NOUN': 0.28346747159957886, 'получить_VERB_билет_NOUN': 0.16971594095230103, 'получить_VERB_воспитание_NOUN': 0.28134799003601074, 'получить_VERB_бумага_NOUN': 0.16517364978790283, 'получить_VERB_подтверждение_NOUN': 0.23665720224380493, 'получить_VERB_повеление_NOUN': 0.268798291683197, 'получить_VERB_травма_NOUN': 0.25657081604003906, 'получить_VERB_указание_NOUN': 0.22976720333099365, 'получить_VERB_кредит_NOUN': 0.2119135856628418, 'получить_VERB_отпуск_NOUN': 0.2212429642677307, 'получить_VERB_подарок_NOUN': 0.22102516889572144, 'получить_VERB_паспорт_NOUN': 0.08485138416290283, 'получить_VERB_лет_NOUN': 0.3212916851043701, 'получить_VERB_должность_NOUN': 0.23094701766967773, 'получить_VERB_сумма_NOUN': 0.22363203763961792, 'получить_VERB_извещение_NOUN': 0.19057530164718628, 'получить_VERB_помощь_NOUN': 0.2705646753311157, 'получить_VERB_прибыль_NOUN': 0.2304895520210266, 'получить_VERB_повестка_NOUN': 0.21626943349838257, 'получить_VERB_рана_NOUN': 0.2987174987792969, 'получить_VERB_материал_NOUN': 0.2274455428123474, 'получить_VERB_шанс_NOUN': 0.29597198963165283, 'получить_VERB_лицо_NOUN': 0.27566051483154297, 'получить_VERB_благословение_NOUN': 0.24624675512313843, 'получить_VERB_уведомление_NOUN': 0.16398584842681885, 'получить_VERB_надежда_NOUN': 0.30501019954681396, 'получить_VERB_книга_NOUN': 0.22581082582473755, 'получить_VERB_знание_NOUN': 0.25311148166656494, 'получить_VERB_известность_NOUN': 0.25428664684295654, 'получить_VERB_часть_NOUN': 0.3006610870361328, 'получить_VERB_отец_NOUN': 0.27029484510421753, 'получить_VERB_число_NOUN': 0.26462286710739136, 'получить_VERB_анализ_NOUN': 0.23725831508636475, 'получить_VERB_предписание_NOUN': 0.1936262845993042, 'получить_VERB_пуля_NOUN': 0.2975560426712036, 'получить_VERB_желание_NOUN': 0.30507898330688477, 'получить_VERB_наименование_NOUN': 0.25113993883132935, 'получить_VERB_пропуск_NOUN': 0.136610746383667, 'получить_VERB_донесение_NOUN': 0.2377011775970459, 'получить_VERB_оценка_NOUN': 0.24292445182800293, 'получить_VERB_титул_NOUN': 0.21016252040863037, 'получить_VERB_масса_NOUN': 0.32437145709991455, 'получить_VERB_земля_NOUN': 0.2839280366897583, 'получить_VERB_выговор_NOUN': 0.23729127645492554, 'получить_VERB_гонорар_NOUN': 0.21000277996063232, 'получить_VERB_ребенок_NOUN': 0.25319796800613403, 'получить_VERB_расчет_NOUN': 0.25905078649520874, 'получить_VERB_патент_NOUN': 0.11496776342391968, 'получить_VERB_слово_NOUN': 0.28440141677856445, 'получить_VERB_прощение_NOUN': 0.27399587631225586, 'получить_VERB_медаль_NOUN': 0.21068716049194336, 'получить_VERB_компания_NOUN': 0.2663614749908447, 'получить_VERB_дело_NOUN': 0.2764788269996643, 'получить_VERB_документ_NOUN': 0.08848518133163452, 'получить_VERB_степень_NOUN': 0.29426324367523193, 'получить_VERB_отставка_NOUN': 0.2532411813735962, 'получить_VERB_представление_NOUN': 0.2712714672088623, 'получить_VERB_продукт_NOUN': 0.24977421760559082, 'получить_VERB_доход_NOUN': 0.23141276836395264, 'получить_VERB_армия_NOUN': 0.28571873903274536, 'получить_VERB_машина_NOUN': 0.27752745151519775, 'получить_VERB_распоряжение_NOUN': 0.22550040483474731, 'получить_VERB_свидетельство_NOUN': 0.17949986457824707, 'получить_VERB_москва_NOUN': 0.30821937322616577, 'получить_VERB_виза_NOUN': 0.10654127597808838, 'получить_VERB_аттестат_NOUN': 0.1093214750289917, 'получить_VERB_формула_NOUN': 0.26938217878341675, 'получить_VERB_сертификат_NOUN': 0.07693749666213989, 'получить_VERB_компенсация_NOUN': 0.21737289428710938, 'получить_VERB_указ_NOUN': 0.2096228003501892, 'получить_VERB_вопрос_NOUN': 0.26512980461120605, 'получить_VERB_зарплата_NOUN': 0.2144748568534851, 'получить_VERB_срок_NOUN': 0.24543708562850952, 'получить_VERB_благодарность_NOUN': 0.27048367261886597, 'получить_VERB_жалование_NOUN': 0.2212032675743103, 'получить_VERB_удовлетворение_NOUN': 0.2892155051231384, 'получить_VERB_средство_NOUN': 0.28436851501464844, 'получить_VERB_справка_NOUN': 0.1210903525352478, 'получить_VERB_честь_NOUN': 0.27286213636398315, 'получить_VERB_ряд_NOUN': 0.30956095457077026, 'получить_VERB_страна_NOUN': 0.28863102197647095, 'получить_VERB_дар_NOUN': 0.2640376091003418, 'получить_VERB_средства_NOUN': 0.2612069845199585, 'получить_VERB_повышение_NOUN': 0.2897632122039795, 'получить_VERB_позволение_NOUN': 0.2750382423400879, 'получить_VERB_характер_NOUN': 0.2978660464286804, 'получить_VERB_пятерка_NOUN': 0.2418918013572693, 'получить_VERB_большинство_NOUN': 0.2889968752861023, 'получить_VERB_система_NOUN': 0.27761608362197876, 'получить_VERB_направление_NOUN': 0.2827475666999817, 'получить_VERB_пенсия_NOUN': 0.21005123853683472, 'получить_VERB_множество_NOUN': 0.32777732610702515, 'получить_VERB_совет_NOUN': 0.271162748336792}\n",
            "{'получить_VERB_письмо_NOUN': 0.2692573070526123, 'получить_VERB_возможность_NOUN': 0.3009278178215027, 'получить_VERB_ответ_NOUN': 0.19952261447906494, 'получить_VERB_название_NOUN': 0.32015401124954224, 'получить_VERB_деньги_NOUN': 0.29392194747924805, 'получить_VERB_известие_NOUN': 0.27443569898605347, 'получить_VERB_результат_NOUN': 0.2621069550514221, 'получить_VERB_разрешение_NOUN': 0.1999530792236328, 'получить_VERB_телеграмма_NOUN': 0.26689815521240234, 'получить_VERB_приглашение_NOUN': 0.20619404315948486, 'получить_VERB_место_NOUN': 0.3466435670852661, 'получить_VERB_сведение_NOUN': 0.2693939208984375, 'получить_VERB_информация_NOUN': 0.2798919677734375, 'получить_VERB_приказ_NOUN': 0.24909871816635132, 'получить_VERB_данные_NOUN': 0.29380732774734497, 'получить_VERB_образование_NOUN': 0.26763224601745605, 'получить_VERB_человек_NOUN': 0.35207635164260864, 'получить_VERB_отказ_NOUN': 0.23934775590896606, 'получить_VERB_звание_NOUN': 0.2900620698928833, 'получить_VERB_диплом_NOUN': 0.28328150510787964, 'получить_VERB_право_NOUN': 0.2701544761657715, 'получить_VERB_назначение_NOUN': 0.28368300199508667, 'получить_VERB_приказание_NOUN': 0.2647024393081665, 'получить_VERB_распространение_NOUN': 0.3076234459877014, 'получить_VERB_удовольствие_NOUN': 0.28503668308258057, 'получить_VERB_награда_NOUN': 0.22387486696243286, 'получить_VERB_премия_NOUN': 0.26499927043914795, 'получить_VERB_время_NOUN': 0.35896503925323486, 'получить_VERB_год_NOUN': 0.32844340801239014, 'получить_VERB_развитие_NOUN': 0.3141170144081116, 'получить_VERB_согласие_NOUN': 0.07880234718322754, 'получить_VERB_работа_NOUN': 0.3160478472709656, 'получить_VERB_задание_NOUN': 0.304060697555542, 'получить_VERB_свобода_NOUN': 0.27537018060684204, 'получить_VERB_ранение_NOUN': 0.3154483437538147, 'получить_VERB_доступ_NOUN': 0.29924893379211426, 'получить_VERB_сообщение_NOUN': 0.2858279347419739, 'получить_VERB_приз_NOUN': 0.2799147963523865, 'получить_VERB_имя_NOUN': 0.3038877844810486, 'получить_VERB_квартира_NOUN': 0.3211725950241089, 'получить_VERB_орден_NOUN': 0.2873675227165222, 'получить_VERB_россия_NOUN': 0.31663697957992554, 'получить_VERB_наследство_NOUN': 0.2777193784713745, 'получить_VERB_значение_NOUN': 0.30902642011642456, 'получить_VERB_поддержка_NOUN': 0.08188354969024658, 'получить_VERB_задача_NOUN': 0.3367356061935425, 'получить_VERB_статус_NOUN': 0.28462672233581543, 'получить_VERB_признание_NOUN': 0.17885839939117432, 'получить_VERB_одобрение_NOUN': 0.04529309272766113, 'получить_VERB_власть_NOUN': 0.28551769256591797, 'получить_VERB_записка_NOUN': 0.3336074948310852, 'получить_VERB_чин_NOUN': 0.29407840967178345, 'получить_VERB_заказ_NOUN': 0.2909180521965027, 'получить_VERB_удар_NOUN': 0.3250077962875366, 'получить_VERB_жизнь_NOUN': 0.3380974531173706, 'получить_VERB_лицензия_NOUN': 0.2793883681297302, 'получить_VERB_предложение_NOUN': 0.23732715845108032, 'получить_VERB_день_NOUN': 0.3522310256958008, 'получить_VERB_билет_NOUN': 0.3405348062515259, 'получить_VERB_воспитание_NOUN': 0.30201268196105957, 'получить_VERB_бумага_NOUN': 0.3157294988632202, 'получить_VERB_подтверждение_NOUN': 0.19712352752685547, 'получить_VERB_повеление_NOUN': 0.2587607502937317, 'получить_VERB_травма_NOUN': 0.3192025423049927, 'получить_VERB_указание_NOUN': 0.22277426719665527, 'получить_VERB_кредит_NOUN': 0.2982873320579529, 'получить_VERB_отпуск_NOUN': 0.32139360904693604, 'получить_VERB_подарок_NOUN': 0.2593236565589905, 'получить_VERB_паспорт_NOUN': 0.3253967761993408, 'получить_VERB_лет_NOUN': 0.35934627056121826, 'получить_VERB_должность_NOUN': 0.29673659801483154, 'получить_VERB_сумма_NOUN': 0.2968384623527527, 'получить_VERB_извещение_NOUN': 0.27863115072250366, 'получить_VERB_помощь_NOUN': 0.22628331184387207, 'получить_VERB_прибыль_NOUN': 0.2816202640533447, 'получить_VERB_повестка_NOUN': 0.31145840883255005, 'получить_VERB_рана_NOUN': 0.3633032441139221, 'получить_VERB_материал_NOUN': 0.3259350657463074, 'получить_VERB_шанс_NOUN': 0.33154934644699097, 'получить_VERB_лицо_NOUN': 0.3095816373825073, 'получить_VERB_благословение_NOUN': 0.18533164262771606, 'получить_VERB_уведомление_NOUN': 0.24337738752365112, 'получить_VERB_надежда_NOUN': 0.2776702642440796, 'получить_VERB_книга_NOUN': 0.32149583101272583, 'получить_VERB_знание_NOUN': 0.3078005313873291, 'получить_VERB_известность_NOUN': 0.2398698925971985, 'получить_VERB_часть_NOUN': 0.3314036726951599, 'получить_VERB_отец_NOUN': 0.3034279942512512, 'получить_VERB_число_NOUN': 0.2809039354324341, 'получить_VERB_анализ_NOUN': 0.3250434398651123, 'получить_VERB_предписание_NOUN': 0.27088451385498047, 'получить_VERB_пуля_NOUN': 0.3471641540527344, 'получить_VERB_желание_NOUN': 0.3069073557853699, 'получить_VERB_наименование_NOUN': 0.30478519201278687, 'получить_VERB_пропуск_NOUN': 0.321236789226532, 'получить_VERB_донесение_NOUN': 0.3165803551673889, 'получить_VERB_оценка_NOUN': 0.24423915147781372, 'получить_VERB_титул_NOUN': 0.2786247134208679, 'получить_VERB_масса_NOUN': 0.32349711656570435, 'получить_VERB_земля_NOUN': 0.33683258295059204, 'получить_VERB_выговор_NOUN': 0.282617449760437, 'получить_VERB_гонорар_NOUN': 0.27938008308410645, 'получить_VERB_ребенок_NOUN': 0.31838834285736084, 'получить_VERB_расчет_NOUN': 0.31430041790008545, 'получить_VERB_патент_NOUN': 0.2771567106246948, 'получить_VERB_слово_NOUN': 0.28403347730636597, 'получить_VERB_прощение_NOUN': 0.24644023180007935, 'получить_VERB_медаль_NOUN': 0.2776263952255249, 'получить_VERB_компания_NOUN': 0.29041600227355957, 'получить_VERB_дело_NOUN': 0.3405334949493408, 'получить_VERB_документ_NOUN': 0.3005410432815552, 'получить_VERB_степень_NOUN': 0.32604849338531494, 'получить_VERB_отставка_NOUN': 0.2787098288536072, 'получить_VERB_представление_NOUN': 0.29023635387420654, 'получить_VERB_продукт_NOUN': 0.3645031452178955, 'получить_VERB_доход_NOUN': 0.2940869927406311, 'получить_VERB_армия_NOUN': 0.3019486665725708, 'получить_VERB_машина_NOUN': 0.35369187593460083, 'получить_VERB_распоряжение_NOUN': 0.2418188452720642, 'получить_VERB_свидетельство_NOUN': 0.25867897272109985, 'получить_VERB_москва_NOUN': 0.37205660343170166, 'получить_VERB_виза_NOUN': 0.2875695824623108, 'получить_VERB_аттестат_NOUN': 0.27995187044143677, 'получить_VERB_формула_NOUN': 0.3074198365211487, 'получить_VERB_сертификат_NOUN': 0.26908302307128906, 'получить_VERB_компенсация_NOUN': 0.25715041160583496, 'получить_VERB_указ_NOUN': 0.2643665075302124, 'получить_VERB_вопрос_NOUN': 0.28962910175323486, 'получить_VERB_зарплата_NOUN': 0.30316728353500366, 'получить_VERB_срок_NOUN': 0.32255226373672485, 'получить_VERB_благодарность_NOUN': 0.19080686569213867, 'получить_VERB_жалование_NOUN': 0.2908540964126587, 'получить_VERB_удовлетворение_NOUN': 0.21653354167938232, 'получить_VERB_средство_NOUN': 0.3237624168395996, 'получить_VERB_справка_NOUN': 0.3159726858139038, 'получить_VERB_честь_NOUN': 0.3018462061882019, 'получить_VERB_ряд_NOUN': 0.3450247645378113, 'получить_VERB_страна_NOUN': 0.31944459676742554, 'получить_VERB_дар_NOUN': 0.31507235765457153, 'получить_VERB_средства_NOUN': 0.3057193160057068, 'получить_VERB_повышение_NOUN': 0.28942757844924927, 'получить_VERB_позволение_NOUN': 0.2440880537033081, 'получить_VERB_характер_NOUN': 0.3321601152420044, 'получить_VERB_пятерка_NOUN': 0.29771488904953003, 'получить_VERB_большинство_NOUN': 0.28127825260162354, 'получить_VERB_система_NOUN': 0.3511205315589905, 'получить_VERB_направление_NOUN': 0.3126187324523926, 'получить_VERB_пенсия_NOUN': 0.2855232357978821, 'получить_VERB_множество_NOUN': 0.3665218949317932, 'получить_VERB_совет_NOUN': 0.21377307176589966}\n",
            "{'получить_VERB_письмо_NOUN': 0.2823988199234009, 'получить_VERB_возможность_NOUN': 0.3246767520904541, 'получить_VERB_ответ_NOUN': 0.2754744291305542, 'получить_VERB_название_NOUN': 0.33652663230895996, 'получить_VERB_деньги_NOUN': 0.30434560775756836, 'получить_VERB_известие_NOUN': 0.2614050507545471, 'получить_VERB_результат_NOUN': 0.2651258111000061, 'получить_VERB_разрешение_NOUN': 0.32930976152420044, 'получить_VERB_телеграмма_NOUN': 0.27567219734191895, 'получить_VERB_приглашение_NOUN': 0.2907717227935791, 'получить_VERB_место_NOUN': 0.29817700386047363, 'получить_VERB_сведение_NOUN': 0.2867450714111328, 'получить_VERB_информация_NOUN': 0.2835579514503479, 'получить_VERB_приказ_NOUN': 0.2751486301422119, 'получить_VERB_данные_NOUN': 0.2719489336013794, 'получить_VERB_образование_NOUN': 0.2715182900428772, 'получить_VERB_человек_NOUN': 0.28239840269088745, 'получить_VERB_отказ_NOUN': 0.29769039154052734, 'получить_VERB_звание_NOUN': 0.2705894708633423, 'получить_VERB_диплом_NOUN': 0.26252567768096924, 'получить_VERB_право_NOUN': 0.30650413036346436, 'получить_VERB_назначение_NOUN': 0.2825857996940613, 'получить_VERB_приказание_NOUN': 0.2981179356575012, 'получить_VERB_распространение_NOUN': 0.3213546872138977, 'получить_VERB_удовольствие_NOUN': 0.3087644577026367, 'получить_VERB_награда_NOUN': 0.23825007677078247, 'получить_VERB_премия_NOUN': 0.2826942205429077, 'получить_VERB_время_NOUN': 0.29441195726394653, 'получить_VERB_год_NOUN': 0.26963871717453003, 'получить_VERB_развитие_NOUN': 0.31466805934906006, 'получить_VERB_согласие_NOUN': 0.3130949139595032, 'получить_VERB_работа_NOUN': 0.29303038120269775, 'получить_VERB_задание_NOUN': 0.27696508169174194, 'получить_VERB_свобода_NOUN': 0.3345518708229065, 'получить_VERB_ранение_NOUN': 0.059659719467163086, 'получить_VERB_доступ_NOUN': 0.30361777544021606, 'получить_VERB_сообщение_NOUN': 0.2898387908935547, 'получить_VERB_приз_NOUN': 0.27622950077056885, 'получить_VERB_имя_NOUN': 0.3177949786186218, 'получить_VERB_квартира_NOUN': 0.31033647060394287, 'получить_VERB_орден_NOUN': 0.26913899183273315, 'получить_VERB_россия_NOUN': 0.31255364418029785, 'получить_VERB_наследство_NOUN': 0.27553367614746094, 'получить_VERB_значение_NOUN': 0.310347318649292, 'получить_VERB_поддержка_NOUN': 0.30440908670425415, 'получить_VERB_задача_NOUN': 0.3064272403717041, 'получить_VERB_статус_NOUN': 0.31447482109069824, 'получить_VERB_признание_NOUN': 0.2993295192718506, 'получить_VERB_одобрение_NOUN': 0.3187456727027893, 'получить_VERB_власть_NOUN': 0.3316815495491028, 'получить_VERB_записка_NOUN': 0.31032806634902954, 'получить_VERB_чин_NOUN': 0.2963249087333679, 'получить_VERB_заказ_NOUN': 0.3014702796936035, 'получить_VERB_удар_NOUN': 0.1214415431022644, 'получить_VERB_жизнь_NOUN': 0.30619102716445923, 'получить_VERB_лицензия_NOUN': 0.28378283977508545, 'получить_VERB_предложение_NOUN': 0.32313698530197144, 'получить_VERB_день_NOUN': 0.28835564851760864, 'получить_VERB_билет_NOUN': 0.3161625862121582, 'получить_VERB_воспитание_NOUN': 0.2943097949028015, 'получить_VERB_бумага_NOUN': 0.3310813307762146, 'получить_VERB_подтверждение_NOUN': 0.29433298110961914, 'получить_VERB_повеление_NOUN': 0.3138384222984314, 'получить_VERB_травма_NOUN': 0.08082228899002075, 'получить_VERB_указание_NOUN': 0.305755615234375, 'получить_VERB_кредит_NOUN': 0.31027066707611084, 'получить_VERB_отпуск_NOUN': 0.3262961506843567, 'получить_VERB_подарок_NOUN': 0.2818140983581543, 'получить_VERB_паспорт_NOUN': 0.3063161373138428, 'получить_VERB_лет_NOUN': 0.3339883089065552, 'получить_VERB_должность_NOUN': 0.29722797870635986, 'получить_VERB_сумма_NOUN': 0.2951623797416687, 'получить_VERB_извещение_NOUN': 0.28325963020324707, 'получить_VERB_помощь_NOUN': 0.3015453815460205, 'получить_VERB_прибыль_NOUN': 0.2832428216934204, 'получить_VERB_повестка_NOUN': 0.3211240768432617, 'получить_VERB_рана_NOUN': 0.09592562913894653, 'получить_VERB_материал_NOUN': 0.3266524076461792, 'получить_VERB_шанс_NOUN': 0.2911546230316162, 'получить_VERB_лицо_NOUN': 0.3018767237663269, 'получить_VERB_благословение_NOUN': 0.2992832064628601, 'получить_VERB_уведомление_NOUN': 0.2787407636642456, 'получить_VERB_надежда_NOUN': 0.34266507625579834, 'получить_VERB_книга_NOUN': 0.3146980404853821, 'получить_VERB_знание_NOUN': 0.3025006055831909, 'получить_VERB_известность_NOUN': 0.3163626194000244, 'получить_VERB_часть_NOUN': 0.2958438992500305, 'получить_VERB_отец_NOUN': 0.2809532880783081, 'получить_VERB_число_NOUN': 0.2924231290817261, 'получить_VERB_анализ_NOUN': 0.29637062549591064, 'получить_VERB_предписание_NOUN': 0.2809010148048401, 'получить_VERB_пуля_NOUN': 0.13133543729782104, 'получить_VERB_желание_NOUN': 0.33209162950515747, 'получить_VERB_наименование_NOUN': 0.30096369981765747, 'получить_VERB_пропуск_NOUN': 0.31179630756378174, 'получить_VERB_донесение_NOUN': 0.2972850799560547, 'получить_VERB_оценка_NOUN': 0.3067517876625061, 'получить_VERB_титул_NOUN': 0.27943843603134155, 'получить_VERB_масса_NOUN': 0.33847224712371826, 'получить_VERB_земля_NOUN': 0.3002506494522095, 'получить_VERB_выговор_NOUN': 0.2630048990249634, 'получить_VERB_гонорар_NOUN': 0.29129499197006226, 'получить_VERB_ребенок_NOUN': 0.2800692319869995, 'получить_VERB_расчет_NOUN': 0.32480472326278687, 'получить_VERB_патент_NOUN': 0.2781703472137451, 'получить_VERB_слово_NOUN': 0.32671743631362915, 'получить_VERB_прощение_NOUN': 0.272411584854126, 'получить_VERB_медаль_NOUN': 0.27304649353027344, 'получить_VERB_компания_NOUN': 0.3480873703956604, 'получить_VERB_дело_NOUN': 0.29906708002090454, 'получить_VERB_документ_NOUN': 0.30874210596084595, 'получить_VERB_степень_NOUN': 0.28194642066955566, 'получить_VERB_отставка_NOUN': 0.2884966731071472, 'получить_VERB_представление_NOUN': 0.32697808742523193, 'получить_VERB_продукт_NOUN': 0.3400384187698364, 'получить_VERB_доход_NOUN': 0.3063991069793701, 'получить_VERB_армия_NOUN': 0.28780966997146606, 'получить_VERB_машина_NOUN': 0.2988588809967041, 'получить_VERB_распоряжение_NOUN': 0.29925668239593506, 'получить_VERB_свидетельство_NOUN': 0.28925424814224243, 'получить_VERB_москва_NOUN': 0.3396757245063782, 'получить_VERB_виза_NOUN': 0.3022596836090088, 'получить_VERB_аттестат_NOUN': 0.2606656551361084, 'получить_VERB_формула_NOUN': 0.32455718517303467, 'получить_VERB_сертификат_NOUN': 0.27687549591064453, 'получить_VERB_компенсация_NOUN': 0.2652098536491394, 'получить_VERB_указ_NOUN': 0.31039005517959595, 'получить_VERB_вопрос_NOUN': 0.29478752613067627, 'получить_VERB_зарплата_NOUN': 0.2967125177383423, 'получить_VERB_срок_NOUN': 0.3053252100944519, 'получить_VERB_благодарность_NOUN': 0.31342166662216187, 'получить_VERB_жалование_NOUN': 0.28666824102401733, 'получить_VERB_удовлетворение_NOUN': 0.29602742195129395, 'получить_VERB_средство_NOUN': 0.31954658031463623, 'получить_VERB_справка_NOUN': 0.2861977219581604, 'получить_VERB_честь_NOUN': 0.3235921859741211, 'получить_VERB_ряд_NOUN': 0.34892940521240234, 'получить_VERB_страна_NOUN': 0.32493001222610474, 'получить_VERB_дар_NOUN': 0.30352747440338135, 'получить_VERB_средства_NOUN': 0.31493955850601196, 'получить_VERB_повышение_NOUN': 0.30674654245376587, 'получить_VERB_позволение_NOUN': 0.33794230222702026, 'получить_VERB_характер_NOUN': 0.30460822582244873, 'получить_VERB_пятерка_NOUN': 0.2740876078605652, 'получить_VERB_большинство_NOUN': 0.3386344909667969, 'получить_VERB_система_NOUN': 0.3250412344932556, 'получить_VERB_направление_NOUN': 0.314195454120636, 'получить_VERB_пенсия_NOUN': 0.2690025568008423, 'получить_VERB_множество_NOUN': 0.3483920097351074, 'получить_VERB_совет_NOUN': 0.3274017572402954}\n",
            "{'получить_VERB_письмо_NOUN': 0.3147515654563904, 'получить_VERB_возможность_NOUN': 0.2774749994277954, 'получить_VERB_ответ_NOUN': 0.26266229152679443, 'получить_VERB_название_NOUN': 0.3125973343849182, 'получить_VERB_деньги_NOUN': 0.24433112144470215, 'получить_VERB_известие_NOUN': 0.30522996187210083, 'получить_VERB_результат_NOUN': 0.2670133709907532, 'получить_VERB_разрешение_NOUN': 0.3244834542274475, 'получить_VERB_телеграмма_NOUN': 0.30155062675476074, 'получить_VERB_приглашение_NOUN': 0.306440532207489, 'получить_VERB_место_NOUN': 0.2590113878250122, 'получить_VERB_сведение_NOUN': 0.2998696565628052, 'получить_VERB_информация_NOUN': 0.2817317843437195, 'получить_VERB_приказ_NOUN': 0.2766856551170349, 'получить_VERB_данные_NOUN': 0.299257755279541, 'получить_VERB_образование_NOUN': 0.25970393419265747, 'получить_VERB_человек_NOUN': 0.24603641033172607, 'получить_VERB_отказ_NOUN': 0.30535179376602173, 'получить_VERB_звание_NOUN': 0.27469342947006226, 'получить_VERB_диплом_NOUN': 0.2757960557937622, 'получить_VERB_право_NOUN': 0.26714152097702026, 'получить_VERB_назначение_NOUN': 0.3071591258049011, 'получить_VERB_приказание_NOUN': 0.3084180951118469, 'получить_VERB_распространение_NOUN': 0.28843748569488525, 'получить_VERB_удовольствие_NOUN': 0.31482601165771484, 'получить_VERB_награда_NOUN': 0.26624250411987305, 'получить_VERB_премия_NOUN': 0.27326542139053345, 'получить_VERB_время_NOUN': 0.286007821559906, 'получить_VERB_год_NOUN': 0.24959397315979004, 'получить_VERB_развитие_NOUN': 0.2668836712837219, 'получить_VERB_согласие_NOUN': 0.3085532784461975, 'получить_VERB_работа_NOUN': 0.25978851318359375, 'получить_VERB_задание_NOUN': 0.31585031747817993, 'получить_VERB_свобода_NOUN': 0.2765655517578125, 'получить_VERB_ранение_NOUN': 0.31259530782699585, 'получить_VERB_доступ_NOUN': 0.29926180839538574, 'получить_VERB_сообщение_NOUN': 0.31649547815322876, 'получить_VERB_приз_NOUN': 0.2821750044822693, 'получить_VERB_имя_NOUN': 0.3214036822319031, 'получить_VERB_квартира_NOUN': 0.2630041241645813, 'получить_VERB_орден_NOUN': 0.289279043674469, 'получить_VERB_россия_NOUN': 0.06872761249542236, 'получить_VERB_наследство_NOUN': 0.28038763999938965, 'получить_VERB_значение_NOUN': 0.2908644676208496, 'получить_VERB_поддержка_NOUN': 0.26572442054748535, 'получить_VERB_задача_NOUN': 0.2941761612892151, 'получить_VERB_статус_NOUN': 0.25869423151016235, 'получить_VERB_признание_NOUN': 0.27407974004745483, 'получить_VERB_одобрение_NOUN': 0.31331658363342285, 'получить_VERB_власть_NOUN': 0.12420988082885742, 'получить_VERB_записка_NOUN': 0.3640255928039551, 'получить_VERB_чин_NOUN': 0.30045855045318604, 'получить_VERB_заказ_NOUN': 0.30720704793930054, 'получить_VERB_удар_NOUN': 0.2901366353034973, 'получить_VERB_жизнь_NOUN': 0.25342220067977905, 'получить_VERB_лицензия_NOUN': 0.2843952178955078, 'получить_VERB_предложение_NOUN': 0.2773358225822449, 'получить_VERB_день_NOUN': 0.2751277685165405, 'получить_VERB_билет_NOUN': 0.29844653606414795, 'получить_VERB_воспитание_NOUN': 0.3188626170158386, 'получить_VERB_бумага_NOUN': 0.3356229066848755, 'получить_VERB_подтверждение_NOUN': 0.3206154704093933, 'получить_VERB_повеление_NOUN': 0.2834857106208801, 'получить_VERB_травма_NOUN': 0.32207369804382324, 'получить_VERB_указание_NOUN': 0.29193544387817383, 'получить_VERB_кредит_NOUN': 0.26919025182724, 'получить_VERB_отпуск_NOUN': 0.31865131855010986, 'получить_VERB_подарок_NOUN': 0.2865145802497864, 'получить_VERB_паспорт_NOUN': 0.30625706911087036, 'получить_VERB_лет_NOUN': 0.3354429006576538, 'получить_VERB_должность_NOUN': 0.2556808590888977, 'получить_VERB_сумма_NOUN': 0.2832045555114746, 'получить_VERB_извещение_NOUN': 0.32920533418655396, 'получить_VERB_помощь_NOUN': 0.284260094165802, 'получить_VERB_прибыль_NOUN': 0.2609044313430786, 'получить_VERB_повестка_NOUN': 0.310452401638031, 'получить_VERB_рана_NOUN': 0.33868229389190674, 'получить_VERB_материал_NOUN': 0.31435978412628174, 'получить_VERB_шанс_NOUN': 0.29122060537338257, 'получить_VERB_лицо_NOUN': 0.2935086488723755, 'получить_VERB_благословение_NOUN': 0.28737813234329224, 'получить_VERB_уведомление_NOUN': 0.31046557426452637, 'получить_VERB_надежда_NOUN': 0.3116908669471741, 'получить_VERB_книга_NOUN': 0.3013255000114441, 'получить_VERB_знание_NOUN': 0.28590822219848633, 'получить_VERB_известность_NOUN': 0.270993709564209, 'получить_VERB_часть_NOUN': 0.2629585862159729, 'получить_VERB_отец_NOUN': 0.2950172424316406, 'получить_VERB_число_NOUN': 0.24449032545089722, 'получить_VERB_анализ_NOUN': 0.2959689497947693, 'получить_VERB_предписание_NOUN': 0.29640084505081177, 'получить_VERB_пуля_NOUN': 0.3494778871536255, 'получить_VERB_желание_NOUN': 0.2938039302825928, 'получить_VERB_наименование_NOUN': 0.3017997145652771, 'получить_VERB_пропуск_NOUN': 0.3369131088256836, 'получить_VERB_донесение_NOUN': 0.3357319235801697, 'получить_VERB_оценка_NOUN': 0.27085524797439575, 'получить_VERB_титул_NOUN': 0.26082462072372437, 'получить_VERB_масса_NOUN': 0.28338879346847534, 'получить_VERB_земля_NOUN': 0.24530720710754395, 'получить_VERB_выговор_NOUN': 0.32482606172561646, 'получить_VERB_гонорар_NOUN': 0.2807443141937256, 'получить_VERB_ребенок_NOUN': 0.27027446031570435, 'получить_VERB_расчет_NOUN': 0.3144568204879761, 'получить_VERB_патент_NOUN': 0.27490562200546265, 'получить_VERB_слово_NOUN': 0.270654559135437, 'получить_VERB_прощение_NOUN': 0.3113393187522888, 'получить_VERB_медаль_NOUN': 0.3085433840751648, 'получить_VERB_компания_NOUN': 0.24770629405975342, 'получить_VERB_дело_NOUN': 0.2742624282836914, 'получить_VERB_документ_NOUN': 0.3013639450073242, 'получить_VERB_степень_NOUN': 0.2891576886177063, 'получить_VERB_отставка_NOUN': 0.2822994589805603, 'получить_VERB_представление_NOUN': 0.29368358850479126, 'получить_VERB_продукт_NOUN': 0.3180351257324219, 'получить_VERB_доход_NOUN': 0.27488142251968384, 'получить_VERB_армия_NOUN': 0.2274356484413147, 'получить_VERB_машина_NOUN': 0.2945658564567566, 'получить_VERB_распоряжение_NOUN': 0.2807689905166626, 'получить_VERB_свидетельство_NOUN': 0.320570170879364, 'получить_VERB_москва_NOUN': 0.13037467002868652, 'получить_VERB_виза_NOUN': 0.268592894077301, 'получить_VERB_аттестат_NOUN': 0.2909204959869385, 'получить_VERB_формула_NOUN': 0.3117308020591736, 'получить_VERB_сертификат_NOUN': 0.30320948362350464, 'получить_VERB_компенсация_NOUN': 0.292472243309021, 'получить_VERB_указ_NOUN': 0.24773097038269043, 'получить_VERB_вопрос_NOUN': 0.26715517044067383, 'получить_VERB_зарплата_NOUN': 0.25183039903640747, 'получить_VERB_срок_NOUN': 0.28493088483810425, 'получить_VERB_благодарность_NOUN': 0.3061997890472412, 'получить_VERB_жалование_NOUN': 0.28611332178115845, 'получить_VERB_удовлетворение_NOUN': 0.33466869592666626, 'получить_VERB_средство_NOUN': 0.3085840940475464, 'получить_VERB_справка_NOUN': 0.31444722414016724, 'получить_VERB_честь_NOUN': 0.28715455532073975, 'получить_VERB_ряд_NOUN': 0.3176235556602478, 'получить_VERB_страна_NOUN': 0.09443342685699463, 'получить_VERB_дар_NOUN': 0.30682510137557983, 'получить_VERB_средства_NOUN': 0.2939196825027466, 'получить_VERB_повышение_NOUN': 0.3232787251472473, 'получить_VERB_позволение_NOUN': 0.3424159288406372, 'получить_VERB_характер_NOUN': 0.342995285987854, 'получить_VERB_пятерка_NOUN': 0.29293739795684814, 'получить_VERB_большинство_NOUN': 0.2427910566329956, 'получить_VERB_система_NOUN': 0.2303791046142578, 'получить_VERB_направление_NOUN': 0.32553011178970337, 'получить_VERB_пенсия_NOUN': 0.26445770263671875, 'получить_VERB_множество_NOUN': 0.349045991897583, 'получить_VERB_совет_NOUN': 0.28280556201934814}\n",
            "{'получить_VERB_письмо_NOUN': 0.3386681079864502, 'получить_VERB_возможность_NOUN': 0.3195931315422058, 'получить_VERB_ответ_NOUN': 0.285569965839386, 'получить_VERB_название_NOUN': 0.30091696977615356, 'получить_VERB_деньги_NOUN': 0.34162843227386475, 'получить_VERB_известие_NOUN': 0.34556710720062256, 'получить_VERB_результат_NOUN': 0.2867423892021179, 'получить_VERB_разрешение_NOUN': 0.34086471796035767, 'получить_VERB_телеграмма_NOUN': 0.3413751721382141, 'получить_VERB_приглашение_NOUN': 0.33531898260116577, 'получить_VERB_место_NOUN': 0.31957578659057617, 'получить_VERB_сведение_NOUN': 0.2970477342605591, 'получить_VERB_информация_NOUN': 0.31603580713272095, 'получить_VERB_приказ_NOUN': 0.32629603147506714, 'получить_VERB_данные_NOUN': 0.2991136312484741, 'получить_VERB_образование_NOUN': 0.2785189151763916, 'получить_VERB_человек_NOUN': 0.327068567276001, 'получить_VERB_отказ_NOUN': 0.2952702045440674, 'получить_VERB_звание_NOUN': 0.30868756771087646, 'получить_VERB_диплом_NOUN': 0.2975597381591797, 'получить_VERB_право_NOUN': 0.3182665705680847, 'получить_VERB_назначение_NOUN': 0.31003230810165405, 'получить_VERB_приказание_NOUN': 0.34220582246780396, 'получить_VERB_распространение_NOUN': 0.2634597420692444, 'получить_VERB_удовольствие_NOUN': 0.3241713047027588, 'получить_VERB_награда_NOUN': 0.2882760167121887, 'получить_VERB_премия_NOUN': 0.3178024888038635, 'получить_VERB_время_NOUN': 0.35450929403305054, 'получить_VERB_год_NOUN': 0.32684141397476196, 'получить_VERB_развитие_NOUN': 0.2885811924934387, 'получить_VERB_согласие_NOUN': 0.3370118737220764, 'получить_VERB_работа_NOUN': 0.3287452459335327, 'получить_VERB_задание_NOUN': 0.34753257036209106, 'получить_VERB_свобода_NOUN': 0.3526061773300171, 'получить_VERB_ранение_NOUN': 0.32291555404663086, 'получить_VERB_доступ_NOUN': 0.30468469858169556, 'получить_VERB_сообщение_NOUN': 0.3382127285003662, 'получить_VERB_приз_NOUN': 0.3184977173805237, 'получить_VERB_имя_NOUN': 0.3225899934768677, 'получить_VERB_квартира_NOUN': 0.3504183292388916, 'получить_VERB_орден_NOUN': 0.30498677492141724, 'получить_VERB_россия_NOUN': 0.31350022554397583, 'получить_VERB_наследство_NOUN': 0.3143497705459595, 'получить_VERB_значение_NOUN': 0.2970018982887268, 'получить_VERB_поддержка_NOUN': 0.31500279903411865, 'получить_VERB_задача_NOUN': 0.3153386116027832, 'получить_VERB_статус_NOUN': 0.29746758937835693, 'получить_VERB_признание_NOUN': 0.30710387229919434, 'получить_VERB_одобрение_NOUN': 0.30750906467437744, 'получить_VERB_власть_NOUN': 0.3125051259994507, 'получить_VERB_записка_NOUN': 0.34907764196395874, 'получить_VERB_чин_NOUN': 0.3198338747024536, 'получить_VERB_заказ_NOUN': 0.3216555714607239, 'получить_VERB_удар_NOUN': 0.32864171266555786, 'получить_VERB_жизнь_NOUN': 0.33714479207992554, 'получить_VERB_лицензия_NOUN': 0.3280227780342102, 'получить_VERB_предложение_NOUN': 0.32832878828048706, 'получить_VERB_день_NOUN': 0.31796830892562866, 'получить_VERB_билет_NOUN': 0.3378753066062927, 'получить_VERB_воспитание_NOUN': 0.33579105138778687, 'получить_VERB_бумага_NOUN': 0.34788626432418823, 'получить_VERB_подтверждение_NOUN': 0.3061416745185852, 'получить_VERB_повеление_NOUN': 0.3265106678009033, 'получить_VERB_травма_NOUN': 0.34054088592529297, 'получить_VERB_указание_NOUN': 0.29515284299850464, 'получить_VERB_кредит_NOUN': 0.3458207845687866, 'получить_VERB_отпуск_NOUN': 0.35721373558044434, 'получить_VERB_подарок_NOUN': 0.3303748369216919, 'получить_VERB_паспорт_NOUN': 0.35617250204086304, 'получить_VERB_лет_NOUN': 0.366938054561615, 'получить_VERB_должность_NOUN': 0.3261444568634033, 'получить_VERB_сумма_NOUN': 0.28773248195648193, 'получить_VERB_извещение_NOUN': 0.3299018144607544, 'получить_VERB_помощь_NOUN': 0.3145190477371216, 'получить_VERB_прибыль_NOUN': 0.3143109083175659, 'получить_VERB_повестка_NOUN': 0.3344273567199707, 'получить_VERB_рана_NOUN': 0.3801352381706238, 'получить_VERB_материал_NOUN': 0.2644628882408142, 'получить_VERB_шанс_NOUN': 0.358894944190979, 'получить_VERB_лицо_NOUN': 0.3168625831604004, 'получить_VERB_благословение_NOUN': 0.3425820469856262, 'получить_VERB_уведомление_NOUN': 0.3145708441734314, 'получить_VERB_надежда_NOUN': 0.37619906663894653, 'получить_VERB_книга_NOUN': 0.32535243034362793, 'получить_VERB_знание_NOUN': 0.3090042471885681, 'получить_VERB_известность_NOUN': 0.30928975343704224, 'получить_VERB_часть_NOUN': 0.2658376693725586, 'получить_VERB_отец_NOUN': 0.34864193201065063, 'получить_VERB_число_NOUN': 0.18994009494781494, 'получить_VERB_анализ_NOUN': 0.32210493087768555, 'получить_VERB_предписание_NOUN': 0.3156138062477112, 'получить_VERB_пуля_NOUN': 0.33651232719421387, 'получить_VERB_желание_NOUN': 0.3414018154144287, 'получить_VERB_наименование_NOUN': 0.26891034841537476, 'получить_VERB_пропуск_NOUN': 0.3576011657714844, 'получить_VERB_донесение_NOUN': 0.348008394241333, 'получить_VERB_оценка_NOUN': 0.3042066693305969, 'получить_VERB_титул_NOUN': 0.32052916288375854, 'получить_VERB_масса_NOUN': 0.10837501287460327, 'получить_VERB_земля_NOUN': 0.32084524631500244, 'получить_VERB_выговор_NOUN': 0.33346831798553467, 'получить_VERB_гонорар_NOUN': 0.31356990337371826, 'получить_VERB_ребенок_NOUN': 0.3365720510482788, 'получить_VERB_расчет_NOUN': 0.3287864923477173, 'получить_VERB_патент_NOUN': 0.2849646806716919, 'получить_VERB_слово_NOUN': 0.3479612469673157, 'получить_VERB_прощение_NOUN': 0.3549778461456299, 'получить_VERB_медаль_NOUN': 0.3306996822357178, 'получить_VERB_компания_NOUN': 0.3216369152069092, 'получить_VERB_дело_NOUN': 0.34822362661361694, 'получить_VERB_документ_NOUN': 0.33046942949295044, 'получить_VERB_степень_NOUN': 0.3153163194656372, 'получить_VERB_отставка_NOUN': 0.3475850820541382, 'получить_VERB_представление_NOUN': 0.3116534948348999, 'получить_VERB_продукт_NOUN': 0.3229767680168152, 'получить_VERB_доход_NOUN': 0.3076289892196655, 'получить_VERB_армия_NOUN': 0.2796207070350647, 'получить_VERB_машина_NOUN': 0.36760014295578003, 'получить_VERB_распоряжение_NOUN': 0.3110840916633606, 'получить_VERB_свидетельство_NOUN': 0.30232739448547363, 'получить_VERB_москва_NOUN': 0.35132575035095215, 'получить_VERB_виза_NOUN': 0.3468363881111145, 'получить_VERB_аттестат_NOUN': 0.30619847774505615, 'получить_VERB_формула_NOUN': 0.3134128451347351, 'получить_VERB_сертификат_NOUN': 0.30410945415496826, 'получить_VERB_компенсация_NOUN': 0.31146514415740967, 'получить_VERB_указ_NOUN': 0.31567561626434326, 'получить_VERB_вопрос_NOUN': 0.3413550853729248, 'получить_VERB_зарплата_NOUN': 0.3097180128097534, 'получить_VERB_срок_NOUN': 0.32543569803237915, 'получить_VERB_благодарность_NOUN': 0.3340659737586975, 'получить_VERB_жалование_NOUN': 0.3228098750114441, 'получить_VERB_удовлетворение_NOUN': 0.3321521282196045, 'получить_VERB_средство_NOUN': 0.32396429777145386, 'получить_VERB_справка_NOUN': 0.33531653881073, 'получить_VERB_честь_NOUN': 0.326166033744812, 'получить_VERB_ряд_NOUN': 0.11230659484863281, 'получить_VERB_страна_NOUN': 0.2936486005783081, 'получить_VERB_дар_NOUN': 0.3491012454032898, 'получить_VERB_средства_NOUN': 0.3132854104042053, 'получить_VERB_повышение_NOUN': 0.3212878704071045, 'получить_VERB_позволение_NOUN': 0.35373562574386597, 'получить_VERB_характер_NOUN': 0.3161128759384155, 'получить_VERB_пятерка_NOUN': 0.2928507328033447, 'получить_VERB_большинство_NOUN': 0.20519107580184937, 'получить_VERB_система_NOUN': 0.291856050491333, 'получить_VERB_направление_NOUN': 0.3196614980697632, 'получить_VERB_пенсия_NOUN': 0.32849419116973877, 'получить_VERB_множество_NOUN': 0.08795875310897827, 'получить_VERB_совет_NOUN': 0.34177106618881226}\n"
          ],
          "name": "stdout"
        }
      ]
    },
    {
      "cell_type": "code",
      "metadata": {
        "id": "6Z3_6mx9d9AX",
        "colab_type": "code",
        "outputId": "5cb7f5c5-fb7d-4104-bd33-b181a3bc2e94",
        "colab": {
          "base_uri": "https://localhost:8080/",
          "height": 258
        }
      },
      "source": [
        "# получение 3 слов\n",
        "nxt_ier2 = []\n",
        "for slv in nxt_ier1:\n",
        "    fin_clas1 = {}\n",
        "    for i in range(3):\n",
        "        min_val1 = min(slv.values())\n",
        "        for k, v in slv.items():\n",
        "            if v == min_val1:\n",
        "                k1 = k\n",
        "        del slv[k1]\n",
        "        fin_clas1[k1] = min_val1\n",
        "    nxt_ier2.append(fin_clas1)\n",
        "\n",
        "for r in nxt_ier2:\n",
        "    print(r)"
      ],
      "execution_count": 40,
      "outputs": [
        {
          "output_type": "stream",
          "text": [
            "{'получить_VERB_сообщение_NOUN': 0.07372575998306274, 'получить_VERB_телеграмма_NOUN': 0.0802619457244873, 'получить_VERB_извещение_NOUN': 0.08627545833587646}\n",
            "{'получить_VERB_шанс_NOUN': 0.08200448751449585, 'получить_VERB_возможность_NOUN': 0.0835646390914917, 'получить_VERB_надежда_NOUN': 0.11150532960891724}\n",
            "{'получить_VERB_название_NOUN': 0.04552870988845825, 'получить_VERB_наименование_NOUN': 0.04574871063232422, 'получить_VERB_имя_NOUN': 0.08784222602844238}\n",
            "{'получить_VERB_жалование_NOUN': 0.09609133005142212, 'получить_VERB_зарплата_NOUN': 0.09741103649139404, 'получить_VERB_награда_NOUN': 0.10314768552780151}\n",
            "{'получить_VERB_оценка_NOUN': 0.08142662048339844, 'получить_VERB_анализ_NOUN': 0.09044277667999268, 'получить_VERB_результат_NOUN': 0.11349648237228394}\n",
            "{'получить_VERB_приказание_NOUN': 0.03685528039932251, 'получить_VERB_приказ_NOUN': 0.03881478309631348, 'получить_VERB_распоряжение_NOUN': 0.04719436168670654}\n",
            "{'получить_VERB_образование_NOUN': 0.0838843584060669, 'получить_VERB_развитие_NOUN': 0.09050107002258301, 'получить_VERB_воспитание_NOUN': 0.1094660758972168}\n",
            "{'получить_VERB_год_NOUN': 0.0953029990196228, 'получить_VERB_день_NOUN': 0.1061631441116333, 'получить_VERB_человек_NOUN': 0.11236536502838135}\n",
            "{'получить_VERB_сертификат_NOUN': 0.07693749666213989, 'получить_VERB_паспорт_NOUN': 0.08485138416290283, 'получить_VERB_документ_NOUN': 0.08848518133163452}\n",
            "{'получить_VERB_одобрение_NOUN': 0.04529309272766113, 'получить_VERB_согласие_NOUN': 0.07880234718322754, 'получить_VERB_поддержка_NOUN': 0.08188354969024658}\n",
            "{'получить_VERB_ранение_NOUN': 0.059659719467163086, 'получить_VERB_травма_NOUN': 0.08082228899002075, 'получить_VERB_рана_NOUN': 0.09592562913894653}\n",
            "{'получить_VERB_россия_NOUN': 0.06872761249542236, 'получить_VERB_страна_NOUN': 0.09443342685699463, 'получить_VERB_власть_NOUN': 0.12420988082885742}\n",
            "{'получить_VERB_множество_NOUN': 0.08795875310897827, 'получить_VERB_масса_NOUN': 0.10837501287460327, 'получить_VERB_ряд_NOUN': 0.11230659484863281}\n"
          ],
          "name": "stdout"
        }
      ]
    },
    {
      "cell_type": "markdown",
      "metadata": {
        "id": "ezV2uOQjjTtX",
        "colab_type": "text"
      },
      "source": [
        "### Задача 5: оформить результат в виде набора групп из трех словосочетаний"
      ]
    },
    {
      "cell_type": "markdown",
      "metadata": {
        "id": "noTy0Ff3jkRi",
        "colab_type": "text"
      },
      "source": [
        "#### Для K-means"
      ]
    },
    {
      "cell_type": "code",
      "metadata": {
        "id": "19ZewTFQe0di",
        "colab_type": "code",
        "outputId": "3edf472b-83ec-4862-a3d4-3ec185d448ae",
        "colab": {
          "base_uri": "https://localhost:8080/",
          "height": 136
        }
      },
      "source": [
        "final_str = ''\n",
        "for st in for_km2:\n",
        "    for k, v in st.items():\n",
        "        phrase = re.findall(r'[а-я]+', k)\n",
        "        final_str += phrase[0] + '_' + phrase[1] + ', '\n",
        "    final_str = re.split(r', $', final_str)\n",
        "    final_str = final_str[0] + '\\n'\n",
        "\n",
        "print(final_str)"
      ],
      "execution_count": 41,
      "outputs": [
        {
          "output_type": "stream",
          "text": [
            "получить_год, получить_человек, получить_день\n",
            "получить_указание, получить_распоряжение, получить_приказ\n",
            "получить_образование, получить_число, получить_оценка\n",
            "получить_телеграмма, получить_извещение, получить_письмо\n",
            "получить_зарплата, получить_гонорар, получить_жалование\n",
            "получить_диплом, получить_сертификат, получить_награда\n",
            "\n"
          ],
          "name": "stdout"
        }
      ]
    },
    {
      "cell_type": "markdown",
      "metadata": {
        "id": "PQrv87RnvyWB",
        "colab_type": "text"
      },
      "source": [
        "#### Иерархическая кластеризация"
      ]
    },
    {
      "cell_type": "code",
      "metadata": {
        "id": "O76313sEfkKV",
        "colab_type": "code",
        "outputId": "e58cbb01-6a12-472d-f244-1f3414da4aa3",
        "colab": {
          "base_uri": "https://localhost:8080/",
          "height": 255
        }
      },
      "source": [
        "final_str2 = ''\n",
        "for st in nxt_ier2:\n",
        "    for k, v in st.items():\n",
        "        phrase = re.findall(r'[а-я]+', k)\n",
        "        final_str2 += phrase[0] + '_' + phrase[1] + ', '\n",
        "    final_str2 = re.split(r', $', final_str2)\n",
        "    final_str2 = final_str2[0] + '\\n'\n",
        "\n",
        "print(final_str2)"
      ],
      "execution_count": 42,
      "outputs": [
        {
          "output_type": "stream",
          "text": [
            "получить_сообщение, получить_телеграмма, получить_извещение\n",
            "получить_шанс, получить_возможность, получить_надежда\n",
            "получить_название, получить_наименование, получить_имя\n",
            "получить_жалование, получить_зарплата, получить_награда\n",
            "получить_оценка, получить_анализ, получить_результат\n",
            "получить_приказание, получить_приказ, получить_распоряжение\n",
            "получить_образование, получить_развитие, получить_воспитание\n",
            "получить_год, получить_день, получить_человек\n",
            "получить_сертификат, получить_паспорт, получить_документ\n",
            "получить_одобрение, получить_согласие, получить_поддержка\n",
            "получить_ранение, получить_травма, получить_рана\n",
            "получить_россия, получить_страна, получить_власть\n",
            "получить_множество, получить_масса, получить_ряд\n",
            "\n"
          ],
          "name": "stdout"
        }
      ]
    },
    {
      "cell_type": "markdown",
      "metadata": {
        "id": "agnAAVabvrsH",
        "colab_type": "text"
      },
      "source": [
        "### Анализ"
      ]
    },
    {
      "cell_type": "markdown",
      "metadata": {
        "id": "rY1uxNaDv18j",
        "colab_type": "text"
      },
      "source": [
        "В целом, в результате работы обоих алгоритмах кластеры получились скорее равномерные, чем нет. Они иллюстрируют разные значения глагола (к сожалению, не все из заявленных значений Ожеговым, но это зависит от набора, поступившего на считывание, так, последний 6 класс (разг.) сложно было бы найти любым из использованных алгоритмов). Чаще всего в обоих случаях мы видим представителей 1 класса (Ож.), то есть объекты, которые можно как-то приобрести или получить, и 2 класса, в котором находятся слова, связанные с исполнение чего-либо, при этом, оба алгоритма кластеризируют скорее оттенки слов внутри 1 класса. Редко встречаются представители 4 класса, связанного с +- эмоциональной сферой и 5 класса, связанного с переходом в какое-то состояние (это относится к иерархической кластеризации, так как к-средние плохо видят эти группы). Практически не встречается ни в одном из способов кластеризации 3 класс, связанный с производством из чего-либо и предаставители 6 класса.\n",
        "\n",
        "Тем не менее, обоим методам удалось захватить самые частотные классы и, расширив список, мы можем получить полной покрытие значений глагола \"получить\" (хотя на данный момент и на заявленном количесвте слов \"поймать\" удалось не все значения, но бОльшую их часть).\n",
        "\n",
        "Обе кластеризации выделяют в основном оттенки 1 класса.\n",
        "\n",
        "PS: какжется, что иерархическая кластеризация работает немного (совсем чуть-чуть) точнее и объемнее, чем метод К-средних."
      ]
    },
    {
      "cell_type": "code",
      "metadata": {
        "id": "mriQ55sCDBo8",
        "colab_type": "code",
        "outputId": "a65f735a-72a7-4a9d-a0fa-4edc4ecb320d",
        "colab": {
          "base_uri": "https://localhost:8080/",
          "height": 459
        }
      },
      "source": [
        "print(\"Результаты, полученные иерархической кластеризацией:\\n----\\n\",\n",
        "      final_str2)\n",
        "\n",
        "print(\"\\nРезультаты, полученные алгоритмом К-средних:\\n----\\n\", final_str)"
      ],
      "execution_count": 43,
      "outputs": [
        {
          "output_type": "stream",
          "text": [
            "Результаты, полученные иерархической кластеризацией:\n",
            "----\n",
            " получить_сообщение, получить_телеграмма, получить_извещение\n",
            "получить_шанс, получить_возможность, получить_надежда\n",
            "получить_название, получить_наименование, получить_имя\n",
            "получить_жалование, получить_зарплата, получить_награда\n",
            "получить_оценка, получить_анализ, получить_результат\n",
            "получить_приказание, получить_приказ, получить_распоряжение\n",
            "получить_образование, получить_развитие, получить_воспитание\n",
            "получить_год, получить_день, получить_человек\n",
            "получить_сертификат, получить_паспорт, получить_документ\n",
            "получить_одобрение, получить_согласие, получить_поддержка\n",
            "получить_ранение, получить_травма, получить_рана\n",
            "получить_россия, получить_страна, получить_власть\n",
            "получить_множество, получить_масса, получить_ряд\n",
            "\n",
            "\n",
            "Результаты, полученные алгоритмом К-средних:\n",
            "----\n",
            " получить_год, получить_человек, получить_день\n",
            "получить_указание, получить_распоряжение, получить_приказ\n",
            "получить_образование, получить_число, получить_оценка\n",
            "получить_телеграмма, получить_извещение, получить_письмо\n",
            "получить_зарплата, получить_гонорар, получить_жалование\n",
            "получить_диплом, получить_сертификат, получить_награда\n",
            "\n"
          ],
          "name": "stdout"
        }
      ]
    },
    {
      "cell_type": "markdown",
      "metadata": {
        "id": "zT14rKn6v2wY",
        "colab_type": "text"
      },
      "source": [
        "#### К-средние"
      ]
    },
    {
      "cell_type": "markdown",
      "metadata": {
        "id": "rYPSQV-Kv_pF",
        "colab_type": "text"
      },
      "source": [
        "В целом, кажется, что метод справляется с кластеризацией довольно неплохо. В каждый кластер входят практически однородные слова за некоторым исключением: иногда могут выпадать группы, в которых одного слово отличается в некоторой степени от других, хотя кажется, что слова очень похожи (оценка, число или год и работа), возможно, это связано с тем, что данный алгоритм допускает непрямые значения слов, тем не менее, все кажется более или менее однородным и сгруппированным.\n",
        "\n",
        "В остальном, у нас формируются группы:\n",
        "\n",
        "\n",
        "1.   Получение желаемого, искомого (аналогично классу 1 Ожегова) - группа \"сужается\" на материальной выгоде (скорее денежной за какую-либо деятельность)\n",
        "2.   Получение желаемого, искомого (аналогично классу 1 Ожегова) - группа концентрируется на формах какой-то деятельности/работы и **всем/ком**, что связано с ней\n",
        "3.   Получение желаемого, искомого (аналогично классу 1 Ожегова) - физические/нефизические носители информации\n",
        "4.   Все, что связано с работой и непосредственной физической оценкой работы/учебы - скорее 1 класс \n",
        "5.   Принятие чего-либо для дайльнейшего исполнения - по аналогии с классом 2 \n",
        "6.   Получение желаемого, искомого (аналогично классу 1 Ожегова) - группа концентрируется на письменном заверении деятельности. (положительные завершения деятельности)\n",
        "\n",
        "Таким образом, захватываются не все классы, выделенные Ожеговым, но все кажется хорошо работающим внутри 1-2 классов."
      ]
    },
    {
      "cell_type": "markdown",
      "metadata": {
        "id": "SvO2czhNv6jO",
        "colab_type": "text"
      },
      "source": [
        "#### Ирерахическая кластеризация"
      ]
    },
    {
      "cell_type": "markdown",
      "metadata": {
        "id": "93azbFFhwANr",
        "colab_type": "text"
      },
      "source": [
        "В иерархической кластеризации выделяется 13 кластеров, все кластеры выглядят очень однородными, за исключением \"год, день, человек\" (связанное с проведением времени - получить год звучит выглядит как что-то тюремное), этот ряд не очень очевиден, но может быть вполне логичным, так как все слова относятся к 1 классу по Ожегову (получение желаемого, искомого).\n",
        "\n",
        "В осатльном, видно, что слова в кластерах в основном отнсятся к 1 классу, намного реже ко 2, и еще реже 4 (ранения и т.д.) и 5 класс (одобрение и т.д.). Мы снова слабо прослеживаем 3 (хотя сюда можно отнести все, что связано с оценкой - результат и т.д. по аналаогии с выводами у ожегова) и не прослеживаем 6 класс (думаю, для того, чтобы его получить, надо еще больше расширить список).  \n",
        "\n",
        "* Видно, что выделяется очень много оттенков 1 класса (получение желаемого), но в таких случаях все выглядит очень однородным. \n",
        "\n",
        "* По сравнению с К-средними тут появляются классы, характеризующие время, власть, развитие ущерб (травмы), математические структуры (множество) слова, связанные с возможностями (шанс) - 5 класс (но есть что-то и от 4), и наименованиями (имя). На все остальное кажется ожидаемым:  физические/нефизические способы передачи информации (сообщения), указания, выгода из трудовой деятельности, документальные заверения.\n",
        "\n",
        "Кажется, что результаты очень хорошие и репрезентативные, а углубляться в анализ каждого кластера еще подробнее не имеет смысла на данном этапе."
      ]
    }
  ]
}