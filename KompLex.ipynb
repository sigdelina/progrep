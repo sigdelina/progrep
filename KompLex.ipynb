{
  "nbformat": 4,
  "nbformat_minor": 0,
  "metadata": {
    "colab": {
      "name": "KompLex.ipynb",
      "provenance": [],
      "collapsed_sections": [],
      "toc_visible": true
    },
    "kernelspec": {
      "name": "python3",
      "display_name": "Python 3"
    }
  },
  "cells": [
    {
      "cell_type": "markdown",
      "metadata": {
        "id": "Tlz5qsH8Lw7a",
        "colab_type": "text"
      },
      "source": [
        "# Домашнее задание 1. Кластеризация векторного пространства"
      ]
    },
    {
      "cell_type": "code",
      "metadata": {
        "id": "3BrN_mvzGDKx",
        "colab_type": "code",
        "colab": {}
      },
      "source": [
        "import urllib.request\n",
        "import gensim\n",
        "import re\n",
        "import numpy as np\n",
        "from gensim.models import word2vec"
      ],
      "execution_count": 0,
      "outputs": []
    },
    {
      "cell_type": "code",
      "metadata": {
        "id": "W1s8OxZyNs8Y",
        "colab_type": "code",
        "outputId": "4614c6ea-76f9-4075-d89b-b5a486c79e5e",
        "colab": {
          "base_uri": "https://localhost:8080/",
          "height": 51
        }
      },
      "source": [
        "urllib.request.urlretrieve(\"https://rusvectores.org/static/models/rusvectores4/taiga/taiga_upos_skipgram_300_2_2018.vec.gz\", \"taiga_upos_skipgram_300_2_2018.vec.gz\")"
      ],
      "execution_count": 2,
      "outputs": [
        {
          "output_type": "execute_result",
          "data": {
            "text/plain": [
              "('taiga_upos_skipgram_300_2_2018.vec.gz',\n",
              " <http.client.HTTPMessage at 0x7fcb285dc518>)"
            ]
          },
          "metadata": {
            "tags": []
          },
          "execution_count": 2
        }
      ]
    },
    {
      "cell_type": "code",
      "metadata": {
        "id": "MQJ4FN17OEoI",
        "colab_type": "code",
        "outputId": "8c983779-d87e-4226-f185-44985993eb66",
        "colab": {
          "base_uri": "https://localhost:8080/",
          "height": 71
        }
      },
      "source": [
        "m = 'taiga_upos_skipgram_300_2_2018.vec.gz'\n",
        "\n",
        "if m.endswith('.vec.gz'):\n",
        "    model = gensim.models.KeyedVectors.load_word2vec_format(m, binary=False)\n",
        "elif m.endswith('.bin.gz'):\n",
        "    model = gensim.models.KeyedVectors.load_word2vec_format(m, binary=True)\n",
        "else:\n",
        "    model = gensim.models.KeyedVectors.load(m)"
      ],
      "execution_count": 3,
      "outputs": [
        {
          "output_type": "stream",
          "text": [
            "/usr/local/lib/python3.6/dist-packages/smart_open/smart_open_lib.py:410: UserWarning: This function is deprecated, use smart_open.open instead. See the migration notes for details: https://github.com/RaRe-Technologies/smart_open/blob/master/README.rst#migrating-to-the-new-open-function\n",
            "  'See the migration notes for details: %s' % _MIGRATION_NOTES_URL\n"
          ],
          "name": "stderr"
        }
      ]
    },
    {
      "cell_type": "markdown",
      "metadata": {
        "id": "BRUXd6ogL4U-",
        "colab_type": "text"
      },
      "source": [
        "### Задача 1: извлечение из модели вектора для глагола и существительного из списка"
      ]
    },
    {
      "cell_type": "code",
      "metadata": {
        "id": "jyoAUIzMPUQE",
        "colab_type": "code",
        "colab": {}
      },
      "source": [
        "with open('Sigdel.txt', 'r', encoding='utf-8') as f:\n",
        "    lines = f.readlines()"
      ],
      "execution_count": 0,
      "outputs": []
    },
    {
      "cell_type": "code",
      "metadata": {
        "id": "pTZ2CyjyTr8w",
        "colab_type": "code",
        "outputId": "9a4b03ba-6255-42f3-c141-94c0e2fcfa38",
        "colab": {
          "base_uri": "https://localhost:8080/",
          "height": 71
        }
      },
      "source": [
        "nns = []\n",
        "verb = ''\n",
        "for phrase in lines:\n",
        "    n = re.findall(r'[а-я]+', phrase)\n",
        "    non = str(n[1]) + '_NOUN'\n",
        "    v = str(n[0]) + '_VERB'\n",
        "    nns.append(non)\n",
        "    if verb == '':\n",
        "        verb = v\n",
        "\n",
        "print(nns)\n",
        "print(verb)"
      ],
      "execution_count": 5,
      "outputs": [
        {
          "output_type": "stream",
          "text": [
            "['письмо_NOUN', 'возможность_NOUN', 'ответ_NOUN', 'название_NOUN', 'деньги_NOUN', 'известие_NOUN', 'результат_NOUN', 'разрешение_NOUN', 'телеграмма_NOUN', 'приглашение_NOUN', 'место_NOUN', 'сведение_NOUN', 'информация_NOUN', 'приказ_NOUN', 'данные_NOUN', 'образование_NOUN', 'человек_NOUN', 'отказ_NOUN', 'звание_NOUN', 'диплом_NOUN', 'право_NOUN', 'назначение_NOUN', 'приказание_NOUN', 'распространение_NOUN', 'удовольствие_NOUN', 'награда_NOUN', 'премия_NOUN', 'время_NOUN', 'год_NOUN', 'развитие_NOUN', 'согласие_NOUN', 'работа_NOUN', 'задание_NOUN', 'свобода_NOUN', 'ранение_NOUN', 'доступ_NOUN', 'сообщение_NOUN', 'приз_NOUN', 'имя_NOUN', 'квартира_NOUN', 'орден_NOUN', 'россия_NOUN', 'наследство_NOUN', 'значение_NOUN', 'поддержка_NOUN', 'задача_NOUN', 'статус_NOUN', 'признание_NOUN', 'одобрение_NOUN', 'власть_NOUN', 'записка_NOUN', 'чин_NOUN', 'заказ_NOUN', 'удар_NOUN', 'жизнь_NOUN', 'лицензия_NOUN', 'предложение_NOUN', 'день_NOUN', 'билет_NOUN', 'воспитание_NOUN', 'бумага_NOUN', 'подтверждение_NOUN', 'повеление_NOUN', 'травма_NOUN', 'указание_NOUN', 'кредит_NOUN', 'отпуск_NOUN', 'подарок_NOUN', 'паспорт_NOUN', 'лет_NOUN', 'должность_NOUN', 'сумма_NOUN', 'извещение_NOUN', 'помощь_NOUN', 'прибыль_NOUN', 'повестка_NOUN', 'рана_NOUN', 'материал_NOUN', 'шанс_NOUN', 'лицо_NOUN', 'благословение_NOUN', 'уведомление_NOUN', 'надежда_NOUN', 'книга_NOUN', 'знание_NOUN', 'известность_NOUN', 'часть_NOUN', 'отец_NOUN', 'число_NOUN', 'анализ_NOUN', 'предписание_NOUN', 'пуля_NOUN', 'желание_NOUN', 'наименование_NOUN', 'пропуск_NOUN', 'донесение_NOUN', 'оценка_NOUN', 'титул_NOUN', 'масса_NOUN', 'земля_NOUN', 'выговор_NOUN', 'гонорар_NOUN', 'ребенок_NOUN', 'расчет_NOUN', 'патент_NOUN', 'слово_NOUN', 'прощение_NOUN', 'медаль_NOUN', 'компания_NOUN', 'дело_NOUN', 'документ_NOUN', 'степень_NOUN', 'отставка_NOUN', 'представление_NOUN', 'продукт_NOUN', 'доход_NOUN', 'армия_NOUN', 'машина_NOUN', 'распоряжение_NOUN', 'свидетельство_NOUN', 'москва_NOUN', 'виза_NOUN', 'аттестат_NOUN', 'формула_NOUN', 'сертификат_NOUN', 'компенсация_NOUN', 'указ_NOUN', 'вопрос_NOUN', 'зарплата_NOUN', 'срок_NOUN', 'благодарность_NOUN', 'жалование_NOUN', 'удовлетворение_NOUN', 'средство_NOUN', 'справка_NOUN', 'честь_NOUN', 'ряд_NOUN', 'страна_NOUN', 'дар_NOUN', 'средства_NOUN', 'повышение_NOUN', 'позволение_NOUN', 'характер_NOUN', 'пятерка_NOUN', 'большинство_NOUN', 'система_NOUN', 'направление_NOUN', 'пенсия_NOUN', 'множество_NOUN', 'совет_NOUN']\n",
            "получить_VERB\n"
          ],
          "name": "stdout"
        }
      ]
    },
    {
      "cell_type": "code",
      "metadata": {
        "id": "JqoqCigrT3nZ",
        "colab_type": "code",
        "colab": {}
      },
      "source": [
        "nouns = {}\n",
        "for noun in nns:\n",
        "    if noun in model:\n",
        "        nouns[noun] = model[noun]\n",
        "    else:\n",
        "        print('Увы, слова \"%s\" нет в модели!' % noun)"
      ],
      "execution_count": 0,
      "outputs": []
    },
    {
      "cell_type": "code",
      "metadata": {
        "id": "RG0bM4fQddxq",
        "colab_type": "code",
        "colab": {}
      },
      "source": [
        "verbs = {}\n",
        "\n",
        "verb_val = model[verb]\n",
        "verbs[verb] = verb_val"
      ],
      "execution_count": 0,
      "outputs": []
    },
    {
      "cell_type": "markdown",
      "metadata": {
        "id": "auAY730xmCOs",
        "colab_type": "text"
      },
      "source": [
        "### Задача 2: построение репрезентации пары \"глагол+существительное\" с помощью простой аддитивной модели композиции"
      ]
    },
    {
      "cell_type": "code",
      "metadata": {
        "id": "TQRjIFCfmg8-",
        "colab_type": "code",
        "colab": {}
      },
      "source": [
        "import numpy as np"
      ],
      "execution_count": 0,
      "outputs": []
    },
    {
      "cell_type": "code",
      "metadata": {
        "id": "4OIQD2efmB3g",
        "colab_type": "code",
        "outputId": "634dcc0f-8957-4d91-929d-e97fbc5f0ccd",
        "colab": {
          "base_uri": "https://localhost:8080/",
          "height": 1000
        }
      },
      "source": [
        "phrase_dict = {}\n",
        "nms_ph = []\n",
        "for k, v in nouns.items():\n",
        "    dt = v+verb_val\n",
        "    phrs = verb + \"_\" + k\n",
        "    print(phrs)\n",
        "    nms_ph.append(phrs)\n",
        "    phrase_dict[phrs] = dt"
      ],
      "execution_count": 9,
      "outputs": [
        {
          "output_type": "stream",
          "text": [
            "получить_VERB_письмо_NOUN\n",
            "получить_VERB_возможность_NOUN\n",
            "получить_VERB_ответ_NOUN\n",
            "получить_VERB_название_NOUN\n",
            "получить_VERB_деньги_NOUN\n",
            "получить_VERB_известие_NOUN\n",
            "получить_VERB_результат_NOUN\n",
            "получить_VERB_разрешение_NOUN\n",
            "получить_VERB_телеграмма_NOUN\n",
            "получить_VERB_приглашение_NOUN\n",
            "получить_VERB_место_NOUN\n",
            "получить_VERB_сведение_NOUN\n",
            "получить_VERB_информация_NOUN\n",
            "получить_VERB_приказ_NOUN\n",
            "получить_VERB_данные_NOUN\n",
            "получить_VERB_образование_NOUN\n",
            "получить_VERB_человек_NOUN\n",
            "получить_VERB_отказ_NOUN\n",
            "получить_VERB_звание_NOUN\n",
            "получить_VERB_диплом_NOUN\n",
            "получить_VERB_право_NOUN\n",
            "получить_VERB_назначение_NOUN\n",
            "получить_VERB_приказание_NOUN\n",
            "получить_VERB_распространение_NOUN\n",
            "получить_VERB_удовольствие_NOUN\n",
            "получить_VERB_награда_NOUN\n",
            "получить_VERB_премия_NOUN\n",
            "получить_VERB_время_NOUN\n",
            "получить_VERB_год_NOUN\n",
            "получить_VERB_развитие_NOUN\n",
            "получить_VERB_согласие_NOUN\n",
            "получить_VERB_работа_NOUN\n",
            "получить_VERB_задание_NOUN\n",
            "получить_VERB_свобода_NOUN\n",
            "получить_VERB_ранение_NOUN\n",
            "получить_VERB_доступ_NOUN\n",
            "получить_VERB_сообщение_NOUN\n",
            "получить_VERB_приз_NOUN\n",
            "получить_VERB_имя_NOUN\n",
            "получить_VERB_квартира_NOUN\n",
            "получить_VERB_орден_NOUN\n",
            "получить_VERB_россия_NOUN\n",
            "получить_VERB_наследство_NOUN\n",
            "получить_VERB_значение_NOUN\n",
            "получить_VERB_поддержка_NOUN\n",
            "получить_VERB_задача_NOUN\n",
            "получить_VERB_статус_NOUN\n",
            "получить_VERB_признание_NOUN\n",
            "получить_VERB_одобрение_NOUN\n",
            "получить_VERB_власть_NOUN\n",
            "получить_VERB_записка_NOUN\n",
            "получить_VERB_чин_NOUN\n",
            "получить_VERB_заказ_NOUN\n",
            "получить_VERB_удар_NOUN\n",
            "получить_VERB_жизнь_NOUN\n",
            "получить_VERB_лицензия_NOUN\n",
            "получить_VERB_предложение_NOUN\n",
            "получить_VERB_день_NOUN\n",
            "получить_VERB_билет_NOUN\n",
            "получить_VERB_воспитание_NOUN\n",
            "получить_VERB_бумага_NOUN\n",
            "получить_VERB_подтверждение_NOUN\n",
            "получить_VERB_повеление_NOUN\n",
            "получить_VERB_травма_NOUN\n",
            "получить_VERB_указание_NOUN\n",
            "получить_VERB_кредит_NOUN\n",
            "получить_VERB_отпуск_NOUN\n",
            "получить_VERB_подарок_NOUN\n",
            "получить_VERB_паспорт_NOUN\n",
            "получить_VERB_лет_NOUN\n",
            "получить_VERB_должность_NOUN\n",
            "получить_VERB_сумма_NOUN\n",
            "получить_VERB_извещение_NOUN\n",
            "получить_VERB_помощь_NOUN\n",
            "получить_VERB_прибыль_NOUN\n",
            "получить_VERB_повестка_NOUN\n",
            "получить_VERB_рана_NOUN\n",
            "получить_VERB_материал_NOUN\n",
            "получить_VERB_шанс_NOUN\n",
            "получить_VERB_лицо_NOUN\n",
            "получить_VERB_благословение_NOUN\n",
            "получить_VERB_уведомление_NOUN\n",
            "получить_VERB_надежда_NOUN\n",
            "получить_VERB_книга_NOUN\n",
            "получить_VERB_знание_NOUN\n",
            "получить_VERB_известность_NOUN\n",
            "получить_VERB_часть_NOUN\n",
            "получить_VERB_отец_NOUN\n",
            "получить_VERB_число_NOUN\n",
            "получить_VERB_анализ_NOUN\n",
            "получить_VERB_предписание_NOUN\n",
            "получить_VERB_пуля_NOUN\n",
            "получить_VERB_желание_NOUN\n",
            "получить_VERB_наименование_NOUN\n",
            "получить_VERB_пропуск_NOUN\n",
            "получить_VERB_донесение_NOUN\n",
            "получить_VERB_оценка_NOUN\n",
            "получить_VERB_титул_NOUN\n",
            "получить_VERB_масса_NOUN\n",
            "получить_VERB_земля_NOUN\n",
            "получить_VERB_выговор_NOUN\n",
            "получить_VERB_гонорар_NOUN\n",
            "получить_VERB_ребенок_NOUN\n",
            "получить_VERB_расчет_NOUN\n",
            "получить_VERB_патент_NOUN\n",
            "получить_VERB_слово_NOUN\n",
            "получить_VERB_прощение_NOUN\n",
            "получить_VERB_медаль_NOUN\n",
            "получить_VERB_компания_NOUN\n",
            "получить_VERB_дело_NOUN\n",
            "получить_VERB_документ_NOUN\n",
            "получить_VERB_степень_NOUN\n",
            "получить_VERB_отставка_NOUN\n",
            "получить_VERB_представление_NOUN\n",
            "получить_VERB_продукт_NOUN\n",
            "получить_VERB_доход_NOUN\n",
            "получить_VERB_армия_NOUN\n",
            "получить_VERB_машина_NOUN\n",
            "получить_VERB_распоряжение_NOUN\n",
            "получить_VERB_свидетельство_NOUN\n",
            "получить_VERB_москва_NOUN\n",
            "получить_VERB_виза_NOUN\n",
            "получить_VERB_аттестат_NOUN\n",
            "получить_VERB_формула_NOUN\n",
            "получить_VERB_сертификат_NOUN\n",
            "получить_VERB_компенсация_NOUN\n",
            "получить_VERB_указ_NOUN\n",
            "получить_VERB_вопрос_NOUN\n",
            "получить_VERB_зарплата_NOUN\n",
            "получить_VERB_срок_NOUN\n",
            "получить_VERB_благодарность_NOUN\n",
            "получить_VERB_жалование_NOUN\n",
            "получить_VERB_удовлетворение_NOUN\n",
            "получить_VERB_средство_NOUN\n",
            "получить_VERB_справка_NOUN\n",
            "получить_VERB_честь_NOUN\n",
            "получить_VERB_ряд_NOUN\n",
            "получить_VERB_страна_NOUN\n",
            "получить_VERB_дар_NOUN\n",
            "получить_VERB_средства_NOUN\n",
            "получить_VERB_повышение_NOUN\n",
            "получить_VERB_позволение_NOUN\n",
            "получить_VERB_характер_NOUN\n",
            "получить_VERB_пятерка_NOUN\n",
            "получить_VERB_большинство_NOUN\n",
            "получить_VERB_система_NOUN\n",
            "получить_VERB_направление_NOUN\n",
            "получить_VERB_пенсия_NOUN\n",
            "получить_VERB_множество_NOUN\n",
            "получить_VERB_совет_NOUN\n"
          ],
          "name": "stdout"
        }
      ]
    },
    {
      "cell_type": "markdown",
      "metadata": {
        "id": "kOX4wWjxSh8M",
        "colab_type": "text"
      },
      "source": [
        "### Задача 3: сбор векторных представлений пар в матрицу и кластеризация 2 способами"
      ]
    },
    {
      "cell_type": "code",
      "metadata": {
        "id": "fAhLZ4xEabJh",
        "colab_type": "code",
        "colab": {}
      },
      "source": [
        "import pandas as pd"
      ],
      "execution_count": 0,
      "outputs": []
    },
    {
      "cell_type": "code",
      "metadata": {
        "id": "x9UeSsLmSyZg",
        "colab_type": "code",
        "colab": {}
      },
      "source": [
        "phrase_data = np.array([v for k, v in phrase_dict.items()])"
      ],
      "execution_count": 0,
      "outputs": []
    },
    {
      "cell_type": "code",
      "metadata": {
        "id": "TWmYNbdqY4V5",
        "colab_type": "code",
        "outputId": "fbfe1fc2-369d-4ff6-b08b-9545ad72fb4d",
        "colab": {
          "base_uri": "https://localhost:8080/",
          "height": 238
        }
      },
      "source": [
        "phrase_data"
      ],
      "execution_count": 12,
      "outputs": [
        {
          "output_type": "execute_result",
          "data": {
            "text/plain": [
              "array([[ 0.05109471,  0.1576732 , -0.07163855, ..., -0.02446205,\n",
              "         0.06681655, -0.10603048],\n",
              "       [ 0.00916389,  0.08817736,  0.15624541, ..., -0.01546127,\n",
              "         0.0058404 ,  0.1321214 ],\n",
              "       [ 0.03304953,  0.18144673,  0.00548003, ..., -0.02272832,\n",
              "         0.014006  , -0.04490275],\n",
              "       ...,\n",
              "       [ 0.11389516,  0.11784659,  0.14028835, ..., -0.14302573,\n",
              "         0.00882937, -0.02261988],\n",
              "       [-0.01242107,  0.19492951,  0.0587735 , ..., -0.01816176,\n",
              "         0.09511568,  0.01219948],\n",
              "       [-0.04056606,  0.11598365, -0.06982552, ..., -0.10982108,\n",
              "         0.01526136, -0.00613313]], dtype=float32)"
            ]
          },
          "metadata": {
            "tags": []
          },
          "execution_count": 12
        }
      ]
    },
    {
      "cell_type": "code",
      "metadata": {
        "id": "Zr3JJuf4ZZCT",
        "colab_type": "code",
        "outputId": "d9e821d2-8135-4ef1-ee50-e90f4fa8479f",
        "colab": {
          "base_uri": "https://localhost:8080/",
          "height": 439
        }
      },
      "source": [
        "count_df = pd.DataFrame(\n",
        "    np.array(phrase_data, dtype='float64'),\n",
        "    index=[k for k, v in phrase_dict.items()])\n",
        "count_df"
      ],
      "execution_count": 13,
      "outputs": [
        {
          "output_type": "execute_result",
          "data": {
            "text/html": [
              "<div>\n",
              "<style scoped>\n",
              "    .dataframe tbody tr th:only-of-type {\n",
              "        vertical-align: middle;\n",
              "    }\n",
              "\n",
              "    .dataframe tbody tr th {\n",
              "        vertical-align: top;\n",
              "    }\n",
              "\n",
              "    .dataframe thead th {\n",
              "        text-align: right;\n",
              "    }\n",
              "</style>\n",
              "<table border=\"1\" class=\"dataframe\">\n",
              "  <thead>\n",
              "    <tr style=\"text-align: right;\">\n",
              "      <th></th>\n",
              "      <th>0</th>\n",
              "      <th>1</th>\n",
              "      <th>2</th>\n",
              "      <th>3</th>\n",
              "      <th>4</th>\n",
              "      <th>5</th>\n",
              "      <th>6</th>\n",
              "      <th>7</th>\n",
              "      <th>8</th>\n",
              "      <th>9</th>\n",
              "      <th>10</th>\n",
              "      <th>11</th>\n",
              "      <th>12</th>\n",
              "      <th>13</th>\n",
              "      <th>14</th>\n",
              "      <th>15</th>\n",
              "      <th>16</th>\n",
              "      <th>17</th>\n",
              "      <th>18</th>\n",
              "      <th>19</th>\n",
              "      <th>20</th>\n",
              "      <th>21</th>\n",
              "      <th>22</th>\n",
              "      <th>23</th>\n",
              "      <th>24</th>\n",
              "      <th>25</th>\n",
              "      <th>26</th>\n",
              "      <th>27</th>\n",
              "      <th>28</th>\n",
              "      <th>29</th>\n",
              "      <th>30</th>\n",
              "      <th>31</th>\n",
              "      <th>32</th>\n",
              "      <th>33</th>\n",
              "      <th>34</th>\n",
              "      <th>35</th>\n",
              "      <th>36</th>\n",
              "      <th>37</th>\n",
              "      <th>38</th>\n",
              "      <th>39</th>\n",
              "      <th>...</th>\n",
              "      <th>260</th>\n",
              "      <th>261</th>\n",
              "      <th>262</th>\n",
              "      <th>263</th>\n",
              "      <th>264</th>\n",
              "      <th>265</th>\n",
              "      <th>266</th>\n",
              "      <th>267</th>\n",
              "      <th>268</th>\n",
              "      <th>269</th>\n",
              "      <th>270</th>\n",
              "      <th>271</th>\n",
              "      <th>272</th>\n",
              "      <th>273</th>\n",
              "      <th>274</th>\n",
              "      <th>275</th>\n",
              "      <th>276</th>\n",
              "      <th>277</th>\n",
              "      <th>278</th>\n",
              "      <th>279</th>\n",
              "      <th>280</th>\n",
              "      <th>281</th>\n",
              "      <th>282</th>\n",
              "      <th>283</th>\n",
              "      <th>284</th>\n",
              "      <th>285</th>\n",
              "      <th>286</th>\n",
              "      <th>287</th>\n",
              "      <th>288</th>\n",
              "      <th>289</th>\n",
              "      <th>290</th>\n",
              "      <th>291</th>\n",
              "      <th>292</th>\n",
              "      <th>293</th>\n",
              "      <th>294</th>\n",
              "      <th>295</th>\n",
              "      <th>296</th>\n",
              "      <th>297</th>\n",
              "      <th>298</th>\n",
              "      <th>299</th>\n",
              "    </tr>\n",
              "  </thead>\n",
              "  <tbody>\n",
              "    <tr>\n",
              "      <th>получить_VERB_письмо_NOUN</th>\n",
              "      <td>0.051095</td>\n",
              "      <td>0.157673</td>\n",
              "      <td>-0.071639</td>\n",
              "      <td>0.048771</td>\n",
              "      <td>-0.045191</td>\n",
              "      <td>0.038395</td>\n",
              "      <td>0.063348</td>\n",
              "      <td>-0.036304</td>\n",
              "      <td>0.055301</td>\n",
              "      <td>-0.091746</td>\n",
              "      <td>-0.053083</td>\n",
              "      <td>0.013778</td>\n",
              "      <td>-0.095105</td>\n",
              "      <td>0.003720</td>\n",
              "      <td>-0.024384</td>\n",
              "      <td>0.020935</td>\n",
              "      <td>-0.015492</td>\n",
              "      <td>0.149289</td>\n",
              "      <td>0.057332</td>\n",
              "      <td>-0.054397</td>\n",
              "      <td>0.059132</td>\n",
              "      <td>0.011889</td>\n",
              "      <td>0.111972</td>\n",
              "      <td>-0.081220</td>\n",
              "      <td>0.036182</td>\n",
              "      <td>-0.009561</td>\n",
              "      <td>0.093482</td>\n",
              "      <td>0.055313</td>\n",
              "      <td>0.042608</td>\n",
              "      <td>-0.133337</td>\n",
              "      <td>0.056936</td>\n",
              "      <td>0.004092</td>\n",
              "      <td>0.127959</td>\n",
              "      <td>0.089858</td>\n",
              "      <td>-0.023930</td>\n",
              "      <td>0.009581</td>\n",
              "      <td>0.160268</td>\n",
              "      <td>0.057857</td>\n",
              "      <td>0.193840</td>\n",
              "      <td>0.027888</td>\n",
              "      <td>...</td>\n",
              "      <td>-0.117849</td>\n",
              "      <td>0.017122</td>\n",
              "      <td>0.017782</td>\n",
              "      <td>-0.035238</td>\n",
              "      <td>0.000738</td>\n",
              "      <td>0.105020</td>\n",
              "      <td>-0.157067</td>\n",
              "      <td>0.050514</td>\n",
              "      <td>-0.041549</td>\n",
              "      <td>0.104802</td>\n",
              "      <td>-0.122470</td>\n",
              "      <td>-0.052482</td>\n",
              "      <td>0.055948</td>\n",
              "      <td>0.074042</td>\n",
              "      <td>0.070357</td>\n",
              "      <td>0.011338</td>\n",
              "      <td>-0.125690</td>\n",
              "      <td>-0.094714</td>\n",
              "      <td>-0.016578</td>\n",
              "      <td>-0.058636</td>\n",
              "      <td>-0.008481</td>\n",
              "      <td>-0.024289</td>\n",
              "      <td>0.024763</td>\n",
              "      <td>0.088798</td>\n",
              "      <td>0.037742</td>\n",
              "      <td>0.060717</td>\n",
              "      <td>0.023731</td>\n",
              "      <td>-0.055936</td>\n",
              "      <td>0.048510</td>\n",
              "      <td>0.031883</td>\n",
              "      <td>0.041132</td>\n",
              "      <td>-0.019613</td>\n",
              "      <td>0.024523</td>\n",
              "      <td>0.122099</td>\n",
              "      <td>0.065081</td>\n",
              "      <td>0.016653</td>\n",
              "      <td>-0.116494</td>\n",
              "      <td>-0.024462</td>\n",
              "      <td>0.066817</td>\n",
              "      <td>-0.106030</td>\n",
              "    </tr>\n",
              "    <tr>\n",
              "      <th>получить_VERB_возможность_NOUN</th>\n",
              "      <td>0.009164</td>\n",
              "      <td>0.088177</td>\n",
              "      <td>0.156245</td>\n",
              "      <td>0.028028</td>\n",
              "      <td>-0.107609</td>\n",
              "      <td>0.075140</td>\n",
              "      <td>0.055444</td>\n",
              "      <td>0.032029</td>\n",
              "      <td>-0.020473</td>\n",
              "      <td>-0.098450</td>\n",
              "      <td>0.050436</td>\n",
              "      <td>-0.058839</td>\n",
              "      <td>-0.082188</td>\n",
              "      <td>-0.066244</td>\n",
              "      <td>-0.003470</td>\n",
              "      <td>-0.046924</td>\n",
              "      <td>-0.021924</td>\n",
              "      <td>0.127817</td>\n",
              "      <td>0.018045</td>\n",
              "      <td>0.012438</td>\n",
              "      <td>0.135275</td>\n",
              "      <td>-0.088958</td>\n",
              "      <td>0.087743</td>\n",
              "      <td>0.064625</td>\n",
              "      <td>0.069412</td>\n",
              "      <td>-0.033655</td>\n",
              "      <td>0.103924</td>\n",
              "      <td>0.075726</td>\n",
              "      <td>0.036315</td>\n",
              "      <td>-0.125154</td>\n",
              "      <td>0.053285</td>\n",
              "      <td>0.107057</td>\n",
              "      <td>0.045279</td>\n",
              "      <td>0.032980</td>\n",
              "      <td>0.019710</td>\n",
              "      <td>-0.054158</td>\n",
              "      <td>0.200866</td>\n",
              "      <td>0.068113</td>\n",
              "      <td>0.168491</td>\n",
              "      <td>-0.020356</td>\n",
              "      <td>...</td>\n",
              "      <td>-0.150962</td>\n",
              "      <td>0.096413</td>\n",
              "      <td>0.062784</td>\n",
              "      <td>0.032131</td>\n",
              "      <td>0.046535</td>\n",
              "      <td>0.038403</td>\n",
              "      <td>-0.118819</td>\n",
              "      <td>-0.122351</td>\n",
              "      <td>-0.050653</td>\n",
              "      <td>0.110380</td>\n",
              "      <td>-0.094683</td>\n",
              "      <td>-0.088113</td>\n",
              "      <td>-0.011501</td>\n",
              "      <td>0.049115</td>\n",
              "      <td>0.003924</td>\n",
              "      <td>0.014044</td>\n",
              "      <td>-0.048350</td>\n",
              "      <td>-0.083852</td>\n",
              "      <td>-0.146079</td>\n",
              "      <td>-0.036445</td>\n",
              "      <td>0.032607</td>\n",
              "      <td>-0.089564</td>\n",
              "      <td>0.176194</td>\n",
              "      <td>0.043406</td>\n",
              "      <td>0.057917</td>\n",
              "      <td>0.134754</td>\n",
              "      <td>0.086042</td>\n",
              "      <td>0.033571</td>\n",
              "      <td>0.007593</td>\n",
              "      <td>-0.045467</td>\n",
              "      <td>0.008757</td>\n",
              "      <td>0.013107</td>\n",
              "      <td>-0.027707</td>\n",
              "      <td>0.147118</td>\n",
              "      <td>0.065237</td>\n",
              "      <td>-0.042836</td>\n",
              "      <td>-0.050574</td>\n",
              "      <td>-0.015461</td>\n",
              "      <td>0.005840</td>\n",
              "      <td>0.132121</td>\n",
              "    </tr>\n",
              "    <tr>\n",
              "      <th>получить_VERB_ответ_NOUN</th>\n",
              "      <td>0.033050</td>\n",
              "      <td>0.181447</td>\n",
              "      <td>0.005480</td>\n",
              "      <td>0.027571</td>\n",
              "      <td>-0.152069</td>\n",
              "      <td>0.050960</td>\n",
              "      <td>0.024705</td>\n",
              "      <td>0.098617</td>\n",
              "      <td>0.022942</td>\n",
              "      <td>-0.093964</td>\n",
              "      <td>-0.005328</td>\n",
              "      <td>-0.007176</td>\n",
              "      <td>-0.081235</td>\n",
              "      <td>-0.077060</td>\n",
              "      <td>0.010926</td>\n",
              "      <td>-0.008586</td>\n",
              "      <td>0.022796</td>\n",
              "      <td>0.153009</td>\n",
              "      <td>-0.045217</td>\n",
              "      <td>0.031334</td>\n",
              "      <td>0.197231</td>\n",
              "      <td>-0.022808</td>\n",
              "      <td>0.103277</td>\n",
              "      <td>-0.002995</td>\n",
              "      <td>-0.019457</td>\n",
              "      <td>0.049360</td>\n",
              "      <td>0.163656</td>\n",
              "      <td>-0.033967</td>\n",
              "      <td>0.083608</td>\n",
              "      <td>-0.083127</td>\n",
              "      <td>0.093300</td>\n",
              "      <td>0.004495</td>\n",
              "      <td>0.045340</td>\n",
              "      <td>0.132147</td>\n",
              "      <td>-0.060180</td>\n",
              "      <td>-0.025974</td>\n",
              "      <td>0.114902</td>\n",
              "      <td>0.017596</td>\n",
              "      <td>0.138874</td>\n",
              "      <td>0.052476</td>\n",
              "      <td>...</td>\n",
              "      <td>-0.141466</td>\n",
              "      <td>0.022412</td>\n",
              "      <td>0.064387</td>\n",
              "      <td>0.027714</td>\n",
              "      <td>-0.057217</td>\n",
              "      <td>0.011926</td>\n",
              "      <td>-0.053469</td>\n",
              "      <td>-0.107355</td>\n",
              "      <td>-0.040716</td>\n",
              "      <td>0.154192</td>\n",
              "      <td>-0.019941</td>\n",
              "      <td>0.017603</td>\n",
              "      <td>0.042859</td>\n",
              "      <td>0.034265</td>\n",
              "      <td>-0.027635</td>\n",
              "      <td>0.039384</td>\n",
              "      <td>-0.145768</td>\n",
              "      <td>-0.067354</td>\n",
              "      <td>-0.009723</td>\n",
              "      <td>-0.002710</td>\n",
              "      <td>0.003933</td>\n",
              "      <td>0.026294</td>\n",
              "      <td>0.164339</td>\n",
              "      <td>-0.038333</td>\n",
              "      <td>0.064834</td>\n",
              "      <td>0.077046</td>\n",
              "      <td>0.131422</td>\n",
              "      <td>-0.030537</td>\n",
              "      <td>0.051967</td>\n",
              "      <td>-0.014632</td>\n",
              "      <td>0.106353</td>\n",
              "      <td>-0.047529</td>\n",
              "      <td>0.019724</td>\n",
              "      <td>0.109420</td>\n",
              "      <td>0.082595</td>\n",
              "      <td>-0.024247</td>\n",
              "      <td>-0.122164</td>\n",
              "      <td>-0.022728</td>\n",
              "      <td>0.014006</td>\n",
              "      <td>-0.044903</td>\n",
              "    </tr>\n",
              "    <tr>\n",
              "      <th>получить_VERB_название_NOUN</th>\n",
              "      <td>0.054521</td>\n",
              "      <td>0.146618</td>\n",
              "      <td>0.071679</td>\n",
              "      <td>0.013398</td>\n",
              "      <td>-0.136450</td>\n",
              "      <td>0.004031</td>\n",
              "      <td>0.180873</td>\n",
              "      <td>0.041028</td>\n",
              "      <td>0.015866</td>\n",
              "      <td>-0.099398</td>\n",
              "      <td>-0.042676</td>\n",
              "      <td>0.030185</td>\n",
              "      <td>-0.083086</td>\n",
              "      <td>0.036024</td>\n",
              "      <td>0.044585</td>\n",
              "      <td>-0.056173</td>\n",
              "      <td>-0.084317</td>\n",
              "      <td>0.178195</td>\n",
              "      <td>0.050139</td>\n",
              "      <td>-0.012156</td>\n",
              "      <td>0.055484</td>\n",
              "      <td>-0.027774</td>\n",
              "      <td>0.155215</td>\n",
              "      <td>0.034966</td>\n",
              "      <td>0.090181</td>\n",
              "      <td>-0.067119</td>\n",
              "      <td>0.114114</td>\n",
              "      <td>-0.046944</td>\n",
              "      <td>0.015931</td>\n",
              "      <td>-0.108359</td>\n",
              "      <td>0.102822</td>\n",
              "      <td>0.025575</td>\n",
              "      <td>0.005207</td>\n",
              "      <td>0.023422</td>\n",
              "      <td>-0.071073</td>\n",
              "      <td>0.019824</td>\n",
              "      <td>0.086008</td>\n",
              "      <td>0.077978</td>\n",
              "      <td>0.218156</td>\n",
              "      <td>0.008455</td>\n",
              "      <td>...</td>\n",
              "      <td>-0.155864</td>\n",
              "      <td>0.026109</td>\n",
              "      <td>0.028080</td>\n",
              "      <td>-0.047617</td>\n",
              "      <td>-0.016466</td>\n",
              "      <td>-0.030985</td>\n",
              "      <td>-0.104178</td>\n",
              "      <td>-0.049421</td>\n",
              "      <td>0.014328</td>\n",
              "      <td>0.144525</td>\n",
              "      <td>0.010103</td>\n",
              "      <td>-0.059338</td>\n",
              "      <td>0.027786</td>\n",
              "      <td>-0.028768</td>\n",
              "      <td>-0.010292</td>\n",
              "      <td>0.031199</td>\n",
              "      <td>-0.102880</td>\n",
              "      <td>-0.025090</td>\n",
              "      <td>-0.050517</td>\n",
              "      <td>-0.101862</td>\n",
              "      <td>0.004964</td>\n",
              "      <td>0.137925</td>\n",
              "      <td>0.177927</td>\n",
              "      <td>-0.001098</td>\n",
              "      <td>0.038563</td>\n",
              "      <td>0.024093</td>\n",
              "      <td>0.105341</td>\n",
              "      <td>-0.009476</td>\n",
              "      <td>0.027379</td>\n",
              "      <td>-0.112049</td>\n",
              "      <td>-0.019659</td>\n",
              "      <td>0.021693</td>\n",
              "      <td>0.015070</td>\n",
              "      <td>0.093330</td>\n",
              "      <td>0.083563</td>\n",
              "      <td>-0.027200</td>\n",
              "      <td>-0.086549</td>\n",
              "      <td>-0.136849</td>\n",
              "      <td>0.023600</td>\n",
              "      <td>-0.011199</td>\n",
              "    </tr>\n",
              "    <tr>\n",
              "      <th>получить_VERB_деньги_NOUN</th>\n",
              "      <td>0.032321</td>\n",
              "      <td>0.043752</td>\n",
              "      <td>0.055684</td>\n",
              "      <td>0.052862</td>\n",
              "      <td>-0.072184</td>\n",
              "      <td>0.082391</td>\n",
              "      <td>0.079420</td>\n",
              "      <td>0.038304</td>\n",
              "      <td>-0.006256</td>\n",
              "      <td>-0.020788</td>\n",
              "      <td>-0.014499</td>\n",
              "      <td>0.057213</td>\n",
              "      <td>-0.149981</td>\n",
              "      <td>-0.050917</td>\n",
              "      <td>0.061985</td>\n",
              "      <td>0.053306</td>\n",
              "      <td>-0.073248</td>\n",
              "      <td>0.136346</td>\n",
              "      <td>0.069476</td>\n",
              "      <td>0.004373</td>\n",
              "      <td>0.075197</td>\n",
              "      <td>0.000025</td>\n",
              "      <td>0.072806</td>\n",
              "      <td>-0.011832</td>\n",
              "      <td>0.047179</td>\n",
              "      <td>-0.030231</td>\n",
              "      <td>-0.000799</td>\n",
              "      <td>0.100623</td>\n",
              "      <td>0.006465</td>\n",
              "      <td>-0.077001</td>\n",
              "      <td>0.035296</td>\n",
              "      <td>0.033697</td>\n",
              "      <td>0.017549</td>\n",
              "      <td>0.096659</td>\n",
              "      <td>0.013182</td>\n",
              "      <td>-0.047961</td>\n",
              "      <td>0.191366</td>\n",
              "      <td>0.075967</td>\n",
              "      <td>0.222437</td>\n",
              "      <td>0.011090</td>\n",
              "      <td>...</td>\n",
              "      <td>-0.092666</td>\n",
              "      <td>0.107778</td>\n",
              "      <td>0.027525</td>\n",
              "      <td>-0.056469</td>\n",
              "      <td>0.041812</td>\n",
              "      <td>0.101363</td>\n",
              "      <td>-0.087261</td>\n",
              "      <td>-0.074768</td>\n",
              "      <td>-0.009131</td>\n",
              "      <td>0.176996</td>\n",
              "      <td>-0.095388</td>\n",
              "      <td>-0.064000</td>\n",
              "      <td>0.005609</td>\n",
              "      <td>0.125557</td>\n",
              "      <td>0.046304</td>\n",
              "      <td>0.082346</td>\n",
              "      <td>0.008568</td>\n",
              "      <td>-0.117683</td>\n",
              "      <td>-0.115323</td>\n",
              "      <td>-0.037506</td>\n",
              "      <td>0.013085</td>\n",
              "      <td>-0.028238</td>\n",
              "      <td>0.126922</td>\n",
              "      <td>-0.003753</td>\n",
              "      <td>-0.068228</td>\n",
              "      <td>0.050681</td>\n",
              "      <td>0.126934</td>\n",
              "      <td>-0.035232</td>\n",
              "      <td>0.015372</td>\n",
              "      <td>-0.086543</td>\n",
              "      <td>-0.039242</td>\n",
              "      <td>0.020071</td>\n",
              "      <td>-0.034788</td>\n",
              "      <td>0.160616</td>\n",
              "      <td>-0.007332</td>\n",
              "      <td>-0.016741</td>\n",
              "      <td>-0.105077</td>\n",
              "      <td>-0.077327</td>\n",
              "      <td>0.032549</td>\n",
              "      <td>0.044177</td>\n",
              "    </tr>\n",
              "    <tr>\n",
              "      <th>...</th>\n",
              "      <td>...</td>\n",
              "      <td>...</td>\n",
              "      <td>...</td>\n",
              "      <td>...</td>\n",
              "      <td>...</td>\n",
              "      <td>...</td>\n",
              "      <td>...</td>\n",
              "      <td>...</td>\n",
              "      <td>...</td>\n",
              "      <td>...</td>\n",
              "      <td>...</td>\n",
              "      <td>...</td>\n",
              "      <td>...</td>\n",
              "      <td>...</td>\n",
              "      <td>...</td>\n",
              "      <td>...</td>\n",
              "      <td>...</td>\n",
              "      <td>...</td>\n",
              "      <td>...</td>\n",
              "      <td>...</td>\n",
              "      <td>...</td>\n",
              "      <td>...</td>\n",
              "      <td>...</td>\n",
              "      <td>...</td>\n",
              "      <td>...</td>\n",
              "      <td>...</td>\n",
              "      <td>...</td>\n",
              "      <td>...</td>\n",
              "      <td>...</td>\n",
              "      <td>...</td>\n",
              "      <td>...</td>\n",
              "      <td>...</td>\n",
              "      <td>...</td>\n",
              "      <td>...</td>\n",
              "      <td>...</td>\n",
              "      <td>...</td>\n",
              "      <td>...</td>\n",
              "      <td>...</td>\n",
              "      <td>...</td>\n",
              "      <td>...</td>\n",
              "      <td>...</td>\n",
              "      <td>...</td>\n",
              "      <td>...</td>\n",
              "      <td>...</td>\n",
              "      <td>...</td>\n",
              "      <td>...</td>\n",
              "      <td>...</td>\n",
              "      <td>...</td>\n",
              "      <td>...</td>\n",
              "      <td>...</td>\n",
              "      <td>...</td>\n",
              "      <td>...</td>\n",
              "      <td>...</td>\n",
              "      <td>...</td>\n",
              "      <td>...</td>\n",
              "      <td>...</td>\n",
              "      <td>...</td>\n",
              "      <td>...</td>\n",
              "      <td>...</td>\n",
              "      <td>...</td>\n",
              "      <td>...</td>\n",
              "      <td>...</td>\n",
              "      <td>...</td>\n",
              "      <td>...</td>\n",
              "      <td>...</td>\n",
              "      <td>...</td>\n",
              "      <td>...</td>\n",
              "      <td>...</td>\n",
              "      <td>...</td>\n",
              "      <td>...</td>\n",
              "      <td>...</td>\n",
              "      <td>...</td>\n",
              "      <td>...</td>\n",
              "      <td>...</td>\n",
              "      <td>...</td>\n",
              "      <td>...</td>\n",
              "      <td>...</td>\n",
              "      <td>...</td>\n",
              "      <td>...</td>\n",
              "      <td>...</td>\n",
              "      <td>...</td>\n",
              "    </tr>\n",
              "    <tr>\n",
              "      <th>получить_VERB_система_NOUN</th>\n",
              "      <td>0.061156</td>\n",
              "      <td>0.111066</td>\n",
              "      <td>0.077698</td>\n",
              "      <td>-0.000406</td>\n",
              "      <td>-0.111521</td>\n",
              "      <td>0.056960</td>\n",
              "      <td>0.135212</td>\n",
              "      <td>0.037087</td>\n",
              "      <td>0.072935</td>\n",
              "      <td>-0.059119</td>\n",
              "      <td>0.032838</td>\n",
              "      <td>-0.044342</td>\n",
              "      <td>-0.080452</td>\n",
              "      <td>-0.007441</td>\n",
              "      <td>0.102219</td>\n",
              "      <td>0.129021</td>\n",
              "      <td>-0.049113</td>\n",
              "      <td>0.234876</td>\n",
              "      <td>0.050485</td>\n",
              "      <td>-0.034594</td>\n",
              "      <td>0.151033</td>\n",
              "      <td>-0.129446</td>\n",
              "      <td>0.102983</td>\n",
              "      <td>-0.041590</td>\n",
              "      <td>0.069450</td>\n",
              "      <td>0.007755</td>\n",
              "      <td>-0.013793</td>\n",
              "      <td>0.175499</td>\n",
              "      <td>0.044375</td>\n",
              "      <td>-0.037842</td>\n",
              "      <td>0.114461</td>\n",
              "      <td>0.173884</td>\n",
              "      <td>-0.009636</td>\n",
              "      <td>0.027107</td>\n",
              "      <td>-0.008717</td>\n",
              "      <td>0.002883</td>\n",
              "      <td>0.097455</td>\n",
              "      <td>0.024079</td>\n",
              "      <td>0.175176</td>\n",
              "      <td>0.031872</td>\n",
              "      <td>...</td>\n",
              "      <td>-0.147776</td>\n",
              "      <td>0.093673</td>\n",
              "      <td>0.134278</td>\n",
              "      <td>0.003275</td>\n",
              "      <td>-0.034352</td>\n",
              "      <td>0.076288</td>\n",
              "      <td>-0.169588</td>\n",
              "      <td>-0.117096</td>\n",
              "      <td>-0.045772</td>\n",
              "      <td>0.052302</td>\n",
              "      <td>-0.029866</td>\n",
              "      <td>-0.053499</td>\n",
              "      <td>-0.024640</td>\n",
              "      <td>0.031004</td>\n",
              "      <td>-0.073495</td>\n",
              "      <td>0.024374</td>\n",
              "      <td>-0.134715</td>\n",
              "      <td>-0.114247</td>\n",
              "      <td>-0.092525</td>\n",
              "      <td>-0.034960</td>\n",
              "      <td>0.059407</td>\n",
              "      <td>0.022330</td>\n",
              "      <td>0.128211</td>\n",
              "      <td>-0.043873</td>\n",
              "      <td>0.022040</td>\n",
              "      <td>0.072048</td>\n",
              "      <td>0.102405</td>\n",
              "      <td>0.008010</td>\n",
              "      <td>0.008329</td>\n",
              "      <td>0.026112</td>\n",
              "      <td>0.056229</td>\n",
              "      <td>-0.018023</td>\n",
              "      <td>-0.053748</td>\n",
              "      <td>0.125347</td>\n",
              "      <td>-0.034376</td>\n",
              "      <td>-0.069400</td>\n",
              "      <td>-0.086912</td>\n",
              "      <td>-0.074582</td>\n",
              "      <td>0.025494</td>\n",
              "      <td>0.029077</td>\n",
              "    </tr>\n",
              "    <tr>\n",
              "      <th>получить_VERB_направление_NOUN</th>\n",
              "      <td>0.053621</td>\n",
              "      <td>0.124500</td>\n",
              "      <td>0.039103</td>\n",
              "      <td>0.004038</td>\n",
              "      <td>-0.083224</td>\n",
              "      <td>0.049366</td>\n",
              "      <td>0.048620</td>\n",
              "      <td>0.076091</td>\n",
              "      <td>-0.030349</td>\n",
              "      <td>-0.061661</td>\n",
              "      <td>0.002102</td>\n",
              "      <td>-0.005406</td>\n",
              "      <td>-0.118118</td>\n",
              "      <td>0.021324</td>\n",
              "      <td>0.023817</td>\n",
              "      <td>-0.005746</td>\n",
              "      <td>-0.152313</td>\n",
              "      <td>0.141614</td>\n",
              "      <td>0.028005</td>\n",
              "      <td>-0.024314</td>\n",
              "      <td>0.025750</td>\n",
              "      <td>-0.039519</td>\n",
              "      <td>0.094345</td>\n",
              "      <td>0.016803</td>\n",
              "      <td>0.053560</td>\n",
              "      <td>-0.073966</td>\n",
              "      <td>0.030607</td>\n",
              "      <td>0.048799</td>\n",
              "      <td>0.036759</td>\n",
              "      <td>-0.074025</td>\n",
              "      <td>0.053792</td>\n",
              "      <td>0.075279</td>\n",
              "      <td>0.119509</td>\n",
              "      <td>0.040366</td>\n",
              "      <td>-0.063612</td>\n",
              "      <td>-0.050227</td>\n",
              "      <td>0.151831</td>\n",
              "      <td>0.062211</td>\n",
              "      <td>0.154216</td>\n",
              "      <td>-0.109660</td>\n",
              "      <td>...</td>\n",
              "      <td>-0.201141</td>\n",
              "      <td>0.114011</td>\n",
              "      <td>0.069982</td>\n",
              "      <td>0.027114</td>\n",
              "      <td>-0.059214</td>\n",
              "      <td>0.109664</td>\n",
              "      <td>-0.144826</td>\n",
              "      <td>-0.176481</td>\n",
              "      <td>-0.003295</td>\n",
              "      <td>0.073114</td>\n",
              "      <td>-0.014121</td>\n",
              "      <td>-0.006432</td>\n",
              "      <td>0.059764</td>\n",
              "      <td>0.126557</td>\n",
              "      <td>-0.065472</td>\n",
              "      <td>-0.018288</td>\n",
              "      <td>-0.143654</td>\n",
              "      <td>-0.085235</td>\n",
              "      <td>0.038816</td>\n",
              "      <td>0.003203</td>\n",
              "      <td>-0.006999</td>\n",
              "      <td>0.053892</td>\n",
              "      <td>0.117865</td>\n",
              "      <td>-0.114062</td>\n",
              "      <td>0.020552</td>\n",
              "      <td>0.114375</td>\n",
              "      <td>0.078978</td>\n",
              "      <td>0.096784</td>\n",
              "      <td>0.013949</td>\n",
              "      <td>-0.014271</td>\n",
              "      <td>0.060160</td>\n",
              "      <td>0.009735</td>\n",
              "      <td>0.009243</td>\n",
              "      <td>0.191237</td>\n",
              "      <td>0.078253</td>\n",
              "      <td>-0.009571</td>\n",
              "      <td>-0.124913</td>\n",
              "      <td>-0.120325</td>\n",
              "      <td>0.036493</td>\n",
              "      <td>0.022257</td>\n",
              "    </tr>\n",
              "    <tr>\n",
              "      <th>получить_VERB_пенсия_NOUN</th>\n",
              "      <td>0.113895</td>\n",
              "      <td>0.117847</td>\n",
              "      <td>0.140288</td>\n",
              "      <td>-0.048585</td>\n",
              "      <td>-0.045566</td>\n",
              "      <td>-0.045118</td>\n",
              "      <td>0.119729</td>\n",
              "      <td>0.080517</td>\n",
              "      <td>-0.039891</td>\n",
              "      <td>-0.091948</td>\n",
              "      <td>0.030516</td>\n",
              "      <td>0.039190</td>\n",
              "      <td>-0.142688</td>\n",
              "      <td>0.007998</td>\n",
              "      <td>-0.023630</td>\n",
              "      <td>-0.015804</td>\n",
              "      <td>-0.113947</td>\n",
              "      <td>0.149566</td>\n",
              "      <td>0.060995</td>\n",
              "      <td>-0.043008</td>\n",
              "      <td>0.154763</td>\n",
              "      <td>-0.033227</td>\n",
              "      <td>0.008772</td>\n",
              "      <td>-0.015310</td>\n",
              "      <td>0.110215</td>\n",
              "      <td>-0.027679</td>\n",
              "      <td>0.106293</td>\n",
              "      <td>0.025732</td>\n",
              "      <td>-0.016913</td>\n",
              "      <td>-0.046639</td>\n",
              "      <td>0.059473</td>\n",
              "      <td>0.046080</td>\n",
              "      <td>-0.037599</td>\n",
              "      <td>0.092665</td>\n",
              "      <td>-0.007885</td>\n",
              "      <td>-0.033760</td>\n",
              "      <td>0.126899</td>\n",
              "      <td>0.032328</td>\n",
              "      <td>0.194326</td>\n",
              "      <td>-0.035832</td>\n",
              "      <td>...</td>\n",
              "      <td>-0.072385</td>\n",
              "      <td>0.092900</td>\n",
              "      <td>0.015972</td>\n",
              "      <td>-0.001338</td>\n",
              "      <td>-0.062135</td>\n",
              "      <td>0.056661</td>\n",
              "      <td>-0.086807</td>\n",
              "      <td>-0.178557</td>\n",
              "      <td>-0.078023</td>\n",
              "      <td>0.171384</td>\n",
              "      <td>-0.137885</td>\n",
              "      <td>-0.094174</td>\n",
              "      <td>-0.029102</td>\n",
              "      <td>0.053707</td>\n",
              "      <td>-0.033031</td>\n",
              "      <td>0.084729</td>\n",
              "      <td>-0.037747</td>\n",
              "      <td>-0.209264</td>\n",
              "      <td>-0.037768</td>\n",
              "      <td>-0.133677</td>\n",
              "      <td>0.111355</td>\n",
              "      <td>0.026987</td>\n",
              "      <td>0.123135</td>\n",
              "      <td>-0.055014</td>\n",
              "      <td>0.002967</td>\n",
              "      <td>0.128179</td>\n",
              "      <td>0.079013</td>\n",
              "      <td>0.043671</td>\n",
              "      <td>-0.028517</td>\n",
              "      <td>0.014975</td>\n",
              "      <td>0.001173</td>\n",
              "      <td>0.003516</td>\n",
              "      <td>0.102623</td>\n",
              "      <td>0.150684</td>\n",
              "      <td>-0.020355</td>\n",
              "      <td>-0.073053</td>\n",
              "      <td>-0.044639</td>\n",
              "      <td>-0.143026</td>\n",
              "      <td>0.008829</td>\n",
              "      <td>-0.022620</td>\n",
              "    </tr>\n",
              "    <tr>\n",
              "      <th>получить_VERB_множество_NOUN</th>\n",
              "      <td>-0.012421</td>\n",
              "      <td>0.194930</td>\n",
              "      <td>0.058773</td>\n",
              "      <td>0.080979</td>\n",
              "      <td>-0.148766</td>\n",
              "      <td>0.044285</td>\n",
              "      <td>0.119435</td>\n",
              "      <td>-0.013829</td>\n",
              "      <td>0.096585</td>\n",
              "      <td>-0.048407</td>\n",
              "      <td>-0.033186</td>\n",
              "      <td>0.075813</td>\n",
              "      <td>0.094766</td>\n",
              "      <td>-0.010940</td>\n",
              "      <td>0.096350</td>\n",
              "      <td>0.022045</td>\n",
              "      <td>-0.125867</td>\n",
              "      <td>0.163558</td>\n",
              "      <td>0.078456</td>\n",
              "      <td>-0.006594</td>\n",
              "      <td>0.119999</td>\n",
              "      <td>-0.100089</td>\n",
              "      <td>0.136489</td>\n",
              "      <td>0.069509</td>\n",
              "      <td>0.028227</td>\n",
              "      <td>-0.140847</td>\n",
              "      <td>0.031306</td>\n",
              "      <td>-0.025857</td>\n",
              "      <td>0.051447</td>\n",
              "      <td>-0.108926</td>\n",
              "      <td>0.064612</td>\n",
              "      <td>0.146587</td>\n",
              "      <td>0.112542</td>\n",
              "      <td>0.038376</td>\n",
              "      <td>0.005458</td>\n",
              "      <td>-0.081165</td>\n",
              "      <td>0.085375</td>\n",
              "      <td>-0.040380</td>\n",
              "      <td>0.206568</td>\n",
              "      <td>-0.035053</td>\n",
              "      <td>...</td>\n",
              "      <td>-0.132133</td>\n",
              "      <td>0.069082</td>\n",
              "      <td>-0.009893</td>\n",
              "      <td>-0.052733</td>\n",
              "      <td>-0.076182</td>\n",
              "      <td>0.011068</td>\n",
              "      <td>0.003677</td>\n",
              "      <td>-0.022357</td>\n",
              "      <td>-0.079573</td>\n",
              "      <td>-0.024121</td>\n",
              "      <td>-0.089503</td>\n",
              "      <td>-0.092334</td>\n",
              "      <td>0.006257</td>\n",
              "      <td>0.031782</td>\n",
              "      <td>-0.000318</td>\n",
              "      <td>0.010987</td>\n",
              "      <td>-0.144867</td>\n",
              "      <td>-0.022267</td>\n",
              "      <td>-0.121917</td>\n",
              "      <td>-0.036156</td>\n",
              "      <td>0.087575</td>\n",
              "      <td>0.082627</td>\n",
              "      <td>0.092061</td>\n",
              "      <td>-0.036829</td>\n",
              "      <td>0.114525</td>\n",
              "      <td>0.073509</td>\n",
              "      <td>0.005689</td>\n",
              "      <td>0.098706</td>\n",
              "      <td>0.026518</td>\n",
              "      <td>-0.009624</td>\n",
              "      <td>0.016339</td>\n",
              "      <td>0.077816</td>\n",
              "      <td>-0.033594</td>\n",
              "      <td>0.120947</td>\n",
              "      <td>0.055733</td>\n",
              "      <td>-0.040134</td>\n",
              "      <td>-0.025922</td>\n",
              "      <td>-0.018162</td>\n",
              "      <td>0.095116</td>\n",
              "      <td>0.012199</td>\n",
              "    </tr>\n",
              "    <tr>\n",
              "      <th>получить_VERB_совет_NOUN</th>\n",
              "      <td>-0.040566</td>\n",
              "      <td>0.115984</td>\n",
              "      <td>-0.069826</td>\n",
              "      <td>0.072426</td>\n",
              "      <td>-0.056403</td>\n",
              "      <td>0.076418</td>\n",
              "      <td>0.090656</td>\n",
              "      <td>0.029381</td>\n",
              "      <td>0.024101</td>\n",
              "      <td>-0.104061</td>\n",
              "      <td>-0.014267</td>\n",
              "      <td>0.103589</td>\n",
              "      <td>-0.104873</td>\n",
              "      <td>0.049297</td>\n",
              "      <td>0.016491</td>\n",
              "      <td>0.045307</td>\n",
              "      <td>-0.013029</td>\n",
              "      <td>0.201450</td>\n",
              "      <td>-0.045819</td>\n",
              "      <td>0.005115</td>\n",
              "      <td>0.063887</td>\n",
              "      <td>0.049755</td>\n",
              "      <td>0.125877</td>\n",
              "      <td>0.021173</td>\n",
              "      <td>0.004018</td>\n",
              "      <td>-0.081478</td>\n",
              "      <td>0.102888</td>\n",
              "      <td>0.013452</td>\n",
              "      <td>-0.035114</td>\n",
              "      <td>-0.112266</td>\n",
              "      <td>0.111634</td>\n",
              "      <td>-0.008718</td>\n",
              "      <td>0.068343</td>\n",
              "      <td>0.104227</td>\n",
              "      <td>-0.095623</td>\n",
              "      <td>-0.067590</td>\n",
              "      <td>0.062173</td>\n",
              "      <td>0.022978</td>\n",
              "      <td>0.169037</td>\n",
              "      <td>0.050190</td>\n",
              "      <td>...</td>\n",
              "      <td>-0.141367</td>\n",
              "      <td>-0.001741</td>\n",
              "      <td>0.063403</td>\n",
              "      <td>0.039238</td>\n",
              "      <td>0.050299</td>\n",
              "      <td>0.087202</td>\n",
              "      <td>-0.057049</td>\n",
              "      <td>-0.022359</td>\n",
              "      <td>-0.090371</td>\n",
              "      <td>0.121326</td>\n",
              "      <td>-0.072190</td>\n",
              "      <td>-0.080615</td>\n",
              "      <td>0.095967</td>\n",
              "      <td>0.020494</td>\n",
              "      <td>-0.096034</td>\n",
              "      <td>0.060209</td>\n",
              "      <td>-0.045643</td>\n",
              "      <td>-0.040281</td>\n",
              "      <td>-0.143127</td>\n",
              "      <td>-0.093701</td>\n",
              "      <td>0.085471</td>\n",
              "      <td>0.008280</td>\n",
              "      <td>0.213062</td>\n",
              "      <td>0.038903</td>\n",
              "      <td>0.086217</td>\n",
              "      <td>0.092829</td>\n",
              "      <td>0.052909</td>\n",
              "      <td>0.065249</td>\n",
              "      <td>0.101336</td>\n",
              "      <td>-0.083657</td>\n",
              "      <td>0.069201</td>\n",
              "      <td>0.105769</td>\n",
              "      <td>0.029245</td>\n",
              "      <td>0.091399</td>\n",
              "      <td>0.001448</td>\n",
              "      <td>0.029303</td>\n",
              "      <td>-0.170169</td>\n",
              "      <td>-0.109821</td>\n",
              "      <td>0.015261</td>\n",
              "      <td>-0.006133</td>\n",
              "    </tr>\n",
              "  </tbody>\n",
              "</table>\n",
              "<p>150 rows × 300 columns</p>\n",
              "</div>"
            ],
            "text/plain": [
              "                                     0         1    ...       298       299\n",
              "получить_VERB_письмо_NOUN       0.051095  0.157673  ...  0.066817 -0.106030\n",
              "получить_VERB_возможность_NOUN  0.009164  0.088177  ...  0.005840  0.132121\n",
              "получить_VERB_ответ_NOUN        0.033050  0.181447  ...  0.014006 -0.044903\n",
              "получить_VERB_название_NOUN     0.054521  0.146618  ...  0.023600 -0.011199\n",
              "получить_VERB_деньги_NOUN       0.032321  0.043752  ...  0.032549  0.044177\n",
              "...                                  ...       ...  ...       ...       ...\n",
              "получить_VERB_система_NOUN      0.061156  0.111066  ...  0.025494  0.029077\n",
              "получить_VERB_направление_NOUN  0.053621  0.124500  ...  0.036493  0.022257\n",
              "получить_VERB_пенсия_NOUN       0.113895  0.117847  ...  0.008829 -0.022620\n",
              "получить_VERB_множество_NOUN   -0.012421  0.194930  ...  0.095116  0.012199\n",
              "получить_VERB_совет_NOUN       -0.040566  0.115984  ...  0.015261 -0.006133\n",
              "\n",
              "[150 rows x 300 columns]"
            ]
          },
          "metadata": {
            "tags": []
          },
          "execution_count": 13
        }
      ]
    },
    {
      "cell_type": "markdown",
      "metadata": {
        "id": "SoeR2ro0Yb4B",
        "colab_type": "text"
      },
      "source": [
        "#### 1. Метод иерархической кластеризации"
      ]
    },
    {
      "cell_type": "code",
      "metadata": {
        "id": "2FRdmugLYgXA",
        "colab_type": "code",
        "colab": {}
      },
      "source": [
        "import matplotlib.pyplot as plt\n",
        "import scipy\n",
        "import scipy.cluster.hierarchy as hcluster"
      ],
      "execution_count": 0,
      "outputs": []
    },
    {
      "cell_type": "code",
      "metadata": {
        "id": "3bqxAXC6Zdiu",
        "colab_type": "code",
        "outputId": "76325ae1-612d-4720-adf8-a3eccb975298",
        "colab": {
          "base_uri": "https://localhost:8080/",
          "height": 265
        }
      },
      "source": [
        "Z = hcluster.linkage(phrase_data)\n",
        "plt.figure()\n",
        "dn = hcluster.dendrogram(Z)\n",
        "# plt.show()\n",
        "plt.savefig('plot.png', dpi=1000)"
      ],
      "execution_count": 15,
      "outputs": [
        {
          "output_type": "display_data",
          "data": {
            "image/png": "[encoded data removed]",
            "text/plain": [
              "<Figure size 432x288 with 1 Axes>"
            ]
          },
          "metadata": {
            "tags": []
          }
        }
      ]
    },
    {
      "cell_type": "code",
      "metadata": {
        "id": "zXKSSu1jaJsx",
        "colab_type": "code",
        "outputId": "f4044944-dffd-4d88-f306-01930e15b891",
        "colab": {
          "base_uri": "https://localhost:8080/",
          "height": 34
        }
      },
      "source": [
        "clusters = hcluster.fcluster(Z, 1)\n",
        "print('Estimated number of clusters: %d' % len(set(clusters)))"
      ],
      "execution_count": 16,
      "outputs": [
        {
          "output_type": "stream",
          "text": [
            "Estimated number of clusters: 75\n"
          ],
          "name": "stdout"
        }
      ]
    },
    {
      "cell_type": "code",
      "metadata": {
        "id": "Amlh1n4maM_0",
        "colab_type": "code",
        "outputId": "dee419a5-e1b5-4367-86d5-3aad306c3c70",
        "colab": {
          "base_uri": "https://localhost:8080/",
          "height": 34
        }
      },
      "source": [
        "clusters = hcluster.fcluster(Z, 1.2)\n",
        "print('Estimated number of clusters: %d' % len(set(clusters)))"
      ],
      "execution_count": 17,
      "outputs": [
        {
          "output_type": "stream",
          "text": [
            "Estimated number of clusters: 1\n"
          ],
          "name": "stdout"
        }
      ]
    },
    {
      "cell_type": "code",
      "metadata": {
        "id": "OExlwlSvaRVB",
        "colab_type": "code",
        "outputId": "dacd0609-d0d8-4162-cf90-eded6a021ffe",
        "colab": {
          "base_uri": "https://localhost:8080/",
          "height": 34
        }
      },
      "source": [
        "clusters = hcluster.fcluster(Z, 1.1)\n",
        "print('Estimated number of clusters: %d' % len(set(clusters)))"
      ],
      "execution_count": 18,
      "outputs": [
        {
          "output_type": "stream",
          "text": [
            "Estimated number of clusters: 68\n"
          ],
          "name": "stdout"
        }
      ]
    },
    {
      "cell_type": "code",
      "metadata": {
        "id": "u2nAiiUFwlcL",
        "colab_type": "code",
        "outputId": "b353f4e2-de97-4c53-fd5e-7b0ec79a44f2",
        "colab": {
          "base_uri": "https://localhost:8080/",
          "height": 34
        }
      },
      "source": [
        "clusters = hcluster.fcluster(Z, 0.6)\n",
        "print('Estimated number of clusters: %d' % len(set(clusters)))"
      ],
      "execution_count": 19,
      "outputs": [
        {
          "output_type": "stream",
          "text": [
            "Estimated number of clusters: 119\n"
          ],
          "name": "stdout"
        }
      ]
    },
    {
      "cell_type": "code",
      "metadata": {
        "id": "HVZ5m-GhaTQ9",
        "colab_type": "code",
        "outputId": "2955525c-1413-4889-d85d-c6ab7034dcdc",
        "colab": {
          "base_uri": "https://localhost:8080/",
          "height": 34
        }
      },
      "source": [
        "clusters = hcluster.fclusterdata(phrase_data, 1.1)\n",
        "print('Estimated number of clusters: %d' % len(set(clusters)))"
      ],
      "execution_count": 20,
      "outputs": [
        {
          "output_type": "stream",
          "text": [
            "Estimated number of clusters: 68\n"
          ],
          "name": "stdout"
        }
      ]
    },
    {
      "cell_type": "code",
      "metadata": {
        "id": "_qRonHnXakKF",
        "colab_type": "code",
        "outputId": "60adf217-e33f-4ec9-8f9f-cb8ce42b9af4",
        "colab": {
          "base_uri": "https://localhost:8080/",
          "height": 187
        }
      },
      "source": [
        "clusters"
      ],
      "execution_count": 21,
      "outputs": [
        {
          "output_type": "execute_result",
          "data": {
            "text/plain": [
              "array([26,  5, 36,  8, 15, 26,  4, 12, 26, 20, 52, 26, 26, 23, 26,  6,  7,\n",
              "       44, 15, 27, 35, 40, 23,  6, 10, 15, 15,  7,  7,  6, 11,  7, 19, 43,\n",
              "        1, 49, 26, 15,  8, 61, 15,  2, 38, 51, 11, 19, 15, 18, 11,  2, 26,\n",
              "       15, 39,  1, 48, 27, 20,  7, 29,  6, 27, 21, 22,  1, 23, 15, 16, 15,\n",
              "       27,  7, 15, 15, 26, 13, 15, 28,  1, 31,  5, 68, 25, 26,  5, 41, 32,\n",
              "       45, 55, 46,  9,  4, 24,  1,  5,  8, 27, 26,  4, 15,  3, 67, 47, 15,\n",
              "        7,  4, 27, 42, 34, 15, 62,  7, 27, 50, 15, 57, 58, 15, 63, 54, 23,\n",
              "       21,  2, 27, 27, 59, 27, 15, 22, 33, 15, 56, 14, 15, 10, 15, 27, 65,\n",
              "        3,  2, 17, 15, 53, 12, 64, 30,  9, 60, 66, 15,  3, 37],\n",
              "      dtype=int32)"
            ]
          },
          "metadata": {
            "tags": []
          },
          "execution_count": 21
        }
      ]
    },
    {
      "cell_type": "code",
      "metadata": {
        "id": "oVtZOPYvAC6y",
        "colab_type": "code",
        "outputId": "bcc2d6be-2c3a-46de-995f-6ba8ca6b3f48",
        "colab": {
          "base_uri": "https://localhost:8080/",
          "height": 238
        }
      },
      "source": [
        "cl = {}\n",
        "for el in clusters:\n",
        "    if el not in cl:\n",
        "        cl[el] = 1\n",
        "    else:\n",
        "        cl[el] += 1\n",
        "\n",
        "# сколько кластеров имеют больше 3 элементов\n",
        "nes = []\n",
        "for k, v in cl.items():\n",
        "    if v >= 3:\n",
        "        print(k, v)\n",
        "        nes.append(k)"
      ],
      "execution_count": 22,
      "outputs": [
        {
          "output_type": "stream",
          "text": [
            "26 11\n",
            "5 4\n",
            "8 3\n",
            "15 24\n",
            "4 4\n",
            "23 4\n",
            "6 4\n",
            "7 8\n",
            "27 11\n",
            "11 3\n",
            "1 5\n",
            "2 4\n",
            "3 3\n"
          ],
          "name": "stdout"
        }
      ]
    },
    {
      "cell_type": "markdown",
      "metadata": {
        "id": "AgtUQR9yHdtk",
        "colab_type": "text"
      },
      "source": [
        "***Возможное объяснение***: \n",
        "В данном случае достаточно сложно определить, какой именно порог t лучше использовать: количество кластеров определяется автоматически и, чем меньший порог мы задаем, тем больше кластеров получается. Так как в словарях выделяется намного меньше кластеров (в словаре Ожегова, на который я опиралась в выборе количества классов, их всего 6), чем 119 (при пороге в 0.6 и ниже) - максимальное количество - лучше всего - стараться сминимизировать количество кластеров. Поэтому, самым оптимальным вариантом кажется вариант с порогом в 1.1 - 68 кластеров (это минимальный вариант при десятичном пороге), 13 с количеством слов больше 2 (что уже выглядит намного более близким к реальности). (75 кластеров при пороге 1, уже немного больше, чем нужно)"
      ]
    },
    {
      "cell_type": "code",
      "metadata": {
        "id": "az4tBS0BzbeH",
        "colab_type": "code",
        "colab": {}
      },
      "source": [
        "# Готовим данные для 4 задания: собираем слова для каждого кластера\n",
        "w1 = [i for i, ltr in enumerate(list(clusters)) if ltr == nes[0]]\n",
        "w2 = [i for i, ltr in enumerate(list(clusters)) if ltr == nes[1]]\n",
        "w3 = [i for i, ltr in enumerate(list(clusters)) if ltr == nes[2]]\n",
        "w4 = [i for i, ltr in enumerate(list(clusters)) if ltr == nes[3]]\n",
        "w5 = [i for i, ltr in enumerate(list(clusters)) if ltr == nes[4]]\n",
        "w6 = [i for i, ltr in enumerate(list(clusters)) if ltr == nes[5]]\n",
        "w7 = [i for i, ltr in enumerate(list(clusters)) if ltr == nes[6]]\n",
        "w8 = [i for i, ltr in enumerate(list(clusters)) if ltr == nes[7]]\n",
        "w9 = [i for i, ltr in enumerate(list(clusters)) if ltr == nes[8]]\n",
        "w10 = [i for i, ltr in enumerate(list(clusters)) if ltr == nes[9]]\n",
        "w11 = [i for i, ltr in enumerate(list(clusters)) if ltr == nes[10]]\n",
        "w12 = [i for i, ltr in enumerate(list(clusters)) if ltr == nes[11]]\n",
        "w13 = [i for i, ltr in enumerate(list(clusters)) if ltr == nes[12]]"
      ],
      "execution_count": 0,
      "outputs": []
    },
    {
      "cell_type": "code",
      "metadata": {
        "id": "ICeEi9LCwH7K",
        "colab_type": "code",
        "colab": {}
      },
      "source": [
        "pr1 = [nms_ph[n] for n in w1]\n",
        "pr2 = [nms_ph[n] for n in w2]\n",
        "pr3 = [nms_ph[n] for n in w3]\n",
        "pr4 = [nms_ph[n] for n in w4]\n",
        "pr5 = [nms_ph[n] for n in w5]\n",
        "pr6 = [nms_ph[n] for n in w6]\n",
        "pr7 = [nms_ph[n] for n in w7]\n",
        "pr8 = [nms_ph[n] for n in w8]\n",
        "pr9 = [nms_ph[n] for n in w9]\n",
        "pr10 = [nms_ph[n] for n in w10]\n",
        "pr11 = [nms_ph[n] for n in w11]\n",
        "pr12 = [nms_ph[n] for n in w12]\n",
        "pr13 = [nms_ph[n] for n in w13]"
      ],
      "execution_count": 0,
      "outputs": []
    },
    {
      "cell_type": "code",
      "metadata": {
        "id": "jCVcO6M4son8",
        "colab_type": "code",
        "colab": {}
      },
      "source": [
        "# словари для слов каждого кластера\n",
        "ind_cl1 = {}\n",
        "ind_cl2 = {}\n",
        "ind_cl3 = {}\n",
        "ind_cl4 = {}\n",
        "ind_cl5 = {}\n",
        "ind_cl6 = {}\n",
        "ind_cl7 = {}\n",
        "ind_cl8 = {}\n",
        "ind_cl9 = {}\n",
        "ind_cl10 = {}\n",
        "ind_cl11 = {}\n",
        "ind_cl12 = {}\n",
        "ind_cl13 = {}\n",
        "\n",
        "for k, v in phrase_dict.items():\n",
        "    for e in pr1:\n",
        "        if k == e:\n",
        "            ind_cl1[k] = v\n",
        "\n",
        "for k, v in phrase_dict.items():\n",
        "    for e in pr2:\n",
        "        if k == e:\n",
        "            ind_cl2[k] = v\n",
        "\n",
        "for k, v in phrase_dict.items():\n",
        "    for e in pr3:\n",
        "        if k == e:\n",
        "            ind_cl3[k] = v\n",
        "\n",
        "for k, v in phrase_dict.items():\n",
        "    for e in pr4:\n",
        "        if k == e:\n",
        "            ind_cl4[k] = v\n",
        "\n",
        "for k, v in phrase_dict.items():\n",
        "    for e in pr5:\n",
        "        if k == e:\n",
        "            ind_cl5[k] = v\n",
        "\n",
        "for k, v in phrase_dict.items():\n",
        "    for e in pr6:\n",
        "        if k == e:\n",
        "            ind_cl6[k] = v\n",
        "\n",
        "for k, v in phrase_dict.items():\n",
        "    for e in pr7:\n",
        "        if k == e:\n",
        "            ind_cl7[k] = v\n",
        "\n",
        "for k, v in phrase_dict.items():\n",
        "    for e in pr8:\n",
        "        if k == e:\n",
        "            ind_cl8[k] = v\n",
        "\n",
        "for k, v in phrase_dict.items():\n",
        "    for e in pr9:\n",
        "        if k == e:\n",
        "            ind_cl9[k] = v\n",
        "\n",
        "for k, v in phrase_dict.items():\n",
        "    for e in pr10:\n",
        "        if k == e:\n",
        "            ind_cl10[k] = v\n",
        "\n",
        "for k, v in phrase_dict.items():\n",
        "    for e in pr11:\n",
        "        if k == e:\n",
        "            ind_cl11[k] = v\n",
        "\n",
        "for k, v in phrase_dict.items():\n",
        "    for e in pr12:\n",
        "        if k == e:\n",
        "            ind_cl12[k] = v\n",
        "\n",
        "for k, v in phrase_dict.items():\n",
        "    for e in pr13:\n",
        "        if k == e:\n",
        "            ind_cl13[k] = v"
      ],
      "execution_count": 0,
      "outputs": []
    },
    {
      "cell_type": "markdown",
      "metadata": {
        "id": "QoUjhG9piT69",
        "colab_type": "text"
      },
      "source": [
        "#### Алгоритм К-средних"
      ]
    },
    {
      "cell_type": "code",
      "metadata": {
        "id": "ww4DfuUEiWlq",
        "colab_type": "code",
        "colab": {}
      },
      "source": [
        "from sklearn.cluster import KMeans"
      ],
      "execution_count": 0,
      "outputs": []
    },
    {
      "cell_type": "code",
      "metadata": {
        "id": "hz-ICDAxi7dN",
        "colab_type": "code",
        "colab": {}
      },
      "source": [
        "kmeans = KMeans(n_clusters=6).fit(phrase_data)\n",
        "clasters2 = kmeans.labels_"
      ],
      "execution_count": 0,
      "outputs": []
    },
    {
      "cell_type": "code",
      "metadata": {
        "id": "y0JVszjxHHG5",
        "colab_type": "code",
        "outputId": "eaeb444c-6603-4533-f808-c587184ed9ba",
        "colab": {
          "base_uri": "https://localhost:8080/",
          "height": 136
        }
      },
      "source": [
        "clasters2"
      ],
      "execution_count": 28,
      "outputs": [
        {
          "output_type": "execute_result",
          "data": {
            "text/plain": [
              "array([3, 0, 1, 2, 4, 3, 0, 1, 3, 1, 0, 3, 3, 1, 3, 2, 0, 1, 5, 5, 5, 1,\n",
              "       1, 2, 1, 5, 4, 0, 0, 2, 1, 0, 3, 1, 5, 2, 3, 5, 0, 0, 5, 2, 4, 2,\n",
              "       1, 2, 5, 1, 1, 2, 3, 5, 1, 3, 0, 5, 1, 0, 5, 2, 3, 1, 1, 5, 1, 4,\n",
              "       4, 1, 5, 0, 5, 4, 3, 1, 4, 3, 3, 2, 0, 0, 1, 3, 1, 0, 2, 1, 0, 0,\n",
              "       2, 2, 1, 3, 1, 2, 5, 3, 2, 5, 2, 0, 5, 4, 0, 2, 5, 0, 1, 5, 0, 0,\n",
              "       3, 2, 1, 2, 0, 4, 2, 0, 1, 5, 0, 5, 5, 2, 5, 4, 1, 0, 4, 4, 1, 4,\n",
              "       1, 4, 3, 1, 2, 2, 5, 4, 2, 1, 2, 5, 2, 2, 2, 4, 2, 1], dtype=int32)"
            ]
          },
          "metadata": {
            "tags": []
          },
          "execution_count": 28
        }
      ]
    },
    {
      "cell_type": "code",
      "metadata": {
        "id": "Y6oR4lp_HIsi",
        "colab_type": "code",
        "outputId": "a07d183b-fde1-4df4-8146-428220e04351",
        "colab": {
          "base_uri": "https://localhost:8080/",
          "height": 119
        }
      },
      "source": [
        "cl2 = {}\n",
        "for el in clasters2:\n",
        "    if el not in cl2:\n",
        "        cl2[el] = 1\n",
        "    else:\n",
        "        cl2[el] += 1\n",
        "\n",
        "# сколько кластеров имеют больше 3 элементов\n",
        "for k, v in cl2.items():\n",
        "    if v >= 2:\n",
        "        print(k, v)"
      ],
      "execution_count": 29,
      "outputs": [
        {
          "output_type": "stream",
          "text": [
            "3 19\n",
            "0 26\n",
            "1 34\n",
            "2 30\n",
            "4 16\n",
            "5 25\n"
          ],
          "name": "stdout"
        }
      ]
    },
    {
      "cell_type": "markdown",
      "metadata": {
        "id": "Y16wdXBkIGLe",
        "colab_type": "text"
      },
      "source": [
        "***Возможное объяснение***: \n",
        "для того, чтобы выбрать количество кластеров для алгоритма k-средних, кажется правильным составление кластеров на основе существующих словарей: [словарь Ожегова](https://glosum.ru/%D0%97%D0%BD%D0%B0%D1%87%D0%B5%D0%BD%D0%B8%D0%B5-%D1%81%D0%BB%D0%BE%D0%B2%D0%B0-%D0%9F%D0%BE%D0%BB%D1%83%D1%87%D0%B8%D1%82%D1%8C) предлагает 6 возможных интрпретаций глагола \"получить\". \n",
        "\n",
        "1.   Взять, приобрести вручаемое, предлагаемое, искомое: письмо,  зарплату, звание профессора, помощника. То есть, в этот кластер можно отнести как физические предметы, так и те, что человек давно ожидает/ищет и в итоге получает (включая разного рода людей).\n",
        "2.   Принять для исполнения: приказ. То есть, сюда можно отнести все, что можно осуществить (исполнить) в жизни - всякие нефизичкие элементы\n",
        "3.   Добыть, произвести из че-го-н: продукт из нефти, интересные выводы. То есть, сюда относится все, что получается из чего-нибудь - как физические, так и нефизические элементы\n",
        "4.   Испытать что-н., подвергнуться чему-н: удовольствие, пощечину. Сюда можно определить все, что можно связать с эмоциональной сферой\n",
        "5.   Прийти в какое-н. состояние (в соответствии со значением следующего существительного): всеобщее признание (стать признанным), распространение (стать распространенным, применяющимся), известность (стать известным). Все, что может свидетельствовать об изменении состояния\n",
        "6.   Подвергнуться выговору, наказанию (разг.): Что, получил от отца? Ты у меня получишь! Таким образом, это достаточно спорный кластер, однако, из-за того, что его выделяют в словарях, будет не лишним использовать его в работе.\n",
        "\n",
        "\n",
        "В случае, когда у нас есть выбор количества кластеров, лучшим варинтом из определения этого количества представляется использование различных словарей. Я пересмотрела несколько штук и словарь Ожегова оказался одновременно самым емким и захватывающим разные значения слова, поэтому решила выбрать именно его."
      ]
    },
    {
      "cell_type": "markdown",
      "metadata": {
        "id": "RpGmSIf7IHD8",
        "colab_type": "text"
      },
      "source": [
        "### Задача 4: определение центра кластера и выбор трех элементов, наиболее к нему близких"
      ]
    },
    {
      "cell_type": "markdown",
      "metadata": {
        "id": "aYyh35t6CS4x",
        "colab_type": "text"
      },
      "source": [
        "Заранее прошу прощения за огромное количество повторяющихся элементов в коде для обоих алгоритмов здесь (я пыталась схлопнуть, но тогда мне было не совсем удобно следить за процессом формирования матриц и словарей, а хотелось, чтобы к любому из указанных словарей был доступ, чтобы его всегда можно было посмотреть, поэтому пришлось пожертвовать емкостью здесь (к моему огромному сожалению) ). \n",
        "\n",
        "Понятно, что такой \"перебор\" несложно делать на том количестве данных (= кластеров), который есть в задании, но будет сложно сделать с бОльшим количесвом данных (в таком случае можно использовать вложенные в список словари/списки, по аналогии с тем, как было сделано для отбора 3 слов для каждого кластера)."
      ]
    },
    {
      "cell_type": "markdown",
      "metadata": {
        "id": "SX8lr684IjFs",
        "colab_type": "text"
      },
      "source": [
        "#### Для метода К-средних"
      ]
    },
    {
      "cell_type": "code",
      "metadata": {
        "id": "sXdHO2zMXUJU",
        "colab_type": "code",
        "colab": {}
      },
      "source": [
        "from scipy.spatial import distance"
      ],
      "execution_count": 0,
      "outputs": []
    },
    {
      "cell_type": "code",
      "metadata": {
        "id": "MpUiExJ9jY-W",
        "colab_type": "code",
        "colab": {}
      },
      "source": [
        "centres = kmeans.cluster_centers_"
      ],
      "execution_count": 0,
      "outputs": []
    },
    {
      "cell_type": "code",
      "metadata": {
        "id": "Soel6SFtHmyS",
        "colab_type": "code",
        "outputId": "79d63c62-a836-4fe4-d932-5e3cc693973c",
        "colab": {
          "base_uri": "https://localhost:8080/",
          "height": 221
        }
      },
      "source": [
        "centres"
      ],
      "execution_count": 47,
      "outputs": [
        {
          "output_type": "execute_result",
          "data": {
            "text/plain": [
              "array([[ 0.05338495,  0.11356284,  0.07000897, ..., -0.03932901,\n",
              "         0.03128886, -0.00912031],\n",
              "       [ 0.04475465,  0.10836919,  0.05374227, ..., -0.04342394,\n",
              "         0.00772057, -0.04605397],\n",
              "       [ 0.02855935,  0.12918152,  0.07970599, ..., -0.04341106,\n",
              "         0.02382142, -0.02787413],\n",
              "       [ 0.01327526,  0.13196808,  0.00091738, ..., -0.04955794,\n",
              "         0.0511617 , -0.06141733],\n",
              "       [ 0.06309494,  0.08163024,  0.07402532, ..., -0.05485231,\n",
              "         0.01295337, -0.00281055],\n",
              "       [ 0.0269997 ,  0.12813115,  0.06653947, ..., -0.05776326,\n",
              "         0.0494879 , -0.04391524]], dtype=float32)"
            ]
          },
          "metadata": {
            "tags": []
          },
          "execution_count": 47
        }
      ]
    },
    {
      "cell_type": "code",
      "metadata": {
        "id": "K0uOCxkyYjLt",
        "colab_type": "code",
        "colab": {}
      },
      "source": [
        "# расчет косинусной дистанции\n",
        "cnt1 = {}\n",
        "cnt2 = {}\n",
        "cnt3 = {}\n",
        "cnt4 = {}\n",
        "cnt5 = {}\n",
        "cnt6 = {}\n",
        "\n",
        "co1 = 0\n",
        "for ph in phrase_data:\n",
        "    cnt1[nms_ph[co1]] = distance.cosine(centres[0], ph)\n",
        "    co1 += 1\n",
        "\n",
        "co2 = 0\n",
        "for ph in phrase_data:\n",
        "    cnt2[nms_ph[co2]] = distance.cosine(centres[1], ph)\n",
        "    co2 += 1\n",
        "\n",
        "co3 = 0\n",
        "for ph in phrase_data:\n",
        "    cnt3[nms_ph[co3]] = distance.cosine(centres[2], ph)\n",
        "    co3 += 1\n",
        "\n",
        "co4 = 0\n",
        "for ph in phrase_data:\n",
        "    cnt4[nms_ph[co4]] = distance.cosine(centres[3], ph)\n",
        "    co4 += 1\n",
        "\n",
        "co5 = 0\n",
        "for ph in phrase_data:\n",
        "    cnt5[nms_ph[co5]] = distance.cosine(centres[4], ph)\n",
        "    co5 += 1\n",
        "\n",
        "co6 = 0\n",
        "for ph in phrase_data:\n",
        "    cnt6[nms_ph[co6]] = distance.cosine(centres[5], ph)\n",
        "    co6 += 1"
      ],
      "execution_count": 0,
      "outputs": []
    },
    {
      "cell_type": "code",
      "metadata": {
        "id": "38BH7lN9XWs_",
        "colab_type": "code",
        "colab": {}
      },
      "source": [
        "# cписок словарей\n",
        "for_km1 = []\n",
        "for_km1.append(cnt1)\n",
        "for_km1.append(cnt2)\n",
        "for_km1.append(cnt3)\n",
        "for_km1.append(cnt4)\n",
        "for_km1.append(cnt5)\n",
        "for_km1.append(cnt6)"
      ],
      "execution_count": 0,
      "outputs": []
    },
    {
      "cell_type": "code",
      "metadata": {
        "id": "xcq6dqSVYA6c",
        "colab_type": "code",
        "outputId": "4e8142c4-109c-4046-9570-bbdda3c3e2eb",
        "colab": {
          "base_uri": "https://localhost:8080/",
          "height": 139
        }
      },
      "source": [
        "# получение 3 слов\n",
        "for_km2 = []\n",
        "for slv in for_km1:\n",
        "    fin_clas1 = {}\n",
        "    for i in range(3):\n",
        "        min_val1 = min(slv.values())\n",
        "        for k, v in slv.items():\n",
        "            if v == min_val1:\n",
        "                k1 = k\n",
        "        del slv[k1]\n",
        "        fin_clas1[k1] = min_val1\n",
        "    for_km2.append(fin_clas1)\n",
        "\n",
        "for r in for_km2:\n",
        "    print(r)"
      ],
      "execution_count": 50,
      "outputs": [
        {
          "output_type": "stream",
          "text": [
            "{'получить_VERB_год_NOUN': 0.13394737243652344, 'получить_VERB_человек_NOUN': 0.140627920627594, 'получить_VERB_день_NOUN': 0.14217650890350342}\n",
            "{'получить_VERB_указание_NOUN': 0.11921632289886475, 'получить_VERB_распоряжение_NOUN': 0.12433332204818726, 'получить_VERB_приказ_NOUN': 0.12497490644454956}\n",
            "{'получить_VERB_образование_NOUN': 0.13784074783325195, 'получить_VERB_число_NOUN': 0.13933289051055908, 'получить_VERB_оценка_NOUN': 0.14745259284973145}\n",
            "{'получить_VERB_телеграмма_NOUN': 0.09307640790939331, 'получить_VERB_извещение_NOUN': 0.09857374429702759, 'получить_VERB_письмо_NOUN': 0.09888988733291626}\n",
            "{'получить_VERB_зарплата_NOUN': 0.07714730501174927, 'получить_VERB_гонорар_NOUN': 0.08355379104614258, 'получить_VERB_жалование_NOUN': 0.08979219198226929}\n",
            "{'получить_VERB_диплом_NOUN': 0.10315215587615967, 'получить_VERB_сертификат_NOUN': 0.10768228769302368, 'получить_VERB_награда_NOUN': 0.10812932252883911}\n"
          ],
          "name": "stdout"
        }
      ]
    },
    {
      "cell_type": "markdown",
      "metadata": {
        "id": "_zdFfZWcHpTT",
        "colab_type": "text"
      },
      "source": [
        "#### Для иерархической кластеризации"
      ]
    },
    {
      "cell_type": "code",
      "metadata": {
        "id": "Z3voAbTq517O",
        "colab_type": "code",
        "colab": {}
      },
      "source": [
        "# матрицы каждого кластера\n",
        "fi_ir1 = np.array([v for k, v in ind_cl1.items()])\n",
        "fi_ir2 = np.array([v for k, v in ind_cl2.items()])\n",
        "fi_ir3 = np.array([v for k, v in ind_cl3.items()])\n",
        "fi_ir4 = np.array([v for k, v in ind_cl4.items()])\n",
        "fi_ir5 = np.array([v for k, v in ind_cl5.items()])\n",
        "fi_ir6 = np.array([v for k, v in ind_cl6.items()])\n",
        "fi_ir7 = np.array([v for k, v in ind_cl7.items()])\n",
        "fi_ir8 = np.array([v for k, v in ind_cl8.items()])\n",
        "fi_ir9 = np.array([v for k, v in ind_cl9.items()])\n",
        "fi_ir10 = np.array([v for k, v in ind_cl10.items()])\n",
        "fi_ir11 = np.array([v for k, v in ind_cl11.items()])\n",
        "fi_ir12 = np.array([v for k, v in ind_cl12.items()])\n",
        "fi_ir13 = np.array([v for k, v in ind_cl13.items()])"
      ],
      "execution_count": 0,
      "outputs": []
    },
    {
      "cell_type": "code",
      "metadata": {
        "id": "KPtloHLx6cHM",
        "colab_type": "code",
        "colab": {}
      },
      "source": [
        "# центр матрицы каждого кластера\n",
        "ir_m1 = np.mean(fi_ir1, axis=0)\n",
        "ir_m2 = np.mean(fi_ir2, axis=0)\n",
        "ir_m3 = np.mean(fi_ir3, axis=0)\n",
        "ir_m4 = np.mean(fi_ir4, axis=0)\n",
        "ir_m5 = np.mean(fi_ir5, axis=0)\n",
        "ir_m6 = np.mean(fi_ir6, axis=0)\n",
        "ir_m7 = np.mean(fi_ir7, axis=0)\n",
        "ir_m8 = np.mean(fi_ir8, axis=0)\n",
        "ir_m9 = np.mean(fi_ir9, axis=0)\n",
        "ir_m10 = np.mean(fi_ir10, axis=0)\n",
        "ir_m11 = np.mean(fi_ir11, axis=0)\n",
        "ir_m12 = np.mean(fi_ir12, axis=0)\n",
        "ir_m13 = np.mean(fi_ir13, axis=0)"
      ],
      "execution_count": 0,
      "outputs": []
    },
    {
      "cell_type": "code",
      "metadata": {
        "id": "SXSt4uzA6ynI",
        "colab_type": "code",
        "colab": {}
      },
      "source": [
        "# расчет косинусной дистанции\n",
        "c_ied1 = {}\n",
        "c_ied2 = {}\n",
        "c_ied3 = {}\n",
        "c_ied4 = {}\n",
        "c_ied5 = {}\n",
        "c_ied6 = {}\n",
        "c_ied7 = {}\n",
        "c_ied8 = {}\n",
        "c_ied9 = {}\n",
        "c_ied10 = {}\n",
        "c_ied11 = {}\n",
        "c_ied12 = {}\n",
        "c_ied13 = {}\n",
        "\n",
        "cier1 = 0\n",
        "for ph in phrase_data:\n",
        "    c_ied1[nms_ph[cier1]] = distance.cosine(ir_m1, ph)\n",
        "    cier1 += 1\n",
        "\n",
        "cier2 = 0\n",
        "for ph in phrase_data:\n",
        "    c_ied2[nms_ph[cier2]] = distance.cosine(ir_m2, ph)\n",
        "    cier2 += 1\n",
        "\n",
        "cier3 = 0\n",
        "for ph in phrase_data:\n",
        "    c_ied3[nms_ph[cier3]] = distance.cosine(ir_m3, ph)\n",
        "    cier3 += 1\n",
        "\n",
        "cier4 = 0\n",
        "for ph in phrase_data:\n",
        "    c_ied4[nms_ph[cier4]] = distance.cosine(ir_m4, ph)\n",
        "    cier4 += 1\n",
        "\n",
        "cier5 = 0\n",
        "for ph in phrase_data:\n",
        "    c_ied5[nms_ph[cier5]] = distance.cosine(ir_m5, ph)\n",
        "    cier5 += 1\n",
        "\n",
        "cier6 = 0\n",
        "for ph in phrase_data:\n",
        "    c_ied6[nms_ph[cier6]] = distance.cosine(ir_m6, ph)\n",
        "    cier6 += 1\n",
        "\n",
        "cier7 = 0\n",
        "for ph in phrase_data:\n",
        "    c_ied7[nms_ph[cier7]] = distance.cosine(ir_m7, ph)\n",
        "    cier7 += 1\n",
        "\n",
        "cier8 = 0\n",
        "for ph in phrase_data:\n",
        "    c_ied8[nms_ph[cier8]] = distance.cosine(ir_m8, ph)\n",
        "    cier8 += 1\n",
        "\n",
        "cier9 = 0\n",
        "for ph in phrase_data:\n",
        "    c_ied9[nms_ph[cier9]] = distance.cosine(ir_m9, ph)\n",
        "    cier9 += 1\n",
        "\n",
        "cier10 = 0\n",
        "for ph in phrase_data:\n",
        "    c_ied10[nms_ph[cier10]] = distance.cosine(ir_m10, ph)\n",
        "    cier10 += 1\n",
        "\n",
        "cier11 = 0\n",
        "for ph in phrase_data:\n",
        "    c_ied11[nms_ph[cier11]] = distance.cosine(ir_m11, ph)\n",
        "    cier11 += 1\n",
        "\n",
        "cier12 = 0\n",
        "for ph in phrase_data:\n",
        "    c_ied12[nms_ph[cier12]] = distance.cosine(ir_m12, ph)\n",
        "    cier12 += 1\n",
        "\n",
        "cier13 = 0\n",
        "for ph in phrase_data:\n",
        "    c_ied13[nms_ph[cier13]] = distance.cosine(ir_m13, ph)\n",
        "    cier13 += 1"
      ],
      "execution_count": 0,
      "outputs": []
    },
    {
      "cell_type": "code",
      "metadata": {
        "id": "9crFaJ2edEmO",
        "colab_type": "code",
        "colab": {}
      },
      "source": [
        "# список словарей\n",
        "nxt_ier1 = []\n",
        "nxt_ier1.append(c_ied1)\n",
        "nxt_ier1.append(c_ied2)\n",
        "nxt_ier1.append(c_ied3)\n",
        "nxt_ier1.append(c_ied4)\n",
        "nxt_ier1.append(c_ied5)\n",
        "nxt_ier1.append(c_ied6)\n",
        "nxt_ier1.append(c_ied7)\n",
        "nxt_ier1.append(c_ied8)\n",
        "nxt_ier1.append(c_ied9)\n",
        "nxt_ier1.append(c_ied10)\n",
        "nxt_ier1.append(c_ied11)\n",
        "nxt_ier1.append(c_ied12)\n",
        "nxt_ier1.append(c_ied13)"
      ],
      "execution_count": 0,
      "outputs": []
    },
    {
      "cell_type": "code",
      "metadata": {
        "id": "6Z3_6mx9d9AX",
        "colab_type": "code",
        "outputId": "3a0432c8-6bb8-4e56-81eb-5d5e05eaeeb2",
        "colab": {
          "base_uri": "https://localhost:8080/",
          "height": 258
        }
      },
      "source": [
        "# получение 3 слов\n",
        "nxt_ier2 = []\n",
        "for slv in nxt_ier1:\n",
        "    fin_clas1 = {}\n",
        "    for i in range(3):\n",
        "        min_val1 = min(slv.values())\n",
        "        for k, v in slv.items():\n",
        "            if v == min_val1:\n",
        "                k1 = k\n",
        "        del slv[k1]\n",
        "        fin_clas1[k1] = min_val1\n",
        "    nxt_ier2.append(fin_clas1)\n",
        "\n",
        "for r in nxt_ier2:\n",
        "    print(r)"
      ],
      "execution_count": 58,
      "outputs": [
        {
          "output_type": "stream",
          "text": [
            "{'получить_VERB_сообщение_NOUN': 0.07372575998306274, 'получить_VERB_телеграмма_NOUN': 0.0802619457244873, 'получить_VERB_извещение_NOUN': 0.08627545833587646}\n",
            "{'получить_VERB_шанс_NOUN': 0.08200448751449585, 'получить_VERB_возможность_NOUN': 0.0835646390914917, 'получить_VERB_надежда_NOUN': 0.11150532960891724}\n",
            "{'получить_VERB_название_NOUN': 0.04552870988845825, 'получить_VERB_наименование_NOUN': 0.04574871063232422, 'получить_VERB_имя_NOUN': 0.08784222602844238}\n",
            "{'получить_VERB_жалование_NOUN': 0.09609133005142212, 'получить_VERB_зарплата_NOUN': 0.09741103649139404, 'получить_VERB_награда_NOUN': 0.10314768552780151}\n",
            "{'получить_VERB_оценка_NOUN': 0.08142662048339844, 'получить_VERB_анализ_NOUN': 0.09044277667999268, 'получить_VERB_результат_NOUN': 0.11349648237228394}\n",
            "{'получить_VERB_приказание_NOUN': 0.03685528039932251, 'получить_VERB_приказ_NOUN': 0.03881478309631348, 'получить_VERB_распоряжение_NOUN': 0.04719436168670654}\n",
            "{'получить_VERB_образование_NOUN': 0.0838843584060669, 'получить_VERB_развитие_NOUN': 0.09050107002258301, 'получить_VERB_воспитание_NOUN': 0.1094660758972168}\n",
            "{'получить_VERB_год_NOUN': 0.0953029990196228, 'получить_VERB_день_NOUN': 0.1061631441116333, 'получить_VERB_человек_NOUN': 0.11236536502838135}\n",
            "{'получить_VERB_сертификат_NOUN': 0.07693749666213989, 'получить_VERB_паспорт_NOUN': 0.08485138416290283, 'получить_VERB_документ_NOUN': 0.08848518133163452}\n",
            "{'получить_VERB_одобрение_NOUN': 0.04529309272766113, 'получить_VERB_согласие_NOUN': 0.07880234718322754, 'получить_VERB_поддержка_NOUN': 0.08188354969024658}\n",
            "{'получить_VERB_ранение_NOUN': 0.059659719467163086, 'получить_VERB_травма_NOUN': 0.08082228899002075, 'получить_VERB_рана_NOUN': 0.09592562913894653}\n",
            "{'получить_VERB_россия_NOUN': 0.06872761249542236, 'получить_VERB_страна_NOUN': 0.09443342685699463, 'получить_VERB_власть_NOUN': 0.12420988082885742}\n",
            "{'получить_VERB_множество_NOUN': 0.08795875310897827, 'получить_VERB_масса_NOUN': 0.10837501287460327, 'получить_VERB_ряд_NOUN': 0.11230659484863281}\n"
          ],
          "name": "stdout"
        }
      ]
    },
    {
      "cell_type": "markdown",
      "metadata": {
        "id": "ezV2uOQjjTtX",
        "colab_type": "text"
      },
      "source": [
        "### Задача 5: оформить результат в виде набора групп из трех словосочетаний"
      ]
    },
    {
      "cell_type": "markdown",
      "metadata": {
        "id": "noTy0Ff3jkRi",
        "colab_type": "text"
      },
      "source": [
        "#### Для K-means"
      ]
    },
    {
      "cell_type": "code",
      "metadata": {
        "id": "19ZewTFQe0di",
        "colab_type": "code",
        "outputId": "e1e9c289-b541-4d21-ded5-283ff64ea33e",
        "colab": {
          "base_uri": "https://localhost:8080/",
          "height": 136
        }
      },
      "source": [
        "final_str = ''\n",
        "for st in for_km2:\n",
        "    for k, v in st.items():\n",
        "        phrase = re.findall(r'[а-я]+', k)\n",
        "        final_str += phrase[0] + '_' + phrase[1] + ', '\n",
        "    final_str = re.split(r', $', final_str)\n",
        "    final_str = final_str[0] + '\\n'\n",
        "\n",
        "print(final_str)"
      ],
      "execution_count": 59,
      "outputs": [
        {
          "output_type": "stream",
          "text": [
            "получить_год, получить_человек, получить_день\n",
            "получить_указание, получить_распоряжение, получить_приказ\n",
            "получить_образование, получить_число, получить_оценка\n",
            "получить_телеграмма, получить_извещение, получить_письмо\n",
            "получить_зарплата, получить_гонорар, получить_жалование\n",
            "получить_диплом, получить_сертификат, получить_награда\n",
            "\n"
          ],
          "name": "stdout"
        }
      ]
    },
    {
      "cell_type": "markdown",
      "metadata": {
        "id": "PQrv87RnvyWB",
        "colab_type": "text"
      },
      "source": [
        "#### Иерархическая кластеризация"
      ]
    },
    {
      "cell_type": "code",
      "metadata": {
        "id": "O76313sEfkKV",
        "colab_type": "code",
        "outputId": "92285c35-a3ea-48ec-fa23-464a691d0e85",
        "colab": {
          "base_uri": "https://localhost:8080/",
          "height": 255
        }
      },
      "source": [
        "final_str2 = ''\n",
        "for st in nxt_ier2:\n",
        "    for k, v in st.items():\n",
        "        phrase = re.findall(r'[а-я]+', k)\n",
        "        final_str2 += phrase[0] + '_' + phrase[1] + ', '\n",
        "    final_str2 = re.split(r', $', final_str2)\n",
        "    final_str2 = final_str2[0] + '\\n'\n",
        "\n",
        "print(final_str2)"
      ],
      "execution_count": 60,
      "outputs": [
        {
          "output_type": "stream",
          "text": [
            "получить_сообщение, получить_телеграмма, получить_извещение\n",
            "получить_шанс, получить_возможность, получить_надежда\n",
            "получить_название, получить_наименование, получить_имя\n",
            "получить_жалование, получить_зарплата, получить_награда\n",
            "получить_оценка, получить_анализ, получить_результат\n",
            "получить_приказание, получить_приказ, получить_распоряжение\n",
            "получить_образование, получить_развитие, получить_воспитание\n",
            "получить_год, получить_день, получить_человек\n",
            "получить_сертификат, получить_паспорт, получить_документ\n",
            "получить_одобрение, получить_согласие, получить_поддержка\n",
            "получить_ранение, получить_травма, получить_рана\n",
            "получить_россия, получить_страна, получить_власть\n",
            "получить_множество, получить_масса, получить_ряд\n",
            "\n"
          ],
          "name": "stdout"
        }
      ]
    },
    {
      "cell_type": "markdown",
      "metadata": {
        "id": "agnAAVabvrsH",
        "colab_type": "text"
      },
      "source": [
        "### Анализ"
      ]
    },
    {
      "cell_type": "markdown",
      "metadata": {
        "id": "rY1uxNaDv18j",
        "colab_type": "text"
      },
      "source": [
        "В целом, в результате работы обоих алгоритмах кластеры получились скорее равномерные, чем нет. Они иллюстрируют разные значения глагола (к сожалению, не все из заявленных значений Ожеговым, но это зависит от набора, поступившего на считывание, так, последний 6 класс (разг.) сложно было бы найти любым из использованных алгоритмов). Чаще всего в обоих случаях мы видим представителей 1 класса (Ож.), то есть объекты, которые можно как-то приобрести или получить, и 2 класса, в котором находятся слова, связанные с исполнение чего-либо, при этом, оба алгоритма кластеризируют скорее оттенки слов внутри 1 класса. Редко встречаются представители 4 класса, связанного с +- эмоциональной сферой и 5 класса, связанного с переходом в какое-то состояние (это относится к иерархической кластеризации, так как к-средние плохо видят эти группы). Практически не встречается ни в одном из способов кластеризации 3 класс, связанный с производством из чего-либо и предаставители 6 класса.\n",
        "\n",
        "Тем не менее, обоим методам удалось захватить самые частотные классы и, расширив список, мы можем получить полной покрытие значений глагола \"получить\" (хотя на данный момент и на заявленном количесвте слов \"поймать\" удалось не все значения, но бОльшую их часть).\n",
        "\n",
        "Обе кластеризации выделяют в основном оттенки 1 класса.\n",
        "\n",
        "PS: какжется, что иерархическая кластеризация работает немного (совсем чуть-чуть) точнее и объемнее, чем метод К-средних."
      ]
    },
    {
      "cell_type": "code",
      "metadata": {
        "id": "mriQ55sCDBo8",
        "colab_type": "code",
        "outputId": "01dfa0b5-8384-49be-9e1c-8afb02f7439e",
        "colab": {
          "base_uri": "https://localhost:8080/",
          "height": 459
        }
      },
      "source": [
        "print(\"Результаты, полученные иерархической кластеризацией:\\n----\\n\",\n",
        "      final_str2)\n",
        "\n",
        "print(\"\\nРезультаты, полученные алгоритмом К-средних:\\n----\\n\", final_str)"
      ],
      "execution_count": 61,
      "outputs": [
        {
          "output_type": "stream",
          "text": [
            "Результаты, полученные иерархической кластеризацией:\n",
            "----\n",
            " получить_сообщение, получить_телеграмма, получить_извещение\n",
            "получить_шанс, получить_возможность, получить_надежда\n",
            "получить_название, получить_наименование, получить_имя\n",
            "получить_жалование, получить_зарплата, получить_награда\n",
            "получить_оценка, получить_анализ, получить_результат\n",
            "получить_приказание, получить_приказ, получить_распоряжение\n",
            "получить_образование, получить_развитие, получить_воспитание\n",
            "получить_год, получить_день, получить_человек\n",
            "получить_сертификат, получить_паспорт, получить_документ\n",
            "получить_одобрение, получить_согласие, получить_поддержка\n",
            "получить_ранение, получить_травма, получить_рана\n",
            "получить_россия, получить_страна, получить_власть\n",
            "получить_множество, получить_масса, получить_ряд\n",
            "\n",
            "\n",
            "Результаты, полученные алгоритмом К-средних:\n",
            "----\n",
            " получить_год, получить_человек, получить_день\n",
            "получить_указание, получить_распоряжение, получить_приказ\n",
            "получить_образование, получить_число, получить_оценка\n",
            "получить_телеграмма, получить_извещение, получить_письмо\n",
            "получить_зарплата, получить_гонорар, получить_жалование\n",
            "получить_диплом, получить_сертификат, получить_награда\n",
            "\n"
          ],
          "name": "stdout"
        }
      ]
    },
    {
      "cell_type": "markdown",
      "metadata": {
        "id": "zT14rKn6v2wY",
        "colab_type": "text"
      },
      "source": [
        "#### К-средние"
      ]
    },
    {
      "cell_type": "markdown",
      "metadata": {
        "id": "rYPSQV-Kv_pF",
        "colab_type": "text"
      },
      "source": [
        "В целом, кажется, что метод справляется с кластеризацией довольно неплохо. В каждый кластер входят практически однородные слова за некоторым исключением: иногда могут выпадать группы, в которых одного слово отличается в некоторой степени от других, хотя кажется, что слова очень похожи (оценка, число или год и работа), возможно, это связано с тем, что данный алгоритм допускает непрямые значения слов, тем не менее, все кажется более или менее однородным и сгруппированным.\n",
        "\n",
        "В остальном, у нас формируются группы:\n",
        "\n",
        "\n",
        "1.   Получение желаемого, искомого (аналогично классу 1 Ожегова) - группа \"сужается\" на материальной выгоде (скорее денежной за какую-либо деятельность)\n",
        "2.   Получение желаемого, искомого (аналогично классу 1 Ожегова) - группа концентрируется на формах какой-то деятельности/работы и **всем/ком**, что связано с ней\n",
        "3.   Получение желаемого, искомого (аналогично классу 1 Ожегова) - физические/нефизические носители информации\n",
        "4.   Все, что связано с работой и непосредственной физической оценкой работы/учебы - скорее 1 класс \n",
        "5.   Принятие чего-либо для дайльнейшего исполнения - по аналогии с классом 2 \n",
        "6.   Получение желаемого, искомого (аналогично классу 1 Ожегова) - группа концентрируется на письменном заверении деятельности. (положительные завершения деятельности)\n",
        "\n",
        "Таким образом, захватываются не все классы, выделенные Ожеговым, но все кажется хорошо работающим внутри 1-2 классов."
      ]
    },
    {
      "cell_type": "markdown",
      "metadata": {
        "id": "SvO2czhNv6jO",
        "colab_type": "text"
      },
      "source": [
        "#### Ирерахическая кластеризация"
      ]
    },
    {
      "cell_type": "markdown",
      "metadata": {
        "id": "93azbFFhwANr",
        "colab_type": "text"
      },
      "source": [
        "В иерархической кластеризации выделяется 13 кластеров, все кластеры выглядят очень однородными, за исключением \"год, день, человек\" (связанное с проведением времени - получить год звучит выглядит как что-то тюремное), этот ряд не очень очевиден, но может быть вполне логичным, так как все слова относятся к 1 классу по Ожегову (получение желаемого, искомого).\n",
        "\n",
        "В осатльном, видно, что слова в кластерах в основном отнсятся к 1 классу, намного реже ко 2, и еще реже 4 (ранения и т.д.) и 5 класс (одобрение и т.д.). Мы снова слабо прослеживаем 3 (хотя сюда можно отнести все, что связано с оценкой - результат и т.д. по аналаогии с выводами у ожегова) и не прослеживаем 6 класс (думаю, для того, чтобы его получить, надо еще больше расширить список).  \n",
        "\n",
        "* Видно, что выделяется очень много оттенков 1 класса (получение желаемого), но в таких случаях все выглядит очень однородным. \n",
        "\n",
        "* По сравнению с К-средними тут появляются классы, характеризующие время, власть, развитие ущерб (травмы), математические структуры (множество) слова, связанные с возможностями (шанс) - 5 класс (но есть что-то и от 4), и наименованиями (имя). На все остальное кажется ожидаемым:  физические/нефизические способы передачи информации (сообщения), указания, выгода из трудовой деятельности, документальные заверения.\n",
        "\n",
        "Кажется, что результаты очень хорошие и репрезентативные, а углубляться в анализ каждого кластера еще подробнее не имеет смысла на данном этапе."
      ]
    }
  ]
}