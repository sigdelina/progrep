{
 "cells": [
  {
   "cell_type": "code",
   "execution_count": 26,
   "metadata": {},
   "outputs": [],
   "source": [
    "import re\n",
    "import os\n",
    "\n",
    "\n",
    "list_of_dirs = os.listdir('./data')\n",
    "visited = []\n",
    "with open('zop.csv', 'w', encoding='utf-8') as f: \n",
    "    row = '%s\\t%s\\t%s\\t%s\\t%s\\n'\n",
    "    f.write(row % ('Path', 'Tag', 'Full sentence', 'Tagged mistake', 'Corrected mistake'))\n",
    "path = './data/'\n",
    "for root, dirs, files in os.walk(path):\n",
    "    for filename in files:\n",
    "        if '.ann' in filename:\n",
    "            filepath = os.path.join(root, filename)\n",
    "            with open(filepath, encoding=\"utf-8\") as f:\n",
    "                ann_text = f.read()\n",
    "            ann_text_lines = ann_text.splitlines()\n",
    "            for i in range(len(ann_text_lines)-1):\n",
    "                reg_tag = re.search(r'T.*?Tense_choice.*?\\D',ann_text_lines[i])\n",
    "                if reg_tag is not None:\n",
    "                    reg_id = re.search(r'(T\\d*?)\\s',ann_text_lines[i])\n",
    "                    if reg_id is None:\n",
    "                        tag_id = ' - '\n",
    "                    else:\n",
    "                        tag_id = reg_id.group(1)\n",
    "                    tag_path = os.path.join(filepath[7:-4],tag_id)\n",
    "                    reg_mistake = re.search(r'\\s\\d*?\\s\\d*?\\s(\\D+)', ann_text_lines[i], flags=re.DOTALL)\n",
    "                    if reg_mistake is None:\n",
    "                        tag_mistake = ' - '\n",
    "                    else:\n",
    "                        tag_mistake = reg_mistake.group(1)\n",
    "                    reg_correct = re.search(r'T\\d*?\\s(\\D+)', ann_text_lines[i+1], flags=re.DOTALL)\n",
    "                    if reg_correct is None:\n",
    "                        correct_mistake = ' - '\n",
    "                    else:\n",
    "                        correct_mistake = reg_correct.group(1)\n",
    "                    textfilename = filename[0:-3] + 'txt'\n",
    "                    visited.append(textfilename)\n",
    "                    textfilepath = os.path.join(root, textfilename)\n",
    "                    with open(textfilepath, encoding=\"utf-8\") as f:\n",
    "          #              text = f.read()\n",
    "          #          text = text.replace('\\n','')\n",
    "          #          text_lines = text.split('.')\n",
    "          #          for line in text_lines:\n",
    "          #              if text.find(line)<=int(pos1) and text.find(line)+len(line)>=int(pos2):\n",
    "          #                  sentence_with_tag = line\n",
    "          #          with open('zop.csv', 'a', encoding='utf-8') as f:\n",
    "          #              row = '%s\\tTense_choice\\t%s\\t%s\\t%s\\n'\n",
    "          #              f.write(row % (tag_path, sentence_with_tag, tag_mistake, correct_mistake))"
   ]
  },
  {
   "cell_type": "code",
   "execution_count": null,
   "metadata": {},
   "outputs": [],
   "source": []
  }
 ],
 "metadata": {
  "kernelspec": {
   "display_name": "Python 3",
   "language": "python",
   "name": "python3"
  }
 },
 "nbformat": 4,
 "nbformat_minor": 2
}
